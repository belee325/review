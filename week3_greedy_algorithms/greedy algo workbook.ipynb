{
 "cells": [
  {
   "cell_type": "code",
   "execution_count": 1,
   "metadata": {
    "collapsed": true
   },
   "outputs": [],
   "source": [
    "# prob 1 \n",
    "def get_change(m):\n",
    "    # safe move would be to get most change from largest denomination first\n",
    "    num_10 = m//10\n",
    "    m = m % 10\n",
    "    num_5 = m // 5\n",
    "    m = m % 5\n",
    "    return num_10 + num_5 + m"
   ]
  },
  {
   "cell_type": "code",
   "execution_count": 2,
   "metadata": {
    "collapsed": false
   },
   "outputs": [
    {
     "data": {
      "text/plain": [
       "2"
      ]
     },
     "execution_count": 2,
     "metadata": {},
     "output_type": "execute_result"
    }
   ],
   "source": [
    "get_change(2)"
   ]
  },
  {
   "cell_type": "code",
   "execution_count": 4,
   "metadata": {
    "collapsed": false
   },
   "outputs": [
    {
     "data": {
      "text/plain": [
       "6"
      ]
     },
     "execution_count": 4,
     "metadata": {},
     "output_type": "execute_result"
    }
   ],
   "source": [
    "get_change(28)"
   ]
  },
  {
   "cell_type": "code",
   "execution_count": 88,
   "metadata": {
    "collapsed": true
   },
   "outputs": [],
   "source": [
    "# prob 2\n",
    "import operator\n",
    "def get_optimal_value(capacity, weights, values):\n",
    "    #standard knapsack prob\n",
    "    #safe move would be to choose the most we can of the item that has max val/weight ratio\n",
    "    ratio = [x/y for x,y in zip(values,weights)]\n",
    "    ratio = [(x,y,z) for x,y,z in zip(ratio, weights, values)]\n",
    "    ratio.sort(key = operator.itemgetter(0), reverse=True)\n",
    "    value = 0.\n",
    "    i=0\n",
    "    while(capacity > 0 and i < len(ratio)):\n",
    "        amt = min(capacity, ratio[i][1])\n",
    "        value = value + amt*ratio[i][0]\n",
    "        capacity = capacity - amt\n",
    "        i = i + 1\n",
    "    \n",
    "    # write your code here\n",
    "\n",
    "    return value"
   ]
  },
  {
   "cell_type": "code",
   "execution_count": 89,
   "metadata": {
    "collapsed": true
   },
   "outputs": [],
   "source": [
    "capacity =50\n",
    "v= [60,100,120]\n",
    "w= [20,50,30]"
   ]
  },
  {
   "cell_type": "code",
   "execution_count": 90,
   "metadata": {
    "collapsed": false
   },
   "outputs": [
    {
     "name": "stdout",
     "output_type": "stream",
     "text": [
      "180.0000000000\n"
     ]
    }
   ],
   "source": [
    "print(\"{:.10f}\".format(get_optimal_value(capacity, w, v)))"
   ]
  },
  {
   "cell_type": "code",
   "execution_count": 91,
   "metadata": {
    "collapsed": true
   },
   "outputs": [],
   "source": [
    "capacity =10\n",
    "v= [500]\n",
    "w= [30]"
   ]
  },
  {
   "cell_type": "code",
   "execution_count": 92,
   "metadata": {
    "collapsed": false
   },
   "outputs": [
    {
     "name": "stdout",
     "output_type": "stream",
     "text": [
      "166.6666666667\n"
     ]
    }
   ],
   "source": [
    "print(\"{:.10f}\".format(get_optimal_value(capacity, w, v)))"
   ]
  },
  {
   "cell_type": "code",
   "execution_count": 96,
   "metadata": {
    "collapsed": true
   },
   "outputs": [],
   "source": [
    "#prob 3\n",
    "def max_dot_product(a, b):\n",
    "    #grouping problem\n",
    "    #safe move would be to always group the max of a with max of b\n",
    "    #we can just sort a and b \n",
    "    a.sort()\n",
    "    b.sort()\n",
    "    c = [x*y for x,y in zip(a,b)]\n",
    "    res=0\n",
    "    for x in c:\n",
    "        res = res + x\n",
    "    return res"
   ]
  },
  {
   "cell_type": "code",
   "execution_count": 99,
   "metadata": {
    "collapsed": true
   },
   "outputs": [],
   "source": [
    "a = [23]\n",
    "b = [39]"
   ]
  },
  {
   "cell_type": "code",
   "execution_count": 100,
   "metadata": {
    "collapsed": false
   },
   "outputs": [
    {
     "data": {
      "text/plain": [
       "897"
      ]
     },
     "execution_count": 100,
     "metadata": {},
     "output_type": "execute_result"
    }
   ],
   "source": [
    "max_dot_product(a,b)"
   ]
  },
  {
   "cell_type": "code",
   "execution_count": 101,
   "metadata": {
    "collapsed": true
   },
   "outputs": [],
   "source": [
    "a = [1,3,-5]\n",
    "b = [-2,4,1]"
   ]
  },
  {
   "cell_type": "code",
   "execution_count": 104,
   "metadata": {
    "collapsed": false
   },
   "outputs": [
    {
     "data": {
      "text/plain": [
       "23"
      ]
     },
     "execution_count": 104,
     "metadata": {},
     "output_type": "execute_result"
    }
   ],
   "source": [
    "max_dot_product(a,b)"
   ]
  },
  {
   "cell_type": "code",
   "execution_count": 105,
   "metadata": {
    "collapsed": true
   },
   "outputs": [],
   "source": [
    "# problem 4\n",
    "from collections import namedtuple\n",
    "Segment = namedtuple('Segment', 'start end')"
   ]
  },
  {
   "cell_type": "code",
   "execution_count": 122,
   "metadata": {
    "collapsed": false
   },
   "outputs": [],
   "source": [
    "def optimal_points(segments):\n",
    "    segments.sort(key = operator.itemgetter(1))\n",
    "    points = []\n",
    "    points.append(segments[0].end)\n",
    "    i = 1\n",
    "    while(i < len(segments)):\n",
    "        if segments[i].start > points[-1]:\n",
    "            points.append(segments[i].end)\n",
    "        i = i + 1\n",
    "    return points"
   ]
  },
  {
   "cell_type": "code",
   "execution_count": 123,
   "metadata": {
    "collapsed": false
   },
   "outputs": [],
   "source": [
    "start = [1,2,3]\n",
    "end = [3,5,6]"
   ]
  },
  {
   "cell_type": "code",
   "execution_count": 124,
   "metadata": {
    "collapsed": true
   },
   "outputs": [],
   "source": [
    "seg = [Segment(x,y) for x,y in zip(start, end)]"
   ]
  },
  {
   "cell_type": "code",
   "execution_count": 126,
   "metadata": {
    "collapsed": false
   },
   "outputs": [
    {
     "name": "stdout",
     "output_type": "stream",
     "text": [
      "1\n",
      "3 "
     ]
    }
   ],
   "source": [
    "opt = optimal_points(seg)\n",
    "print(len(opt))\n",
    "for p in opt:\n",
    "    print(p, end=' ')"
   ]
  },
  {
   "cell_type": "code",
   "execution_count": 127,
   "metadata": {
    "collapsed": true
   },
   "outputs": [],
   "source": [
    "start = [4,1,2,5]\n",
    "end = [7,3,5,6]"
   ]
  },
  {
   "cell_type": "code",
   "execution_count": 128,
   "metadata": {
    "collapsed": true
   },
   "outputs": [],
   "source": [
    "seg = [Segment(x,y) for x,y in zip(start, end)]"
   ]
  },
  {
   "cell_type": "code",
   "execution_count": 129,
   "metadata": {
    "collapsed": false
   },
   "outputs": [
    {
     "name": "stdout",
     "output_type": "stream",
     "text": [
      "2\n",
      "3 6 "
     ]
    }
   ],
   "source": [
    "opt = optimal_points(seg)\n",
    "print(len(opt))\n",
    "for p in opt:\n",
    "    print(p, end=' ')"
   ]
  },
  {
   "cell_type": "code",
   "execution_count": 141,
   "metadata": {
    "collapsed": false
   },
   "outputs": [],
   "source": [
    "# problem 5\n",
    "'''\n",
    "we want the maximum amount of integers that sum up to n\n",
    "note that we can decompose as follows:\n",
    "for a given n, n = 1 + 2 + 3 ... + m + r\n",
    "thus we want the greatest m such that r > m\n",
    "suppose n = 8\n",
    "m    sum    r\n",
    "0    0      8\n",
    "1    1      7\n",
    "2    1+2    5\n",
    "3    1+2+3  2\n",
    "\n",
    "Thus the greatest m st r>m is 2 and the summand should be 1 + 2 + 5\n",
    "We can generalize as follows. An arithmetic series has the formula k(k+1)/2. Thus n = m(m+1)/2 + r, and since r>m we have\n",
    "m(m+1)/2 + m < n ==> m^2 + 3m -2n <0 ==> m<-3+sqrt(1+8n)/2\n",
    "''' \n",
    "import math\n",
    "\n",
    "def optimal_summands(n):\n",
    "    if n<=2:\n",
    "        return [n]\n",
    "    summands = []\n",
    "    #we should floor divide since we know m should be an integer\n",
    "    m = int((-3 + math.sqrt(1 + 8*n))//2)\n",
    "    print(m)\n",
    "    for i in range(1,m+1):\n",
    "        summands.append(i)\n",
    "    n = n - (m*(m+1))//2\n",
    "    summands.append(int(n))\n",
    "    return summands"
   ]
  },
  {
   "cell_type": "code",
   "execution_count": 184,
   "metadata": {
    "collapsed": false
   },
   "outputs": [
    {
     "name": "stdout",
     "output_type": "stream",
     "text": [
      "1\n"
     ]
    }
   ],
   "source": [
    "summands=optimal_summands(4)"
   ]
  },
  {
   "cell_type": "code",
   "execution_count": 186,
   "metadata": {
    "collapsed": false
   },
   "outputs": [
    {
     "name": "stdout",
     "output_type": "stream",
     "text": [
      "2\n",
      "1 3 "
     ]
    }
   ],
   "source": [
    "print(len(summands))\n",
    "for x in summands:\n",
    "    print(x, end=' ')"
   ]
  },
  {
   "cell_type": "code",
   "execution_count": 198,
   "metadata": {
    "collapsed": true
   },
   "outputs": [],
   "source": [
    "#prob 6\n",
    "def get_max(digit, max_digit):\n",
    "    if int(digit+max_digit) >= int(max_digit+digit):\n",
    "        return digit\n",
    "    else:\n",
    "        return max_digit\n",
    "\n",
    "def largest_number(a):\n",
    "    #write your code here\n",
    "    res = \"\"\n",
    "    while len(a) >0:\n",
    "        max_digit = '0'\n",
    "        for x in a:\n",
    "            max_digit = get_max(x, max_digit)\n",
    "        res += max_digit\n",
    "        a.remove(max_digit)\n",
    "    return res"
   ]
  },
  {
   "cell_type": "code",
   "execution_count": 199,
   "metadata": {
    "collapsed": false
   },
   "outputs": [
    {
     "data": {
      "text/plain": [
       "'1121'"
      ]
     },
     "execution_count": 199,
     "metadata": {},
     "output_type": "execute_result"
    }
   ],
   "source": [
    "largest_number(['1', '112'])"
   ]
  },
  {
   "cell_type": "code",
   "execution_count": 200,
   "metadata": {
    "collapsed": false
   },
   "outputs": [
    {
     "data": {
      "text/plain": [
       "'23'"
      ]
     },
     "execution_count": 200,
     "metadata": {},
     "output_type": "execute_result"
    }
   ],
   "source": [
    "get_max('232','23')"
   ]
  },
  {
   "cell_type": "code",
   "execution_count": 201,
   "metadata": {
    "collapsed": false
   },
   "outputs": [
    {
     "data": {
      "text/plain": [
       "'202'"
      ]
     },
     "execution_count": 201,
     "metadata": {},
     "output_type": "execute_result"
    }
   ],
   "source": [
    "get_max('202','20')"
   ]
  },
  {
   "cell_type": "code",
   "execution_count": 202,
   "metadata": {
    "collapsed": false
   },
   "outputs": [
    {
     "data": {
      "text/plain": [
       "'858'"
      ]
     },
     "execution_count": 202,
     "metadata": {},
     "output_type": "execute_result"
    }
   ],
   "source": [
    "get_max('858', '85')"
   ]
  },
  {
   "cell_type": "code",
   "execution_count": 203,
   "metadata": {
    "collapsed": false
   },
   "outputs": [
    {
     "data": {
      "text/plain": [
       "'112'"
      ]
     },
     "execution_count": 203,
     "metadata": {},
     "output_type": "execute_result"
    }
   ],
   "source": [
    "get_max('1', '112')"
   ]
  },
  {
   "cell_type": "code",
   "execution_count": null,
   "metadata": {
    "collapsed": true
   },
   "outputs": [],
   "source": [
    "    i = 0\n",
    "    while i < min(len(digit),len(max_digit)):\n",
    "        if int(digit[i]) > int(max_digit[i]):\n",
    "            return digit\n",
    "        elif int(digit[i]) < int(max_digit[i]):\n",
    "            return max_digit\n",
    "        else:\n",
    "            i = i + 1\n",
    "    if len(digit)<=len(max_digit):\n",
    "        return digit\n",
    "    else:\n",
    "        return max_digit"
   ]
  }
 ],
 "metadata": {
  "anaconda-cloud": {},
  "kernelspec": {
   "display_name": "Python [conda env:Anaconda3]",
   "language": "python",
   "name": "conda-env-Anaconda3-py"
  },
  "language_info": {
   "codemirror_mode": {
    "name": "ipython",
    "version": 3
   },
   "file_extension": ".py",
   "mimetype": "text/x-python",
   "name": "python",
   "nbconvert_exporter": "python",
   "pygments_lexer": "ipython3",
   "version": "3.5.2"
  }
 },
 "nbformat": 4,
 "nbformat_minor": 2
}
