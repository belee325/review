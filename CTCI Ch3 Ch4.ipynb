{
 "cells": [
  {
   "cell_type": "code",
   "execution_count": 10,
   "metadata": {},
   "outputs": [],
   "source": [
    "class Node:\n",
    "    def __init__(self,value,next_node = None):\n",
    "        self.value = value\n",
    "        self.next = next_node\n",
    "    def __repr__(self):\n",
    "        return \"value:{}\".format(self.value)\n",
    "class EmptyStackException(Exception):\n",
    "    pass\n",
    "class EmptyQueueException(Exception):\n",
    "    pass\n",
    "\n",
    "class Stack:\n",
    "    def __init__(self):\n",
    "        self.top = None\n",
    "    def peek(self):\n",
    "        if not self.top:\n",
    "            raise EmptyStackException(\"empty stack!\")\n",
    "        else:\n",
    "            return self.top\n",
    "    def push(self, data):\n",
    "        if not self.top:\n",
    "            self.top = Node(data)\n",
    "        else:\n",
    "            new_node = Node(data)\n",
    "            new_node.next = self.top\n",
    "            self.top = new_node\n",
    "    def pop(self):\n",
    "        if not self.top:\n",
    "            raise EmptyStackException(\"empty stack!\")\n",
    "        else:\n",
    "            temp = self.top\n",
    "            self.top = self.top.next\n",
    "            return temp\n",
    "    \n",
    "class Queue:\n",
    "    def __init__(self):\n",
    "        self.top = None\n",
    "        self.tail = None\n",
    "    def peek(self):\n",
    "        if not self.top:\n",
    "            raise EmptyQueueException('empty queue!')\n",
    "        else:\n",
    "            return self.top\n",
    "    def push(self, data):\n",
    "        new_node = Node(data)\n",
    "        if not self.top:\n",
    "            self.top = new_node\n",
    "            self.tail = new_node\n",
    "        else:\n",
    "            self.tail.next = new_node\n",
    "            self.tail=new_node\n",
    "    def pop(self):\n",
    "        if not self.top:\n",
    "            raise EmptyQueueException('empty queue!')\n",
    "        else:\n",
    "            temp = self.top\n",
    "            self.top= self.top.next\n",
    "            return temp"
   ]
  },
  {
   "cell_type": "code",
   "execution_count": 19,
   "metadata": {},
   "outputs": [
    {
     "data": {
      "text/plain": [
       "value:4"
      ]
     },
     "execution_count": 19,
     "metadata": {},
     "output_type": "execute_result"
    }
   ],
   "source": [
    "stack = Stack()\n",
    "#stack.peek()\n",
    "stack.push(3)\n",
    "stack.push(4)\n",
    "stack.peek()"
   ]
  },
  {
   "cell_type": "code",
   "execution_count": 20,
   "metadata": {},
   "outputs": [
    {
     "data": {
      "text/plain": [
       "value:3"
      ]
     },
     "execution_count": 20,
     "metadata": {},
     "output_type": "execute_result"
    }
   ],
   "source": [
    "stack.pop()\n",
    "stack.peek()"
   ]
  },
  {
   "cell_type": "code",
   "execution_count": 21,
   "metadata": {},
   "outputs": [
    {
     "data": {
      "text/plain": [
       "value:3"
      ]
     },
     "execution_count": 21,
     "metadata": {},
     "output_type": "execute_result"
    }
   ],
   "source": [
    "stack.pop()\n",
    "#stack.peek()"
   ]
  },
  {
   "cell_type": "code",
   "execution_count": 22,
   "metadata": {},
   "outputs": [
    {
     "data": {
      "text/plain": [
       "value:3"
      ]
     },
     "execution_count": 22,
     "metadata": {},
     "output_type": "execute_result"
    }
   ],
   "source": [
    "queue = Queue()\n",
    "queue.push(3)\n",
    "queue.push(4)\n",
    "queue.peek()"
   ]
  },
  {
   "cell_type": "code",
   "execution_count": 23,
   "metadata": {},
   "outputs": [
    {
     "data": {
      "text/plain": [
       "value:4"
      ]
     },
     "execution_count": 23,
     "metadata": {},
     "output_type": "execute_result"
    }
   ],
   "source": [
    "queue.pop()\n",
    "queue.peek()"
   ]
  },
  {
   "cell_type": "code",
   "execution_count": 24,
   "metadata": {},
   "outputs": [
    {
     "data": {
      "text/plain": [
       "\" describe how you would use a single array to implement 3 stacks\\n    i wouldnt\\n    \\n    lets say we have an array: stack_array \\n    \\n    we would need indexes for current position for the 3 stacks, and where the stacks begin in the array\\n    first stack begins at zero, has index for current pos curr_a\\n    second stack begins somewhere in the middle say index j, has index for current pos curr_b\\n    and last stack begins somewhere after index j, index k, has index for current pos curr_c\\n    \\n    we also know the ending index of the array - end\\n    \\n    lets name the stacks a b c with their respective indices as above\\n    \\n    if we wanted to push a value to a specific stack, we would do something like\\n    def push(stack_name, data):\\n        if stack_name == 'a':\\n            if curr_a >= j:\\n                raise fullstackexception\\n            else:\\n                stack_array[curr_pos] = data\\n                curr_a += 1\\n        elif stack_name == 'b':\\n            if curr_b >= k:\\n                raise fullstackexception\\n            else:\\n                stack_array[curr_pos] = data\\n                curr_b += 1\\n        elif: stack_name == 'c':\\n            if curr_c > end:\\n                raise fullstackexception\\n            else:\\n                stack_array[curr_pos] = data\\n                curr_c += 1\\n                \\n    if we wanted to pop:\\n    def pop(stack_name):\\n        if stack_name ='a':\\n            if curr_a == 0:\\n                raise emptystackexception\\n            else:\\n                temp = stack_array[curr_a]\\n                stack_array[curr_a]=None\\n        elif stack_name ='b':\\n            if curr_b <= j:\\n                raise emptystackexception\\n            else:\\n                temp = stack_array[curr_b]\\n                stack_array[curr_b]=None\\n        elif stack_name ='c':\\n            if curr_c <= k:\\n                raise emptystackexception\\n            else:\\n                temp = stack_array[curr_c]\\n                stack_array[curr_c]=None\\n        return temp\\n\""
      ]
     },
     "execution_count": 24,
     "metadata": {},
     "output_type": "execute_result"
    }
   ],
   "source": [
    "#prob 3.1\n",
    "''' describe how you would use a single array to implement 3 stacks\n",
    "    i wouldnt\n",
    "    \n",
    "    lets say we have an array: stack_array \n",
    "    \n",
    "    we would need indexes for current position for the 3 stacks, and where the stacks begin in the array\n",
    "    first stack begins at zero, has index for current pos curr_a\n",
    "    second stack begins somewhere in the middle say index j, has index for current pos curr_b\n",
    "    and last stack begins somewhere after index j, index k, has index for current pos curr_c\n",
    "    \n",
    "    we also know the ending index of the array - end\n",
    "    \n",
    "    lets name the stacks a b c with their respective indices as above\n",
    "    \n",
    "    if we wanted to push a value to a specific stack, we would do something like\n",
    "    def push(stack_name, data):\n",
    "        if stack_name == 'a':\n",
    "            if curr_a >= j:\n",
    "                raise fullstackexception\n",
    "            else:\n",
    "                stack_array[curr_pos] = data\n",
    "                curr_a += 1\n",
    "        elif stack_name == 'b':\n",
    "            if curr_b >= k:\n",
    "                raise fullstackexception\n",
    "            else:\n",
    "                stack_array[curr_pos] = data\n",
    "                curr_b += 1\n",
    "        elif: stack_name == 'c':\n",
    "            if curr_c > end:\n",
    "                raise fullstackexception\n",
    "            else:\n",
    "                stack_array[curr_pos] = data\n",
    "                curr_c += 1\n",
    "                \n",
    "    if we wanted to pop:\n",
    "    def pop(stack_name):\n",
    "        if stack_name ='a':\n",
    "            if curr_a == 0:\n",
    "                raise emptystackexception\n",
    "            else:\n",
    "                temp = stack_array[curr_a]\n",
    "                stack_array[curr_a]=None\n",
    "        elif stack_name ='b':\n",
    "            if curr_b <= j:\n",
    "                raise emptystackexception\n",
    "            else:\n",
    "                temp = stack_array[curr_b]\n",
    "                stack_array[curr_b]=None\n",
    "        elif stack_name ='c':\n",
    "            if curr_c <= k:\n",
    "                raise emptystackexception\n",
    "            else:\n",
    "                temp = stack_array[curr_c]\n",
    "                stack_array[curr_c]=None\n",
    "        return temp\n",
    "'''"
   ]
  },
  {
   "cell_type": "code",
   "execution_count": 48,
   "metadata": {
    "collapsed": true
   },
   "outputs": [],
   "source": [
    "#3.2\n",
    "class MinStack:\n",
    "    def __init__(self):\n",
    "        self.top = None\n",
    "        self.min_stack = Stack()\n",
    "    def push(self,data):\n",
    "        new_node = Node(data)\n",
    "        if not self.top:\n",
    "            self.top=new_node\n",
    "            self.min_stack.push(data)\n",
    "        else:\n",
    "            new_node.next = self.top\n",
    "            self.top=new_node\n",
    "            self.min_stack.push(min(data,self.min_stack.peek().value))\n",
    "    def peek(self):\n",
    "        if not self.top:\n",
    "            raise EmptyStackException(\"Empty Stack!\")\n",
    "        else:\n",
    "            return self.top\n",
    "    def pop(self):\n",
    "        if not self.top:\n",
    "            raise EmptyStackException('Empty Stack!')\n",
    "        else:\n",
    "            temp = self.top\n",
    "            self.top = self.top.next\n",
    "            self.min_stack.pop()\n",
    "            return temp\n",
    "    def get_min(self):\n",
    "        if not self.top:\n",
    "            raise EmptyStackException(\"Empty stack!\")\n",
    "        else:\n",
    "            return self.min_stack.peek()"
   ]
  },
  {
   "cell_type": "code",
   "execution_count": 49,
   "metadata": {
    "collapsed": true
   },
   "outputs": [],
   "source": [
    "min_stack = MinStack()"
   ]
  },
  {
   "cell_type": "code",
   "execution_count": 51,
   "metadata": {},
   "outputs": [
    {
     "name": "stdout",
     "output_type": "stream",
     "text": [
      "value:5\n",
      "value:5\n",
      "value:5\n",
      "value:4\n",
      "value:3\n",
      "value:4\n",
      "value:5\n",
      "value:5\n",
      "value:5\n"
     ]
    }
   ],
   "source": [
    "min_stack.push(5)\n",
    "print(min_stack.get_min())\n",
    "min_stack.push(7)\n",
    "print(min_stack.get_min())\n",
    "min_stack.push(6)\n",
    "print(min_stack.get_min())\n",
    "min_stack.push(4)\n",
    "print(min_stack.get_min())\n",
    "min_stack.push(3)\n",
    "print(min_stack.get_min())\n",
    "min_stack.pop()\n",
    "print(min_stack.get_min())\n",
    "min_stack.pop()\n",
    "print(min_stack.get_min())\n",
    "min_stack.pop()\n",
    "print(min_stack.get_min())\n",
    "min_stack.pop()\n",
    "print(min_stack.get_min())"
   ]
  },
  {
   "cell_type": "code",
   "execution_count": 52,
   "metadata": {
    "collapsed": true
   },
   "outputs": [],
   "source": [
    "# 3.3\n",
    "class FatStacks:\n",
    "    def __init__(self, limit):\n",
    "        self.num_elem = 0\n",
    "        self.num_stacks = 1\n",
    "        self.limit = limit\n",
    "        self.stack = [Stack()]\n",
    "    def push(self,data):\n",
    "        if self.num_elem == 0:\n",
    "            #last stack is empty\n",
    "            self.stack[-1].push(data)\n",
    "            self.num_elem += 1\n",
    "        else:\n",
    "            if self.num_elem >= self.limit:\n",
    "                #last stack is full, make new stack, append\n",
    "                new_stack = Stack()\n",
    "                new_stack.push(data)\n",
    "                self.stack.append(new_stack)\n",
    "                self.num_elem = 1\n",
    "                self.num_stacks +=1\n",
    "            else:\n",
    "                #push to last stack\n",
    "                self.stack[-1].push(data)\n",
    "                self.num_elem +=1\n",
    "    def pop(self):\n",
    "        try:\n",
    "            self.stack[-1].pop()\n",
    "        except EmptyStackException:\n",
    "            if self.num_stacks > 1:\n",
    "                self.stack.pop()\n",
    "                self.num_elem = self.limit\n",
    "                self.num_stacks -=1\n",
    "                self.pop()\n",
    "            else:\n",
    "                print('stack is empty')\n",
    "        else:\n",
    "            self.num_elem -=1\n",
    "    def peek(self):\n",
    "        try:\n",
    "            self.stack[-1].peek()\n",
    "        except EmptyStackException:\n",
    "            if self.num_stacks > 1:\n",
    "                self.stack.pop()\n",
    "                self.num_elem = self.limit\n",
    "                self.num_stacks -=1\n",
    "                self.peek()\n",
    "            else:\n",
    "                print('stack is empty')\n",
    "                \n",
    "    def pop_at(self, index):\n",
    "        if index > len(self.stack):\n",
    "            print('index out of range')\n",
    "            return\n",
    "        else:\n",
    "            #try popping stack at index\n",
    "            try:\n",
    "                self.stack[index].pop()\n",
    "            except EmptyStackException:\n",
    "                print('stack is empty')\n",
    "            else:\n",
    "                #after popping, we need to shuffle everything down\n",
    "                while index + 1 <= len(self.stack):\n",
    "                    temp = self.stack[index+1].pop().value\n",
    "                    self.stack[index].push(temp)\n",
    "                    index +=1\n",
    "                self.num_elem -=1\n"
   ]
  },
  {
   "cell_type": "code",
   "execution_count": null,
   "metadata": {
    "collapsed": true
   },
   "outputs": [],
   "source": [
    "#3.4\n",
    "class QueueWithStacks:\n",
    "    def __init__(self):\n",
    "        self.s1 = Stack()\n",
    "        self.s2 = Stack()\n",
    "    def push(self,data):\n",
    "        try:\n",
    "            self.s1.peek()\n",
    "        except EmptyStackException:\n",
    "            self.s1.push(data)\n",
    "        else:\n",
    "            #pop everything to stack2, push data to s1, push everything from stack 2\n",
    "            while True:\n",
    "                try:\n",
    "                    temp = self.s1.pop()\n",
    "                    self.s2.push(temp)\n",
    "                except EmptyStackException:\n",
    "                    break\n",
    "            self.s1.push(data)\n",
    "            while True:\n",
    "                try:\n",
    "                    temp = self.s2.pop()\n",
    "                    self.s1.push(temp)\n",
    "                except EmptyStackException:\n",
    "                    break\n",
    "    def pop(self):\n",
    "        try:\n",
    "            ret = self.s1.pop()\n",
    "        except EmptyStackException:\n",
    "            print('stack is empty')\n",
    "        else:\n",
    "            return ret\n",
    "    def peek(self):\n",
    "        try:\n",
    "            self.s1.peek()\n",
    "        except EmptyStackException:\n",
    "            print('stack is empty')\n",
    "        else:\n",
    "            return self.s1.peek()"
   ]
  }
 ],
 "metadata": {
  "kernelspec": {
   "display_name": "Python 3",
   "language": "python",
   "name": "python3"
  },
  "language_info": {
   "codemirror_mode": {
    "name": "ipython",
    "version": 3
   },
   "file_extension": ".py",
   "mimetype": "text/x-python",
   "name": "python",
   "nbconvert_exporter": "python",
   "pygments_lexer": "ipython3",
   "version": "3.6.3"
  }
 },
 "nbformat": 4,
 "nbformat_minor": 2
}
