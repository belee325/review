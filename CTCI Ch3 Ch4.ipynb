{
 "cells": [
  {
   "cell_type": "code",
   "execution_count": 113,
   "metadata": {
    "collapsed": true
   },
   "outputs": [],
   "source": [
    "class Node:\n",
    "    def __init__(self,value,next_node = None):\n",
    "        self.value = value\n",
    "        self.next = next_node\n",
    "    def __eq__(self, other):\n",
    "        return self.value == other.value\n",
    "    \n",
    "    def __gt__(self, other):\n",
    "        return self.value > other.value\n",
    "    \n",
    "    def __lt__(self,other):\n",
    "        return self.value < other.value\n",
    "    \n",
    "    def __le__(self,other):\n",
    "        return self.value <= other.value\n",
    "    \n",
    "    def __ge__(self,other):\n",
    "        return self.value >= other.value\n",
    "    \n",
    "    def __ne__(self,other):\n",
    "        return self.value != other.value\n",
    "    \n",
    "    def __repr__(self):\n",
    "        return \"value:{}\".format(self.value)\n",
    "class EmptyStackException(Exception):\n",
    "    pass\n",
    "class EmptyQueueException(Exception):\n",
    "    pass\n",
    "\n",
    "class Stack:\n",
    "    def __init__(self):\n",
    "        self.top = None\n",
    "    def peek(self):\n",
    "        if not self.top:\n",
    "            raise EmptyStackException(\"empty stack!\")\n",
    "        else:\n",
    "            return self.top\n",
    "    def push(self, data):\n",
    "        if not self.top:\n",
    "            self.top = Node(data)\n",
    "        else:\n",
    "            new_node = Node(data)\n",
    "            new_node.next = self.top\n",
    "            self.top = new_node\n",
    "    def pop(self):\n",
    "        if not self.top:\n",
    "            raise EmptyStackException(\"empty stack!\")\n",
    "        else:\n",
    "            temp = self.top\n",
    "            self.top = self.top.next\n",
    "            return temp\n",
    "    def is_empty(self):\n",
    "        return not self.top\n",
    "    \n",
    "class Queue:\n",
    "    def __init__(self):\n",
    "        self.top = None\n",
    "        self.tail = None\n",
    "    def peek(self):\n",
    "        if not self.top:\n",
    "            raise EmptyQueueException('empty queue!')\n",
    "        else:\n",
    "            return self.top\n",
    "    def push(self, data):\n",
    "        new_node = Node(data)\n",
    "        if not self.top:\n",
    "            self.top = new_node\n",
    "            self.tail = new_node\n",
    "        else:\n",
    "            self.tail.next = new_node\n",
    "            self.tail=new_node\n",
    "    def pop(self):\n",
    "        if not self.top:\n",
    "            raise EmptyQueueException('empty queue!')\n",
    "        else:\n",
    "            temp = self.top\n",
    "            self.top= self.top.next\n",
    "            return temp\n",
    "    def is_empty(self):\n",
    "        return not self.top"
   ]
  },
  {
   "cell_type": "code",
   "execution_count": 43,
   "metadata": {},
   "outputs": [
    {
     "data": {
      "text/plain": [
       "value:4"
      ]
     },
     "execution_count": 43,
     "metadata": {},
     "output_type": "execute_result"
    }
   ],
   "source": [
    "stack = Stack()\n",
    "#stack.peek()\n",
    "stack.push(3)\n",
    "stack.push(4)\n",
    "stack.peek()"
   ]
  },
  {
   "cell_type": "code",
   "execution_count": 44,
   "metadata": {},
   "outputs": [
    {
     "data": {
      "text/plain": [
       "value:3"
      ]
     },
     "execution_count": 44,
     "metadata": {},
     "output_type": "execute_result"
    }
   ],
   "source": [
    "stack.pop()\n",
    "stack.peek()"
   ]
  },
  {
   "cell_type": "code",
   "execution_count": 45,
   "metadata": {},
   "outputs": [
    {
     "data": {
      "text/plain": [
       "value:3"
      ]
     },
     "execution_count": 45,
     "metadata": {},
     "output_type": "execute_result"
    }
   ],
   "source": [
    "stack.pop()\n",
    "#stack.peek()"
   ]
  },
  {
   "cell_type": "code",
   "execution_count": 46,
   "metadata": {},
   "outputs": [
    {
     "data": {
      "text/plain": [
       "value:3"
      ]
     },
     "execution_count": 46,
     "metadata": {},
     "output_type": "execute_result"
    }
   ],
   "source": [
    "queue = Queue()\n",
    "queue.push(3)\n",
    "queue.push(4)\n",
    "queue.peek()"
   ]
  },
  {
   "cell_type": "code",
   "execution_count": 47,
   "metadata": {},
   "outputs": [
    {
     "data": {
      "text/plain": [
       "value:4"
      ]
     },
     "execution_count": 47,
     "metadata": {},
     "output_type": "execute_result"
    }
   ],
   "source": [
    "queue.pop()\n",
    "queue.peek()"
   ]
  },
  {
   "cell_type": "code",
   "execution_count": 48,
   "metadata": {},
   "outputs": [
    {
     "data": {
      "text/plain": [
       "\" describe how you would use a single array to implement 3 stacks\\n    i wouldnt\\n    \\n    lets say we have an array: stack_array \\n    \\n    we would need indexes for current position for the 3 stacks, and where the stacks begin in the array\\n    first stack begins at zero, has index for current pos curr_a\\n    second stack begins somewhere in the middle say index j, has index for current pos curr_b\\n    and last stack begins somewhere after index j, index k, has index for current pos curr_c\\n    \\n    we also know the ending index of the array - end\\n    \\n    lets name the stacks a b c with their respective indices as above\\n    \\n    if we wanted to push a value to a specific stack, we would do something like\\n    def push(stack_name, data):\\n        if stack_name == 'a':\\n            if curr_a >= j:\\n                raise fullstackexception\\n            else:\\n                stack_array[curr_pos] = data\\n                curr_a += 1\\n        elif stack_name == 'b':\\n            if curr_b >= k:\\n                raise fullstackexception\\n            else:\\n                stack_array[curr_pos] = data\\n                curr_b += 1\\n        elif: stack_name == 'c':\\n            if curr_c > end:\\n                raise fullstackexception\\n            else:\\n                stack_array[curr_pos] = data\\n                curr_c += 1\\n                \\n    if we wanted to pop:\\n    def pop(stack_name):\\n        if stack_name ='a':\\n            if curr_a == 0:\\n                raise emptystackexception\\n            else:\\n                temp = stack_array[curr_a]\\n                stack_array[curr_a]=None\\n        elif stack_name ='b':\\n            if curr_b <= j:\\n                raise emptystackexception\\n            else:\\n                temp = stack_array[curr_b]\\n                stack_array[curr_b]=None\\n        elif stack_name ='c':\\n            if curr_c <= k:\\n                raise emptystackexception\\n            else:\\n                temp = stack_array[curr_c]\\n                stack_array[curr_c]=None\\n        return temp\\n\""
      ]
     },
     "execution_count": 48,
     "metadata": {},
     "output_type": "execute_result"
    }
   ],
   "source": [
    "#prob 3.1\n",
    "''' describe how you would use a single array to implement 3 stacks\n",
    "    i wouldnt\n",
    "    \n",
    "    lets say we have an array: stack_array \n",
    "    \n",
    "    we would need indexes for current position for the 3 stacks, and where the stacks begin in the array\n",
    "    first stack begins at zero, has index for current pos curr_a\n",
    "    second stack begins somewhere in the middle say index j, has index for current pos curr_b\n",
    "    and last stack begins somewhere after index j, index k, has index for current pos curr_c\n",
    "    \n",
    "    we also know the ending index of the array - end\n",
    "    \n",
    "    lets name the stacks a b c with their respective indices as above\n",
    "    \n",
    "    if we wanted to push a value to a specific stack, we would do something like\n",
    "    def push(stack_name, data):\n",
    "        if stack_name == 'a':\n",
    "            if curr_a >= j:\n",
    "                raise fullstackexception\n",
    "            else:\n",
    "                stack_array[curr_pos] = data\n",
    "                curr_a += 1\n",
    "        elif stack_name == 'b':\n",
    "            if curr_b >= k:\n",
    "                raise fullstackexception\n",
    "            else:\n",
    "                stack_array[curr_pos] = data\n",
    "                curr_b += 1\n",
    "        elif: stack_name == 'c':\n",
    "            if curr_c > end:\n",
    "                raise fullstackexception\n",
    "            else:\n",
    "                stack_array[curr_pos] = data\n",
    "                curr_c += 1\n",
    "                \n",
    "    if we wanted to pop:\n",
    "    def pop(stack_name):\n",
    "        if stack_name ='a':\n",
    "            if curr_a == 0:\n",
    "                raise emptystackexception\n",
    "            else:\n",
    "                temp = stack_array[curr_a]\n",
    "                stack_array[curr_a]=None\n",
    "        elif stack_name ='b':\n",
    "            if curr_b <= j:\n",
    "                raise emptystackexception\n",
    "            else:\n",
    "                temp = stack_array[curr_b]\n",
    "                stack_array[curr_b]=None\n",
    "        elif stack_name ='c':\n",
    "            if curr_c <= k:\n",
    "                raise emptystackexception\n",
    "            else:\n",
    "                temp = stack_array[curr_c]\n",
    "                stack_array[curr_c]=None\n",
    "        return temp\n",
    "'''"
   ]
  },
  {
   "cell_type": "code",
   "execution_count": 49,
   "metadata": {
    "collapsed": true
   },
   "outputs": [],
   "source": [
    "#3.2\n",
    "class MinStack:\n",
    "    def __init__(self):\n",
    "        self.top = None\n",
    "        self.min_stack = Stack()\n",
    "    def push(self,data):\n",
    "        new_node = Node(data)\n",
    "        if not self.top:\n",
    "            self.top=new_node\n",
    "            self.min_stack.push(data)\n",
    "        else:\n",
    "            new_node.next = self.top\n",
    "            self.top=new_node\n",
    "            self.min_stack.push(min(data,self.min_stack.peek().value))\n",
    "    def peek(self):\n",
    "        if not self.top:\n",
    "            raise EmptyStackException(\"Empty Stack!\")\n",
    "        else:\n",
    "            return self.top\n",
    "    def pop(self):\n",
    "        if not self.top:\n",
    "            raise EmptyStackException('Empty Stack!')\n",
    "        else:\n",
    "            temp = self.top\n",
    "            self.top = self.top.next\n",
    "            self.min_stack.pop()\n",
    "            return temp\n",
    "    def get_min(self):\n",
    "        if not self.top:\n",
    "            raise EmptyStackException(\"Empty stack!\")\n",
    "        else:\n",
    "            return self.min_stack.peek()"
   ]
  },
  {
   "cell_type": "code",
   "execution_count": 50,
   "metadata": {
    "collapsed": true
   },
   "outputs": [],
   "source": [
    "min_stack = MinStack()"
   ]
  },
  {
   "cell_type": "code",
   "execution_count": 51,
   "metadata": {},
   "outputs": [
    {
     "name": "stdout",
     "output_type": "stream",
     "text": [
      "value:5\n",
      "value:5\n",
      "value:5\n",
      "value:4\n",
      "value:3\n",
      "value:4\n",
      "value:5\n",
      "value:5\n",
      "value:5\n"
     ]
    }
   ],
   "source": [
    "min_stack.push(5)\n",
    "print(min_stack.get_min())\n",
    "min_stack.push(7)\n",
    "print(min_stack.get_min())\n",
    "min_stack.push(6)\n",
    "print(min_stack.get_min())\n",
    "min_stack.push(4)\n",
    "print(min_stack.get_min())\n",
    "min_stack.push(3)\n",
    "print(min_stack.get_min())\n",
    "min_stack.pop()\n",
    "print(min_stack.get_min())\n",
    "min_stack.pop()\n",
    "print(min_stack.get_min())\n",
    "min_stack.pop()\n",
    "print(min_stack.get_min())\n",
    "min_stack.pop()\n",
    "print(min_stack.get_min())"
   ]
  },
  {
   "cell_type": "code",
   "execution_count": 52,
   "metadata": {
    "collapsed": true
   },
   "outputs": [],
   "source": [
    "# 3.3\n",
    "class FatStacks:\n",
    "    def __init__(self, limit):\n",
    "        self.num_elem = 0\n",
    "        self.num_stacks = 1\n",
    "        self.limit = limit\n",
    "        self.stack = [Stack()]\n",
    "    def push(self,data):\n",
    "        if self.num_elem == 0:\n",
    "            #last stack is empty\n",
    "            self.stack[-1].push(data)\n",
    "            self.num_elem += 1\n",
    "        else:\n",
    "            if self.num_elem >= self.limit:\n",
    "                #last stack is full, make new stack, append\n",
    "                new_stack = Stack()\n",
    "                new_stack.push(data)\n",
    "                self.stack.append(new_stack)\n",
    "                self.num_elem = 1\n",
    "                self.num_stacks +=1\n",
    "            else:\n",
    "                #push to last stack\n",
    "                self.stack[-1].push(data)\n",
    "                self.num_elem +=1\n",
    "    def pop(self):\n",
    "        try:\n",
    "            self.stack[-1].pop()\n",
    "        except EmptyStackException:\n",
    "            if self.num_stacks > 1:\n",
    "                self.stack.pop()\n",
    "                self.num_elem = self.limit\n",
    "                self.num_stacks -=1\n",
    "                self.pop()\n",
    "            else:\n",
    "                print('stack is empty')\n",
    "        else:\n",
    "            self.num_elem -=1\n",
    "    def peek(self):\n",
    "        try:\n",
    "            self.stack[-1].peek()\n",
    "        except EmptyStackException:\n",
    "            if self.num_stacks > 1:\n",
    "                self.stack.pop()\n",
    "                self.num_elem = self.limit\n",
    "                self.num_stacks -=1\n",
    "                self.peek()\n",
    "            else:\n",
    "                print('stack is empty')\n",
    "                \n",
    "    def pop_at(self, index):\n",
    "        if index > len(self.stack):\n",
    "            print('index out of range')\n",
    "            return\n",
    "        else:\n",
    "            #try popping stack at index\n",
    "            try:\n",
    "                self.stack[index].pop()\n",
    "            except EmptyStackException:\n",
    "                print('stack is empty')\n",
    "            else:\n",
    "                #after popping, we need to shuffle everything down\n",
    "                while index + 1 <= len(self.stack):\n",
    "                    temp = self.stack[index+1].pop().value\n",
    "                    self.stack[index].push(temp)\n",
    "                    index +=1\n",
    "                self.num_elem -=1\n"
   ]
  },
  {
   "cell_type": "code",
   "execution_count": 53,
   "metadata": {
    "collapsed": true
   },
   "outputs": [],
   "source": [
    "#3.4\n",
    "class QueueWithStacks:\n",
    "    def __init__(self):\n",
    "        self.s1 = Stack()\n",
    "        self.s2 = Stack()\n",
    "    def push(self,data):\n",
    "        try:\n",
    "            self.s1.peek()\n",
    "        except EmptyStackException:\n",
    "            self.s1.push(data)\n",
    "        else:\n",
    "            #pop everything to stack2, push data to s1, push everything from stack 2\n",
    "            while True:\n",
    "                try:\n",
    "                    temp = self.s1.pop()\n",
    "                    self.s2.push(temp.value)\n",
    "                except EmptyStackException:\n",
    "                    break\n",
    "            self.s1.push(data)\n",
    "            while True:\n",
    "                try:\n",
    "                    temp = self.s2.pop()\n",
    "                    self.s1.push(temp.value)\n",
    "                except EmptyStackException:\n",
    "                    break\n",
    "    def pop(self):\n",
    "        try:\n",
    "            ret = self.s1.pop()\n",
    "        except EmptyStackException:\n",
    "            print('stack is empty')\n",
    "        else:\n",
    "            return ret\n",
    "    def peek(self):\n",
    "        try:\n",
    "            self.s1.peek()\n",
    "        except EmptyStackException:\n",
    "            print('stack is empty')\n",
    "        else:\n",
    "            return self.s1.peek()"
   ]
  },
  {
   "cell_type": "code",
   "execution_count": 54,
   "metadata": {},
   "outputs": [],
   "source": [
    "qws = QueueWithStacks()"
   ]
  },
  {
   "cell_type": "code",
   "execution_count": 55,
   "metadata": {
    "collapsed": true
   },
   "outputs": [],
   "source": [
    "qws.push(1)"
   ]
  },
  {
   "cell_type": "code",
   "execution_count": 56,
   "metadata": {},
   "outputs": [
    {
     "data": {
      "text/plain": [
       "value:1"
      ]
     },
     "execution_count": 56,
     "metadata": {},
     "output_type": "execute_result"
    }
   ],
   "source": [
    "qws.peek()"
   ]
  },
  {
   "cell_type": "code",
   "execution_count": 57,
   "metadata": {
    "collapsed": true
   },
   "outputs": [],
   "source": [
    "qws.push(2)"
   ]
  },
  {
   "cell_type": "code",
   "execution_count": 58,
   "metadata": {},
   "outputs": [
    {
     "data": {
      "text/plain": [
       "value:1"
      ]
     },
     "execution_count": 58,
     "metadata": {},
     "output_type": "execute_result"
    }
   ],
   "source": [
    "qws.peek()"
   ]
  },
  {
   "cell_type": "code",
   "execution_count": 59,
   "metadata": {},
   "outputs": [
    {
     "data": {
      "text/plain": [
       "value:1"
      ]
     },
     "execution_count": 59,
     "metadata": {},
     "output_type": "execute_result"
    }
   ],
   "source": [
    "qws.pop()"
   ]
  },
  {
   "cell_type": "code",
   "execution_count": 60,
   "metadata": {},
   "outputs": [
    {
     "data": {
      "text/plain": [
       "value:2"
      ]
     },
     "execution_count": 60,
     "metadata": {},
     "output_type": "execute_result"
    }
   ],
   "source": [
    "qws.peek()"
   ]
  },
  {
   "cell_type": "code",
   "execution_count": 61,
   "metadata": {},
   "outputs": [
    {
     "data": {
      "text/plain": [
       "value:2"
      ]
     },
     "execution_count": 61,
     "metadata": {},
     "output_type": "execute_result"
    }
   ],
   "source": [
    "qws.pop()"
   ]
  },
  {
   "cell_type": "code",
   "execution_count": 62,
   "metadata": {},
   "outputs": [
    {
     "name": "stdout",
     "output_type": "stream",
     "text": [
      "stack is empty\n"
     ]
    }
   ],
   "source": [
    "qws.pop()"
   ]
  },
  {
   "cell_type": "code",
   "execution_count": 93,
   "metadata": {},
   "outputs": [],
   "source": [
    "#3.5 stack sort\n",
    "def sort_stack(s1):\n",
    "    #can only use another stack to help sort\n",
    "    if s1.is_empty():\n",
    "        print('stacks empty yo')\n",
    "        return\n",
    "    s2 = Stack()\n",
    "    s2.push(s1.pop().value)\n",
    "    while not s1.is_empty():\n",
    "        curr = s1.pop()\n",
    "        if s2.is_empty():\n",
    "            s2.push(curr.value)\n",
    "        else:\n",
    "            if curr < s2.peek():\n",
    "                while curr < s2.peek() and not s2.is_empty():\n",
    "                    s1.push(s2.pop().value)\n",
    "                s2.push(curr.value)\n",
    "            elif curr>=s2.peek():\n",
    "                s2.push(curr.value)\n",
    "    while not s2.is_empty():\n",
    "        s1.push(s2.pop().value)\n",
    "    "
   ]
  },
  {
   "cell_type": "code",
   "execution_count": 104,
   "metadata": {},
   "outputs": [],
   "source": [
    "import random\n",
    "stack_1 = Stack()\n",
    "for i in range(10):\n",
    "    stack_1.push(random.randint(0,100))"
   ]
  },
  {
   "cell_type": "code",
   "execution_count": 105,
   "metadata": {},
   "outputs": [],
   "source": [
    "sort_stack(stack_1)"
   ]
  },
  {
   "cell_type": "code",
   "execution_count": 106,
   "metadata": {},
   "outputs": [
    {
     "name": "stdout",
     "output_type": "stream",
     "text": [
      "value:3\n",
      "value:6\n",
      "value:27\n",
      "value:32\n",
      "value:42\n",
      "value:52\n",
      "value:56\n",
      "value:71\n",
      "value:78\n",
      "value:87\n"
     ]
    }
   ],
   "source": [
    "while not stack_1.is_empty():\n",
    "    print(stack_1.pop())"
   ]
  },
  {
   "cell_type": "code",
   "execution_count": 175,
   "metadata": {},
   "outputs": [],
   "source": [
    "#3.6\n",
    "from abc import ABCMeta, abstractmethod\n",
    "class Animal(metaclass = ABCMeta):\n",
    "    @abstractmethod\n",
    "    def noise(self):\n",
    "        pass\n",
    "class Dog(Animal):\n",
    "    def __init__(self):\n",
    "        self.arrival = None\n",
    "        \n",
    "    def __repr__(self):\n",
    "        return 'bork'\n",
    "    \n",
    "    def noise(self):\n",
    "        return 'bark'\n",
    "\n",
    "class Cat(Animal):\n",
    "    def __init__(self):\n",
    "        self.arrival = None\n",
    "    \n",
    "    def __repr__(self):\n",
    "        return 'meow'\n",
    "    \n",
    "    def noise(self):\n",
    "        return 'meow'\n",
    "    \n",
    "    \n",
    "class Shelter:\n",
    "    arrival_time = 1\n",
    "    \n",
    "    def __init__(self):\n",
    "        self.dogs = Queue()\n",
    "        self.cats = Queue()\n",
    "    def enqueue(self, animal):\n",
    "        if isinstance(animal, Animal):\n",
    "            animal.arrival = self.arrival_time\n",
    "            if isinstance(animal,Cat):\n",
    "                self.cats.push(animal)\n",
    "            elif isinstance(animal,Dog):\n",
    "                self.dogs.push(animal)\n",
    "            self.arrival_time+=1\n",
    "        else:\n",
    "            print('not an animal!')\n",
    "    def dequeue_any(self):\n",
    "        if self.dogs.is_empty() and self.cats.is_empty():\n",
    "            print('no pets yo')\n",
    "        elif not self.dogs.is_empty() and self.cats.is_empty():\n",
    "            return self.dogs.pop()\n",
    "        elif self.dogs.is_empty() and not self.cats.is_empty():\n",
    "            return self.cats.pop()\n",
    "        else:\n",
    "            if self.dogs.peek().value.arrival<=self.cats.peek().value.arrival:\n",
    "                return self.dogs.pop()\n",
    "            else:\n",
    "                return self.cats.pop()\n",
    "    def dequeue_cat(self):\n",
    "        if self.cats.is_empty():\n",
    "            print('no cats yo')\n",
    "            return\n",
    "        else:\n",
    "            return self.cats.pop()\n",
    "    def dequeue_dogs(self):\n",
    "        if self.dogs.is_empty():\n",
    "            print('no dags')\n",
    "            return\n",
    "        else:\n",
    "            return self.dogs.pop()"
   ]
  },
  {
   "cell_type": "code",
   "execution_count": 176,
   "metadata": {},
   "outputs": [],
   "source": [
    "cat = Cat()"
   ]
  },
  {
   "cell_type": "code",
   "execution_count": 177,
   "metadata": {},
   "outputs": [
    {
     "data": {
      "text/plain": [
       "True"
      ]
     },
     "execution_count": 177,
     "metadata": {},
     "output_type": "execute_result"
    }
   ],
   "source": [
    "isinstance(cat,Animal)"
   ]
  },
  {
   "cell_type": "code",
   "execution_count": 178,
   "metadata": {
    "collapsed": true
   },
   "outputs": [],
   "source": [
    "shelter = Shelter()"
   ]
  },
  {
   "cell_type": "code",
   "execution_count": 179,
   "metadata": {},
   "outputs": [],
   "source": [
    "for i in range(20):\n",
    "    x =random.randint(0,1)\n",
    "    if x == 1:\n",
    "        shelter.enqueue(Cat())\n",
    "    else:\n",
    "        shelter.enqueue(Dog())"
   ]
  },
  {
   "cell_type": "code",
   "execution_count": 180,
   "metadata": {},
   "outputs": [
    {
     "data": {
      "text/plain": [
       "value:bork"
      ]
     },
     "execution_count": 180,
     "metadata": {},
     "output_type": "execute_result"
    }
   ],
   "source": [
    "shelter.dogs.peek()"
   ]
  },
  {
   "cell_type": "code",
   "execution_count": 181,
   "metadata": {},
   "outputs": [
    {
     "data": {
      "text/plain": [
       "value:meow"
      ]
     },
     "execution_count": 181,
     "metadata": {},
     "output_type": "execute_result"
    }
   ],
   "source": [
    "shelter.cats.peek()"
   ]
  },
  {
   "cell_type": "code",
   "execution_count": 182,
   "metadata": {},
   "outputs": [
    {
     "name": "stdout",
     "output_type": "stream",
     "text": [
      "value:meow\n"
     ]
    }
   ],
   "source": [
    "print(shelter.dequeue_any())"
   ]
  },
  {
   "cell_type": "code",
   "execution_count": 184,
   "metadata": {},
   "outputs": [
    {
     "name": "stdout",
     "output_type": "stream",
     "text": [
      "value:meow\n"
     ]
    }
   ],
   "source": [
    "print(shelter.dequeue_cat())"
   ]
  },
  {
   "cell_type": "code",
   "execution_count": 185,
   "metadata": {},
   "outputs": [
    {
     "name": "stdout",
     "output_type": "stream",
     "text": [
      "value:bork\n"
     ]
    }
   ],
   "source": [
    "print(shelter.dequeue_dogs())"
   ]
  },
  {
   "cell_type": "code",
   "execution_count": null,
   "metadata": {
    "collapsed": true
   },
   "outputs": [],
   "source": [
    "####begin ch4"
   ]
  }
 ],
 "metadata": {
  "kernelspec": {
   "display_name": "Python 3",
   "language": "python",
   "name": "python3"
  },
  "language_info": {
   "codemirror_mode": {
    "name": "ipython",
    "version": 3
   },
   "file_extension": ".py",
   "mimetype": "text/x-python",
   "name": "python",
   "nbconvert_exporter": "python",
   "pygments_lexer": "ipython3",
   "version": "3.6.3"
  }
 },
 "nbformat": 4,
 "nbformat_minor": 2
}
