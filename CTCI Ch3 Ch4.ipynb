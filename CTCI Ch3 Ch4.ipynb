{
 "cells": [
  {
   "cell_type": "code",
   "execution_count": 4,
   "metadata": {
    "collapsed": true
   },
   "outputs": [],
   "source": [
    "class Node:\n",
    "    def __init__(self,value,next_node = None):\n",
    "        self.value = value\n",
    "        self.next = next_node\n",
    "    def __eq__(self, other):\n",
    "        return self.value == other.value\n",
    "    \n",
    "    def __gt__(self, other):\n",
    "        return self.value > other.value\n",
    "    \n",
    "    def __lt__(self,other):\n",
    "        return self.value < other.value\n",
    "    \n",
    "    def __le__(self,other):\n",
    "        return self.value <= other.value\n",
    "    \n",
    "    def __ge__(self,other):\n",
    "        return self.value >= other.value\n",
    "    \n",
    "    def __ne__(self,other):\n",
    "        return self.value != other.value\n",
    "    \n",
    "    def __repr__(self):\n",
    "        return \"value:{}\".format(self.value)\n",
    "class EmptyStackException(Exception):\n",
    "    pass\n",
    "class EmptyQueueException(Exception):\n",
    "    pass\n",
    "\n",
    "class Stack:\n",
    "    def __init__(self):\n",
    "        self.top = None\n",
    "    def peek(self):\n",
    "        if not self.top:\n",
    "            raise EmptyStackException(\"empty stack!\")\n",
    "        else:\n",
    "            return self.top\n",
    "    def push(self, data):\n",
    "        if not self.top:\n",
    "            self.top = Node(data)\n",
    "        else:\n",
    "            new_node = Node(data)\n",
    "            new_node.next = self.top\n",
    "            self.top = new_node\n",
    "    def pop(self):\n",
    "        if not self.top:\n",
    "            raise EmptyStackException(\"empty stack!\")\n",
    "        else:\n",
    "            temp = self.top\n",
    "            self.top = self.top.next\n",
    "            return temp\n",
    "    def is_empty(self):\n",
    "        return not self.top\n",
    "    \n",
    "class Queue:\n",
    "    def __init__(self):\n",
    "        self.top = None\n",
    "        self.tail = None\n",
    "    def peek(self):\n",
    "        if not self.top:\n",
    "            raise EmptyQueueException('empty queue!')\n",
    "        else:\n",
    "            return self.top\n",
    "    def push(self, data):\n",
    "        new_node = Node(data)\n",
    "        if not self.top:\n",
    "            self.top = new_node\n",
    "            self.tail = new_node\n",
    "        else:\n",
    "            self.tail.next = new_node\n",
    "            self.tail=new_node\n",
    "    def pop(self):\n",
    "        if not self.top:\n",
    "            raise EmptyQueueException('empty queue!')\n",
    "        else:\n",
    "            temp = self.top\n",
    "            self.top= self.top.next\n",
    "            return temp\n",
    "    def is_empty(self):\n",
    "        return not self.top"
   ]
  },
  {
   "cell_type": "code",
   "execution_count": 5,
   "metadata": {},
   "outputs": [
    {
     "data": {
      "text/plain": [
       "value:4"
      ]
     },
     "execution_count": 5,
     "metadata": {},
     "output_type": "execute_result"
    }
   ],
   "source": [
    "stack = Stack()\n",
    "#stack.peek()\n",
    "stack.push(3)\n",
    "stack.push(4)\n",
    "stack.peek()"
   ]
  },
  {
   "cell_type": "code",
   "execution_count": 6,
   "metadata": {},
   "outputs": [
    {
     "data": {
      "text/plain": [
       "value:3"
      ]
     },
     "execution_count": 6,
     "metadata": {},
     "output_type": "execute_result"
    }
   ],
   "source": [
    "stack.pop()\n",
    "stack.peek()"
   ]
  },
  {
   "cell_type": "code",
   "execution_count": 7,
   "metadata": {},
   "outputs": [
    {
     "data": {
      "text/plain": [
       "value:3"
      ]
     },
     "execution_count": 7,
     "metadata": {},
     "output_type": "execute_result"
    }
   ],
   "source": [
    "stack.pop()\n",
    "#stack.peek()"
   ]
  },
  {
   "cell_type": "code",
   "execution_count": 8,
   "metadata": {},
   "outputs": [
    {
     "data": {
      "text/plain": [
       "value:3"
      ]
     },
     "execution_count": 8,
     "metadata": {},
     "output_type": "execute_result"
    }
   ],
   "source": [
    "queue = Queue()\n",
    "queue.push(3)\n",
    "queue.push(4)\n",
    "queue.peek()"
   ]
  },
  {
   "cell_type": "code",
   "execution_count": 9,
   "metadata": {},
   "outputs": [
    {
     "data": {
      "text/plain": [
       "value:4"
      ]
     },
     "execution_count": 9,
     "metadata": {},
     "output_type": "execute_result"
    }
   ],
   "source": [
    "queue.pop()\n",
    "queue.peek()"
   ]
  },
  {
   "cell_type": "code",
   "execution_count": 10,
   "metadata": {},
   "outputs": [
    {
     "data": {
      "text/plain": [
       "\" describe how you would use a single array to implement 3 stacks\\n    i wouldnt\\n    \\n    lets say we have an array: stack_array \\n    \\n    we would need indexes for current position for the 3 stacks, and where the stacks begin in the array\\n    first stack begins at zero, has index for current pos curr_a\\n    second stack begins somewhere in the middle say index j, has index for current pos curr_b\\n    and last stack begins somewhere after index j, index k, has index for current pos curr_c\\n    \\n    we also know the ending index of the array - end\\n    \\n    lets name the stacks a b c with their respective indices as above\\n    \\n    if we wanted to push a value to a specific stack, we would do something like\\n    def push(stack_name, data):\\n        if stack_name == 'a':\\n            if curr_a >= j:\\n                raise fullstackexception\\n            else:\\n                stack_array[curr_pos] = data\\n                curr_a += 1\\n        elif stack_name == 'b':\\n            if curr_b >= k:\\n                raise fullstackexception\\n            else:\\n                stack_array[curr_pos] = data\\n                curr_b += 1\\n        elif: stack_name == 'c':\\n            if curr_c > end:\\n                raise fullstackexception\\n            else:\\n                stack_array[curr_pos] = data\\n                curr_c += 1\\n                \\n    if we wanted to pop:\\n    def pop(stack_name):\\n        if stack_name ='a':\\n            if curr_a == 0:\\n                raise emptystackexception\\n            else:\\n                temp = stack_array[curr_a]\\n                stack_array[curr_a]=None\\n        elif stack_name ='b':\\n            if curr_b <= j:\\n                raise emptystackexception\\n            else:\\n                temp = stack_array[curr_b]\\n                stack_array[curr_b]=None\\n        elif stack_name ='c':\\n            if curr_c <= k:\\n                raise emptystackexception\\n            else:\\n                temp = stack_array[curr_c]\\n                stack_array[curr_c]=None\\n        return temp\\n\""
      ]
     },
     "execution_count": 10,
     "metadata": {},
     "output_type": "execute_result"
    }
   ],
   "source": [
    "#prob 3.1\n",
    "''' describe how you would use a single array to implement 3 stacks\n",
    "    i wouldnt\n",
    "    \n",
    "    lets say we have an array: stack_array \n",
    "    \n",
    "    we would need indexes for current position for the 3 stacks, and where the stacks begin in the array\n",
    "    first stack begins at zero, has index for current pos curr_a\n",
    "    second stack begins somewhere in the middle say index j, has index for current pos curr_b\n",
    "    and last stack begins somewhere after index j, index k, has index for current pos curr_c\n",
    "    \n",
    "    we also know the ending index of the array - end\n",
    "    \n",
    "    lets name the stacks a b c with their respective indices as above\n",
    "    \n",
    "    if we wanted to push a value to a specific stack, we would do something like\n",
    "    def push(stack_name, data):\n",
    "        if stack_name == 'a':\n",
    "            if curr_a >= j:\n",
    "                raise fullstackexception\n",
    "            else:\n",
    "                stack_array[curr_pos] = data\n",
    "                curr_a += 1\n",
    "        elif stack_name == 'b':\n",
    "            if curr_b >= k:\n",
    "                raise fullstackexception\n",
    "            else:\n",
    "                stack_array[curr_pos] = data\n",
    "                curr_b += 1\n",
    "        elif: stack_name == 'c':\n",
    "            if curr_c > end:\n",
    "                raise fullstackexception\n",
    "            else:\n",
    "                stack_array[curr_pos] = data\n",
    "                curr_c += 1\n",
    "                \n",
    "    if we wanted to pop:\n",
    "    def pop(stack_name):\n",
    "        if stack_name ='a':\n",
    "            if curr_a == 0:\n",
    "                raise emptystackexception\n",
    "            else:\n",
    "                temp = stack_array[curr_a]\n",
    "                stack_array[curr_a]=None\n",
    "        elif stack_name ='b':\n",
    "            if curr_b <= j:\n",
    "                raise emptystackexception\n",
    "            else:\n",
    "                temp = stack_array[curr_b]\n",
    "                stack_array[curr_b]=None\n",
    "        elif stack_name ='c':\n",
    "            if curr_c <= k:\n",
    "                raise emptystackexception\n",
    "            else:\n",
    "                temp = stack_array[curr_c]\n",
    "                stack_array[curr_c]=None\n",
    "        return temp\n",
    "'''"
   ]
  },
  {
   "cell_type": "code",
   "execution_count": 11,
   "metadata": {
    "collapsed": true
   },
   "outputs": [],
   "source": [
    "#3.2\n",
    "class MinStack:\n",
    "    def __init__(self):\n",
    "        self.top = None\n",
    "        self.min_stack = Stack()\n",
    "    def push(self,data):\n",
    "        new_node = Node(data)\n",
    "        if not self.top:\n",
    "            self.top=new_node\n",
    "            self.min_stack.push(data)\n",
    "        else:\n",
    "            new_node.next = self.top\n",
    "            self.top=new_node\n",
    "            self.min_stack.push(min(data,self.min_stack.peek().value))\n",
    "    def peek(self):\n",
    "        if not self.top:\n",
    "            raise EmptyStackException(\"Empty Stack!\")\n",
    "        else:\n",
    "            return self.top\n",
    "    def pop(self):\n",
    "        if not self.top:\n",
    "            raise EmptyStackException('Empty Stack!')\n",
    "        else:\n",
    "            temp = self.top\n",
    "            self.top = self.top.next\n",
    "            self.min_stack.pop()\n",
    "            return temp\n",
    "    def get_min(self):\n",
    "        if not self.top:\n",
    "            raise EmptyStackException(\"Empty stack!\")\n",
    "        else:\n",
    "            return self.min_stack.peek()"
   ]
  },
  {
   "cell_type": "code",
   "execution_count": 12,
   "metadata": {
    "collapsed": true
   },
   "outputs": [],
   "source": [
    "min_stack = MinStack()"
   ]
  },
  {
   "cell_type": "code",
   "execution_count": 13,
   "metadata": {},
   "outputs": [
    {
     "name": "stdout",
     "output_type": "stream",
     "text": [
      "value:5\n",
      "value:5\n",
      "value:5\n",
      "value:4\n",
      "value:3\n",
      "value:4\n",
      "value:5\n",
      "value:5\n",
      "value:5\n"
     ]
    }
   ],
   "source": [
    "min_stack.push(5)\n",
    "print(min_stack.get_min())\n",
    "min_stack.push(7)\n",
    "print(min_stack.get_min())\n",
    "min_stack.push(6)\n",
    "print(min_stack.get_min())\n",
    "min_stack.push(4)\n",
    "print(min_stack.get_min())\n",
    "min_stack.push(3)\n",
    "print(min_stack.get_min())\n",
    "min_stack.pop()\n",
    "print(min_stack.get_min())\n",
    "min_stack.pop()\n",
    "print(min_stack.get_min())\n",
    "min_stack.pop()\n",
    "print(min_stack.get_min())\n",
    "min_stack.pop()\n",
    "print(min_stack.get_min())"
   ]
  },
  {
   "cell_type": "code",
   "execution_count": 14,
   "metadata": {
    "collapsed": true
   },
   "outputs": [],
   "source": [
    "# 3.3\n",
    "class FatStacks:\n",
    "    def __init__(self, limit):\n",
    "        self.num_elem = 0\n",
    "        self.num_stacks = 1\n",
    "        self.limit = limit\n",
    "        self.stack = [Stack()]\n",
    "    def push(self,data):\n",
    "        if self.num_elem == 0:\n",
    "            #last stack is empty\n",
    "            self.stack[-1].push(data)\n",
    "            self.num_elem += 1\n",
    "        else:\n",
    "            if self.num_elem >= self.limit:\n",
    "                #last stack is full, make new stack, append\n",
    "                new_stack = Stack()\n",
    "                new_stack.push(data)\n",
    "                self.stack.append(new_stack)\n",
    "                self.num_elem = 1\n",
    "                self.num_stacks +=1\n",
    "            else:\n",
    "                #push to last stack\n",
    "                self.stack[-1].push(data)\n",
    "                self.num_elem +=1\n",
    "    def pop(self):\n",
    "        try:\n",
    "            self.stack[-1].pop()\n",
    "        except EmptyStackException:\n",
    "            if self.num_stacks > 1:\n",
    "                self.stack.pop()\n",
    "                self.num_elem = self.limit\n",
    "                self.num_stacks -=1\n",
    "                self.pop()\n",
    "            else:\n",
    "                print('stack is empty')\n",
    "        else:\n",
    "            self.num_elem -=1\n",
    "    def peek(self):\n",
    "        try:\n",
    "            self.stack[-1].peek()\n",
    "        except EmptyStackException:\n",
    "            if self.num_stacks > 1:\n",
    "                self.stack.pop()\n",
    "                self.num_elem = self.limit\n",
    "                self.num_stacks -=1\n",
    "                self.peek()\n",
    "            else:\n",
    "                print('stack is empty')\n",
    "                \n",
    "    def pop_at(self, index):\n",
    "        if index > len(self.stack):\n",
    "            print('index out of range')\n",
    "            return\n",
    "        else:\n",
    "            #try popping stack at index\n",
    "            try:\n",
    "                self.stack[index].pop()\n",
    "            except EmptyStackException:\n",
    "                print('stack is empty')\n",
    "            else:\n",
    "                #after popping, we need to shuffle everything down\n",
    "                while index + 1 <= len(self.stack):\n",
    "                    temp = self.stack[index+1].pop().value\n",
    "                    self.stack[index].push(temp)\n",
    "                    index +=1\n",
    "                self.num_elem -=1\n"
   ]
  },
  {
   "cell_type": "code",
   "execution_count": 15,
   "metadata": {
    "collapsed": true
   },
   "outputs": [],
   "source": [
    "#3.4\n",
    "class QueueWithStacks:\n",
    "    def __init__(self):\n",
    "        self.s1 = Stack()\n",
    "        self.s2 = Stack()\n",
    "    def push(self,data):\n",
    "        try:\n",
    "            self.s1.peek()\n",
    "        except EmptyStackException:\n",
    "            self.s1.push(data)\n",
    "        else:\n",
    "            #pop everything to stack2, push data to s1, push everything from stack 2\n",
    "            while True:\n",
    "                try:\n",
    "                    temp = self.s1.pop()\n",
    "                    self.s2.push(temp.value)\n",
    "                except EmptyStackException:\n",
    "                    break\n",
    "            self.s1.push(data)\n",
    "            while True:\n",
    "                try:\n",
    "                    temp = self.s2.pop()\n",
    "                    self.s1.push(temp.value)\n",
    "                except EmptyStackException:\n",
    "                    break\n",
    "    def pop(self):\n",
    "        try:\n",
    "            ret = self.s1.pop()\n",
    "        except EmptyStackException:\n",
    "            print('stack is empty')\n",
    "        else:\n",
    "            return ret\n",
    "    def peek(self):\n",
    "        try:\n",
    "            self.s1.peek()\n",
    "        except EmptyStackException:\n",
    "            print('stack is empty')\n",
    "        else:\n",
    "            return self.s1.peek()"
   ]
  },
  {
   "cell_type": "code",
   "execution_count": 16,
   "metadata": {
    "collapsed": true
   },
   "outputs": [],
   "source": [
    "qws = QueueWithStacks()"
   ]
  },
  {
   "cell_type": "code",
   "execution_count": 17,
   "metadata": {
    "collapsed": true
   },
   "outputs": [],
   "source": [
    "qws.push(1)"
   ]
  },
  {
   "cell_type": "code",
   "execution_count": 18,
   "metadata": {},
   "outputs": [
    {
     "data": {
      "text/plain": [
       "value:1"
      ]
     },
     "execution_count": 18,
     "metadata": {},
     "output_type": "execute_result"
    }
   ],
   "source": [
    "qws.peek()"
   ]
  },
  {
   "cell_type": "code",
   "execution_count": 19,
   "metadata": {
    "collapsed": true
   },
   "outputs": [],
   "source": [
    "qws.push(2)"
   ]
  },
  {
   "cell_type": "code",
   "execution_count": 20,
   "metadata": {},
   "outputs": [
    {
     "data": {
      "text/plain": [
       "value:1"
      ]
     },
     "execution_count": 20,
     "metadata": {},
     "output_type": "execute_result"
    }
   ],
   "source": [
    "qws.peek()"
   ]
  },
  {
   "cell_type": "code",
   "execution_count": 21,
   "metadata": {},
   "outputs": [
    {
     "data": {
      "text/plain": [
       "value:1"
      ]
     },
     "execution_count": 21,
     "metadata": {},
     "output_type": "execute_result"
    }
   ],
   "source": [
    "qws.pop()"
   ]
  },
  {
   "cell_type": "code",
   "execution_count": 22,
   "metadata": {},
   "outputs": [
    {
     "data": {
      "text/plain": [
       "value:2"
      ]
     },
     "execution_count": 22,
     "metadata": {},
     "output_type": "execute_result"
    }
   ],
   "source": [
    "qws.peek()"
   ]
  },
  {
   "cell_type": "code",
   "execution_count": 23,
   "metadata": {},
   "outputs": [
    {
     "data": {
      "text/plain": [
       "value:2"
      ]
     },
     "execution_count": 23,
     "metadata": {},
     "output_type": "execute_result"
    }
   ],
   "source": [
    "qws.pop()"
   ]
  },
  {
   "cell_type": "code",
   "execution_count": 24,
   "metadata": {},
   "outputs": [
    {
     "name": "stdout",
     "output_type": "stream",
     "text": [
      "stack is empty\n"
     ]
    }
   ],
   "source": [
    "qws.pop()"
   ]
  },
  {
   "cell_type": "code",
   "execution_count": 33,
   "metadata": {
    "collapsed": true
   },
   "outputs": [],
   "source": [
    "#3.5 stack sort\n",
    "def sort_stack(s1):\n",
    "    #can only use another stack to help sort\n",
    "    if s1.is_empty():\n",
    "        print('stacks empty yo')\n",
    "        return\n",
    "    s2 = Stack()\n",
    "    s2.push(s1.pop().value)\n",
    "    while not s1.is_empty():\n",
    "        curr = s1.pop()\n",
    "        if s2.is_empty():\n",
    "            s2.push(curr.value)\n",
    "        else:\n",
    "            if curr < s2.peek():\n",
    "                while curr < s2.peek() and not s2.is_empty():\n",
    "                    s1.push(s2.pop().value)\n",
    "                s2.push(curr.value)\n",
    "            elif curr>=s2.peek():\n",
    "                s2.push(curr.value)\n",
    "    while not s2.is_empty():\n",
    "        s1.push(s2.pop().value)\n",
    "    "
   ]
  },
  {
   "cell_type": "code",
   "execution_count": 34,
   "metadata": {
    "collapsed": true
   },
   "outputs": [],
   "source": [
    "import random\n",
    "stack_1 = Stack()\n",
    "for i in range(10):\n",
    "    stack_1.push(random.randint(0,100))"
   ]
  },
  {
   "cell_type": "code",
   "execution_count": 35,
   "metadata": {},
   "outputs": [
    {
     "ename": "EmptyStackException",
     "evalue": "empty stack!",
     "output_type": "error",
     "traceback": [
      "\u001b[1;31m---------------------------------------------------------------------------\u001b[0m",
      "\u001b[1;31mEmptyStackException\u001b[0m                       Traceback (most recent call last)",
      "\u001b[1;32m<ipython-input-35-d30ded891932>\u001b[0m in \u001b[0;36m<module>\u001b[1;34m()\u001b[0m\n\u001b[1;32m----> 1\u001b[1;33m \u001b[0msort_stack\u001b[0m\u001b[1;33m(\u001b[0m\u001b[0mstack_1\u001b[0m\u001b[1;33m)\u001b[0m\u001b[1;33m\u001b[0m\u001b[0m\n\u001b[0m",
      "\u001b[1;32m<ipython-input-33-3dff75247638>\u001b[0m in \u001b[0;36msort_stack\u001b[1;34m(s1)\u001b[0m\n\u001b[0;32m     13\u001b[0m         \u001b[1;32melse\u001b[0m\u001b[1;33m:\u001b[0m\u001b[1;33m\u001b[0m\u001b[0m\n\u001b[0;32m     14\u001b[0m             \u001b[1;32mif\u001b[0m \u001b[0mcurr\u001b[0m \u001b[1;33m<\u001b[0m \u001b[0ms2\u001b[0m\u001b[1;33m.\u001b[0m\u001b[0mpeek\u001b[0m\u001b[1;33m(\u001b[0m\u001b[1;33m)\u001b[0m\u001b[1;33m:\u001b[0m\u001b[1;33m\u001b[0m\u001b[0m\n\u001b[1;32m---> 15\u001b[1;33m                 \u001b[1;32mwhile\u001b[0m \u001b[0mcurr\u001b[0m \u001b[1;33m<\u001b[0m \u001b[0ms2\u001b[0m\u001b[1;33m.\u001b[0m\u001b[0mpeek\u001b[0m\u001b[1;33m(\u001b[0m\u001b[1;33m)\u001b[0m \u001b[1;32mand\u001b[0m \u001b[1;32mnot\u001b[0m \u001b[0ms2\u001b[0m\u001b[1;33m.\u001b[0m\u001b[0mis_empty\u001b[0m\u001b[1;33m(\u001b[0m\u001b[1;33m)\u001b[0m\u001b[1;33m:\u001b[0m\u001b[1;33m\u001b[0m\u001b[0m\n\u001b[0m\u001b[0;32m     16\u001b[0m                     \u001b[0ms1\u001b[0m\u001b[1;33m.\u001b[0m\u001b[0mpush\u001b[0m\u001b[1;33m(\u001b[0m\u001b[0ms2\u001b[0m\u001b[1;33m.\u001b[0m\u001b[0mpop\u001b[0m\u001b[1;33m(\u001b[0m\u001b[1;33m)\u001b[0m\u001b[1;33m.\u001b[0m\u001b[0mvalue\u001b[0m\u001b[1;33m)\u001b[0m\u001b[1;33m\u001b[0m\u001b[0m\n\u001b[0;32m     17\u001b[0m                 \u001b[0ms2\u001b[0m\u001b[1;33m.\u001b[0m\u001b[0mpush\u001b[0m\u001b[1;33m(\u001b[0m\u001b[0mcurr\u001b[0m\u001b[1;33m.\u001b[0m\u001b[0mvalue\u001b[0m\u001b[1;33m)\u001b[0m\u001b[1;33m\u001b[0m\u001b[0m\n",
      "\u001b[1;32m<ipython-input-4-02d0da227ac3>\u001b[0m in \u001b[0;36mpeek\u001b[1;34m(self)\u001b[0m\n\u001b[0;32m     33\u001b[0m     \u001b[1;32mdef\u001b[0m \u001b[0mpeek\u001b[0m\u001b[1;33m(\u001b[0m\u001b[0mself\u001b[0m\u001b[1;33m)\u001b[0m\u001b[1;33m:\u001b[0m\u001b[1;33m\u001b[0m\u001b[0m\n\u001b[0;32m     34\u001b[0m         \u001b[1;32mif\u001b[0m \u001b[1;32mnot\u001b[0m \u001b[0mself\u001b[0m\u001b[1;33m.\u001b[0m\u001b[0mtop\u001b[0m\u001b[1;33m:\u001b[0m\u001b[1;33m\u001b[0m\u001b[0m\n\u001b[1;32m---> 35\u001b[1;33m             \u001b[1;32mraise\u001b[0m \u001b[0mEmptyStackException\u001b[0m\u001b[1;33m(\u001b[0m\u001b[1;34m\"empty stack!\"\u001b[0m\u001b[1;33m)\u001b[0m\u001b[1;33m\u001b[0m\u001b[0m\n\u001b[0m\u001b[0;32m     36\u001b[0m         \u001b[1;32melse\u001b[0m\u001b[1;33m:\u001b[0m\u001b[1;33m\u001b[0m\u001b[0m\n\u001b[0;32m     37\u001b[0m             \u001b[1;32mreturn\u001b[0m \u001b[0mself\u001b[0m\u001b[1;33m.\u001b[0m\u001b[0mtop\u001b[0m\u001b[1;33m\u001b[0m\u001b[0m\n",
      "\u001b[1;31mEmptyStackException\u001b[0m: empty stack!"
     ]
    }
   ],
   "source": [
    "sort_stack(stack_1)"
   ]
  },
  {
   "cell_type": "code",
   "execution_count": 36,
   "metadata": {},
   "outputs": [
    {
     "name": "stdout",
     "output_type": "stream",
     "text": [
      "value:38\n",
      "value:42\n",
      "value:61\n",
      "value:55\n",
      "value:39\n",
      "value:63\n",
      "value:12\n",
      "value:67\n",
      "value:19\n"
     ]
    }
   ],
   "source": [
    "while not stack_1.is_empty():\n",
    "    print(stack_1.pop())"
   ]
  },
  {
   "cell_type": "code",
   "execution_count": 37,
   "metadata": {
    "collapsed": true
   },
   "outputs": [],
   "source": [
    "#3.6\n",
    "from abc import ABCMeta, abstractmethod\n",
    "class Animal(metaclass = ABCMeta):\n",
    "    @abstractmethod\n",
    "    def noise(self):\n",
    "        pass\n",
    "class Dog(Animal):\n",
    "    def __init__(self):\n",
    "        self.arrival = None\n",
    "        \n",
    "    def __repr__(self):\n",
    "        return 'bork'\n",
    "    \n",
    "    def noise(self):\n",
    "        return 'bark'\n",
    "\n",
    "class Cat(Animal):\n",
    "    def __init__(self):\n",
    "        self.arrival = None\n",
    "    \n",
    "    def __repr__(self):\n",
    "        return 'meow'\n",
    "    \n",
    "    def noise(self):\n",
    "        return 'meow'\n",
    "    \n",
    "    \n",
    "class Shelter:\n",
    "    arrival_time = 1\n",
    "    \n",
    "    def __init__(self):\n",
    "        self.dogs = Queue()\n",
    "        self.cats = Queue()\n",
    "    def enqueue(self, animal):\n",
    "        if isinstance(animal, Animal):\n",
    "            animal.arrival = self.arrival_time\n",
    "            if isinstance(animal,Cat):\n",
    "                self.cats.push(animal)\n",
    "            elif isinstance(animal,Dog):\n",
    "                self.dogs.push(animal)\n",
    "            self.arrival_time+=1\n",
    "        else:\n",
    "            print('not an animal!')\n",
    "    def dequeue_any(self):\n",
    "        if self.dogs.is_empty() and self.cats.is_empty():\n",
    "            print('no pets yo')\n",
    "        elif not self.dogs.is_empty() and self.cats.is_empty():\n",
    "            return self.dogs.pop()\n",
    "        elif self.dogs.is_empty() and not self.cats.is_empty():\n",
    "            return self.cats.pop()\n",
    "        else:\n",
    "            if self.dogs.peek().value.arrival<=self.cats.peek().value.arrival:\n",
    "                return self.dogs.pop()\n",
    "            else:\n",
    "                return self.cats.pop()\n",
    "    def dequeue_cat(self):\n",
    "        if self.cats.is_empty():\n",
    "            print('no cats yo')\n",
    "            return\n",
    "        else:\n",
    "            return self.cats.pop()\n",
    "    def dequeue_dogs(self):\n",
    "        if self.dogs.is_empty():\n",
    "            print('no dags')\n",
    "            return\n",
    "        else:\n",
    "            return self.dogs.pop()"
   ]
  },
  {
   "cell_type": "code",
   "execution_count": 38,
   "metadata": {
    "collapsed": true
   },
   "outputs": [],
   "source": [
    "cat = Cat()"
   ]
  },
  {
   "cell_type": "code",
   "execution_count": 39,
   "metadata": {},
   "outputs": [
    {
     "data": {
      "text/plain": [
       "True"
      ]
     },
     "execution_count": 39,
     "metadata": {},
     "output_type": "execute_result"
    }
   ],
   "source": [
    "isinstance(cat,Animal)"
   ]
  },
  {
   "cell_type": "code",
   "execution_count": 40,
   "metadata": {
    "collapsed": true
   },
   "outputs": [],
   "source": [
    "shelter = Shelter()"
   ]
  },
  {
   "cell_type": "code",
   "execution_count": 41,
   "metadata": {
    "collapsed": true
   },
   "outputs": [],
   "source": [
    "for i in range(20):\n",
    "    x =random.randint(0,1)\n",
    "    if x == 1:\n",
    "        shelter.enqueue(Cat())\n",
    "    else:\n",
    "        shelter.enqueue(Dog())"
   ]
  },
  {
   "cell_type": "code",
   "execution_count": 42,
   "metadata": {},
   "outputs": [
    {
     "data": {
      "text/plain": [
       "value:bork"
      ]
     },
     "execution_count": 42,
     "metadata": {},
     "output_type": "execute_result"
    }
   ],
   "source": [
    "shelter.dogs.peek()"
   ]
  },
  {
   "cell_type": "code",
   "execution_count": 43,
   "metadata": {},
   "outputs": [
    {
     "data": {
      "text/plain": [
       "value:meow"
      ]
     },
     "execution_count": 43,
     "metadata": {},
     "output_type": "execute_result"
    }
   ],
   "source": [
    "shelter.cats.peek()"
   ]
  },
  {
   "cell_type": "code",
   "execution_count": 44,
   "metadata": {},
   "outputs": [
    {
     "name": "stdout",
     "output_type": "stream",
     "text": [
      "value:bork\n"
     ]
    }
   ],
   "source": [
    "print(shelter.dequeue_any())"
   ]
  },
  {
   "cell_type": "code",
   "execution_count": 45,
   "metadata": {},
   "outputs": [
    {
     "name": "stdout",
     "output_type": "stream",
     "text": [
      "value:meow\n"
     ]
    }
   ],
   "source": [
    "print(shelter.dequeue_cat())"
   ]
  },
  {
   "cell_type": "code",
   "execution_count": 46,
   "metadata": {},
   "outputs": [
    {
     "name": "stdout",
     "output_type": "stream",
     "text": [
      "value:bork\n"
     ]
    }
   ],
   "source": [
    "print(shelter.dequeue_dogs())"
   ]
  },
  {
   "cell_type": "code",
   "execution_count": 47,
   "metadata": {
    "collapsed": true
   },
   "outputs": [],
   "source": [
    "####begin ch4\n",
    "class TreeNode:\n",
    "    def __init__(self, value):\n",
    "        self.value = value\n",
    "        self.left = None\n",
    "        self.right = None\n",
    "    def __eq__(self, other):\n",
    "        return self.value == other.value\n",
    "    \n",
    "    def __gt__(self, other):\n",
    "        return self.value > other.value\n",
    "    \n",
    "    def __lt__(self,other):\n",
    "        return self.value < other.value\n",
    "    \n",
    "    def __le__(self,other):\n",
    "        return self.value <= other.value\n",
    "    \n",
    "    def __ge__(self,other):\n",
    "        return self.value >= other.value\n",
    "    \n",
    "    def __ne__(self,other):\n",
    "        return self.value != other.value\n",
    "    \n",
    "    def __repr__(self):\n",
    "        return \"value:{}\".format(self.value)\n",
    "        \n",
    "    def add(self, value):\n",
    "        if value >= self.value and self.right is None:\n",
    "            self.right = TreeNode(value)\n",
    "            return\n",
    "        elif value < self.value and self.left is None:\n",
    "            self.left = TreeNode(value)\n",
    "            return\n",
    "        else:\n",
    "            curr = self\n",
    "            prev = self\n",
    "            while curr:\n",
    "                prev = curr\n",
    "                if value >= curr.value:\n",
    "                    curr = curr.right\n",
    "                else:\n",
    "                    curr = curr.left\n",
    "            if value >= prev.value:\n",
    "                prev.right = TreeNode(value)\n",
    "            else:\n",
    "                prev.left = TreeNode(value)\n",
    "    def levelorder_traversal(self):\n",
    "        queue = Queue()\n",
    "        queue.push(self)\n",
    "        print(self)\n",
    "        while not queue.is_empty():\n",
    "            curr = queue.pop().value\n",
    "            if curr.left:\n",
    "                queue.push(curr.left)\n",
    "                print(curr.left)\n",
    "            if curr.right:\n",
    "                queue.push(curr.right)\n",
    "                print(curr.right)\n",
    "    def inorder_traversal(self):\n",
    "        stack = Stack()\n",
    "        curr = self\n",
    "        while True:\n",
    "            if curr:\n",
    "                stack.push(curr)\n",
    "                curr = curr.left\n",
    "            else:\n",
    "                if not stack.is_empty():\n",
    "                    curr = stack.pop().value\n",
    "                    print(curr)\n",
    "                    curr = curr.right\n",
    "                else:\n",
    "                    break\n",
    "    def postorder_traversal(self):\n",
    "        stack = Stack()\n",
    "        stack.push(self)\n",
    "        while not stack.is_empty():\n",
    "            temp = stack.peek().value\n",
    "            if not temp.right and not temp.left:\n",
    "                temp = stack.pop().value\n",
    "                print(temp)\n",
    "            else:\n",
    "                if temp.right:\n",
    "                    stack.push(temp.right)\n",
    "                    temp.right = None\n",
    "                if temp.left:\n",
    "                    stack.push(temp.left)\n",
    "                    temp.left=None\n",
    "    def preorder_traversal(self):\n",
    "        stack = Stack()\n",
    "        stack.push(self)\n",
    "        while not stack.is_empty():\n",
    "            curr = stack.pop().value\n",
    "            if curr:\n",
    "                print(curr)\n",
    "                stack.push(curr.right)\n",
    "                stack.push(curr.left)\n",
    "            "
   ]
  },
  {
   "cell_type": "code",
   "execution_count": 48,
   "metadata": {
    "collapsed": true
   },
   "outputs": [],
   "source": [
    "import random\n",
    "#root is bin tree\n",
    "root = TreeNode(12)\n",
    "root.add(10)\n",
    "root.add(13)\n",
    "root.add(9)\n",
    "root.add(11)"
   ]
  },
  {
   "cell_type": "code",
   "execution_count": 49,
   "metadata": {},
   "outputs": [
    {
     "name": "stdout",
     "output_type": "stream",
     "text": [
      "value:10\n"
     ]
    }
   ],
   "source": [
    "print(root.left)"
   ]
  },
  {
   "cell_type": "code",
   "execution_count": 50,
   "metadata": {},
   "outputs": [
    {
     "name": "stdout",
     "output_type": "stream",
     "text": [
      "value:9\n",
      "value:10\n",
      "value:11\n",
      "value:12\n",
      "value:13\n"
     ]
    }
   ],
   "source": [
    "root.inorder_traversal()"
   ]
  },
  {
   "cell_type": "code",
   "execution_count": 51,
   "metadata": {},
   "outputs": [
    {
     "name": "stdout",
     "output_type": "stream",
     "text": [
      "value:12\n",
      "value:10\n",
      "value:13\n",
      "value:9\n",
      "value:11\n"
     ]
    }
   ],
   "source": [
    "root.levelorder_traversal()"
   ]
  },
  {
   "cell_type": "code",
   "execution_count": 52,
   "metadata": {},
   "outputs": [
    {
     "name": "stdout",
     "output_type": "stream",
     "text": [
      "value:9\n",
      "value:11\n",
      "value:10\n",
      "value:13\n",
      "value:12\n"
     ]
    }
   ],
   "source": [
    "root.postorder_traversal()"
   ]
  },
  {
   "cell_type": "code",
   "execution_count": 53,
   "metadata": {},
   "outputs": [
    {
     "name": "stdout",
     "output_type": "stream",
     "text": [
      "value:12\n"
     ]
    }
   ],
   "source": [
    "root.preorder_traversal()"
   ]
  },
  {
   "cell_type": "code",
   "execution_count": 54,
   "metadata": {
    "collapsed": true
   },
   "outputs": [],
   "source": [
    "class MinHeap:\n",
    "    def __init__(self):\n",
    "        self.root = []\n",
    "    def __repr__(self):\n",
    "        return \", \".join([str(x) for x in self.root])\n",
    "    def insert(self, value):\n",
    "        self.root.append(value)\n",
    "        self.sift_up()\n",
    "    def remove_min(self):\n",
    "        if len(self.root) < 1:\n",
    "            print('empty!')\n",
    "            return\n",
    "        ret = self.root[0]\n",
    "        self.root[0], self.root[-1] = self.root[-1], self.root[0]\n",
    "        del(self.root[-1])\n",
    "        self.sift_down()\n",
    "        print(self.root)\n",
    "        return ret\n",
    "    def sift_up(self):\n",
    "        curr_idx = len(self.root) - 1\n",
    "        parent_idx = (curr_idx - 1) // 2\n",
    "        while parent_idx >=0:\n",
    "            #print(curr_idx, parent_idx, self.root)\n",
    "            if self.root[curr_idx] < self.root[parent_idx]:\n",
    "                #print(\"swapped\")\n",
    "                self.root[curr_idx], self.root[parent_idx] = self.root[parent_idx], self.root[curr_idx]\n",
    "                curr_idx = parent_idx\n",
    "                parent_idx = (parent_idx - 1)//2\n",
    "            else:\n",
    "                #print('done')\n",
    "                break\n",
    "    def sift_down(self):\n",
    "        curr = 0\n",
    "        left = 1\n",
    "        right = 2\n",
    "        while right < len(self.root):\n",
    "            if self.root[left] <= self.root[right]:\n",
    "                self.root[curr], self.root[left] = self.root[left], self.root[curr]\n",
    "                curr = left\n",
    "            else:\n",
    "                self.root[curr], self.root[right] = self.root[right], self.root[curr]\n",
    "                curr = right\n",
    "            left = curr*2 + 1\n",
    "            right = curr*2 + 2\n",
    "        if left< len(self.root) and self.root[left] < self.root[curr]:\n",
    "            self.root[curr], self.root[left] = self.root[left], self.root[curr]"
   ]
  },
  {
   "cell_type": "code",
   "execution_count": 55,
   "metadata": {
    "collapsed": true
   },
   "outputs": [],
   "source": [
    "heap = MinHeap()"
   ]
  },
  {
   "cell_type": "code",
   "execution_count": 56,
   "metadata": {
    "collapsed": true
   },
   "outputs": [],
   "source": [
    "heap.insert(10)\n",
    "heap.insert(11)\n",
    "heap.insert(54)\n",
    "heap.insert(1)\n",
    "heap.insert(-5)\n",
    "heap.insert(2)\n",
    "heap.insert(6)\n",
    "heap.insert(16)\n",
    "heap.insert(0)"
   ]
  },
  {
   "cell_type": "code",
   "execution_count": 57,
   "metadata": {},
   "outputs": [
    {
     "name": "stdout",
     "output_type": "stream",
     "text": [
      "-5, 0, 2, 1, 10, 54, 6, 16, 11\n"
     ]
    }
   ],
   "source": [
    "print(heap)"
   ]
  },
  {
   "cell_type": "code",
   "execution_count": 58,
   "metadata": {
    "collapsed": true
   },
   "outputs": [],
   "source": [
    "heap.insert(-6)"
   ]
  },
  {
   "cell_type": "code",
   "execution_count": 59,
   "metadata": {},
   "outputs": [
    {
     "name": "stdout",
     "output_type": "stream",
     "text": [
      "-6, -5, 2, 1, 0, 54, 6, 16, 11, 10\n"
     ]
    }
   ],
   "source": [
    "print(heap)"
   ]
  },
  {
   "cell_type": "code",
   "execution_count": 60,
   "metadata": {
    "collapsed": true
   },
   "outputs": [],
   "source": [
    "heap.insert(-4)"
   ]
  },
  {
   "cell_type": "code",
   "execution_count": 61,
   "metadata": {},
   "outputs": [
    {
     "name": "stdout",
     "output_type": "stream",
     "text": [
      "-6, -5, 2, 1, -4, 54, 6, 16, 11, 10, 0\n"
     ]
    }
   ],
   "source": [
    "print(heap)"
   ]
  },
  {
   "cell_type": "code",
   "execution_count": 62,
   "metadata": {},
   "outputs": [
    {
     "name": "stdout",
     "output_type": "stream",
     "text": [
      "[-5, -4, 2, 1, 0, 54, 6, 16, 11, 10]\n"
     ]
    },
    {
     "data": {
      "text/plain": [
       "-6"
      ]
     },
     "execution_count": 62,
     "metadata": {},
     "output_type": "execute_result"
    }
   ],
   "source": [
    "heap.remove_min()"
   ]
  },
  {
   "cell_type": "code",
   "execution_count": 63,
   "metadata": {},
   "outputs": [
    {
     "name": "stdout",
     "output_type": "stream",
     "text": [
      "[-4, 0, 2, 1, 10, 54, 6, 16, 11]\n"
     ]
    },
    {
     "data": {
      "text/plain": [
       "-5"
      ]
     },
     "execution_count": 63,
     "metadata": {},
     "output_type": "execute_result"
    }
   ],
   "source": [
    "heap.remove_min()"
   ]
  },
  {
   "cell_type": "code",
   "execution_count": 64,
   "metadata": {},
   "outputs": [
    {
     "name": "stdout",
     "output_type": "stream",
     "text": [
      "[0, 1, 2, 11, 10, 54, 6, 16]\n"
     ]
    },
    {
     "data": {
      "text/plain": [
       "-4"
      ]
     },
     "execution_count": 64,
     "metadata": {},
     "output_type": "execute_result"
    }
   ],
   "source": [
    "heap.remove_min()"
   ]
  },
  {
   "cell_type": "code",
   "execution_count": 65,
   "metadata": {},
   "outputs": [
    {
     "name": "stdout",
     "output_type": "stream",
     "text": [
      "[1, 10, 2, 11, 16, 54, 6]\n"
     ]
    },
    {
     "data": {
      "text/plain": [
       "0"
      ]
     },
     "execution_count": 65,
     "metadata": {},
     "output_type": "execute_result"
    }
   ],
   "source": [
    "heap.remove_min()"
   ]
  },
  {
   "cell_type": "code",
   "execution_count": 66,
   "metadata": {},
   "outputs": [
    {
     "name": "stdout",
     "output_type": "stream",
     "text": [
      "[2, 10, 6, 11, 16, 54]\n"
     ]
    },
    {
     "data": {
      "text/plain": [
       "1"
      ]
     },
     "execution_count": 66,
     "metadata": {},
     "output_type": "execute_result"
    }
   ],
   "source": [
    "heap.remove_min()"
   ]
  },
  {
   "cell_type": "code",
   "execution_count": 67,
   "metadata": {},
   "outputs": [
    {
     "name": "stdout",
     "output_type": "stream",
     "text": [
      "[6, 10, 54, 11, 16]\n"
     ]
    },
    {
     "data": {
      "text/plain": [
       "2"
      ]
     },
     "execution_count": 67,
     "metadata": {},
     "output_type": "execute_result"
    }
   ],
   "source": [
    "heap.remove_min()"
   ]
  },
  {
   "cell_type": "code",
   "execution_count": 68,
   "metadata": {
    "collapsed": true
   },
   "outputs": [],
   "source": [
    "class Graph:\n",
    "    def __init__(self):\n",
    "        self.nodes = []\n",
    "        self.adj = {}\n",
    "    def __repr__(self):\n",
    "        ret=\"\"\n",
    "        for node in self.nodes:\n",
    "            ret += str(node) + \": \" + \", \".join([str(x) for x in self.adj[node]]) + \"\\n\"\n",
    "        return ret\n",
    "    def parse_input(self, line):\n",
    "        node, adj_list = line\n",
    "        self.nodes.append(node)\n",
    "        self.adj[node] = adj_list\n",
    "    def bfs(self):\n",
    "        visited = set()\n",
    "        q = Queue()\n",
    "        q.push(self.nodes[0])\n",
    "        while not q.is_empty():\n",
    "            curr = q.pop().value\n",
    "            if curr not in visited:\n",
    "                print(curr)\n",
    "                visited.add(curr)\n",
    "                for nodes in self.adj[curr]:\n",
    "                    if nodes not in visited:\n",
    "                        q.push(nodes)\n",
    "    def dfs(self):\n",
    "        visited = set()\n",
    "        stack = Stack()\n",
    "        #assume the first node in list is source\n",
    "        stack.push(self.nodes[0])\n",
    "        while not stack.is_empty():\n",
    "            curr = stack.pop().value\n",
    "            if curr not in visited:\n",
    "                visited.add(curr)\n",
    "                print(curr)\n",
    "                for nodes in self.adj[curr]:\n",
    "                    if nodes not in visited:\n",
    "                        stack.push(nodes)\n",
    "    def dfs_rec(self, visited, src_node):\n",
    "        if src_node not in visited:\n",
    "            print(src_node)\n",
    "            visited.add(src_node)\n",
    "        for neighbors in self.adj[src_node]:\n",
    "            print(\"calling \",neighbors)\n",
    "            if neighbors not in visited:\n",
    "                self.dfs_rec(visited, neighbors)\n"
   ]
  },
  {
   "cell_type": "code",
   "execution_count": 69,
   "metadata": {
    "collapsed": true
   },
   "outputs": [],
   "source": [
    "graph = Graph()\n",
    "graph_input = [(0,[1,2,3]),(1,[0,2,3]),(2,[1]),(3,[4,0]),(4,[3,5,6]),(5,[4,6]),(6,[3])]\n",
    "for x in graph_input:\n",
    "    graph.parse_input(x)"
   ]
  },
  {
   "cell_type": "code",
   "execution_count": 70,
   "metadata": {},
   "outputs": [
    {
     "name": "stdout",
     "output_type": "stream",
     "text": [
      "0: 1, 2, 3\n",
      "1: 0, 2, 3\n",
      "2: 1\n",
      "3: 4, 0\n",
      "4: 3, 5, 6\n",
      "5: 4, 6\n",
      "6: 3\n",
      "\n"
     ]
    }
   ],
   "source": [
    "print(graph)"
   ]
  },
  {
   "cell_type": "code",
   "execution_count": 71,
   "metadata": {},
   "outputs": [
    {
     "name": "stdout",
     "output_type": "stream",
     "text": [
      "0\n",
      "3\n",
      "4\n",
      "6\n",
      "5\n",
      "2\n",
      "1\n"
     ]
    }
   ],
   "source": [
    "graph.dfs()"
   ]
  },
  {
   "cell_type": "code",
   "execution_count": 72,
   "metadata": {},
   "outputs": [
    {
     "name": "stdout",
     "output_type": "stream",
     "text": [
      "0\n",
      "1\n",
      "2\n",
      "3\n",
      "4\n",
      "5\n",
      "6\n"
     ]
    }
   ],
   "source": [
    "graph.bfs()"
   ]
  },
  {
   "cell_type": "code",
   "execution_count": 73,
   "metadata": {},
   "outputs": [
    {
     "name": "stdout",
     "output_type": "stream",
     "text": [
      "0\n",
      "calling  1\n",
      "1\n",
      "calling  0\n",
      "calling  2\n",
      "2\n",
      "calling  1\n",
      "calling  3\n",
      "3\n",
      "calling  4\n",
      "4\n",
      "calling  3\n",
      "calling  5\n",
      "5\n",
      "calling  4\n",
      "calling  6\n",
      "6\n",
      "calling  3\n",
      "calling  6\n",
      "calling  0\n",
      "calling  2\n",
      "calling  3\n"
     ]
    }
   ],
   "source": [
    "graph.dfs_rec(set(),graph.nodes[0])"
   ]
  },
  {
   "cell_type": "code",
   "execution_count": 74,
   "metadata": {
    "collapsed": true
   },
   "outputs": [],
   "source": [
    "#4.1\n",
    "#finding if there is a path from start to end - standard bfs\n",
    "def find_path(graph,start,end):\n",
    "    visited=set()\n",
    "    q = Queue()\n",
    "    q.push(start)\n",
    "    while not q.is_empty():\n",
    "        curr = q.pop().value\n",
    "        if curr not in visited:\n",
    "            visited.add(curr)\n",
    "        if end in curr:\n",
    "            return True\n",
    "        for neighbor in graph.adj[curr]:\n",
    "            if neighbor not in visited:\n",
    "                q.push(neighbor)\n",
    "    return False"
   ]
  },
  {
   "cell_type": "code",
   "execution_count": 75,
   "metadata": {
    "collapsed": true
   },
   "outputs": [],
   "source": [
    "#4.2\n",
    "#min tree - given sorted array increasing order\n",
    "#find midpoint and work outwards\n",
    "\"\"\"def min_tree(arr):\n",
    "    mid = (len(arr) -1)//2\n",
    "    root = TreeNode(arr[mid])\n",
    "    for i in reversed(range(0,mid)):\n",
    "        root.add(arr[i])\n",
    "    for i in range(mid+1, len(arr)):\n",
    "        root.add(arr[i])\n",
    "    return root\n",
    "\"\"\"\n",
    "def min_tree_rec(arr, start,end):\n",
    "    if start>end:\n",
    "        return\n",
    "    else:\n",
    "        mid = (start+end)//2\n",
    "        root = TreeNode(arr[mid])\n",
    "        root.left = min_tree_rec(arr,start,mid-1)\n",
    "        root.right = min_tree_rec(arr, mid+1, end)\n",
    "        return root"
   ]
  },
  {
   "cell_type": "code",
   "execution_count": 191,
   "metadata": {
    "collapsed": true
   },
   "outputs": [],
   "source": [
    "arr = [i for i in range(0,20)]"
   ]
  },
  {
   "cell_type": "code",
   "execution_count": 192,
   "metadata": {
    "collapsed": true
   },
   "outputs": [],
   "source": [
    "min_span = min_tree(arr)"
   ]
  },
  {
   "cell_type": "code",
   "execution_count": 193,
   "metadata": {
    "collapsed": true
   },
   "outputs": [],
   "source": [
    "min_span_rec = min_tree_rec(arr, 0, len(arr)-1)"
   ]
  },
  {
   "cell_type": "code",
   "execution_count": 194,
   "metadata": {},
   "outputs": [
    {
     "name": "stdout",
     "output_type": "stream",
     "text": [
      "value:0\n",
      "value:1\n",
      "value:2\n",
      "value:3\n",
      "value:4\n",
      "value:5\n",
      "value:6\n",
      "value:7\n",
      "value:8\n",
      "value:9\n",
      "value:10\n",
      "value:11\n",
      "value:12\n",
      "value:13\n",
      "value:14\n",
      "value:15\n",
      "value:16\n",
      "value:17\n",
      "value:18\n",
      "value:19\n"
     ]
    }
   ],
   "source": [
    "min_span.inorder_traversal()"
   ]
  },
  {
   "cell_type": "code",
   "execution_count": 195,
   "metadata": {},
   "outputs": [
    {
     "name": "stdout",
     "output_type": "stream",
     "text": [
      "value:0\n",
      "value:1\n",
      "value:2\n",
      "value:3\n",
      "value:4\n",
      "value:5\n",
      "value:6\n",
      "value:7\n",
      "value:8\n",
      "value:9\n",
      "value:10\n",
      "value:11\n",
      "value:12\n",
      "value:13\n",
      "value:14\n",
      "value:15\n",
      "value:16\n",
      "value:17\n",
      "value:18\n",
      "value:19\n"
     ]
    }
   ],
   "source": [
    "min_span_rec.inorder_traversal()"
   ]
  },
  {
   "cell_type": "code",
   "execution_count": 199,
   "metadata": {
    "collapsed": true
   },
   "outputs": [],
   "source": [
    "#4.3\n",
    "#level order traversal \n",
    "def list_of_depths(bin_tree):\n",
    "    ret = [[bin_tree]]\n",
    "    temp = [bin_tree]\n",
    "    while len(temp)>0:\n",
    "        new_list=[]\n",
    "        for nodes in temp:\n",
    "            print(nodes, nodes.left, nodes.right)\n",
    "            if nodes.left:\n",
    "                new_list.append(nodes.left)\n",
    "            if nodes.right:\n",
    "                new_list.append(nodes.right)\n",
    "        ret.append(new_list)\n",
    "        temp = new_list\n",
    "    \n",
    "    return ret"
   ]
  },
  {
   "cell_type": "code",
   "execution_count": 200,
   "metadata": {},
   "outputs": [
    {
     "name": "stdout",
     "output_type": "stream",
     "text": [
      "value:9 value:4 value:14\n",
      "value:4 value:1 value:6\n",
      "value:14 value:11 value:17\n",
      "value:1 value:0 value:2\n",
      "value:6 value:5 value:7\n",
      "value:11 value:10 value:12\n",
      "value:17 value:15 value:18\n",
      "value:0 None None\n",
      "value:2 None value:3\n",
      "value:5 None None\n",
      "value:7 None value:8\n",
      "value:10 None None\n",
      "value:12 None value:13\n",
      "value:15 None value:16\n",
      "value:18 None value:19\n",
      "value:3 None None\n",
      "value:8 None None\n",
      "value:13 None None\n",
      "value:16 None None\n",
      "value:19 None None\n"
     ]
    },
    {
     "data": {
      "text/plain": [
       "[[value:9],\n",
       " [value:4, value:14],\n",
       " [value:1, value:6, value:11, value:17],\n",
       " [value:0, value:2, value:5, value:7, value:10, value:12, value:15, value:18],\n",
       " [value:3, value:8, value:13, value:16, value:19],\n",
       " []]"
      ]
     },
     "execution_count": 200,
     "metadata": {},
     "output_type": "execute_result"
    }
   ],
   "source": [
    "list_of_depths(min_span_rec)"
   ]
  },
  {
   "cell_type": "code",
   "execution_count": 208,
   "metadata": {},
   "outputs": [
    {
     "name": "stdout",
     "output_type": "stream",
     "text": [
      "value:9 value:8 value:10\n",
      "value:8 value:7 None\n",
      "value:10 None value:11\n",
      "value:7 value:6 None\n",
      "value:11 None value:12\n",
      "value:6 value:5 None\n",
      "value:12 None value:13\n",
      "value:5 value:4 None\n",
      "value:13 None value:14\n",
      "value:4 value:3 None\n",
      "value:14 None value:15\n",
      "value:3 value:2 None\n",
      "value:15 None value:16\n",
      "value:2 value:1 None\n",
      "value:16 None value:17\n",
      "value:1 value:0 None\n",
      "value:17 None value:18\n",
      "value:0 None None\n",
      "value:18 None value:19\n",
      "value:19 None None\n"
     ]
    },
    {
     "data": {
      "text/plain": [
       "[[value:9],\n",
       " [value:8, value:10],\n",
       " [value:7, value:11],\n",
       " [value:6, value:12],\n",
       " [value:5, value:13],\n",
       " [value:4, value:14],\n",
       " [value:3, value:15],\n",
       " [value:2, value:16],\n",
       " [value:1, value:17],\n",
       " [value:0, value:18],\n",
       " [value:19],\n",
       " []]"
      ]
     },
     "execution_count": 208,
     "metadata": {},
     "output_type": "execute_result"
    }
   ],
   "source": [
    "list_of_depths(min_span)"
   ]
  },
  {
   "cell_type": "code",
   "execution_count": null,
   "metadata": {
    "collapsed": true
   },
   "outputs": [],
   "source": []
  },
  {
   "cell_type": "code",
   "execution_count": 209,
   "metadata": {
    "collapsed": true
   },
   "outputs": [],
   "source": [
    "import math"
   ]
  },
  {
   "cell_type": "code",
   "execution_count": 210,
   "metadata": {
    "collapsed": true
   },
   "outputs": [],
   "source": [
    "#4.4\n",
    "def check_balance(tree):\n",
    "    return not math.isnan(get_tree_height(tree)) \n",
    "def get_tree_height(root):\n",
    "    if root is None:\n",
    "        return 0\n",
    "    left_height = get_tree_height(root.left)\n",
    "    right_height = get_tree_height(root.right)\n",
    "    diff = abs(left_height - right_height)\n",
    "    if diff > 1:\n",
    "        return math.nan\n",
    "    else:\n",
    "        return max(get_tree_height(root.left)+1,get_tree_height(root.right)+1)"
   ]
  },
  {
   "cell_type": "code",
   "execution_count": 213,
   "metadata": {},
   "outputs": [
    {
     "data": {
      "text/plain": [
       "nan"
      ]
     },
     "execution_count": 213,
     "metadata": {},
     "output_type": "execute_result"
    }
   ],
   "source": [
    "get_tree_height(min_span)"
   ]
  },
  {
   "cell_type": "code",
   "execution_count": 215,
   "metadata": {},
   "outputs": [
    {
     "data": {
      "text/plain": [
       "False"
      ]
     },
     "execution_count": 215,
     "metadata": {},
     "output_type": "execute_result"
    }
   ],
   "source": [
    "check_balance(min_span)"
   ]
  },
  {
   "cell_type": "code",
   "execution_count": 249,
   "metadata": {
    "collapsed": true
   },
   "outputs": [],
   "source": [
    "#4.5\n",
    "def is_bst(tree):\n",
    "    s = []\n",
    "    curr = tree\n",
    "    while True:\n",
    "        if curr:\n",
    "            s.append(curr)\n",
    "            curr = curr.left\n",
    "        else:\n",
    "            if len(s)>0:\n",
    "                curr = s.pop()\n",
    "                if len(s)>0 and curr > s[0]:\n",
    "                    return False\n",
    "                else:\n",
    "                    curr=curr.right\n",
    "            else:\n",
    "                break\n",
    "    return True\n",
    "\n",
    "def is_bst_rec(tree, min_val=None, max_val=None):\n",
    "    if tree is None:\n",
    "        return True\n",
    "    if (min_val and tree.value <= min_val) or (max_val and tree.value > max_val):\n",
    "        return False\n",
    "    if not is_bst_rec(tree.left, min_val,tree.value) or not is_bst_rec(tree.right, tree.value, max_val):\n",
    "        return False\n",
    "    return True"
   ]
  },
  {
   "cell_type": "code",
   "execution_count": 250,
   "metadata": {},
   "outputs": [
    {
     "data": {
      "text/plain": [
       "True"
      ]
     },
     "execution_count": 250,
     "metadata": {},
     "output_type": "execute_result"
    }
   ],
   "source": [
    "is_bst(min_span_rec)"
   ]
  },
  {
   "cell_type": "code",
   "execution_count": 251,
   "metadata": {},
   "outputs": [
    {
     "data": {
      "text/plain": [
       "True"
      ]
     },
     "execution_count": 251,
     "metadata": {},
     "output_type": "execute_result"
    }
   ],
   "source": [
    "is_bst_rec(min_span_rec)"
   ]
  },
  {
   "cell_type": "code",
   "execution_count": 253,
   "metadata": {
    "collapsed": true
   },
   "outputs": [],
   "source": [
    "#4.6\n",
    "def successor(tree):\n",
    "    #if tree has no left or right, return self\n",
    "    #if tree has right, return left most node of right sub tree\n",
    "    #if tree has no right sub tree\n",
    "    #if tree is left of parent, return parent\n",
    "    #if tree is right of parent go up until current is left of parent\n",
    "    if not tree.right and not tree.left:\n",
    "        return None\n",
    "    elif tree.right:\n",
    "        #return leftmost of right subtree\n",
    "        curr=tree.right\n",
    "        while curr.left:\n",
    "            curr=curr.left\n",
    "        return curr\n",
    "    else:\n",
    "        #no right subtree\n",
    "        curr_par = curr.parent\n",
    "        while not curr_par and curr == curr_par.right:\n",
    "            curr = curr_par\n",
    "            curr_par = curr_par.parent\n",
    "        return curr_par"
   ]
  },
  {
   "cell_type": "code",
   "execution_count": 47,
   "metadata": {
    "collapsed": true
   },
   "outputs": [],
   "source": [
    "#4.7\n",
    "__time = 0\n",
    "def dfs(start, adj, pre, post):\n",
    "    global __time\n",
    "    __time+=1\n",
    "    pre[start] = __time\n",
    "    if start in adj.keys():\n",
    "        for nbr in adj[start]:\n",
    "            if pre[nbr] == 0:\n",
    "                dfs(nbr, adj, pre,post)\n",
    "    __time+=1\n",
    "    post[start] = __time\n",
    "    \n",
    "# looks like toposort\n",
    "def build_order(pjt, dep):\n",
    "    pre = {x:0 for x in pjt}\n",
    "    post = {x:0 for x in pjt}\n",
    "    adj = {}\n",
    "    for x,y in dep:\n",
    "        if x not in adj.keys():\n",
    "            adj[x] = [y]\n",
    "        else:\n",
    "            adj[x].append(y)\n",
    "    for x in pjt:\n",
    "        if pre[x] == 0:\n",
    "            dfs(x, adj, pre, post)\n",
    "    #print(sorted(post.items(), key = lambda (k,v) : (v,k), reverse =True))\n",
    "    print(sorted([(x,y) for x, y in post.items()], key = lambda tup:tup[1], reverse=True))\n",
    "    \n",
    "#assuming that we have a DAG \n"
   ]
  },
  {
   "cell_type": "code",
   "execution_count": 48,
   "metadata": {},
   "outputs": [
    {
     "name": "stdout",
     "output_type": "stream",
     "text": [
      "[('f', 12), ('e', 10), ('b', 8), ('a', 6), ('d', 5), ('c', 4)]\n"
     ]
    }
   ],
   "source": [
    "build_order(['a','b','c','d','e','f'], [('a','d'),('f','b'),('b','d'),('f','a'),('d','c')])"
   ]
  },
  {
   "cell_type": "code",
   "execution_count": null,
   "metadata": {
    "collapsed": true
   },
   "outputs": [],
   "source": [
    "#4.8 getting first common ancestor\n",
    "def reachable(start, end):\n",
    "    if start is None:\n",
    "        return False\n",
    "    elif start.value == end.value:\n",
    "        return True\n",
    "    return reachable(start.left, end) or reachable(start.right,end)\n",
    "    \n",
    "def common_ancestors(root, a, b):\n",
    "    curr = root\n",
    "    while True:\n",
    "        if reachable(curr.left, a) and reachable(curr.left, b):\n",
    "            curr = curr.left\n",
    "        elif reachable(curr.right, a) and reachable(curr.right, b):\n",
    "            curr = curr.right\n",
    "        else:\n",
    "            break\n",
    "    return curr"
   ]
  },
  {
   "cell_type": "code",
   "execution_count": 81,
   "metadata": {
    "collapsed": true
   },
   "outputs": [],
   "source": [
    "#4.9\n",
    "def bst_seq(root):\n",
    "    all_seq = []\n",
    "    bst_seq_util(root, all_seq, [], [])\n",
    "    return all_seq\n",
    "def bst_seq_util(root, all_seq, curr_seq, queue):\n",
    "    curr_seq.append(root)\n",
    "    if root.left:\n",
    "        queue.append(root.left)\n",
    "    if root.right:\n",
    "        queue.append(root.right)\n",
    "    if len(queue) == 0:\n",
    "        all_seq.append(curr_seq)\n",
    "    for i in range(len(queue)):\n",
    "        new_root = queue.pop(0)\n",
    "        bst_seq_util(new_root, all_seq, curr_seq.copy(), queue.copy())\n",
    "        queue.append(new_root)"
   ]
  },
  {
   "cell_type": "code",
   "execution_count": 88,
   "metadata": {
    "collapsed": true
   },
   "outputs": [],
   "source": [
    "test_tree = TreeNode(10)\n",
    "test_tree.add(5)\n",
    "test_tree.add(20)\n",
    "test_tree.add(1)\n",
    "test_tree.add(7)\n",
    "test_tree.add(15)\n",
    "test_tree.add(25)"
   ]
  },
  {
   "cell_type": "code",
   "execution_count": 89,
   "metadata": {},
   "outputs": [
    {
     "name": "stdout",
     "output_type": "stream",
     "text": [
      "value:10 value:5 value:20\n"
     ]
    }
   ],
   "source": [
    "print(test_tree,test_tree.left, test_tree.right)"
   ]
  },
  {
   "cell_type": "code",
   "execution_count": 94,
   "metadata": {
    "collapsed": true
   },
   "outputs": [],
   "source": [
    "all_seq = bst_seq(test_tree)"
   ]
  },
  {
   "cell_type": "code",
   "execution_count": 95,
   "metadata": {},
   "outputs": [
    {
     "data": {
      "text/plain": [
       "80"
      ]
     },
     "execution_count": 95,
     "metadata": {},
     "output_type": "execute_result"
    }
   ],
   "source": [
    "len(all_seq)"
   ]
  },
  {
   "cell_type": "code",
   "execution_count": 98,
   "metadata": {
    "collapsed": true
   },
   "outputs": [],
   "source": [
    "#all_seq"
   ]
  },
  {
   "cell_type": "code",
   "execution_count": 2,
   "metadata": {},
   "outputs": [],
   "source": [
    "import math\n",
    "import random\n",
    "class BstNode:\n",
    "    def __init__(self,value):\n",
    "        self.value = value\n",
    "        self.num_left = 0\n",
    "        self.num_right = 0\n",
    "        self.right = None\n",
    "        self.left = None\n",
    "class BST:\n",
    "    def __init__(self, value):\n",
    "        self.root = BstNode(value)\n",
    "    def find(self, value, ret_node = False, increment = True):\n",
    "        curr = self.root\n",
    "        while curr:\n",
    "            if value == curr.value:\n",
    "                return curr\n",
    "            elif value>curr.value:\n",
    "                if increment:\n",
    "                    curr.num_right+=1\n",
    "                else:\n",
    "                    curr.num_right-=1\n",
    "                curr = curr.right\n",
    "            elif value<=curr.value:\n",
    "                if increment:\n",
    "                    curr.num_left+=1\n",
    "                else:\n",
    "                    curr.num_left-=1\n",
    "                curr = curr.left\n",
    "            else:\n",
    "                break\n",
    "        if ret_node:\n",
    "            #returns the place where a node should be inserted\n",
    "            return curr\n",
    "        else:\n",
    "            print('value not found')\n",
    "    def insert(self, value):\n",
    "        place = self.find(value, True)\n",
    "        if value <= place.value:\n",
    "            place.left=TreeNode(value)\n",
    "            place.left_num +=1\n",
    "        else:\n",
    "            place.right = TreeNode(value)\n",
    "            place.right_num +=1\n",
    "    def delete(self, value):\n",
    "        target = self.find(value, True, False)\n",
    "        if not target:\n",
    "            print('Value not found')\n",
    "        else:\n",
    "            #need to separate out between left and right\n",
    "            if not target.left and not target.right:\n",
    "                target = None\n",
    "            elif target.left and not target.right:\n",
    "                target.value = target.left.value\n",
    "                target.left = None\n",
    "            elif target.right and not target.left:\n",
    "                target.value = target.right.value\n",
    "                target.right = None\n",
    "            else:\n",
    "                #target has two children\n",
    "                #replace with min of right subtree\n",
    "                curr = target.right\n",
    "                while curr.left:\n",
    "                    curr = curr.left\n",
    "                target.value = curr.value\n",
    "                curr = None\n",
    "    def get_random(self):\n",
    "        curr = self.root\n",
    "        while curr.left or curr.right:\n",
    "            stay = 1.0/(curr.num_left+curr.num_right)\n",
    "            left = curr.num_left/(curr.num_left+curr.num_right)\n",
    "            if random.uniform(0,1) <= stay:\n",
    "                return curr\n",
    "            if random.uniform(0,1) <= left:\n",
    "                curr=curr.left\n",
    "            else:\n",
    "                curr = curr.right\n",
    "        return curr"
   ]
  },
  {
   "cell_type": "code",
   "execution_count": null,
   "metadata": {
    "collapsed": true
   },
   "outputs": [],
   "source": [
    "def get_sum_path(root, target):\n",
    "    if not root:\n",
    "        return 0\n",
    "    else:\n",
    "        diff = target - root.value\n",
    "        if diff == 0:\n",
    "            return 1\n",
    "        if diff < root.left or diff<0:\n",
    "            return 0\n",
    "        return get_sum_path(root.left, diff) + get_sum_path(root.right, diff)\n",
    "\n",
    "def build_hash(root):\n",
    "    ret = {}\n",
    "    running = 0\n",
    "    stack =[]\n",
    "    curr = root\n",
    "    while True:\n",
    "        if curr:\n",
    "            running += curr.value\n",
    "            if running not in ret.keys():\n",
    "                ret[running] = 1\n",
    "            else:\n",
    "                ret[running] +=1\n",
    "            stack.append(curr)\n",
    "            curr = curr.left\n",
    "        else:\n",
    "            curr = stack.pop()\n",
    "            if not curr.right:\n",
    "                running-=curr.value\n",
    "            curr = curr.right\n",
    "def sum_path_better(root, target, running_sum, hash_table):\n",
    "    if root is None:\n",
    "        return 0\n",
    "    running_sum += root.value\n",
    "    curr_sum = running_sum - target\n",
    "    if curr_sum in hash_table.keys():\n",
    "        num_paths = hash_table[curr_sum]\n",
    "    else:\n",
    "        num_paths = 0\n",
    "    if curr_sum == target:\n",
    "        num_paths +=1\n",
    "    if curr_sum in hash_table.keys():\n",
    "        hash_table[curr_sum] +=1\n",
    "    else:\n",
    "        hash_table[curr_sum] = 1\n",
    "    #recurse here\n",
    "    num_paths += sum_path_better(root.left, target, running_sum, hash_table)\n",
    "    num_paths += sum_path_better(root.right, target, running_sum, hash_table)\n",
    "    hash_table[curr_sum] -=1"
   ]
  },
  {
   "cell_type": "code",
   "execution_count": null,
   "metadata": {
    "collapsed": true
   },
   "outputs": [],
   "source": [
    "# done ch4"
   ]
  }
 ],
 "metadata": {
  "kernelspec": {
   "display_name": "Python 3",
   "language": "python",
   "name": "python3"
  },
  "language_info": {
   "codemirror_mode": {
    "name": "ipython",
    "version": 3
   },
   "file_extension": ".py",
   "mimetype": "text/x-python",
   "name": "python",
   "nbconvert_exporter": "python",
   "pygments_lexer": "ipython3",
   "version": "3.6.3"
  }
 },
 "nbformat": 4,
 "nbformat_minor": 2
}
