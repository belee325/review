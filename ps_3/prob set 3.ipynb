{
 "cells": [
  {
   "cell_type": "code",
   "execution_count": 8,
   "metadata": {
    "collapsed": true
   },
   "outputs": [],
   "source": [
    "# python3\n",
    "\n",
    "class Query:\n",
    "    def __init__(self, query):\n",
    "        self.type = query[0]\n",
    "        self.number = int(query[1])\n",
    "        if self.type == 'add':\n",
    "            self.name = query[2]\n",
    "\n",
    "def read_queries():\n",
    "    n = int(input())\n",
    "    return [Query(input().split()) for i in range(n)]\n",
    "\n",
    "def write_responses(result):\n",
    "    print('\\n'.join(result))\n",
    "\n",
    "def process_queries(queries):\n",
    "    result = []\n",
    "    # Keep list of all existing (i.e. not deleted yet) contacts.\n",
    "    contacts = {}\n",
    "    for cur_query in queries:\n",
    "        if cur_query.type == 'add':\n",
    "            # if we already have contact with such number,\n",
    "            # we should rewrite contact's name\n",
    "            if cur_query.number in contacts:\n",
    "                contacts[cur_query.number] = cur_query.name\n",
    "            else: # otherwise, just add it\n",
    "                contacts[cur_query.number] = cur_query.name\n",
    "        elif cur_query.type == 'del':\n",
    "            if cur_query.number in contacts:\n",
    "                contacts.pop(cur_query.number)\n",
    "        else:\n",
    "            response = 'not found'\n",
    "            if cur_query.number in contacts:\n",
    "                response = contacts[cur_query.number]\n",
    "            result.append(response)\n",
    "    return result"
   ]
  },
  {
   "cell_type": "code",
   "execution_count": 11,
   "metadata": {},
   "outputs": [
    {
     "name": "stdout",
     "output_type": "stream",
     "text": [
      "8\n",
      "find 3839442\n",
      "add 123456 me\n",
      "add 0 granny\n",
      "find 0\n",
      "find 123456\n",
      "del 0\n",
      "del 0\n",
      "find 0\n",
      "not found\n",
      "granny\n",
      "me\n",
      "not found\n"
     ]
    }
   ],
   "source": [
    "if __name__ == '__main__':\n",
    "    write_responses(process_queries(read_queries()))"
   ]
  },
  {
   "cell_type": "code",
   "execution_count": 15,
   "metadata": {},
   "outputs": [],
   "source": [
    "# python3\n",
    "\n",
    "class Query:\n",
    "\n",
    "    def __init__(self, query):\n",
    "        self.type = query[0]\n",
    "        if self.type == 'check':\n",
    "            self.ind = int(query[1])\n",
    "        else:\n",
    "            self.s = query[1]\n",
    "\n",
    "\n",
    "class QueryProcessor:\n",
    "    _multiplier = 263\n",
    "    _prime = 1000000007\n",
    "\n",
    "    def __init__(self, bucket_count):\n",
    "        self.bucket_count = bucket_count\n",
    "        # store all strings in one list\n",
    "        self.elems = [[]] * bucket_count\n",
    "\n",
    "    def _hash_func(self, s):\n",
    "        ans = 0\n",
    "        for c in reversed(s):\n",
    "            ans = (ans * self._multiplier + ord(c)) % self._prime\n",
    "        return ans % self.bucket_count\n",
    "\n",
    "    def write_search_result(self, ind, target):\n",
    "        if len(self.elems[ind]) == 0 :\n",
    "            print('no')\n",
    "            return\n",
    "        for word in self.elems[ind]:\n",
    "            if word == target:\n",
    "                print('yes')\n",
    "                return\n",
    "        print('no')\n",
    "        return\n",
    "    def write_chain(self, chain):\n",
    "        print(' '.join(chain))\n",
    "\n",
    "    def read_query(self):\n",
    "        return Query(input().split())\n",
    "\n",
    "    def process_query(self, query):\n",
    "        if query.type == \"check\":\n",
    "            # use reverse order, because we append strings to the end\n",
    "            self.write_chain(cur for cur in reversed(self.elems[query.ind]))\n",
    "        else:\n",
    "            ind = self._hash_func(query.s)\n",
    "            if query.type == 'find':\n",
    "                self.write_search_result(ind, query.s)\n",
    "            elif query.type == 'add':\n",
    "                try:\n",
    "                    self.elems[ind].index(query.s)\n",
    "                except ValueError:\n",
    "                    self.elems[ind].append(query.s)\n",
    "            else:\n",
    "                try:\n",
    "                    self.elems[ind].remove(query.s)\n",
    "                except ValueError:\n",
    "                    pass\n",
    "    def process_queries(self):\n",
    "        n = int(input())\n",
    "        for i in range(n):\n",
    "            self.process_query(self.read_query())"
   ]
  },
  {
   "cell_type": "code",
   "execution_count": 16,
   "metadata": {
    "scrolled": true
   },
   "outputs": [
    {
     "name": "stdout",
     "output_type": "stream",
     "text": [
      "4\n",
      "8\n",
      "add test\n",
      "add test\n",
      "find test\n",
      "yes\n",
      "del test\n",
      "find test\n",
      "no\n",
      "find Test\n",
      "no\n",
      "add Test\n",
      "find Test\n",
      "yes\n"
     ]
    }
   ],
   "source": [
    "if __name__ == '__main__':\n",
    "    bucket_count = int(input())\n",
    "    proc = QueryProcessor(bucket_count)\n",
    "    proc.process_queries()"
   ]
  },
  {
   "cell_type": "markdown",
   "metadata": {
    "collapsed": true
   },
   "source": [
    "add world\n",
    "add HellO\n",
    "check 4\n",
    "find World\n",
    "find world\n",
    "del world\n",
    "check 4\n",
    "del HellO\n",
    "add luck\n",
    "add GooD\n",
    "check 2\n",
    "del good\n",
    "\n",
    "add test\n",
    "add test\n",
    "find test\n",
    "del test\n",
    "find test\n",
    "find Test\n",
    "add Test\n",
    "find Test"
   ]
  },
  {
   "cell_type": "code",
   "execution_count": 22,
   "metadata": {
    "collapsed": true
   },
   "outputs": [],
   "source": [
    "def read_input():\n",
    "    return (input().rstrip(), input().rstrip())\n",
    "\n",
    "def print_occurrences(output):\n",
    "    print(' '.join(map(str, output)))\n",
    "\n",
    "def get_occurrences(pattern, text):\n",
    "    return [\n",
    "        i \n",
    "        for i in range(len(text) - len(pattern) + 1) \n",
    "        if text[i:i + len(pattern)] == pattern\n",
    "    ]"
   ]
  },
  {
   "cell_type": "code",
   "execution_count": null,
   "metadata": {},
   "outputs": [],
   "source": [
    "\n",
    "if __name__ == '__main__':\n",
    "    print_occurrences(get_occurrences(*read_input()))"
   ]
  },
  {
   "cell_type": "code",
   "execution_count": null,
   "metadata": {
    "collapsed": true
   },
   "outputs": [],
   "source": []
  }
 ],
 "metadata": {
  "kernelspec": {
   "display_name": "Python 3",
   "language": "python",
   "name": "python3"
  }
 },
 "nbformat": 4,
 "nbformat_minor": 2
}
