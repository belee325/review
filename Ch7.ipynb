{
 "cells": [
  {
   "cell_type": "code",
   "execution_count": 13,
   "metadata": {
    "collapsed": true
   },
   "outputs": [],
   "source": [
    "#7.1 blackjack\n",
    "\n",
    "import random\n",
    "from abc import ABCMeta, abstractmethod\n",
    "class Card:\n",
    "    def __init__(self, num, suit):\n",
    "        self.num = num\n",
    "        self.suit= suit\n",
    "    def __repr__(self):\n",
    "        num = self.num\n",
    "        if self.num == 11:\n",
    "            num = 'J'\n",
    "        elif self.num == 12:\n",
    "            num = 'Q'\n",
    "        elif self.num == 13:\n",
    "            num = 'K'\n",
    "        elif self.num == 14:\n",
    "            num = 'A'\n",
    "        return \"{0} of {1}\".format(num, self.suit)\n",
    "        \n",
    "class Deck:\n",
    "    def __init__(self):\n",
    "        SUITS = ['hearts', 'diamonds', 'clubs', 'spades']\n",
    "        NUMBERS = [2,3,4,5,6,7,8,9,10,11,12,13,14]  \n",
    "        self.cards = []\n",
    "        self.idx = 0\n",
    "        for suit in SUITS:\n",
    "            for number in NUMBERS:\n",
    "                self.cards.append(Card(number, suit))\n",
    "        random.shuffle(self.cards)\n",
    "        \n",
    "    def deal(self):\n",
    "        card = self.cards[self.idx]\n",
    "        self.idx+=1\n",
    "        return card\n",
    "    \n",
    "class Hand(metaclass = ABCMeta):\n",
    "    def get_value(self):\n",
    "        pass\n",
    "    def add_card(self):\n",
    "        pass\n",
    "    \n",
    "class BlackJackHand(Hand):\n",
    "    def __init__(self):\n",
    "        self.cards = []\n",
    "        self.val = 0\n",
    "        \n",
    "    def update_value(self):\n",
    "        card = self.cards[-1]\n",
    "        #special cases - 11-13 - consider as 10\n",
    "        if card.num <=10:\n",
    "            self.val += card.num\n",
    "        elif card.num > 10 and card.num <= 13:\n",
    "            self.val += 10\n",
    "        else:\n",
    "            #14 consider as 1 or 11\n",
    "            if self.val + 11 > 21:\n",
    "                self.val += 1\n",
    "            else:\n",
    "                self.val += 11\n",
    "        return self.val\n",
    "    \n",
    "    def get_value(self):\n",
    "        return self.val\n",
    "    \n",
    "    def add_card(self,card):\n",
    "        self.cards.append(card)\n",
    "        self.update_value()\n",
    "        \n",
    "    def is_bust(self):\n",
    "        if self.val > 21:\n",
    "            return True\n",
    "        return False\n",
    "    \n",
    "    def is_blackjack(self):\n",
    "        if self.val == 21 and len(self.cards) == 2:\n",
    "            if (self.cards[0].num == 14 and (self.cards[1].num >=11 and self.cards[1].num <= 13) or \n",
    "                self.cards[1].num == 14 and (self.cards[0].num >=11 and self.cards[0].num <= 13)):\n",
    "                return True\n",
    "        return False\n",
    "    \n",
    "class BlackJackTable:\n",
    "    def __init__(self, hand, deck):\n",
    "        self.hands = hand\n",
    "        self.deck = deck"
   ]
  },
  {
   "cell_type": "code",
   "execution_count": 14,
   "metadata": {
    "collapsed": true
   },
   "outputs": [],
   "source": [
    "deck = Deck()"
   ]
  },
  {
   "cell_type": "code",
   "execution_count": 15,
   "metadata": {
    "collapsed": true
   },
   "outputs": [],
   "source": [
    "blackjackhand = BlackJackHand()"
   ]
  },
  {
   "cell_type": "code",
   "execution_count": 16,
   "metadata": {
    "collapsed": true
   },
   "outputs": [],
   "source": [
    "blackjackhand.add_card(deck.deal())"
   ]
  },
  {
   "cell_type": "code",
   "execution_count": 17,
   "metadata": {},
   "outputs": [
    {
     "name": "stdout",
     "output_type": "stream",
     "text": [
      "2\n"
     ]
    }
   ],
   "source": [
    "print(blackjackhand.get_value())"
   ]
  },
  {
   "cell_type": "code",
   "execution_count": 18,
   "metadata": {},
   "outputs": [
    {
     "data": {
      "text/plain": [
       "[2 of clubs]"
      ]
     },
     "execution_count": 18,
     "metadata": {},
     "output_type": "execute_result"
    }
   ],
   "source": [
    "blackjackhand.cards"
   ]
  },
  {
   "cell_type": "code",
   "execution_count": 19,
   "metadata": {},
   "outputs": [
    {
     "data": {
      "text/plain": [
       "False"
      ]
     },
     "execution_count": 19,
     "metadata": {},
     "output_type": "execute_result"
    }
   ],
   "source": [
    "blackjackhand.is_blackjack()"
   ]
  },
  {
   "cell_type": "code",
   "execution_count": 20,
   "metadata": {},
   "outputs": [
    {
     "data": {
      "text/plain": [
       "False"
      ]
     },
     "execution_count": 20,
     "metadata": {},
     "output_type": "execute_result"
    }
   ],
   "source": [
    "blackjackhand.is_bust()"
   ]
  },
  {
   "cell_type": "code",
   "execution_count": 30,
   "metadata": {
    "collapsed": true
   },
   "outputs": [],
   "source": [
    "def menu():\n",
    "\n",
    "    USER_CHOICE = \"\"\"h to hit\\n s to stand\\n\"\"\"\n",
    "    CONTINUE = \"\"\"play again? y/n\\n\"\"\"\n",
    "\n",
    "\n",
    "    while True:\n",
    "        hand = BlackJackHand()\n",
    "        deck = Deck()\n",
    "        table = BlackJackTable(hand,deck)\n",
    "        table.hands.add_card(table.deck.deal())\n",
    "        table.hands.add_card(table.deck.deal())\n",
    "        user_choice = \"\"\n",
    "        while not table.hands.is_bust() and table.hands.get_value()<21 and user_choice !='s':\n",
    "            print('current hand\\n value:{}\\n cards:{}'.format(table.hands.get_value(),table.hands.cards))\n",
    "            if table.hands.is_blackjack():\n",
    "                print(\"Blackjack! player wins\")\n",
    "                break\n",
    "            else:\n",
    "                user_choice = input(USER_CHOICE)\n",
    "                while user_choice != 'h' or user_choice !='s':\n",
    "                    if user_choice == 'h':\n",
    "                        print('player hits')\n",
    "                        table.hands.add_card(table.deck.deal())\n",
    "                        print('current value of hand : ', table.hands.get_value())\n",
    "                        break\n",
    "                    elif user_choice == 's':\n",
    "                        print('player stands')\n",
    "                        print('final value of hand: ', table.hands.get_value())\n",
    "                        break\n",
    "                    else:\n",
    "                        print('command not recognized')\n",
    "                        user_choice = input(USER_CHOICE)\n",
    "        if table.hands.is_bust():\n",
    "            print('player busts!')\n",
    "        elif table.hands.get_value()==21:\n",
    "            print('player wins with 21!')\n",
    "        continue_choice = input(CONTINUE)\n",
    "        while continue_choice != 'y' or continue_choice != 'n':\n",
    "            if continue_choice =='n':\n",
    "                return\n",
    "            elif continue_choice =='y':\n",
    "                break\n",
    "            else:\n",
    "                print('command not recognized')\n",
    "                continue_choice = input(CONTINUE)"
   ]
  },
  {
   "cell_type": "code",
   "execution_count": 108,
   "metadata": {},
   "outputs": [],
   "source": [
    "#7.2\n",
    "\"\"\"\n",
    "use priority queue of responder, manager, and directors to assign work\n",
    "worker will be baseclass, rest will inherit\n",
    "make a call class with priority restraint\n",
    "make a scheduler with p queue as class \n",
    "\"\"\"\n",
    "import queue\n",
    "import random\n",
    "class Scheduler:\n",
    "    def __init__(self, responders, managers, directors):\n",
    "        self.available_workers = [[Responder(str(i)) for i in range(0,responders)],\n",
    "                                  [Mananger(str(i)) for i in range(0,managers)],\n",
    "                                  [Director(str(i)) for i in range(0,directors)]] #q of workers based on worker rank\n",
    "        self.busy_workers =[] #list of ppl working\n",
    "        self.incoming_calls=[]\n",
    "        self.finished_calls=[]\n",
    "    def schedule_call(self, call):\n",
    "        #find the next available person that can handle a call and assign \n",
    "        if call.priority <=5:\n",
    "            if len(self.available_workers[0]) > 0:\n",
    "                worker = self.available_workers[0].pop(0)\n",
    "                print('assigning responder')\n",
    "            elif len(self.available_workers[0]) == 0 and len(self.available_workers[1]) > 0:\n",
    "                worker = self.available_workers[1].pop(0)\n",
    "                print('assigning manager')\n",
    "            elif len(self.available_workers[0]) == 0 and len(self.available_workers[1]) == 0 and len(self.available_workers[2]) > 0:\n",
    "                worker = self.available_workers[2].pop(0)\n",
    "                print('assigning director')\n",
    "            else:\n",
    "                print('no workers available at the moment!')\n",
    "                return False\n",
    "        elif call.priority > 5 and call.priority <=10:\n",
    "            if len(self.available_workers[1]) > 0:\n",
    "                worker = self.available_workers[1].pop(0)\n",
    "                print('assigning manager')\n",
    "            elif len(self.available_workers[1]) == 0 and len(self.available_workers[2]) > 0:\n",
    "                worker = self.available_workers[2].pop(0)\n",
    "                print('assigning director')\n",
    "            else:\n",
    "                print('no workers available at the moment!')\n",
    "                return False\n",
    "        else:\n",
    "            if len(self.available_workers[2]) > 0:\n",
    "                worker = self.available_workers[2].pop(0)\n",
    "                print('assigning director')\n",
    "            else:\n",
    "                print('no workers available at the moment!')\n",
    "                return False\n",
    "        worker.call = call\n",
    "        self.busy_workers.append(worker)\n",
    "        return True\n",
    "    def update_status(self):\n",
    "        i = 0\n",
    "        length = len(self.busy_workers)\n",
    "        while i < length:\n",
    "            worker = self.busy_workers.pop(0)\n",
    "            worker.work()\n",
    "            if worker.current_call_duration >= worker.call.duration:\n",
    "                self.finished_calls.append(worker.call)\n",
    "                worker.call = None\n",
    "                worker.current_call_duration = 0\n",
    "                worker.busy = False\n",
    "                if worker.rank == 5:\n",
    "                    self.available_workers[0].append(worker)\n",
    "                elif worker.rank == 10:\n",
    "                    self.available_workers[1].append(worker)\n",
    "                else:\n",
    "                    self.available_workers[2].append(worker)\n",
    "            else:\n",
    "                self.busy_workers.append(worker)\n",
    "            i += 1\n",
    "    def receive_call(self):\n",
    "        self.incoming_calls.append(Call(random.randint(1,15), random.randint(0,40), 'someone'))\n",
    "    \n",
    "class Call:\n",
    "    def __init__(self, priority, duration, caller):\n",
    "        self.priority = priority\n",
    "        #call resolved after duration\n",
    "        self.duration = duration\n",
    "        self.caller = caller\n",
    "    \n",
    "class Worker:\n",
    "    def __init__(self, name, title, rank):\n",
    "        self.name = name\n",
    "        self.title = title\n",
    "        self.rank = rank\n",
    "        self.busy= False\n",
    "        self.current_call_duration = 0\n",
    "        self.call = None\n",
    "    def can_handle_call(self, call):\n",
    "        if call.priority <= self.rank:\n",
    "            return True\n",
    "        return False\n",
    "    \n",
    "    def work(self):\n",
    "        self.current_call_duration +=1\n",
    "        \n",
    "class Responder(Worker):\n",
    "    def __init__(self, name):\n",
    "        super().__init__(name, 'Responder', 5)\n",
    "class Mananger(Worker):\n",
    "    def __init__(self, name):\n",
    "        super().__init__(name, 'Manager', 10)\n",
    "class Director(Worker):\n",
    "    def __init__(self, name):\n",
    "        super().__init__(name, 'Director', 15)"
   ]
  },
  {
   "cell_type": "code",
   "execution_count": 109,
   "metadata": {},
   "outputs": [],
   "source": [
    "me = Director('me')"
   ]
  },
  {
   "cell_type": "code",
   "execution_count": 110,
   "metadata": {},
   "outputs": [
    {
     "data": {
      "text/plain": [
       "'me'"
      ]
     },
     "execution_count": 110,
     "metadata": {},
     "output_type": "execute_result"
    }
   ],
   "source": [
    "me.name"
   ]
  },
  {
   "cell_type": "code",
   "execution_count": 111,
   "metadata": {},
   "outputs": [
    {
     "data": {
      "text/plain": [
       "15"
      ]
     },
     "execution_count": 111,
     "metadata": {},
     "output_type": "execute_result"
    }
   ],
   "source": [
    "me.rank"
   ]
  },
  {
   "cell_type": "code",
   "execution_count": 112,
   "metadata": {},
   "outputs": [
    {
     "data": {
      "text/plain": [
       "'Director'"
      ]
     },
     "execution_count": 112,
     "metadata": {},
     "output_type": "execute_result"
    }
   ],
   "source": [
    "me.title"
   ]
  },
  {
   "cell_type": "code",
   "execution_count": 113,
   "metadata": {},
   "outputs": [
    {
     "data": {
      "text/plain": [
       "0"
      ]
     },
     "execution_count": 113,
     "metadata": {},
     "output_type": "execute_result"
    }
   ],
   "source": [
    "me.current_call_duration"
   ]
  },
  {
   "cell_type": "code",
   "execution_count": 114,
   "metadata": {
    "collapsed": true
   },
   "outputs": [],
   "source": [
    "me.work()"
   ]
  },
  {
   "cell_type": "code",
   "execution_count": 115,
   "metadata": {},
   "outputs": [
    {
     "data": {
      "text/plain": [
       "1"
      ]
     },
     "execution_count": 115,
     "metadata": {},
     "output_type": "execute_result"
    }
   ],
   "source": [
    "me.current_call_duration"
   ]
  },
  {
   "cell_type": "code",
   "execution_count": 116,
   "metadata": {
    "collapsed": true
   },
   "outputs": [],
   "source": [
    "call = Call(5,10,'someone')"
   ]
  },
  {
   "cell_type": "code",
   "execution_count": 117,
   "metadata": {},
   "outputs": [
    {
     "data": {
      "text/plain": [
       "'someone'"
      ]
     },
     "execution_count": 117,
     "metadata": {},
     "output_type": "execute_result"
    }
   ],
   "source": [
    "call.caller"
   ]
  },
  {
   "cell_type": "code",
   "execution_count": 118,
   "metadata": {
    "collapsed": true
   },
   "outputs": [],
   "source": [
    "scheduler = Scheduler(10,3,1)"
   ]
  },
  {
   "cell_type": "code",
   "execution_count": 119,
   "metadata": {},
   "outputs": [
    {
     "data": {
      "text/plain": [
       "[[<__main__.Responder at 0x1e63b745b00>,\n",
       "  <__main__.Responder at 0x1e63b7459b0>,\n",
       "  <__main__.Responder at 0x1e63b745940>,\n",
       "  <__main__.Responder at 0x1e63b745438>,\n",
       "  <__main__.Responder at 0x1e63b745f60>,\n",
       "  <__main__.Responder at 0x1e63b5a3be0>,\n",
       "  <__main__.Responder at 0x1e63b5a3320>,\n",
       "  <__main__.Responder at 0x1e63b5a3470>,\n",
       "  <__main__.Responder at 0x1e63b5a39e8>,\n",
       "  <__main__.Responder at 0x1e63b5a3240>],\n",
       " [<__main__.Mananger at 0x1e63b76b8d0>,\n",
       "  <__main__.Mananger at 0x1e63b76bcc0>,\n",
       "  <__main__.Mananger at 0x1e63b7422e8>],\n",
       " [<__main__.Director at 0x1e63b7428d0>]]"
      ]
     },
     "execution_count": 119,
     "metadata": {},
     "output_type": "execute_result"
    }
   ],
   "source": [
    "scheduler.available_workers"
   ]
  },
  {
   "cell_type": "code",
   "execution_count": 120,
   "metadata": {},
   "outputs": [],
   "source": [
    "scheduler.receive_call()\n",
    "scheduler.receive_call()\n",
    "scheduler.receive_call()\n",
    "scheduler.receive_call()\n",
    "scheduler.receive_call()\n",
    "scheduler.receive_call()\n",
    "scheduler.receive_call()\n",
    "scheduler.receive_call()"
   ]
  },
  {
   "cell_type": "code",
   "execution_count": 121,
   "metadata": {},
   "outputs": [
    {
     "name": "stdout",
     "output_type": "stream",
     "text": [
      "15\n",
      "14\n",
      "4\n",
      "1\n",
      "15\n",
      "13\n",
      "9\n",
      "11\n"
     ]
    }
   ],
   "source": [
    "for i in range(0, 8):\n",
    "    print(scheduler.incoming_calls[i].priority)"
   ]
  },
  {
   "cell_type": "code",
   "execution_count": 122,
   "metadata": {},
   "outputs": [
    {
     "name": "stdout",
     "output_type": "stream",
     "text": [
      "assigning director\n",
      "[<__main__.Director object at 0x000001E63B7428D0>]\n",
      "no workers available at the moment!\n",
      "waiting for next available worker\n",
      "[<__main__.Director object at 0x000001E63B7428D0>]\n",
      "no workers available at the moment!\n",
      "waiting for next available worker\n",
      "[<__main__.Director object at 0x000001E63B7428D0>]\n",
      "no workers available at the moment!\n",
      "waiting for next available worker\n",
      "[<__main__.Director object at 0x000001E63B7428D0>]\n",
      "no workers available at the moment!\n",
      "waiting for next available worker\n",
      "[<__main__.Director object at 0x000001E63B7428D0>]\n",
      "no workers available at the moment!\n",
      "waiting for next available worker\n",
      "[<__main__.Director object at 0x000001E63B7428D0>]\n",
      "no workers available at the moment!\n",
      "waiting for next available worker\n",
      "[<__main__.Director object at 0x000001E63B7428D0>]\n",
      "no workers available at the moment!\n",
      "waiting for next available worker\n",
      "[<__main__.Director object at 0x000001E63B7428D0>]\n",
      "no workers available at the moment!\n",
      "waiting for next available worker\n",
      "[<__main__.Director object at 0x000001E63B7428D0>]\n",
      "no workers available at the moment!\n",
      "waiting for next available worker\n",
      "[<__main__.Director object at 0x000001E63B7428D0>]\n",
      "no workers available at the moment!\n",
      "waiting for next available worker\n",
      "[<__main__.Director object at 0x000001E63B7428D0>]\n",
      "no workers available at the moment!\n",
      "waiting for next available worker\n",
      "[<__main__.Director object at 0x000001E63B7428D0>]\n",
      "no workers available at the moment!\n",
      "waiting for next available worker\n",
      "[<__main__.Director object at 0x000001E63B7428D0>]\n",
      "no workers available at the moment!\n",
      "waiting for next available worker\n",
      "[<__main__.Director object at 0x000001E63B7428D0>]\n",
      "no workers available at the moment!\n",
      "waiting for next available worker\n",
      "[<__main__.Director object at 0x000001E63B7428D0>]\n",
      "no workers available at the moment!\n",
      "waiting for next available worker\n",
      "[<__main__.Director object at 0x000001E63B7428D0>]\n",
      "no workers available at the moment!\n",
      "waiting for next available worker\n",
      "[<__main__.Director object at 0x000001E63B7428D0>]\n",
      "no workers available at the moment!\n",
      "waiting for next available worker\n",
      "[<__main__.Director object at 0x000001E63B7428D0>]\n",
      "no workers available at the moment!\n",
      "waiting for next available worker\n",
      "[<__main__.Director object at 0x000001E63B7428D0>]\n",
      "no workers available at the moment!\n",
      "waiting for next available worker\n",
      "[<__main__.Director object at 0x000001E63B7428D0>]\n",
      "no workers available at the moment!\n",
      "waiting for next available worker\n",
      "[<__main__.Director object at 0x000001E63B7428D0>]\n",
      "no workers available at the moment!\n",
      "waiting for next available worker\n",
      "[<__main__.Director object at 0x000001E63B7428D0>]\n",
      "no workers available at the moment!\n",
      "waiting for next available worker\n",
      "[<__main__.Director object at 0x000001E63B7428D0>]\n",
      "no workers available at the moment!\n",
      "waiting for next available worker\n",
      "[<__main__.Director object at 0x000001E63B7428D0>]\n",
      "no workers available at the moment!\n",
      "waiting for next available worker\n",
      "[<__main__.Director object at 0x000001E63B7428D0>]\n",
      "no workers available at the moment!\n",
      "waiting for next available worker\n",
      "[<__main__.Director object at 0x000001E63B7428D0>]\n",
      "no workers available at the moment!\n",
      "waiting for next available worker\n",
      "[<__main__.Director object at 0x000001E63B7428D0>]\n",
      "no workers available at the moment!\n",
      "waiting for next available worker\n",
      "[<__main__.Director object at 0x000001E63B7428D0>]\n",
      "no workers available at the moment!\n",
      "waiting for next available worker\n",
      "[<__main__.Director object at 0x000001E63B7428D0>]\n",
      "no workers available at the moment!\n",
      "waiting for next available worker\n",
      "[<__main__.Director object at 0x000001E63B7428D0>]\n",
      "no workers available at the moment!\n",
      "waiting for next available worker\n",
      "[<__main__.Director object at 0x000001E63B7428D0>]\n",
      "no workers available at the moment!\n",
      "waiting for next available worker\n",
      "[]\n",
      "assigning director\n",
      "[<__main__.Director object at 0x000001E63B7428D0>]\n",
      "assigning responder\n",
      "[<__main__.Director object at 0x000001E63B7428D0>, <__main__.Responder object at 0x000001E63B745B00>]\n",
      "assigning responder\n",
      "[<__main__.Director object at 0x000001E63B7428D0>, <__main__.Responder object at 0x000001E63B745B00>, <__main__.Responder object at 0x000001E63B7459B0>]\n",
      "no workers available at the moment!\n",
      "waiting for next available worker\n",
      "[<__main__.Director object at 0x000001E63B7428D0>, <__main__.Responder object at 0x000001E63B745B00>, <__main__.Responder object at 0x000001E63B7459B0>]\n",
      "no workers available at the moment!\n",
      "waiting for next available worker\n",
      "[<__main__.Director object at 0x000001E63B7428D0>, <__main__.Responder object at 0x000001E63B745B00>, <__main__.Responder object at 0x000001E63B7459B0>]\n",
      "no workers available at the moment!\n",
      "waiting for next available worker\n",
      "[<__main__.Director object at 0x000001E63B7428D0>, <__main__.Responder object at 0x000001E63B745B00>, <__main__.Responder object at 0x000001E63B7459B0>]\n",
      "no workers available at the moment!\n",
      "waiting for next available worker\n",
      "[<__main__.Director object at 0x000001E63B7428D0>, <__main__.Responder object at 0x000001E63B745B00>, <__main__.Responder object at 0x000001E63B7459B0>]\n",
      "no workers available at the moment!\n",
      "waiting for next available worker\n",
      "[<__main__.Director object at 0x000001E63B7428D0>, <__main__.Responder object at 0x000001E63B745B00>]\n",
      "no workers available at the moment!\n",
      "waiting for next available worker\n",
      "[<__main__.Director object at 0x000001E63B7428D0>, <__main__.Responder object at 0x000001E63B745B00>]\n",
      "no workers available at the moment!\n",
      "waiting for next available worker\n",
      "[<__main__.Director object at 0x000001E63B7428D0>, <__main__.Responder object at 0x000001E63B745B00>]\n",
      "no workers available at the moment!\n",
      "waiting for next available worker\n",
      "[<__main__.Director object at 0x000001E63B7428D0>, <__main__.Responder object at 0x000001E63B745B00>]\n",
      "no workers available at the moment!\n",
      "waiting for next available worker\n",
      "[<__main__.Director object at 0x000001E63B7428D0>, <__main__.Responder object at 0x000001E63B745B00>]\n",
      "no workers available at the moment!\n",
      "waiting for next available worker\n",
      "[<__main__.Director object at 0x000001E63B7428D0>, <__main__.Responder object at 0x000001E63B745B00>]\n",
      "no workers available at the moment!\n",
      "waiting for next available worker\n",
      "[<__main__.Director object at 0x000001E63B7428D0>, <__main__.Responder object at 0x000001E63B745B00>]\n",
      "no workers available at the moment!\n",
      "waiting for next available worker\n",
      "[<__main__.Director object at 0x000001E63B7428D0>, <__main__.Responder object at 0x000001E63B745B00>]\n",
      "no workers available at the moment!\n",
      "waiting for next available worker\n",
      "[<__main__.Director object at 0x000001E63B7428D0>, <__main__.Responder object at 0x000001E63B745B00>]\n",
      "no workers available at the moment!\n",
      "waiting for next available worker\n",
      "[<__main__.Director object at 0x000001E63B7428D0>, <__main__.Responder object at 0x000001E63B745B00>]\n",
      "no workers available at the moment!\n",
      "waiting for next available worker\n",
      "[<__main__.Director object at 0x000001E63B7428D0>]\n",
      "no workers available at the moment!\n",
      "waiting for next available worker\n",
      "[<__main__.Director object at 0x000001E63B7428D0>]\n",
      "no workers available at the moment!\n",
      "waiting for next available worker\n",
      "[<__main__.Director object at 0x000001E63B7428D0>]\n",
      "no workers available at the moment!\n",
      "waiting for next available worker\n",
      "[<__main__.Director object at 0x000001E63B7428D0>]\n",
      "no workers available at the moment!\n",
      "waiting for next available worker\n",
      "[<__main__.Director object at 0x000001E63B7428D0>]\n",
      "no workers available at the moment!\n",
      "waiting for next available worker\n",
      "[<__main__.Director object at 0x000001E63B7428D0>]\n",
      "no workers available at the moment!\n",
      "waiting for next available worker\n",
      "[<__main__.Director object at 0x000001E63B7428D0>]\n",
      "no workers available at the moment!\n",
      "waiting for next available worker\n",
      "[<__main__.Director object at 0x000001E63B7428D0>]\n",
      "no workers available at the moment!\n",
      "waiting for next available worker\n",
      "[]\n",
      "assigning director\n",
      "[<__main__.Director object at 0x000001E63B7428D0>]\n",
      "no workers available at the moment!\n",
      "waiting for next available worker\n",
      "[<__main__.Director object at 0x000001E63B7428D0>]\n",
      "no workers available at the moment!\n",
      "waiting for next available worker\n",
      "[<__main__.Director object at 0x000001E63B7428D0>]\n",
      "no workers available at the moment!\n",
      "waiting for next available worker\n",
      "[]\n",
      "assigning director\n",
      "[<__main__.Director object at 0x000001E63B7428D0>]\n",
      "assigning manager\n",
      "[<__main__.Director object at 0x000001E63B7428D0>, <__main__.Mananger object at 0x000001E63B76B8D0>]\n",
      "no workers available at the moment!\n",
      "waiting for next available worker\n",
      "[<__main__.Director object at 0x000001E63B7428D0>, <__main__.Mananger object at 0x000001E63B76B8D0>]\n",
      "no workers available at the moment!\n",
      "waiting for next available worker\n",
      "[<__main__.Director object at 0x000001E63B7428D0>, <__main__.Mananger object at 0x000001E63B76B8D0>]\n",
      "no workers available at the moment!\n",
      "waiting for next available worker\n",
      "[<__main__.Director object at 0x000001E63B7428D0>, <__main__.Mananger object at 0x000001E63B76B8D0>]\n",
      "no workers available at the moment!\n",
      "waiting for next available worker\n",
      "[<__main__.Director object at 0x000001E63B7428D0>, <__main__.Mananger object at 0x000001E63B76B8D0>]\n",
      "no workers available at the moment!\n",
      "waiting for next available worker\n",
      "[<__main__.Director object at 0x000001E63B7428D0>, <__main__.Mananger object at 0x000001E63B76B8D0>]\n",
      "no workers available at the moment!\n",
      "waiting for next available worker\n",
      "[<__main__.Director object at 0x000001E63B7428D0>, <__main__.Mananger object at 0x000001E63B76B8D0>]\n",
      "no workers available at the moment!\n",
      "waiting for next available worker\n",
      "[<__main__.Director object at 0x000001E63B7428D0>, <__main__.Mananger object at 0x000001E63B76B8D0>]\n",
      "no workers available at the moment!\n",
      "waiting for next available worker\n",
      "[<__main__.Director object at 0x000001E63B7428D0>, <__main__.Mananger object at 0x000001E63B76B8D0>]\n",
      "no workers available at the moment!\n",
      "waiting for next available worker\n",
      "[<__main__.Director object at 0x000001E63B7428D0>, <__main__.Mananger object at 0x000001E63B76B8D0>]\n",
      "no workers available at the moment!\n",
      "waiting for next available worker\n",
      "[<__main__.Director object at 0x000001E63B7428D0>, <__main__.Mananger object at 0x000001E63B76B8D0>]\n",
      "no workers available at the moment!\n",
      "waiting for next available worker\n",
      "[<__main__.Director object at 0x000001E63B7428D0>, <__main__.Mananger object at 0x000001E63B76B8D0>]\n",
      "no workers available at the moment!\n",
      "waiting for next available worker\n",
      "[<__main__.Director object at 0x000001E63B7428D0>, <__main__.Mananger object at 0x000001E63B76B8D0>]\n",
      "no workers available at the moment!\n",
      "waiting for next available worker\n",
      "[<__main__.Director object at 0x000001E63B7428D0>, <__main__.Mananger object at 0x000001E63B76B8D0>]\n",
      "no workers available at the moment!\n",
      "waiting for next available worker\n",
      "[<__main__.Director object at 0x000001E63B7428D0>, <__main__.Mananger object at 0x000001E63B76B8D0>]\n",
      "no workers available at the moment!\n",
      "waiting for next available worker\n",
      "[<__main__.Director object at 0x000001E63B7428D0>, <__main__.Mananger object at 0x000001E63B76B8D0>]\n",
      "no workers available at the moment!\n",
      "waiting for next available worker\n",
      "[<__main__.Director object at 0x000001E63B7428D0>, <__main__.Mananger object at 0x000001E63B76B8D0>]\n",
      "no workers available at the moment!\n",
      "waiting for next available worker\n",
      "[<__main__.Director object at 0x000001E63B7428D0>, <__main__.Mananger object at 0x000001E63B76B8D0>]\n",
      "no workers available at the moment!\n",
      "waiting for next available worker\n",
      "[<__main__.Director object at 0x000001E63B7428D0>, <__main__.Mananger object at 0x000001E63B76B8D0>]\n",
      "no workers available at the moment!\n",
      "waiting for next available worker\n",
      "[<__main__.Director object at 0x000001E63B7428D0>, <__main__.Mananger object at 0x000001E63B76B8D0>]\n",
      "no workers available at the moment!\n",
      "waiting for next available worker\n",
      "[<__main__.Director object at 0x000001E63B7428D0>, <__main__.Mananger object at 0x000001E63B76B8D0>]\n",
      "no workers available at the moment!\n",
      "waiting for next available worker\n",
      "[<__main__.Director object at 0x000001E63B7428D0>, <__main__.Mananger object at 0x000001E63B76B8D0>]\n",
      "no workers available at the moment!\n",
      "waiting for next available worker\n",
      "[<__main__.Director object at 0x000001E63B7428D0>, <__main__.Mananger object at 0x000001E63B76B8D0>]\n",
      "no workers available at the moment!\n",
      "waiting for next available worker\n",
      "[<__main__.Director object at 0x000001E63B7428D0>, <__main__.Mananger object at 0x000001E63B76B8D0>]\n",
      "no workers available at the moment!\n",
      "waiting for next available worker\n",
      "[<__main__.Director object at 0x000001E63B7428D0>, <__main__.Mananger object at 0x000001E63B76B8D0>]\n",
      "no workers available at the moment!\n",
      "waiting for next available worker\n",
      "[<__main__.Director object at 0x000001E63B7428D0>, <__main__.Mananger object at 0x000001E63B76B8D0>]\n",
      "no workers available at the moment!\n",
      "waiting for next available worker\n",
      "[<__main__.Director object at 0x000001E63B7428D0>, <__main__.Mananger object at 0x000001E63B76B8D0>]\n",
      "no workers available at the moment!\n",
      "waiting for next available worker\n",
      "[<__main__.Director object at 0x000001E63B7428D0>, <__main__.Mananger object at 0x000001E63B76B8D0>]\n",
      "no workers available at the moment!\n",
      "waiting for next available worker\n",
      "[<__main__.Director object at 0x000001E63B7428D0>, <__main__.Mananger object at 0x000001E63B76B8D0>]\n",
      "no workers available at the moment!\n",
      "waiting for next available worker\n",
      "[<__main__.Director object at 0x000001E63B7428D0>, <__main__.Mananger object at 0x000001E63B76B8D0>]\n",
      "no workers available at the moment!\n",
      "waiting for next available worker\n",
      "[<__main__.Director object at 0x000001E63B7428D0>, <__main__.Mananger object at 0x000001E63B76B8D0>]\n",
      "no workers available at the moment!\n",
      "waiting for next available worker\n",
      "[<__main__.Director object at 0x000001E63B7428D0>, <__main__.Mananger object at 0x000001E63B76B8D0>]\n",
      "no workers available at the moment!\n",
      "waiting for next available worker\n",
      "[<__main__.Mananger object at 0x000001E63B76B8D0>]\n",
      "assigning director\n",
      "[<__main__.Mananger object at 0x000001E63B76B8D0>, <__main__.Director object at 0x000001E63B7428D0>]\n"
     ]
    }
   ],
   "source": [
    " while len(scheduler.incoming_calls)>0:\n",
    "        current_call = scheduler.incoming_calls[0]\n",
    "        if scheduler.schedule_call(current_call):\n",
    "            scheduler.incoming_calls.pop(0)\n",
    "        else:\n",
    "            print('waiting for next available worker')\n",
    "        scheduler.update_status()\n",
    "        print(scheduler.busy_workers)"
   ]
  },
  {
   "cell_type": "code",
   "execution_count": 102,
   "metadata": {},
   "outputs": [
    {
     "data": {
      "text/plain": [
       "[]"
      ]
     },
     "execution_count": 102,
     "metadata": {},
     "output_type": "execute_result"
    }
   ],
   "source": [
    "scheduler.incoming_calls"
   ]
  },
  {
   "cell_type": "code",
   "execution_count": 126,
   "metadata": {},
   "outputs": [],
   "source": [
    "#7.3\n",
    "#juke box\n",
    "\n",
    "class JukeBox:\n",
    "    def __init__(self):\n",
    "        self.CDs = []\n",
    "        self.current_CD = None\n",
    "        self.user = None\n",
    "        self.selector = None #interact with current cd\n",
    "        self.playlist = []\n",
    "    def __repr__(self):\n",
    "        #used for display\n",
    "        return \"\"\"currently playing : {0}\\n\n",
    "                By : {1} \\n\n",
    "                From: {2}\"\"\".format(self.get_song(), self.selector.CD.get_artist(), self.selector.CD.get_album())\n",
    "    \n",
    "    def select_CD(self, CD):\n",
    "        if self.selector :\n",
    "            self.CDs.append(self.selector.eject_CD)\n",
    "        self.selector.CD = CD\n",
    "        self.CDs.remove(CD)\n",
    "    \n",
    "    def get_song(self):\n",
    "        #used for repr\n",
    "        return self.selector.get_curr_song()\n",
    "    \n",
    "    def search_by_artist(self, artist):\n",
    "        #search by artist, return CDs with artist name\n",
    "        ret = []\n",
    "        for cd in self.CDs:\n",
    "            if cd.artist == artist:\n",
    "                ret.append(cd)\n",
    "        return ret\n",
    "    \n",
    "    def search_by_song_name(self, song_name):\n",
    "        #search by song_name, return CD with index to specific song\n",
    "        ret = []\n",
    "        for cd in self.CDs:\n",
    "            for idx, song in enumerate(cd.song_list):\n",
    "                if song[0] == song_name:\n",
    "                    ret.append((cd,idx))\n",
    "        return ret\n",
    "    \n",
    "    def search_by_album_name(self, album_name):\n",
    "        #search by album name return cd\\\n",
    "        ret = []\n",
    "        for cd in self.CDs:\n",
    "            if cd.album == album_name:\n",
    "                ret.append(cd)\n",
    "        return ret\n",
    "        \n",
    "    def create_playlist(self, song_names):\n",
    "        #create list of songs\n",
    "        for songs in song_names:\n",
    "            for result in search_by_song_name(songs):\n",
    "                self.playlist.append(result)\n",
    "        \n",
    "    def play_playlist(self):\n",
    "        for cd, idx in self.playlist:\n",
    "            select_CD(cd)\n",
    "            self.selector.play_specific_song(idx)\n",
    "    \n",
    "class CD:\n",
    "    def __init__(self, artist, album, song_list):\n",
    "        self.artist = artist\n",
    "        self.album = album\n",
    "        self.song_list = song_list #lets say song list is a list of tuples of (title, songlength)\n",
    "    def __repr__(self):\n",
    "        return \"{0} by {1}\".format(self.album, self.artist)\n",
    "    def get_artist(self):\n",
    "        return self.artist\n",
    "    def get_album(self):\n",
    "        return self.album\n",
    "\n",
    "class Selector:\n",
    "    #this interacts with the current cd in the jukebox\n",
    "    def __init__(self):\n",
    "        self.CD = None\n",
    "        self.curr_song = None\n",
    "        self.song_idx = None\n",
    "        \n",
    "    def load_CD(CD):\n",
    "        self.CD = CD\n",
    "        \n",
    "    def eject_CD(self):\n",
    "        ret = self.CD\n",
    "        self.CD =None\n",
    "        self.curr_song = None\n",
    "        self.song_idx = None\n",
    "        return ret\n",
    "    \n",
    "    def play(self):\n",
    "        self.curr_song = self.CD.song_list[0]\n",
    "        self.song_idx = 0\n",
    "        \n",
    "    def stop(self):\n",
    "        self.curr_song = None\n",
    "        self.song_idx = None\n",
    "    \n",
    "    def get_curr_song(self):\n",
    "        return self.curr_song\n",
    "    \n",
    "    def play_specific_song(self, index):\n",
    "        self.song_idx = index\n",
    "        self.curr_song = self.song_idx[index]\n",
    "    \n",
    "    def play_next_song(self):\n",
    "        if self.song_idx == len(self.CD.song_list)-1:\n",
    "            self.song_idx = 0\n",
    "        else:\n",
    "            self.song_idx+=1\n",
    "        self.curr_song = self.CD.song_list[self.song_idx]\n",
    "        \n",
    "    def play_prev_song(self):\n",
    "        if self.song_idx == 0:\n",
    "            self.song_idx = len(self.CD.song_list)-1\n",
    "        else:\n",
    "            self.song_idx -= 1\n",
    "        self.curr_song = self.CD.song_list[self.song_idx]"
   ]
  },
  {
   "cell_type": "code",
   "execution_count": null,
   "metadata": {
    "collapsed": true
   },
   "outputs": [],
   "source": [
    "#7.4\n",
    "#parking lot\n",
    "\n"
   ]
  }
 ],
 "metadata": {
  "anaconda-cloud": {},
  "kernelspec": {
   "display_name": "Python 3",
   "language": "python",
   "name": "python3"
  },
  "language_info": {
   "codemirror_mode": {
    "name": "ipython",
    "version": 3
   },
   "file_extension": ".py",
   "mimetype": "text/x-python",
   "name": "python",
   "nbconvert_exporter": "python",
   "pygments_lexer": "ipython3",
   "version": "3.6.3"
  }
 },
 "nbformat": 4,
 "nbformat_minor": 2
}
