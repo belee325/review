{
 "cells": [
  {
   "cell_type": "code",
   "execution_count": 13,
   "metadata": {
    "collapsed": true
   },
   "outputs": [],
   "source": [
    "#7.1 blackjack\n",
    "\n",
    "import random\n",
    "from abc import ABCMeta, abstractmethod\n",
    "class Card:\n",
    "    def __init__(self, num, suit):\n",
    "        self.num = num\n",
    "        self.suit= suit\n",
    "    def __repr__(self):\n",
    "        num = self.num\n",
    "        if self.num == 11:\n",
    "            num = 'J'\n",
    "        elif self.num == 12:\n",
    "            num = 'Q'\n",
    "        elif self.num == 13:\n",
    "            num = 'K'\n",
    "        elif self.num == 14:\n",
    "            num = 'A'\n",
    "        return \"{0} of {1}\".format(num, self.suit)\n",
    "        \n",
    "class Deck:\n",
    "    def __init__(self):\n",
    "        SUITS = ['hearts', 'diamonds', 'clubs', 'spades']\n",
    "        NUMBERS = [2,3,4,5,6,7,8,9,10,11,12,13,14]  \n",
    "        self.cards = []\n",
    "        self.idx = 0\n",
    "        for suit in SUITS:\n",
    "            for number in NUMBERS:\n",
    "                self.cards.append(Card(number, suit))\n",
    "        random.shuffle(self.cards)\n",
    "        \n",
    "    def deal(self):\n",
    "        card = self.cards[self.idx]\n",
    "        self.idx+=1\n",
    "        return card\n",
    "    \n",
    "class Hand(metaclass = ABCMeta):\n",
    "    def get_value(self):\n",
    "        pass\n",
    "    def add_card(self):\n",
    "        pass\n",
    "    \n",
    "class BlackJackHand(Hand):\n",
    "    def __init__(self):\n",
    "        self.cards = []\n",
    "        self.val = 0\n",
    "        \n",
    "    def update_value(self):\n",
    "        card = self.cards[-1]\n",
    "        #special cases - 11-13 - consider as 10\n",
    "        if card.num <=10:\n",
    "            self.val += card.num\n",
    "        elif card.num > 10 and card.num <= 13:\n",
    "            self.val += 10\n",
    "        else:\n",
    "            #14 consider as 1 or 11\n",
    "            if self.val + 11 > 21:\n",
    "                self.val += 1\n",
    "            else:\n",
    "                self.val += 11\n",
    "        return self.val\n",
    "    \n",
    "    def get_value(self):\n",
    "        return self.val\n",
    "    \n",
    "    def add_card(self,card):\n",
    "        self.cards.append(card)\n",
    "        self.update_value()\n",
    "        \n",
    "    def is_bust(self):\n",
    "        if self.val > 21:\n",
    "            return True\n",
    "        return False\n",
    "    \n",
    "    def is_blackjack(self):\n",
    "        if self.val == 21 and len(self.cards) == 2:\n",
    "            if (self.cards[0].num == 14 and (self.cards[1].num >=11 and self.cards[1].num <= 13) or \n",
    "                self.cards[1].num == 14 and (self.cards[0].num >=11 and self.cards[0].num <= 13)):\n",
    "                return True\n",
    "        return False\n",
    "    \n",
    "class BlackJackTable:\n",
    "    def __init__(self, hand, deck):\n",
    "        self.hands = hand\n",
    "        self.deck = deck"
   ]
  },
  {
   "cell_type": "code",
   "execution_count": 14,
   "metadata": {
    "collapsed": true
   },
   "outputs": [],
   "source": [
    "deck = Deck()"
   ]
  },
  {
   "cell_type": "code",
   "execution_count": 15,
   "metadata": {
    "collapsed": true
   },
   "outputs": [],
   "source": [
    "blackjackhand = BlackJackHand()"
   ]
  },
  {
   "cell_type": "code",
   "execution_count": 16,
   "metadata": {
    "collapsed": true
   },
   "outputs": [],
   "source": [
    "blackjackhand.add_card(deck.deal())"
   ]
  },
  {
   "cell_type": "code",
   "execution_count": 17,
   "metadata": {
    "collapsed": false
   },
   "outputs": [
    {
     "name": "stdout",
     "output_type": "stream",
     "text": [
      "2\n"
     ]
    }
   ],
   "source": [
    "print(blackjackhand.get_value())"
   ]
  },
  {
   "cell_type": "code",
   "execution_count": 18,
   "metadata": {
    "collapsed": false
   },
   "outputs": [
    {
     "data": {
      "text/plain": [
       "[2 of clubs]"
      ]
     },
     "execution_count": 18,
     "metadata": {},
     "output_type": "execute_result"
    }
   ],
   "source": [
    "blackjackhand.cards"
   ]
  },
  {
   "cell_type": "code",
   "execution_count": 19,
   "metadata": {
    "collapsed": false
   },
   "outputs": [
    {
     "data": {
      "text/plain": [
       "False"
      ]
     },
     "execution_count": 19,
     "metadata": {},
     "output_type": "execute_result"
    }
   ],
   "source": [
    "blackjackhand.is_blackjack()"
   ]
  },
  {
   "cell_type": "code",
   "execution_count": 20,
   "metadata": {
    "collapsed": false
   },
   "outputs": [
    {
     "data": {
      "text/plain": [
       "False"
      ]
     },
     "execution_count": 20,
     "metadata": {},
     "output_type": "execute_result"
    }
   ],
   "source": [
    "blackjackhand.is_bust()"
   ]
  },
  {
   "cell_type": "code",
   "execution_count": 30,
   "metadata": {
    "collapsed": true
   },
   "outputs": [],
   "source": [
    "def menu():\n",
    "\n",
    "    USER_CHOICE = \"\"\"h to hit\\n s to stand\\n\"\"\"\n",
    "    CONTINUE = \"\"\"play again? y/n\\n\"\"\"\n",
    "\n",
    "\n",
    "    while True:\n",
    "        hand = BlackJackHand()\n",
    "        deck = Deck()\n",
    "        table = BlackJackTable(hand,deck)\n",
    "        table.hands.add_card(table.deck.deal())\n",
    "        table.hands.add_card(table.deck.deal())\n",
    "        user_choice = \"\"\n",
    "        while not table.hands.is_bust() and table.hands.get_value()<21 and user_choice !='s':\n",
    "            print('current hand\\n value:{}\\n cards:{}'.format(table.hands.get_value(),table.hands.cards))\n",
    "            if table.hands.is_blackjack():\n",
    "                print(\"Blackjack! player wins\")\n",
    "                break\n",
    "            else:\n",
    "                user_choice = input(USER_CHOICE)\n",
    "                while user_choice != 'h' or user_choice !='s':\n",
    "                    if user_choice == 'h':\n",
    "                        print('player hits')\n",
    "                        table.hands.add_card(table.deck.deal())\n",
    "                        print('current value of hand : ', table.hands.get_value())\n",
    "                        break\n",
    "                    elif user_choice == 's':\n",
    "                        print('player stands')\n",
    "                        print('final value of hand: ', table.hands.get_value())\n",
    "                        break\n",
    "                    else:\n",
    "                        print('command not recognized')\n",
    "                        user_choice = input(USER_CHOICE)\n",
    "        if table.hands.is_bust():\n",
    "            print('player busts!')\n",
    "        elif table.hands.get_value()==21:\n",
    "            print('player wins with 21!')\n",
    "        continue_choice = input(CONTINUE)\n",
    "        while continue_choice != 'y' or continue_choice != 'n':\n",
    "            if continue_choice =='n':\n",
    "                return\n",
    "            elif continue_choice =='y':\n",
    "                break\n",
    "            else:\n",
    "                print('command not recognized')\n",
    "                continue_choice = input(CONTINUE)"
   ]
  },
  {
   "cell_type": "code",
   "execution_count": null,
   "metadata": {
    "collapsed": true
   },
   "outputs": [],
   "source": [
    "#7.2\n",
    "\"\"\"\n",
    "use priority queue of responder, manager, and directors to assign work\n",
    "worker will be baseclass, rest will inherit\n",
    "make a call class with priority restraint\n",
    "make a scheduler with p queue as class \n",
    "\"\"\"\n",
    "import queue\n",
    "\n",
    "class Scheduler:\n",
    "    def __init__(self):\n",
    "        self.available_workers = [[],[],[]] #q of workers based on worker rank\n",
    "        self.busy_workers =[] #list of ppl working\n",
    "        self.incoming_calls=[]\n",
    "        self.finished_calls=[]\n",
    "    def schedule_call(self, call):\n",
    "        #find the next available person that can handle a call and assign \n",
    "        if call.priority <=5:\n",
    "            \n",
    "    def update_status(self):\n",
    "        for worker in self.busy_workers:\n",
    "            worker.work()\n",
    "            if worker.current_call_duration >= worker.call.duration:\n",
    "                self.finished_calls.append(worker.call)\n",
    "                worker.call = None\n",
    "                worker.current_call_duration = 0\n",
    "                worker.busy = False\n",
    "                if worker.rank ==5:\n",
    "                    self.available_workers[0].append(worker)\n",
    "                elif worker.rank == 10:\n",
    "                    self.available_workers[1].append(worker)\n",
    "                else:\n",
    "                    self.available_workers[2].append(worker)\n",
    "                \n",
    "    \n",
    "class Call:\n",
    "    def __init__(self, priority, duration, caller):\n",
    "        self.priority = priority\n",
    "        #call resolved after duration\n",
    "        self.duration = duration\n",
    "        self.caller = caller\n",
    "    \n",
    "class Worker:\n",
    "    def __init__(self, name, title, rank):\n",
    "        self.name = name\n",
    "        self.title = title\n",
    "        self.rank = None\n",
    "        self.busy= False\n",
    "        self.current_call_duration = 0\n",
    "        self.call = None\n",
    "    def can_handle_call(self, call):\n",
    "        if call.priority <= self.rank:\n",
    "            return True\n",
    "        return False\n",
    "    \n",
    "    def work(self):\n",
    "        self.current_call_duration +=1\n",
    "        \n",
    "    def finish_work(self):\n",
    "        pass\n",
    "    \n",
    "class Responder(Worker):\n",
    "    def __init__(self):\n",
    "        super().__init__()\n",
    "        self.rank = 5\n",
    "class Mananger(Worker):\n",
    "    def __init__(self):\n",
    "        super().__init__()\n",
    "        self.rank = 10\n",
    "class Director(Worker):\n",
    "    def __init__(self):\n",
    "        super().__init__()\n",
    "        self.rank = 15"
   ]
  }
 ],
 "metadata": {
  "anaconda-cloud": {},
  "kernelspec": {
   "display_name": "Python [default]",
   "language": "python",
   "name": "python3"
  },
  "language_info": {
   "codemirror_mode": {
    "name": "ipython",
    "version": 3
   },
   "file_extension": ".py",
   "mimetype": "text/x-python",
   "name": "python",
   "nbconvert_exporter": "python",
   "pygments_lexer": "ipython3",
   "version": "3.5.2"
  }
 },
 "nbformat": 4,
 "nbformat_minor": 2
}
