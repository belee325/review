{
 "cells": [
  {
   "cell_type": "code",
   "execution_count": 45,
   "metadata": {
    "collapsed": true
   },
   "outputs": [],
   "source": [
    "\n",
    "\n",
    "# Uses python3\n",
    "def calc_fib(n):\n",
    "    if n <=1:\n",
    "        return n\n",
    "    ret = []\n",
    "    ret.append(0)\n",
    "    ret.append(1)\n",
    "    for i in range(2,n+1):\n",
    "        ret.append(ret[i-1]+ret[i-2])\n",
    "    return ret[-1]"
   ]
  },
  {
   "cell_type": "code",
   "execution_count": 20,
   "metadata": {},
   "outputs": [
    {
     "ename": "TypeError",
     "evalue": "'str' object is not callable",
     "output_type": "error",
     "traceback": [
      "\u001b[1;31m---------------------------------------------------------------------------\u001b[0m",
      "\u001b[1;31mTypeError\u001b[0m                                 Traceback (most recent call last)",
      "\u001b[1;32m<ipython-input-20-652745ca8cc8>\u001b[0m in \u001b[0;36m<module>\u001b[1;34m()\u001b[0m\n\u001b[1;32m----> 1\u001b[1;33m \u001b[0mn\u001b[0m \u001b[1;33m=\u001b[0m \u001b[0mint\u001b[0m\u001b[1;33m(\u001b[0m\u001b[0minput\u001b[0m\u001b[1;33m(\u001b[0m\u001b[1;33m)\u001b[0m\u001b[1;33m)\u001b[0m\u001b[1;33m\u001b[0m\u001b[0m\n\u001b[0m\u001b[0;32m      2\u001b[0m \u001b[0mprint\u001b[0m\u001b[1;33m(\u001b[0m\u001b[0mcalc_fib\u001b[0m\u001b[1;33m(\u001b[0m\u001b[0mn\u001b[0m\u001b[1;33m)\u001b[0m\u001b[1;33m)\u001b[0m\u001b[1;33m\u001b[0m\u001b[0m\n",
      "\u001b[1;31mTypeError\u001b[0m: 'str' object is not callable"
     ]
    }
   ],
   "source": [
    "n = int(input())\n",
    "print(calc_fib(n))"
   ]
  },
  {
   "cell_type": "code",
   "execution_count": null,
   "metadata": {
    "collapsed": true
   },
   "outputs": [],
   "source": []
  },
  {
   "cell_type": "code",
   "execution_count": 2,
   "metadata": {
    "collapsed": true
   },
   "outputs": [],
   "source": [
    "def get_fibonacci_last_digit_naive(n):\n",
    "    ret = []\n",
    "    ret.append(0)\n",
    "    ret.append(1)\n",
    "    for i in range(2,n):\n",
    "        ret.append((ret[i-1]+ret[i-2])%10)\n",
    "    return ret[n-1]"
   ]
  },
  {
   "cell_type": "code",
   "execution_count": 6,
   "metadata": {},
   "outputs": [
    {
     "name": "stdout",
     "output_type": "stream",
     "text": [
      "327305\n",
      "5\n"
     ]
    }
   ],
   "source": [
    "n = int(input())\n",
    "print(get_fibonacci_last_digit_naive(n))\n"
   ]
  },
  {
   "cell_type": "code",
   "execution_count": 7,
   "metadata": {
    "collapsed": true
   },
   "outputs": [],
   "source": [
    "def gcd_naive(a, b):\n",
    "    if b ==0:\n",
    "        return a\n",
    "    a_prime = a % b\n",
    "    return gcd_naive(b, a_prime)"
   ]
  },
  {
   "cell_type": "code",
   "execution_count": 12,
   "metadata": {},
   "outputs": [
    {
     "name": "stdout",
     "output_type": "stream",
     "text": [
      "28851538 1183019\n",
      "17657\n"
     ]
    }
   ],
   "source": [
    "a, b = map(int,input().split())\n",
    "print(gcd_naive(a, b))"
   ]
  },
  {
   "cell_type": "code",
   "execution_count": 13,
   "metadata": {
    "collapsed": true
   },
   "outputs": [],
   "source": [
    "def gcd(a,b):\n",
    "    if b ==0:\n",
    "        return a\n",
    "    a_prime = a % b\n",
    "    return gcd(b, a_prime)\n",
    "def lcm_naive(a, b):\n",
    "    return a*b/gcd(a,b)"
   ]
  },
  {
   "cell_type": "code",
   "execution_count": 15,
   "metadata": {},
   "outputs": [
    {
     "name": "stdout",
     "output_type": "stream",
     "text": [
      "6 8\n",
      "24.0\n"
     ]
    }
   ],
   "source": [
    "a, b = map(int,input().split())\n",
    "print(lcm_naive(a, b))"
   ]
  },
  {
   "cell_type": "code",
   "execution_count": 48,
   "metadata": {},
   "outputs": [],
   "source": [
    "def get_pisano(m):\n",
    "    a=0\n",
    "    b=1\n",
    "    c= (a + b)\n",
    "    for i in range(0, m**2):\n",
    "        c = (a+b)%m\n",
    "        a=b\n",
    "        b=c\n",
    "        if a == 0 and b == 1:\n",
    "            return i+1\n",
    "def get_fib(n):\n",
    "    ret = []\n",
    "    ret.append(0)\n",
    "    if n <=1:\n",
    "        return n\n",
    "    ret = []\n",
    "    ret.append(0)\n",
    "    ret.append(1)\n",
    "    for i in range(2,n+1):\n",
    "        ret.append(ret[i-1]+ret[i-2])\n",
    "    return ret[-1]\n",
    "\n",
    "def get_fibonacci_huge_naive(n, m):\n",
    "    if n <= 1:\n",
    "        return n\n",
    "    else:\n",
    "        return get_fib(n%get_pisano(m))%m"
   ]
  },
  {
   "cell_type": "code",
   "execution_count": 49,
   "metadata": {},
   "outputs": [
    {
     "name": "stdout",
     "output_type": "stream",
     "text": [
      "8\n"
     ]
    }
   ],
   "source": [
    "print(get_pisano(3))"
   ]
  },
  {
   "cell_type": "code",
   "execution_count": 51,
   "metadata": {},
   "outputs": [
    {
     "name": "stdout",
     "output_type": "stream",
     "text": [
      "10249\n"
     ]
    }
   ],
   "source": [
    "print(get_fibonacci_huge_naive(2816213588, 30524))"
   ]
  },
  {
   "cell_type": "code",
   "execution_count": 29,
   "metadata": {},
   "outputs": [
    {
     "data": {
      "text/plain": [
       "1500"
      ]
     },
     "execution_count": 29,
     "metadata": {},
     "output_type": "execute_result"
    }
   ],
   "source": [
    "get_pisano(1000)"
   ]
  },
  {
   "cell_type": "code",
   "execution_count": 30,
   "metadata": {},
   "outputs": [
    {
     "data": {
      "text/plain": [
       "239"
      ]
     },
     "execution_count": 30,
     "metadata": {},
     "output_type": "execute_result"
    }
   ],
   "source": [
    "239%1500"
   ]
  },
  {
   "cell_type": "code",
   "execution_count": 46,
   "metadata": {},
   "outputs": [
    {
     "data": {
      "text/plain": [
       "55"
      ]
     },
     "execution_count": 46,
     "metadata": {},
     "output_type": "execute_result"
    }
   ],
   "source": [
    "calc_fib(10)"
   ]
  },
  {
   "cell_type": "code",
   "execution_count": null,
   "metadata": {
    "collapsed": true
   },
   "outputs": [],
   "source": []
  }
 ],
 "metadata": {
  "kernelspec": {
   "display_name": "Python 3",
   "language": "python",
   "name": "python3"
  },
  "language_info": {
   "codemirror_mode": {
    "name": "ipython",
    "version": 3
   },
   "file_extension": ".py",
   "mimetype": "text/x-python",
   "name": "python",
   "nbconvert_exporter": "python",
   "pygments_lexer": "ipython3",
   "version": "3.6.3"
  }
 },
 "nbformat": 4,
 "nbformat_minor": 2
}
