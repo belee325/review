{
 "cells": [
  {
   "cell_type": "code",
   "execution_count": 10,
   "metadata": {
    "collapsed": true
   },
   "outputs": [],
   "source": [
    "#prob 1.4\n",
    "def palindrome_permutation(_string):\n",
    "    #if length is odd, there can be at most one unique letter with odd count\n",
    "    #if length is even, we need all of them to have even letter count\n",
    "    count = {}\n",
    "    _string = \"\".join(_string.split())\n",
    "    for char in _string:\n",
    "        if char not in count:\n",
    "            count[char] = 1\n",
    "        else:\n",
    "            count[char] +=1\n",
    "    if len(_string) % 2 == 0:\n",
    "        for _,v in count.items():\n",
    "            if v%2!=0:\n",
    "                return False\n",
    "    else:\n",
    "        found_odd = False\n",
    "        for _,v in count.items():\n",
    "            if v % 2 != 0 and not found_odd:\n",
    "                found_odd = True\n",
    "            elif v % 2 != 0 and found_odd:\n",
    "                return False\n",
    "    return True\n",
    "    "
   ]
  },
  {
   "cell_type": "code",
   "execution_count": 12,
   "metadata": {
    "collapsed": false
   },
   "outputs": [
    {
     "data": {
      "text/plain": [
       "True"
      ]
     },
     "execution_count": 12,
     "metadata": {},
     "output_type": "execute_result"
    }
   ],
   "source": [
    "palindrome_permutation('taco cat')"
   ]
  },
  {
   "cell_type": "code",
   "execution_count": 57,
   "metadata": {
    "collapsed": true
   },
   "outputs": [],
   "source": [
    "#prob 1.5\n",
    "def one_replace(s1,s2):\n",
    "    # see if we can replace one letter to make them same\n",
    "    diff = False\n",
    "    for i in range(len(s1)):\n",
    "        if s1[i]!=s2[i]:\n",
    "            if diff:\n",
    "                return False\n",
    "            diff = True\n",
    "    return True\n",
    "def one_insert_remove(s1,s2):\n",
    "    # see if we can remove/insert one to make them same\n",
    "    i = 0\n",
    "    j = 0\n",
    "    while(i<len(s1) and j<len(s2)):\n",
    "        if s1[i] != s2[j]:\n",
    "            if i != j:\n",
    "                return False\n",
    "            j +=1\n",
    "        else:\n",
    "            j+=1\n",
    "            i+=1\n",
    "    return True\n",
    "def one_away(s1, s2):\n",
    "    if len(s1) == len(s2):\n",
    "        return one_replace(s1,s2)\n",
    "    elif len(s1)+1 == len(s2):\n",
    "        return one_insert_remove(s1,s2)\n",
    "    elif len(s1)-1 == len(s2):\n",
    "        return one_insert_remove(s2,s1)\n",
    "    else:\n",
    "        return False"
   ]
  },
  {
   "cell_type": "code",
   "execution_count": 58,
   "metadata": {
    "collapsed": false
   },
   "outputs": [
    {
     "data": {
      "text/plain": [
       "True"
      ]
     },
     "execution_count": 58,
     "metadata": {},
     "output_type": "execute_result"
    }
   ],
   "source": [
    "one_away('apple','aple')"
   ]
  },
  {
   "cell_type": "code",
   "execution_count": 67,
   "metadata": {
    "collapsed": true
   },
   "outputs": [],
   "source": [
    "# prob 1.6\n",
    "def compress(string):\n",
    "    count = {}\n",
    "    for char in string:\n",
    "        if char not in count:\n",
    "            count[char]=1\n",
    "        else:\n",
    "            count[char]+=1\n",
    "    res = []\n",
    "    #print(count)\n",
    "    for k,v in count.items():\n",
    "        res.append(str(k)+str(v))\n",
    "    #print(res)\n",
    "    res = \"\".join(res)\n",
    "    if len(string) <= len(res):\n",
    "        return string\n",
    "    return res"
   ]
  },
  {
   "cell_type": "code",
   "execution_count": 68,
   "metadata": {
    "collapsed": false
   },
   "outputs": [
    {
     "name": "stdout",
     "output_type": "stream",
     "text": [
      "{'a': 5, 'b': 1, 'c': 5}\n",
      "['a5', 'b1', 'c5']\n"
     ]
    },
    {
     "data": {
      "text/plain": [
       "'a5b1c5'"
      ]
     },
     "execution_count": 68,
     "metadata": {},
     "output_type": "execute_result"
    }
   ],
   "source": [
    "compress('aabcccccaaa')"
   ]
  },
  {
   "cell_type": "code",
   "execution_count": 166,
   "metadata": {
    "collapsed": true
   },
   "outputs": [],
   "source": [
    "def rotate_90(matrix):\n",
    "    first_r = 0\n",
    "    last_r = len(matrix[0])-1\n",
    "    first_c =0\n",
    "    last_c = len(matrix)-1\n",
    "    level = 0\n",
    "    while(last_r > first_r):\n",
    "        #top row\n",
    "        temp = matrix[first_r][first_c:last_c]\n",
    "        #print(last_r,first_r)\n",
    "        row_idx = last_r\n",
    "        col_off = 0\n",
    "        while(col_off+level < last_c):\n",
    "            #print(col_off,last_c)\n",
    "            #left to top\n",
    "            matrix[first_r][first_c + col_off] = matrix[row_idx-col_off][first_c]\n",
    "            #bot to left\n",
    "            matrix[row_idx-col_off][first_c] = matrix[last_r][last_c-col_off]\n",
    "            #right to bot\n",
    "            matrix[last_r][last_c-col_off] = matrix[first_r+col_off][last_c]\n",
    "            #top to right\n",
    "            #print(temp)\n",
    "            if col_off < len(temp):\n",
    "                matrix[first_r+col_off][last_c] = temp[col_off]\n",
    "            col_off +=1\n",
    "            #row_idx -=1\n",
    "            #for r in matrix:\n",
    "            #    print(r)\n",
    "            #print(\"\")\n",
    "        last_r -=1\n",
    "        last_c -=1\n",
    "        level +=1\n",
    "        first_r +=1\n",
    "        first_c +=1\n",
    "    return matrix"
   ]
  },
  {
   "cell_type": "code",
   "execution_count": 167,
   "metadata": {
    "collapsed": false
   },
   "outputs": [
    {
     "name": "stdout",
     "output_type": "stream",
     "text": [
      "[1, 2, 3, 4]\n",
      "[5, 6, 7, 8]\n",
      "[9, 10, 11, 12]\n",
      "[13, 14, 15, 16]\n"
     ]
    }
   ],
   "source": [
    "matrix = [[1,2,3,4],[5,6,7,8],[9,10,11,12],[13,14,15,16]]\n",
    "for r in matrix:\n",
    "    print(r)"
   ]
  },
  {
   "cell_type": "code",
   "execution_count": 168,
   "metadata": {
    "collapsed": false
   },
   "outputs": [
    {
     "name": "stdout",
     "output_type": "stream",
     "text": [
      "[13, 9, 5, 1]\n",
      "[14, 10, 6, 2]\n",
      "[15, 11, 7, 3]\n",
      "[16, 12, 8, 4]\n"
     ]
    }
   ],
   "source": [
    "for r in rotate_90(matrix):\n",
    "    print(r)"
   ]
  },
  {
   "cell_type": "code",
   "execution_count": 192,
   "metadata": {
    "collapsed": true
   },
   "outputs": [],
   "source": [
    "# prob 1.8\n",
    "def zero_matrix(matrix):\n",
    "    i = 0\n",
    "    zero_row = set()\n",
    "    zero_col = set()\n",
    "    while i < len(matrix):\n",
    "        j = 0\n",
    "        while j < len(matrix[0]):\n",
    "            if matrix[i][j] == 0:\n",
    "                zero_row.add(i)\n",
    "                zero_col.add(j)\n",
    "                break\n",
    "            j += 1\n",
    "        i += 1\n",
    "    for rows in zero_row:\n",
    "        matrix[rows][:] = [0]*len(matrix)\n",
    "    for cols in zero_col:\n",
    "        for row in matrix:\n",
    "            row[cols] = 0\n",
    "    return matrix"
   ]
  },
  {
   "cell_type": "code",
   "execution_count": 193,
   "metadata": {
    "collapsed": false
   },
   "outputs": [
    {
     "name": "stdout",
     "output_type": "stream",
     "text": [
      "[1, 2, 3, 4]\n",
      "[0, 2, 3, 4]\n",
      "[1, 2, 3, 4]\n",
      "[1, 2, 3, 4]\n"
     ]
    }
   ],
   "source": [
    "z_mat = [[1,2,3,4],[0,2,3,4],[1,2,3,4],[1,2,3,4]]\n",
    "for r in z_mat:\n",
    "    print(r)"
   ]
  },
  {
   "cell_type": "code",
   "execution_count": 194,
   "metadata": {
    "collapsed": false
   },
   "outputs": [
    {
     "name": "stdout",
     "output_type": "stream",
     "text": [
      "[0, 2, 3, 4]\n",
      "[0, 0, 0, 0]\n",
      "[0, 2, 3, 4]\n",
      "[0, 2, 3, 4]\n"
     ]
    }
   ],
   "source": [
    "for r in zero_matrix(z_mat):\n",
    "    print(r)"
   ]
  },
  {
   "cell_type": "code",
   "execution_count": 200,
   "metadata": {
    "collapsed": true
   },
   "outputs": [],
   "source": [
    "#prob 1.9\n",
    "def is_rotation(s1,s2):\n",
    "    return s2 in s1+s1"
   ]
  },
  {
   "cell_type": "code",
   "execution_count": 204,
   "metadata": {
    "collapsed": false
   },
   "outputs": [
    {
     "data": {
      "text/plain": [
       "False"
      ]
     },
     "execution_count": 204,
     "metadata": {},
     "output_type": "execute_result"
    }
   ],
   "source": [
    "is_rotation('waterbottle', 'rebottlewat')"
   ]
  },
  {
   "cell_type": "code",
   "execution_count": 2,
   "metadata": {
    "collapsed": false
   },
   "outputs": [],
   "source": [
    "#ch2 things\n",
    "class Node:\n",
    "    def __init__(self,value,next_ptr,prev_ptr):\n",
    "        self.value = value\n",
    "        self.next_ptr = None\n",
    "        self.prev_ptr = None\n",
    "class DoublyLinkedList:\n",
    "    def __init__(self, node):\n",
    "        self.head = node\n",
    "        self.tail = node\n",
    "    def add(self,node):\n",
    "        #add to end\n",
    "        if self.tail is None:\n",
    "            self.tail = node\n",
    "            self.head = node\n",
    "        else:\n",
    "            temp = self.tail\n",
    "            self.tail = node\n",
    "            self.tail.next_ptr = None\n",
    "            self.tail.prev_ptr = temp\n",
    "    def remove(self,value):\n",
    "        temp = self.head\n",
    "        while temp:\n",
    "            if temp.value == value:\n",
    "                #head\n",
    "                if temp.prev_ptr is None:\n",
    "                    self.head = None\n",
    "                    self.tail = None\n",
    "                #tail\n",
    "                elif temp.next_ptr is None:\n",
    "                    self.tail = self.tail.prev_ptr\n",
    "                    self.tail.next_ptr = None\n",
    "                else:\n",
    "                #general case\n",
    "                    temp.prev_ptr.next_ptr = temp.next_ptr\n",
    "                    temp.next_ptr.prev_ptr = temp.prev_ptr\n",
    "            temp = temp.next_ptr\n",
    "        return False\n",
    "    \n",
    "class SingleLinkedList:\n",
    "    def __init__(self, node):\n",
    "        self.head = node\n",
    "        self.head.next_ptr = None\n",
    "    def add(self, node):\n",
    "        temp = self.head\n",
    "        self.head = node\n",
    "        self.head.next_ptr = temp\n",
    "    def remove(self,value):\n",
    "        if self.head.next_ptr is None and self.head.value == value:\n",
    "            self.head = None\n",
    "        temp = self.head\n",
    "        while temp:\n",
    "            prev = temp\n",
    "            if temp.value == value:\n",
    "                prev.next_ptr = temp.next_ptr\n",
    "                break\n",
    "            temp = temp.next_ptr\n",
    "    "
   ]
  },
  {
   "cell_type": "code",
   "execution_count": null,
   "metadata": {
    "collapsed": true
   },
   "outputs": [],
   "source": [
    "#prob 2.1\n",
    "def remove_dups(ll):\n",
    "    #assume double linked\n",
    "    #we can scan thru and return new LL\n",
    "    #or we can use a set to keep track of uniques\n",
    "    if ll.next_ptr is None:\n",
    "        return ll\n",
    "    uniques = set()\n",
    "    temp = ll\n",
    "    while temp:\n",
    "        if temp.value not in uniques:\n",
    "            uniques.add(temp.value)\n",
    "        else:\n",
    "            temp.prev_ptr.next_ptr = temp.next_ptr\n",
    "            temp.next_ptr.prev_ptr = temp.prev_ptr\n",
    "        temp = temp.next_ptr\n",
    "        \n",
    "        \n",
    "def remove_dups_no_buffer(ll):\n",
    "    #all we can do is scan the remaining list from a starting point\n",
    "    if ll.next_ptr is None:\n",
    "        return ll\n",
    "    temp = ll\n",
    "    while temp:\n",
    "        temp2 = temp.next_ptr\n",
    "        while temp2:\n",
    "            if temp2.value == temp.value:\n",
    "                temp2.prev_ptr.next_ptr = temp2.next_ptr\n",
    "                temp2.next_ptr.prev_ptr = temp2.prev_ptr\n",
    "            temp2=temp2.next_ptr\n",
    "        temp = temp.next_ptr\n",
    "        "
   ]
  }
 ],
 "metadata": {
  "anaconda-cloud": {},
  "kernelspec": {
   "display_name": "Python [default]",
   "language": "python",
   "name": "python3"
  },
  "language_info": {
   "codemirror_mode": {
    "name": "ipython",
    "version": 3
   },
   "file_extension": ".py",
   "mimetype": "text/x-python",
   "name": "python",
   "nbconvert_exporter": "python",
   "pygments_lexer": "ipython3",
   "version": "3.5.2"
  }
 },
 "nbformat": 4,
 "nbformat_minor": 2
}
