{
 "cells": [
  {
   "cell_type": "code",
   "execution_count": 10,
   "metadata": {
    "collapsed": true
   },
   "outputs": [],
   "source": [
    "#prob 1.4\n",
    "def palindrome_permutation(_string):\n",
    "    #if length is odd, there can be at most one unique letter with odd count\n",
    "    #if length is even, we need all of them to have even letter count\n",
    "    count = {}\n",
    "    _string = \"\".join(_string.split())\n",
    "    for char in _string:\n",
    "        if char not in count:\n",
    "            count[char] = 1\n",
    "        else:\n",
    "            count[char] +=1\n",
    "    if len(_string) % 2 == 0:\n",
    "        for _,v in count.items():\n",
    "            if v%2!=0:\n",
    "                return False\n",
    "    else:\n",
    "        found_odd = False\n",
    "        for _,v in count.items():\n",
    "            if v % 2 != 0 and not found_odd:\n",
    "                found_odd = True\n",
    "            elif v % 2 != 0 and found_odd:\n",
    "                return False\n",
    "    return True\n",
    "    "
   ]
  },
  {
   "cell_type": "code",
   "execution_count": 12,
   "metadata": {
    "collapsed": false
   },
   "outputs": [
    {
     "data": {
      "text/plain": [
       "True"
      ]
     },
     "execution_count": 12,
     "metadata": {},
     "output_type": "execute_result"
    }
   ],
   "source": [
    "palindrome_permutation('taco cat')"
   ]
  },
  {
   "cell_type": "code",
   "execution_count": 57,
   "metadata": {
    "collapsed": true
   },
   "outputs": [],
   "source": [
    "#prob 1.5\n",
    "def one_replace(s1,s2):\n",
    "    # see if we can replace one letter to make them same\n",
    "    diff = False\n",
    "    for i in range(len(s1)):\n",
    "        if s1[i]!=s2[i]:\n",
    "            if diff:\n",
    "                return False\n",
    "            diff = True\n",
    "    return True\n",
    "def one_insert_remove(s1,s2):\n",
    "    # see if we can remove/insert one to make them same\n",
    "    i = 0\n",
    "    j = 0\n",
    "    while(i<len(s1) and j<len(s2)):\n",
    "        if s1[i] != s2[j]:\n",
    "            if i != j:\n",
    "                return False\n",
    "            j +=1\n",
    "        else:\n",
    "            j+=1\n",
    "            i+=1\n",
    "    return True\n",
    "def one_away(s1, s2):\n",
    "    if len(s1) == len(s2):\n",
    "        return one_replace(s1,s2)\n",
    "    elif len(s1)+1 == len(s2):\n",
    "        return one_insert_remove(s1,s2)\n",
    "    elif len(s1)-1 == len(s2):\n",
    "        return one_insert_remove(s2,s1)\n",
    "    else:\n",
    "        return False"
   ]
  },
  {
   "cell_type": "code",
   "execution_count": 58,
   "metadata": {
    "collapsed": false
   },
   "outputs": [
    {
     "data": {
      "text/plain": [
       "True"
      ]
     },
     "execution_count": 58,
     "metadata": {},
     "output_type": "execute_result"
    }
   ],
   "source": [
    "one_away('apple','aple')"
   ]
  },
  {
   "cell_type": "code",
   "execution_count": 67,
   "metadata": {
    "collapsed": true
   },
   "outputs": [],
   "source": [
    "# prob 1.6\n",
    "def compress(string):\n",
    "    count = {}\n",
    "    for char in string:\n",
    "        if char not in count:\n",
    "            count[char]=1\n",
    "        else:\n",
    "            count[char]+=1\n",
    "    res = []\n",
    "    #print(count)\n",
    "    for k,v in count.items():\n",
    "        res.append(str(k)+str(v))\n",
    "    #print(res)\n",
    "    res = \"\".join(res)\n",
    "    if len(string) <= len(res):\n",
    "        return string\n",
    "    return res"
   ]
  },
  {
   "cell_type": "code",
   "execution_count": 68,
   "metadata": {
    "collapsed": false
   },
   "outputs": [
    {
     "name": "stdout",
     "output_type": "stream",
     "text": [
      "{'a': 5, 'b': 1, 'c': 5}\n",
      "['a5', 'b1', 'c5']\n"
     ]
    },
    {
     "data": {
      "text/plain": [
       "'a5b1c5'"
      ]
     },
     "execution_count": 68,
     "metadata": {},
     "output_type": "execute_result"
    }
   ],
   "source": [
    "compress('aabcccccaaa')"
   ]
  },
  {
   "cell_type": "code",
   "execution_count": 166,
   "metadata": {
    "collapsed": true
   },
   "outputs": [],
   "source": [
    "def rotate_90(matrix):\n",
    "    first_r = 0\n",
    "    last_r = len(matrix[0])-1\n",
    "    first_c =0\n",
    "    last_c = len(matrix)-1\n",
    "    level = 0\n",
    "    while(last_r > first_r):\n",
    "        #top row\n",
    "        temp = matrix[first_r][first_c:last_c]\n",
    "        #print(last_r,first_r)\n",
    "        row_idx = last_r\n",
    "        col_off = 0\n",
    "        while(col_off+level < last_c):\n",
    "            #print(col_off,last_c)\n",
    "            #left to top\n",
    "            matrix[first_r][first_c + col_off] = matrix[row_idx-col_off][first_c]\n",
    "            #bot to left\n",
    "            matrix[row_idx-col_off][first_c] = matrix[last_r][last_c-col_off]\n",
    "            #right to bot\n",
    "            matrix[last_r][last_c-col_off] = matrix[first_r+col_off][last_c]\n",
    "            #top to right\n",
    "            #print(temp)\n",
    "            if col_off < len(temp):\n",
    "                matrix[first_r+col_off][last_c] = temp[col_off]\n",
    "            col_off +=1\n",
    "            #row_idx -=1\n",
    "            #for r in matrix:\n",
    "            #    print(r)\n",
    "            #print(\"\")\n",
    "        last_r -=1\n",
    "        last_c -=1\n",
    "        level +=1\n",
    "        first_r +=1\n",
    "        first_c +=1\n",
    "    return matrix"
   ]
  },
  {
   "cell_type": "code",
   "execution_count": 167,
   "metadata": {
    "collapsed": false
   },
   "outputs": [
    {
     "name": "stdout",
     "output_type": "stream",
     "text": [
      "[1, 2, 3, 4]\n",
      "[5, 6, 7, 8]\n",
      "[9, 10, 11, 12]\n",
      "[13, 14, 15, 16]\n"
     ]
    }
   ],
   "source": [
    "matrix = [[1,2,3,4],[5,6,7,8],[9,10,11,12],[13,14,15,16]]\n",
    "for r in matrix:\n",
    "    print(r)"
   ]
  },
  {
   "cell_type": "code",
   "execution_count": 168,
   "metadata": {
    "collapsed": false
   },
   "outputs": [
    {
     "name": "stdout",
     "output_type": "stream",
     "text": [
      "[13, 9, 5, 1]\n",
      "[14, 10, 6, 2]\n",
      "[15, 11, 7, 3]\n",
      "[16, 12, 8, 4]\n"
     ]
    }
   ],
   "source": [
    "for r in rotate_90(matrix):\n",
    "    print(r)"
   ]
  },
  {
   "cell_type": "code",
   "execution_count": 192,
   "metadata": {
    "collapsed": true
   },
   "outputs": [],
   "source": [
    "# prob 1.8\n",
    "def zero_matrix(matrix):\n",
    "    i = 0\n",
    "    zero_row = set()\n",
    "    zero_col = set()\n",
    "    while i < len(matrix):\n",
    "        j = 0\n",
    "        while j < len(matrix[0]):\n",
    "            if matrix[i][j] == 0:\n",
    "                zero_row.add(i)\n",
    "                zero_col.add(j)\n",
    "                break\n",
    "            j += 1\n",
    "        i += 1\n",
    "    for rows in zero_row:\n",
    "        matrix[rows][:] = [0]*len(matrix)\n",
    "    for cols in zero_col:\n",
    "        for row in matrix:\n",
    "            row[cols] = 0\n",
    "    return matrix"
   ]
  },
  {
   "cell_type": "code",
   "execution_count": 193,
   "metadata": {
    "collapsed": false
   },
   "outputs": [
    {
     "name": "stdout",
     "output_type": "stream",
     "text": [
      "[1, 2, 3, 4]\n",
      "[0, 2, 3, 4]\n",
      "[1, 2, 3, 4]\n",
      "[1, 2, 3, 4]\n"
     ]
    }
   ],
   "source": [
    "z_mat = [[1,2,3,4],[0,2,3,4],[1,2,3,4],[1,2,3,4]]\n",
    "for r in z_mat:\n",
    "    print(r)"
   ]
  },
  {
   "cell_type": "code",
   "execution_count": 194,
   "metadata": {
    "collapsed": false
   },
   "outputs": [
    {
     "name": "stdout",
     "output_type": "stream",
     "text": [
      "[0, 2, 3, 4]\n",
      "[0, 0, 0, 0]\n",
      "[0, 2, 3, 4]\n",
      "[0, 2, 3, 4]\n"
     ]
    }
   ],
   "source": [
    "for r in zero_matrix(z_mat):\n",
    "    print(r)"
   ]
  },
  {
   "cell_type": "code",
   "execution_count": 200,
   "metadata": {
    "collapsed": true
   },
   "outputs": [],
   "source": [
    "#prob 1.9\n",
    "def is_rotation(s1,s2):\n",
    "    return s2 in s1+s1"
   ]
  },
  {
   "cell_type": "code",
   "execution_count": 204,
   "metadata": {
    "collapsed": false
   },
   "outputs": [
    {
     "data": {
      "text/plain": [
       "False"
      ]
     },
     "execution_count": 204,
     "metadata": {},
     "output_type": "execute_result"
    }
   ],
   "source": [
    "is_rotation('waterbottle', 'rebottlewat')"
   ]
  },
  {
   "cell_type": "code",
   "execution_count": 114,
   "metadata": {
    "collapsed": true
   },
   "outputs": [],
   "source": [
    "#ch2 things\n",
    "class Node:\n",
    "    def __init__(self,value,next_ptr=None,prev_ptr=None):\n",
    "        self.value = value\n",
    "        self.next_ptr = next_ptr\n",
    "        self.prev_ptr = prev_ptr\n",
    "class DoublyLinkedList:\n",
    "    def __init__(self, value):\n",
    "        node = Node(value)\n",
    "        self.head = node\n",
    "        self.tail = node\n",
    "    def __repr__(self):\n",
    "        temp = self.head\n",
    "        res = []\n",
    "        while(temp):\n",
    "            res.append(str(temp.value))\n",
    "            temp=temp.next_ptr\n",
    "        return \", \".join(res)\n",
    "    def add(self,value):\n",
    "        #add to end\n",
    "        node = Node(value)\n",
    "        if self.tail is None:\n",
    "            self.tail = node\n",
    "            self.head = node\n",
    "        else:\n",
    "            temp = self.tail\n",
    "            self.tail = node\n",
    "            temp.next_ptr=self.tail\n",
    "            self.tail.next_ptr = None\n",
    "            self.tail.prev_ptr = temp\n",
    "    def remove(self,value):\n",
    "        temp = self.head\n",
    "        while temp:\n",
    "            if temp.value == value:\n",
    "                #head\n",
    "                if temp.prev_ptr is None:\n",
    "                    self.head = None\n",
    "                    self.tail = None\n",
    "                #tail\n",
    "                elif temp.next_ptr is None:\n",
    "                    self.tail = self.tail.prev_ptr\n",
    "                    self.tail.next_ptr = None\n",
    "                else:\n",
    "                #general case\n",
    "                    temp.prev_ptr.next_ptr = temp.next_ptr\n",
    "                    temp.next_ptr.prev_ptr = temp.prev_ptr\n",
    "            temp = temp.next_ptr\n",
    "        return False\n",
    "    \n",
    "class SingleLinkedList:\n",
    "    def __init__(self, value):\n",
    "        node = Node(value)\n",
    "        self.head = node\n",
    "    def __repr__(self):\n",
    "        temp = self.head\n",
    "        res = []\n",
    "        while(temp):\n",
    "            res.append(str(temp.value))\n",
    "            temp=temp.next_ptr\n",
    "        return \", \".join(res)\n",
    "    def add(self, value):\n",
    "        node = Node(value)\n",
    "        temp = self.head\n",
    "        self.head = node\n",
    "        self.head.next_ptr = temp\n",
    "    def remove(self,value):\n",
    "        if self.head.next_ptr is None and self.head.value == value:\n",
    "            self.head = None\n",
    "            return\n",
    "        temp = self.head\n",
    "        while temp:\n",
    "            prev = temp\n",
    "            if temp.value == value:\n",
    "                prev.next_ptr = temp.next_ptr\n",
    "                break\n",
    "            temp = temp.next_ptr\n",
    "    "
   ]
  },
  {
   "cell_type": "code",
   "execution_count": 115,
   "metadata": {
    "collapsed": true
   },
   "outputs": [],
   "source": [
    "#prob 2.1\n",
    "def remove_dups(ll):\n",
    "    #assume double linked\n",
    "    #we can scan thru and return new LL\n",
    "    #or we can use a set to keep track of uniques\n",
    "    if ll.head.next_ptr is None:\n",
    "        return ll\n",
    "    uniques = set()\n",
    "    temp = ll.head\n",
    "    while temp:\n",
    "        if temp.value not in uniques:\n",
    "            uniques.add(temp.value)\n",
    "        else:\n",
    "            temp.prev_ptr.next_ptr = temp.next_ptr\n",
    "            if temp.next_ptr:\n",
    "                temp.next_ptr.prev_ptr = temp.prev_ptr\n",
    "        temp = temp.next_ptr\n",
    "        \n",
    "        \n",
    "def remove_dups_no_buffer(ll):\n",
    "    #all we can do is scan the remaining list from a starting point\n",
    "    if ll.head.next_ptr is None:\n",
    "        return ll\n",
    "    temp = ll.head\n",
    "    while temp:\n",
    "        temp2 = temp.next_ptr\n",
    "        while temp2:\n",
    "            if temp2.value == temp.value:\n",
    "                print('removing value ', temp2.value)\n",
    "                temp2.prev_ptr.next_ptr = temp2.next_ptr\n",
    "                if temp2.next_ptr:\n",
    "                    temp2.next_ptr.prev_ptr = temp2.prev_ptr\n",
    "            temp2=temp2.next_ptr\n",
    "        temp = temp.next_ptr\n",
    "        "
   ]
  },
  {
   "cell_type": "code",
   "execution_count": 116,
   "metadata": {
    "collapsed": true
   },
   "outputs": [],
   "source": [
    "ll = DoublyLinkedList(1)"
   ]
  },
  {
   "cell_type": "code",
   "execution_count": 117,
   "metadata": {
    "collapsed": false
   },
   "outputs": [
    {
     "name": "stdout",
     "output_type": "stream",
     "text": [
      "1, 2, 3, 4, 5, 6, 7, 8, 9, 10, 11, 12, 13, 14, 15, 16, 17, 18, 19, 20, 21, 22, 23, 24, 25, 26, 27, 28, 29, 30, 31, 32, 33, 34, 35, 36, 37, 38, 39, 2, 5, 7\n"
     ]
    }
   ],
   "source": [
    "for i in range(2,40):\n",
    "    ll.add(i)\n",
    "ll.add(2)\n",
    "ll.add(5)\n",
    "ll.add(7)\n",
    "print(ll)"
   ]
  },
  {
   "cell_type": "code",
   "execution_count": 118,
   "metadata": {
    "collapsed": true
   },
   "outputs": [],
   "source": [
    "remove_dups(ll)"
   ]
  },
  {
   "cell_type": "code",
   "execution_count": 119,
   "metadata": {
    "collapsed": true
   },
   "outputs": [],
   "source": [
    "remove_dups_no_buffer(ll)"
   ]
  },
  {
   "cell_type": "code",
   "execution_count": 125,
   "metadata": {
    "collapsed": true
   },
   "outputs": [],
   "source": [
    "ll2 = SingleLinkedList(1)\n",
    "for i in range(2,40):\n",
    "    ll2.add(i)"
   ]
  },
  {
   "cell_type": "code",
   "execution_count": 126,
   "metadata": {
    "collapsed": false
   },
   "outputs": [
    {
     "name": "stdout",
     "output_type": "stream",
     "text": [
      "39, 38, 37, 36, 35, 34, 33, 32, 31, 30, 29, 28, 27, 26, 25, 24, 23, 22, 21, 20, 19, 18, 17, 16, 15, 14, 13, 12, 11, 10, 9, 8, 7, 6, 5, 4, 3, 2, 1\n"
     ]
    }
   ],
   "source": [
    "print(ll2)"
   ]
  },
  {
   "cell_type": "code",
   "execution_count": 134,
   "metadata": {
    "collapsed": true
   },
   "outputs": [],
   "source": [
    "#prob 2.2\n",
    "def k_last(ll, k):\n",
    "    #have 2 pointers advance one k spots, then have another from head \n",
    "    #advance both until first reaches last, return the second\n",
    "    #if k == 0 then return last, k==1, return second to last\n",
    "    if k<0:\n",
    "        print('what???')\n",
    "        return\n",
    "    first_ptr = ll.head\n",
    "    for i in range(0, k):\n",
    "        first_ptr = first_ptr.next_ptr\n",
    "    \n",
    "    second_ptr=ll.head\n",
    "    while first_ptr.next_ptr:\n",
    "        first_ptr = first_ptr.next_ptr\n",
    "        second_ptr=second_ptr.next_ptr\n",
    "    return second_ptr.value"
   ]
  },
  {
   "cell_type": "code",
   "execution_count": 135,
   "metadata": {
    "collapsed": false
   },
   "outputs": [
    {
     "name": "stdout",
     "output_type": "stream",
     "text": [
      "4\n"
     ]
    }
   ],
   "source": [
    "print(k_last(ll2,3))"
   ]
  },
  {
   "cell_type": "code",
   "execution_count": 137,
   "metadata": {
    "collapsed": true
   },
   "outputs": [],
   "source": [
    "#prob 2.3\n",
    "def delete_middle(ll,value):\n",
    "    temp = ll.head\n",
    "    prev = temp\n",
    "    while temp.value != value:\n",
    "        prev = temp\n",
    "        temp=temp.next_ptr\n",
    "    prev.next_ptr = temp.next_ptr"
   ]
  },
  {
   "cell_type": "code",
   "execution_count": 138,
   "metadata": {
    "collapsed": true
   },
   "outputs": [],
   "source": [
    "delete_middle(ll2, 13)"
   ]
  },
  {
   "cell_type": "code",
   "execution_count": 140,
   "metadata": {
    "collapsed": false
   },
   "outputs": [
    {
     "name": "stdout",
     "output_type": "stream",
     "text": [
      "39, 38, 37, 36, 35, 34, 33, 32, 31, 30, 29, 28, 27, 26, 25, 24, 23, 22, 21, 20, 19, 18, 17, 16, 15, 14, 12, 11, 10, 9, 8, 7, 6, 5, 4, 3, 2, 1\n"
     ]
    }
   ],
   "source": [
    "print(ll2)"
   ]
  },
  {
   "cell_type": "code",
   "execution_count": 142,
   "metadata": {
    "collapsed": true
   },
   "outputs": [],
   "source": [
    "import random\n",
    "ll3 = SingleLinkedList(1)\n",
    "for i in range(2,50):\n",
    "    ll3.add(random.randint(1,100))"
   ]
  },
  {
   "cell_type": "code",
   "execution_count": 143,
   "metadata": {
    "collapsed": false
   },
   "outputs": [
    {
     "name": "stdout",
     "output_type": "stream",
     "text": [
      "39, 82, 78, 34, 7, 76, 93, 6, 15, 99, 91, 12, 50, 63, 97, 63, 25, 20, 78, 99, 48, 72, 94, 87, 66, 76, 16, 81, 14, 28, 44, 33, 96, 82, 60, 76, 93, 43, 97, 32, 66, 16, 44, 14, 33, 19, 11, 23, 1\n"
     ]
    }
   ],
   "source": [
    "print(ll3)"
   ]
  },
  {
   "cell_type": "code",
   "execution_count": 144,
   "metadata": {
    "collapsed": true
   },
   "outputs": [],
   "source": [
    "#prob 2.4\n",
    "def partition(ll, value):\n",
    "    #just return a new ll\n",
    "    #go thru ll, keep track of values less than and greater than value\n",
    "    less_than = []\n",
    "    greater_than = []\n",
    "    temp = ll.head\n",
    "    while temp:\n",
    "        if temp.value < value:\n",
    "            less_than.append(temp.value)\n",
    "        else:\n",
    "            greater_than.append(temp.value)\n",
    "        temp = temp.next_ptr\n",
    "    new_ll = SingleLinkedList(less_than[0])\n",
    "    for vals in less_than[1:]:\n",
    "        new_ll.add(vals)\n",
    "    new_ll.add(value)\n",
    "    for vals in greater_than:\n",
    "        new_ll.add(vals)\n",
    "    return new_ll"
   ]
  },
  {
   "cell_type": "code",
   "execution_count": 145,
   "metadata": {
    "collapsed": false
   },
   "outputs": [
    {
     "name": "stdout",
     "output_type": "stream",
     "text": [
      "23, 19, 33, 44, 66, 32, 97, 43, 93, 76, 60, 82, 96, 33, 44, 28, 81, 76, 66, 87, 94, 72, 48, 99, 78, 20, 25, 63, 97, 63, 50, 91, 99, 93, 76, 34, 78, 82, 39, 17, 1, 11, 14, 16, 14, 16, 12, 15, 6, 7\n"
     ]
    }
   ],
   "source": [
    "print(partition(ll3,17))"
   ]
  },
  {
   "cell_type": "code",
   "execution_count": 197,
   "metadata": {
    "collapsed": true
   },
   "outputs": [],
   "source": [
    "#2.5\n",
    "def parse_list(ll):\n",
    "    res = 0\n",
    "    i=0\n",
    "    temp = ll.head\n",
    "    while temp:\n",
    "        res += temp.value * (10 ** i)\n",
    "        temp = temp.next_ptr\n",
    "        i +=1\n",
    "    return res\n",
    "def sum_list(ll_1, ll_2):\n",
    "    _sum = parse_list(ll_1) + parse_list(ll_1)\n",
    "    res = []\n",
    "    while _sum > 0:\n",
    "        res.append(_sum%10)\n",
    "        _sum = (_sum - _sum%10)//10\n",
    "    new_ll = DoublyLinkedList(res[0])\n",
    "    for i in res[1:]:\n",
    "        new_ll.add(i)\n",
    "    return new_ll\n",
    "def parse_list_forward(ll):\n",
    "    #need to get the length first\n",
    "    length = -1\n",
    "    temp = ll.head\n",
    "    nums = []\n",
    "    res = 0\n",
    "    while temp:\n",
    "        length+=1\n",
    "        nums.append(temp.value)\n",
    "        temp = temp.next_ptr\n",
    "    #print(nums,length)\n",
    "    for num in nums:\n",
    "        res += num*(10**length)\n",
    "        length-=1\n",
    "    return res\n",
    "import math\n",
    "def sum_list_forward(ll_1, ll_2):\n",
    "    _sum = parse_list_forward(ll_1) + parse_list_forward(ll_2)\n",
    "    power = int(math.log10(_sum))\n",
    "    #print((_sum//(10**power)))\n",
    "    res = []\n",
    "    while _sum >0:\n",
    "        res.append(((_sum//(10**power))))\n",
    "        _sum = _sum % (10**power)\n",
    "        power -= 1\n",
    "    #print(res, power)\n",
    "    new_ll = DoublyLinkedList(res[0])\n",
    "    for i in res[1:]:\n",
    "        new_ll.add(i)\n",
    "    return new_ll"
   ]
  },
  {
   "cell_type": "code",
   "execution_count": 175,
   "metadata": {
    "collapsed": true
   },
   "outputs": [],
   "source": [
    "ll4 = DoublyLinkedList(1)\n",
    "ll4.add(2)\n",
    "ll4.add(2)"
   ]
  },
  {
   "cell_type": "code",
   "execution_count": 169,
   "metadata": {
    "collapsed": false
   },
   "outputs": [
    {
     "name": "stdout",
     "output_type": "stream",
     "text": [
      "1, 2, 2\n"
     ]
    }
   ],
   "source": [
    "print(ll4)"
   ]
  },
  {
   "cell_type": "code",
   "execution_count": 170,
   "metadata": {
    "collapsed": false
   },
   "outputs": [
    {
     "name": "stdout",
     "output_type": "stream",
     "text": [
      "221\n"
     ]
    }
   ],
   "source": [
    "print(parse_list(ll4))"
   ]
  },
  {
   "cell_type": "code",
   "execution_count": 171,
   "metadata": {
    "collapsed": false
   },
   "outputs": [
    {
     "name": "stdout",
     "output_type": "stream",
     "text": [
      "2, 4, 4\n"
     ]
    }
   ],
   "source": [
    "print(sum_list(ll4,ll4))"
   ]
  },
  {
   "cell_type": "code",
   "execution_count": 172,
   "metadata": {
    "collapsed": false
   },
   "outputs": [
    {
     "name": "stdout",
     "output_type": "stream",
     "text": [
      "[1, 2, 2] 2\n",
      "122\n"
     ]
    }
   ],
   "source": [
    "print(parse_list_forward(ll4))"
   ]
  },
  {
   "cell_type": "code",
   "execution_count": 198,
   "metadata": {
    "collapsed": false
   },
   "outputs": [
    {
     "name": "stdout",
     "output_type": "stream",
     "text": [
      "2, 4, 4\n"
     ]
    }
   ],
   "source": [
    "print(sum_list_forward(ll4,ll4))"
   ]
  },
  {
   "cell_type": "code",
   "execution_count": 229,
   "metadata": {
    "collapsed": true
   },
   "outputs": [],
   "source": [
    "#2.6\n",
    "def is_palindrome(ll):\n",
    "    stack = []\n",
    "    slow = ll.head\n",
    "    fast = ll.head\n",
    "    while fast and fast.next_ptr:\n",
    "        stack.append(slow.value)\n",
    "        slow= slow.next_ptr\n",
    "        fast = fast.next_ptr.next_ptr\n",
    "    # fast is not null -> odd\n",
    "    if fast:\n",
    "        slow = slow.next_ptr\n",
    "    while slow:\n",
    "        if stack.pop() != slow.value:\n",
    "            return False\n",
    "        slow = slow.next_ptr\n",
    "    return True"
   ]
  },
  {
   "cell_type": "code",
   "execution_count": 239,
   "metadata": {
    "collapsed": true
   },
   "outputs": [],
   "source": [
    "ll5 = SingleLinkedList('A')\n",
    "ll5.add('B')\n",
    "ll5.add('B')\n",
    "ll5.add('B')\n",
    "ll5.add('B')\n",
    "ll5.add('B')\n",
    "ll5.add('B')\n",
    "ll5.add('A')"
   ]
  },
  {
   "cell_type": "code",
   "execution_count": 240,
   "metadata": {
    "collapsed": false
   },
   "outputs": [
    {
     "name": "stdout",
     "output_type": "stream",
     "text": [
      "A, B, B, B, B, B, B, A\n"
     ]
    }
   ],
   "source": [
    "print(ll5)"
   ]
  },
  {
   "cell_type": "code",
   "execution_count": 241,
   "metadata": {
    "collapsed": false
   },
   "outputs": [
    {
     "data": {
      "text/plain": [
       "True"
      ]
     },
     "execution_count": 241,
     "metadata": {},
     "output_type": "execute_result"
    }
   ],
   "source": [
    "is_palindrome(ll5)"
   ]
  },
  {
   "cell_type": "code",
   "execution_count": 1,
   "metadata": {
    "collapsed": true
   },
   "outputs": [],
   "source": [
    "#2.7\n",
    "def get_len(ll):\n",
    "    res = 0\n",
    "    temp = ll.head\n",
    "    while temp:\n",
    "        res+=1\n",
    "        temp = temp.next_ptr\n",
    "    return res\n",
    "def intersection(ll1,ll2):\n",
    "    #given two singly linked ll, find if they intersect. if so return the intersecting node\n",
    "    #get the lengths of the lls, advance pointer of longer list by the difference in lengh\n",
    "    #then go one by one and see if the pointers are the same\n",
    "    len_1 = get_len(ll1)\n",
    "    len_2 = get_len(ll2)\n",
    "    start_1 = ll1.head\n",
    "    start_2 = ll2.head\n",
    "    if len_1>len_2:\n",
    "        for i in range(abs(len_1-len_2)):\n",
    "            start_1 = start_1.next_ptr\n",
    "    elif len_2>len_1:\n",
    "        for i in range(abs(len_1-len_2)):\n",
    "            start_2 = start_2.next_ptr\n",
    "    while start_1:\n",
    "        if start_1 is start_2:\n",
    "            return True\n",
    "        start_1 = start_1.next_ptr\n",
    "        start_2 = start_2.next_ptr\n",
    "    return False"
   ]
  },
  {
   "cell_type": "code",
   "execution_count": null,
   "metadata": {
    "collapsed": true
   },
   "outputs": [],
   "source": [
    "#2.8\n",
    "def loop_detection(ll):\n",
    "    \"\"\"\n",
    "       O -> O-> O-> O -> O -> O\n",
    "                    ^         |\n",
    "                    |         v\n",
    "                    O <- O <- O\n",
    "        Have two runners, slow moving one at a time, fast moving two at a time.\n",
    "        When they meet the first time, they will be the length of the \"tail\" away from the beginning of the loop\n",
    "        Get the length of the tail. \n",
    "        Do the runners\n",
    "        Advance from where they meet, the length of the tail\n",
    "    \"\"\"\n",
    "    tail_length = 0\n",
    "    visited = set()\n",
    "    temp = ll.head\n",
    "    loop_begin = None\n",
    "    while temp:\n",
    "        if temp not in visited:\n",
    "            visited.add(temp)\n",
    "        if temp in visited:\n",
    "            loop_begin = temp\n",
    "            break\n",
    "        temp = temp.next_ptr\n",
    "    if loop_begin:\n",
    "        return loop_begin\n",
    "    else:\n",
    "        return None"
   ]
  }
 ],
 "metadata": {
  "anaconda-cloud": {},
  "kernelspec": {
   "display_name": "Python [default]",
   "language": "python",
   "name": "python3"
  },
  "language_info": {
   "codemirror_mode": {
    "name": "ipython",
    "version": 3
   },
   "file_extension": ".py",
   "mimetype": "text/x-python",
   "name": "python",
   "nbconvert_exporter": "python",
   "pygments_lexer": "ipython3",
   "version": "3.5.2"
  }
 },
 "nbformat": 4,
 "nbformat_minor": 2
}
