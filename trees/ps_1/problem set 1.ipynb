{
 "cells": [
  {
   "cell_type": "code",
   "execution_count": 1,
   "metadata": {
    "collapsed": true
   },
   "outputs": [],
   "source": [
    "# python3\n",
    "\n",
    "import sys\n",
    "\n",
    "class Bracket:\n",
    "    def __init__(self, bracket_type, position):\n",
    "        self.bracket_type = bracket_type\n",
    "        self.position = position\n",
    "\n",
    "    def Match(self, c):\n",
    "        if self.bracket_type == '[' and c == ']':\n",
    "            return True\n",
    "        if self.bracket_type == '{' and c == '}':\n",
    "            return True\n",
    "        if self.bracket_type == '(' and c == ')':\n",
    "            return True\n",
    "        return False"
   ]
  },
  {
   "cell_type": "code",
   "execution_count": 52,
   "metadata": {
    "collapsed": false
   },
   "outputs": [],
   "source": [
    "def process_input(text):\n",
    "    opening_brackets_stack = []\n",
    "    for i, char in enumerate(text):\n",
    "        if char == '(' or char == '[' or char == '{':\n",
    "            # Process opening bracket, write your code here\n",
    "            opening_brackets_stack.append(Bracket(char,i))\n",
    "\n",
    "        if char == ')' or char == ']' or char == '}':\n",
    "            # Process closing bracket, write your code here\n",
    "            if len(opening_brackets_stack) ==0:\n",
    "                print(i+1)\n",
    "                return\n",
    "            last_open = opening_brackets_stack.pop()\n",
    "            if (last_open.bracket_type == '(' and char !=')') or (last_open.bracket_type == '[' and char !=']') or (last_open.bracket_type == '{' and char !='}'):\n",
    "                print(i+1)\n",
    "                return\n",
    "    # Printing answer, write your code here\n",
    "    if len(opening_brackets_stack) ==0:\n",
    "        print(\"Success\")\n",
    "    else:\n",
    "        print(opening_brackets_stack.pop().position+1)\n",
    "    return"
   ]
  },
  {
   "cell_type": "code",
   "execution_count": 95,
   "metadata": {
    "collapsed": false
   },
   "outputs": [],
   "source": [
    "class Node:\n",
    "    def __init__(self,key):\n",
    "        self.key = key\n",
    "        self.left = None\n",
    "        self.right = None\n",
    "    \n",
    "class TreeHeight:\n",
    "        def read(self):\n",
    "                self.n = 10\n",
    "                self.parent = list(map(int, \"9 7 5 5 2 9 9 9 2 -1\".split()))\n",
    "                self.dist =[]\n",
    "\n",
    "        def compute_height(self):\n",
    "            # Replace this code with a faster implementation\n",
    "            visited ={}\n",
    "            for i in range(0,self.n):\n",
    "                curr = self.parent[i]\n",
    "                curr_height = 0\n",
    "                print(visited)\n",
    "                #print(self.dist)\n",
    "                if curr == -1:\n",
    "                    self.dist.append(curr_height)\n",
    "                    visited[curr] = curr_height\n",
    "                    continue\n",
    "                while(curr!=-1):\n",
    "                    #print(curr in visited)\n",
    "                    if curr in visited:\n",
    "                        curr_height += visited[curr]\n",
    "                        self.dist.append(curr_height)\n",
    "                        break\n",
    "                    else:\n",
    "                        curr_height+=1\n",
    "                        visited[curr]= curr_height\n",
    "                        self.dist.append(curr_height)\n",
    "                        curr = self.parent[curr]\n",
    "            return max(self.dist)"
   ]
  },
  {
   "cell_type": "code",
   "execution_count": 96,
   "metadata": {
    "collapsed": false
   },
   "outputs": [
    {
     "name": "stdout",
     "output_type": "stream",
     "text": [
      "{}\n",
      "{9: 1}\n",
      "{9: 1, 7: 1}\n",
      "{9: 1, 5: 1, 7: 1}\n",
      "{9: 1, 5: 1, 7: 1}\n",
      "{9: 1, 2: 1, 5: 1, 7: 1}\n",
      "{9: 1, 2: 1, 5: 1, 7: 1}\n",
      "{9: 1, 2: 1, 5: 1, 7: 1}\n",
      "{9: 1, 2: 1, 5: 1, 7: 1}\n",
      "{9: 1, 2: 1, 5: 1, 7: 1}\n",
      "2\n"
     ]
    }
   ],
   "source": [
    "tree = TreeHeight()\n",
    "tree.read()\n",
    "print(tree.compute_height())"
   ]
  },
  {
   "cell_type": "code",
   "execution_count": null,
   "metadata": {
    "collapsed": true
   },
   "outputs": [],
   "source": []
  },
  {
   "cell_type": "code",
   "execution_count": null,
   "metadata": {
    "collapsed": true
   },
   "outputs": [],
   "source": []
  },
  {
   "cell_type": "code",
   "execution_count": null,
   "metadata": {
    "collapsed": true
   },
   "outputs": [],
   "source": []
  },
  {
   "cell_type": "code",
   "execution_count": null,
   "metadata": {
    "collapsed": true
   },
   "outputs": [],
   "source": []
  },
  {
   "cell_type": "code",
   "execution_count": null,
   "metadata": {
    "collapsed": true
   },
   "outputs": [],
   "source": []
  },
  {
   "cell_type": "code",
   "execution_count": null,
   "metadata": {
    "collapsed": true
   },
   "outputs": [],
   "source": []
  },
  {
   "cell_type": "code",
   "execution_count": 68,
   "metadata": {
    "collapsed": true
   },
   "outputs": [],
   "source": [
    "# python3\n",
    "class Request:\n",
    "    def __init__(self, arrival_time, process_time):\n",
    "        self.arrival_time = arrival_time\n",
    "        self.process_time = process_time\n",
    " \n",
    "class Response:\n",
    "    def __init__(self, dropped, start_time):\n",
    "        self.dropped = dropped\n",
    "        self.start_time = start_time\n",
    " \n",
    "class Buffer:\n",
    "    def __init__(self, size):\n",
    "        self.size = size\n",
    "        self.finish_time_ = []\n",
    " \n",
    "    def Process(self, request):\n",
    "        #nothing in buffer process immediately\n",
    "        #print(self.finish_time_)\n",
    "        if len(self.finish_time_) == 0:\n",
    "            self.finish_time_.append(request.arrival_time+request.process_time)\n",
    "            return Response(False, request.arrival_time)\n",
    "       \n",
    "        #before moving on, pop off all the finish times that are smaller than the new arrival time\n",
    "        while(len(self.finish_time_) > 0 and self.finish_time_[0]<=request.arrival_time):\n",
    "            self.finish_time_ = self.finish_time_[1:]\n",
    "       \n",
    "        #buffer is full drop pack\n",
    "        if len(self.finish_time_)==self.size:\n",
    "            return Response(True,0)\n",
    "        elif len(self.finish_time_) == 0:\n",
    "            self.finish_time_.append(request.arrival_time+request.process_time)\n",
    "            return Response(False, request.arrival_time)\n",
    "        else:\n",
    "            self.finish_time_.append(self.finish_time_[-1] + request.process_time)\n",
    "            return Response(False,self.finish_time_[-1])\n",
    " \n",
    "def ReadRequests(count):\n",
    "    requests = []\n",
    "    for i in range(count):\n",
    "        arrival_time, process_time = map(int, input().strip().split())\n",
    "        requests.append(Request(arrival_time, process_time))\n",
    "    return requests\n",
    " \n",
    "def ProcessRequests(requests, buffer):\n",
    "    responses = []\n",
    "    for request in requests:\n",
    "        responses.append(buffer.Process(request))\n",
    "    return responses\n",
    " \n",
    "def PrintResponses(responses):\n",
    "    for response in responses:\n",
    "        print(response.start_time if not response.dropped else -1)\n"
   ]
  },
  {
   "cell_type": "code",
   "execution_count": null,
   "metadata": {
    "collapsed": true
   },
   "outputs": [],
   "source": [
    "if __name__ == \"__main__\":\n",
    "    size, count = map(int, input().strip().split())\n",
    "    if count != 0:\n",
    "        requests = ReadRequests(count)\n",
    "        buffer = Buffer(size)\n",
    "        responses = ProcessRequests(requests, buffer)\n",
    "        PrintResponses(responses)\n",
    "    else:\n",
    "        print()\n"
   ]
  }
 ],
 "metadata": {
  "anaconda-cloud": {},
  "kernelspec": {
   "display_name": "Python [default]",
   "language": "python",
   "name": "python3"
  },
  "language_info": {
   "codemirror_mode": {
    "name": "ipython",
    "version": 3
   },
   "file_extension": ".py",
   "mimetype": "text/x-python",
   "name": "python",
   "nbconvert_exporter": "python",
   "pygments_lexer": "ipython3",
   "version": "3.5.2"
  }
 },
 "nbformat": 4,
 "nbformat_minor": 2
}
