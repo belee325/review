{
 "cells": [
  {
   "cell_type": "code",
   "execution_count": 3,
   "metadata": {
    "collapsed": false
   },
   "outputs": [
    {
     "name": "stderr",
     "output_type": "stream",
     "text": [
      "Exception in thread Thread-6:\n",
      "Traceback (most recent call last):\n",
      "  File \"C:\\Users\\Bummy\\Anaconda3\\lib\\threading.py\", line 914, in _bootstrap_inner\n",
      "    self.run()\n",
      "  File \"C:\\Users\\Bummy\\Anaconda3\\lib\\threading.py\", line 862, in run\n",
      "    self._target(*self._args, **self._kwargs)\n",
      "  File \"<ipython-input-3-73dc1de33eaf>\", line 42, in main\n",
      "    tree.read()\n",
      "  File \"<ipython-input-3-73dc1de33eaf>\", line 9, in read\n",
      "    self.n = int(sys.stdin.readline())\n",
      "ValueError: invalid literal for int() with base 10: ''\n",
      "\n"
     ]
    }
   ],
   "source": [
    "# python3\n",
    "\n",
    "import sys, threading\n",
    "sys.setrecursionlimit(10**6) # max depth of recursion\n",
    "threading.stack_size(2**27)  # new thread will get stack of such size\n",
    "\n",
    "class TreeOrders:\n",
    "    def read(self):\n",
    "        self.n = int(sys.stdin.readline())\n",
    "        self.key = [0 for i in range(self.n)]\n",
    "        self.left = [0 for i in range(self.n)]\n",
    "        self.right = [0 for i in range(self.n)]\n",
    "        for i in range(self.n):\n",
    "            [a, b, c] = map(int, sys.stdin.readline().split())\n",
    "            self.key[i] = a\n",
    "            self.left[i] = b\n",
    "            self.right[i] = c\n",
    "\n",
    "    def inOrder(self):\n",
    "        self.result = []\n",
    "        stack =[]\n",
    "        # we want to keep indices in the stack\n",
    "        stack.append(0)\n",
    "        curr = stack[-1]\n",
    "        while len(stack) >0:\n",
    "            #when we have left child push current onto stack\n",
    "            if self.left[curr] != -1:\n",
    "                hold = self.left[curr]\n",
    "                self.left[curr] = -1\n",
    "                curr = hold\n",
    "                stack.append(curr)\n",
    "            elif self.left[curr] == -1:\n",
    "                #there is no more left child\n",
    "                self.result.append(self.key[curr])\n",
    "                stack.pop()\n",
    "                # need to check if we have right\n",
    "                if self.right[curr]!= -1:\n",
    "                    hold = self.right[curr]\n",
    "                    self.right[curr] =-1\n",
    "                    curr = hold\n",
    "                    stack.append(curr)\n",
    "                else:\n",
    "                    if len(stack)>0: \n",
    "                        curr = stack[-1]\n",
    "        return self.result\n",
    "\n",
    "    def preOrder(self):\n",
    "        self.result = []\n",
    "        stack = []\n",
    "        \n",
    "        return self.result\n",
    "\n",
    "    def postOrder(self):\n",
    "        self.result = []\n",
    "        stack =[]\n",
    "        # we want to keep indices in the stack\n",
    "        stack.append(0)\n",
    "        curr = stack[-1]\n",
    "        while len(stack) >0:\n",
    "            #when we have left child push current onto stack\n",
    "            if self.left[curr] != -1:\n",
    "                hold = self.left[curr]\n",
    "                self.left[curr] = -1\n",
    "                curr = hold\n",
    "                stack.append(curr)\n",
    "            elif self.left[curr] == -1:\n",
    "                # need to check if we have right\n",
    "                if self.right[curr]!= -1:\n",
    "                    hold = self.right[curr]\n",
    "                    self.right[curr] =-1\n",
    "                    curr = hold\n",
    "                    stack.append(curr)\n",
    "                elif self.right[curr]== -1:\n",
    "                    self.result.append(self.key[curr])\n",
    "                    stack.pop()\n",
    "                    if len(stack)>0: \n",
    "                        curr = stack[-1]\n",
    "        return self.result\n",
    "\n",
    "def main():\n",
    "    tree = TreeOrders()\n",
    "    tree.read()\n",
    "    print(\" \".join(str(x) for x in tree.inOrder()))\n",
    "    print(\" \".join(str(x) for x in tree.preOrder()))\n",
    "    print(\" \".join(str(x) for x in tree.postOrder()))\n",
    "\n",
    "threading.Thread(target=main).start()\n"
   ]
  },
  {
   "cell_type": "code",
   "execution_count": 4,
   "metadata": {
    "collapsed": true
   },
   "outputs": [],
   "source": [
    "lst =[]"
   ]
  },
  {
   "cell_type": "code",
   "execution_count": 5,
   "metadata": {
    "collapsed": false
   },
   "outputs": [
    {
     "ename": "IndexError",
     "evalue": "list index out of range",
     "output_type": "error",
     "traceback": [
      "\u001b[0;31m---------------------------------------------------------------------------\u001b[0m",
      "\u001b[0;31mIndexError\u001b[0m                                Traceback (most recent call last)",
      "\u001b[0;32m<ipython-input-5-3ae39df9c3c1>\u001b[0m in \u001b[0;36m<module>\u001b[0;34m()\u001b[0m\n\u001b[0;32m----> 1\u001b[0;31m \u001b[0ma\u001b[0m \u001b[1;33m=\u001b[0m \u001b[0mlst\u001b[0m\u001b[1;33m[\u001b[0m\u001b[1;33m-\u001b[0m\u001b[1;36m1\u001b[0m\u001b[1;33m]\u001b[0m\u001b[1;33m\u001b[0m\u001b[0m\n\u001b[0m",
      "\u001b[0;31mIndexError\u001b[0m: list index out of range"
     ]
    }
   ],
   "source": [
    "a = lst[-1]"
   ]
  },
  {
   "cell_type": "code",
   "execution_count": null,
   "metadata": {
    "collapsed": true
   },
   "outputs": [],
   "source": []
  }
 ],
 "metadata": {
  "anaconda-cloud": {},
  "kernelspec": {
   "display_name": "Python [default]",
   "language": "python",
   "name": "python3"
  },
  "language_info": {
   "codemirror_mode": {
    "name": "ipython",
    "version": 3
   },
   "file_extension": ".py",
   "mimetype": "text/x-python",
   "name": "python",
   "nbconvert_exporter": "python",
   "pygments_lexer": "ipython3",
   "version": "3.5.2"
  }
 },
 "nbformat": 4,
 "nbformat_minor": 2
}
