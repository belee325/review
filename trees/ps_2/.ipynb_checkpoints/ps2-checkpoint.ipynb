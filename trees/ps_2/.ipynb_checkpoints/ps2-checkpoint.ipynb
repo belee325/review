{
 "cells": [
  {
   "cell_type": "code",
   "execution_count": 22,
   "metadata": {
    "collapsed": true
   },
   "outputs": [],
   "source": [
    "class HeapBuilder:\n",
    "  def __init__(self):\n",
    "    self._swaps = []\n",
    "    self._data = []\n",
    "\n",
    "  def ReadData(self):\n",
    "    n = int(input())\n",
    "    self._data = [int(s) for s in input().split()]\n",
    "    assert n == len(self._data)\n",
    "\n",
    "  def WriteResponse(self):\n",
    "    print(len(self._swaps))\n",
    "    for swap in self._swaps:\n",
    "      print(swap[0], swap[1])\n",
    "\n",
    "  def GenerateSwaps(self):\n",
    "    # The following naive implementation just sorts \n",
    "    # the given sequence using selection sort algorithm\n",
    "    # and saves the resulting sequence of swaps.\n",
    "    # This turns the given array into a heap, \n",
    "    # but in the worst case gives a quadratic number of swaps.\n",
    "    #\n",
    "    # TODO: replace by a more efficient implementation\n",
    "    #for i in range(len(self._data)):\n",
    "    # for j in range(i + 1, len(self._data)):\n",
    "    #    if self._data[i] > self._data[j]:\n",
    "    #      self._swaps.append((i, j))\n",
    "    #      self._data[i], self._data[j] = self._data[j], self._data[i]\n",
    "    for i in reversed(range(0,len(self._data)//2)):\n",
    "        while True:\n",
    "            #left child = 2i + 1, right child = 2i +2\n",
    "            min_idx = i\n",
    "            left = 2*i+1\n",
    "            right = left + 1\n",
    "            if left < len(self._data) and self._data[min_idx] >= self._data[left]:\n",
    "                min_idx = left \n",
    "            if right < len(self._data) and self._data[min_idx] >= self._data[right]: \n",
    "                min_idx = right\n",
    "            if min_idx != i:\n",
    "                self._data[i],self._data[min_idx] = self._data[min_idx],self._data[i]\n",
    "                self._swaps.append((i,min_idx))\n",
    "                i = min_idx\n",
    "            else:\n",
    "                break\n",
    "    return\n",
    "    \n",
    "  def Solve(self):\n",
    "    self.ReadData()\n",
    "    self.GenerateSwaps()\n",
    "    self.WriteResponse()\n"
   ]
  },
  {
   "cell_type": "code",
   "execution_count": 24,
   "metadata": {
    "collapsed": false
   },
   "outputs": [
    {
     "name": "stdout",
     "output_type": "stream",
     "text": [
      "5\n",
      "1 2 3 4 5\n",
      "0\n"
     ]
    }
   ],
   "source": [
    "if __name__ == '__main__':\n",
    "    heap_builder = HeapBuilder()\n",
    "    heap_builder.Solve()"
   ]
  },
  {
   "cell_type": "code",
   "execution_count": 14,
   "metadata": {
    "collapsed": true
   },
   "outputs": [],
   "source": [
    "import heapq\n",
    "class JobQueue:\n",
    "    \n",
    "    def read_data(self):\n",
    "        self.num_workers, m = map(int, input().split())\n",
    "        self.jobs = list(map(int, input().split()))\n",
    "        assert m == len(self.jobs)\n",
    "\n",
    "    def write_response(self):\n",
    "        for i in range(len(self.jobs)):\n",
    "            print(self.assigned_workers[i], self.start_times[i])\n",
    "\n",
    "    def assign_jobs(self):\n",
    "        # TODO: replace this code with a faster algorithm.\n",
    "        self.assigned_workers = [None] * len(self.jobs)\n",
    "        self.start_times = [None] * len(self.jobs)\n",
    "        next_free_time = [[x, 0] for x in range(self.num_workers)]\n",
    "        #heapq.heapify(next_free_time)\n",
    "        for i in range(len(self.jobs)):\n",
    "            #print(next_free_time)\n",
    "            next_worker = next_free_time[0]\n",
    "            self.assigned_workers[i] = next_free_time[0][0]\n",
    "            self.start_times[i] = next_free_time[0][1]\n",
    "            next_free_time[0][1] += self.jobs[i]\n",
    "            #heapq.heapify(next_free_time)\n",
    "            self.sift_down(next_free_time, 0)\n",
    "            #print(\"swapped\",next_free_time)\n",
    "    def sift_down(arr, idx):\n",
    "            min_idx = idx\n",
    "            left = 2 * idx + 1\n",
    "            right = left + 1\n",
    "            if left < len(arr) and (arr[left][1]<arr[min_idx][1]  or (arr[min_idx][1] == arr[left][1] and\n",
    "                                                                      arr[min_idx][0] > arr[left][0])):\n",
    "                min_idx = left\n",
    "            if right < len(arr) and (arr[right][1]<arr[min_idx][1]  or (arr[min_idx][1] == arr[right][1] and\n",
    "                                                                      arr[min_idx][0] > arr[right][0])):\n",
    "                min_idx = right\n",
    "            if min_idx != i:\n",
    "                next_free_time[min_idx], next_free_time[i] = next_free_time[i], next_free_time[min_idx]\n",
    "                i = min_idx\n",
    "    def solve(self):\n",
    "        self.read_data()\n",
    "        self.assign_jobs()\n",
    "        self.write_response()"
   ]
  },
  {
   "cell_type": "code",
   "execution_count": 18,
   "metadata": {
    "collapsed": false,
    "scrolled": true
   },
   "outputs": [
    {
     "name": "stdout",
     "output_type": "stream",
     "text": [
      "2 5\n",
      "5 4 1 1 2 \n",
      "0 0\n",
      "1 0\n",
      "1 4\n",
      "0 5\n",
      "1 5\n"
     ]
    }
   ],
   "source": [
    "if __name__ == '__main__':\n",
    "    job_queue = JobQueue()\n",
    "    job_queue.solve()"
   ]
  },
  {
   "cell_type": "code",
   "execution_count": 10,
   "metadata": {
    "collapsed": true
   },
   "outputs": [],
   "source": [
    "import sys"
   ]
  },
  {
   "cell_type": "code",
   "execution_count": 11,
   "metadata": {
    "collapsed": true
   },
   "outputs": [],
   "source": [
    "def getParent(idx):\n",
    "    # find parent and compress path\n",
    "    if idx != parent[idx]:\n",
    "        parent[idx] = getParent(parent[idx])\n",
    "    return parent[idx]\n",
    "\n",
    "def merge(destination, source):\n",
    "    realDestination, realSource = getParent(destination), getParent(source)\n",
    "    \n",
    "    if realDestination == realSource:\n",
    "        return False\n",
    "    \n",
    "    # merge two components\n",
    "    # use union by rank heuristic \n",
    "    # update ans with the new maximum table size\n",
    "    #attach lower rank tree to higher rank tree\n",
    "    if rank[realDestination] >= rank[realSource]:\n",
    "        lines[realDestination]+=lines[realSource]\n",
    "        lines[realSource] =0\n",
    "        parent[realSource] = realDestination \n",
    "    else:\n",
    "        lines[realSource]+=lines[realDestination]\n",
    "        lines[realDestination] =0\n",
    "        parent[realDestination] = realSource\n",
    "    if rank[realDestination] == rank[realSource]:\n",
    "        rank[realDestination] +=1\n",
    "    return True"
   ]
  },
  {
   "cell_type": "code",
   "execution_count": 12,
   "metadata": {
    "collapsed": false
   },
   "outputs": [
    {
     "name": "stdout",
     "output_type": "stream",
     "text": [
      " \n"
     ]
    },
    {
     "ename": "KeyboardInterrupt",
     "evalue": "",
     "output_type": "error",
     "traceback": [
      "\u001b[0;31m---------------------------------------------------------------------------\u001b[0m",
      "\u001b[0;31mKeyboardInterrupt\u001b[0m                         Traceback (most recent call last)",
      "\u001b[0;32mC:\\Users\\Bummy\\Anaconda3\\lib\\site-packages\\ipykernel\\kernelbase.py\u001b[0m in \u001b[0;36m_input_request\u001b[0;34m(self, prompt, ident, parent, password)\u001b[0m\n\u001b[1;32m    714\u001b[0m             \u001b[1;32mtry\u001b[0m\u001b[1;33m:\u001b[0m\u001b[1;33m\u001b[0m\u001b[0m\n\u001b[0;32m--> 715\u001b[0;31m                 \u001b[0mident\u001b[0m\u001b[1;33m,\u001b[0m \u001b[0mreply\u001b[0m \u001b[1;33m=\u001b[0m \u001b[0mself\u001b[0m\u001b[1;33m.\u001b[0m\u001b[0msession\u001b[0m\u001b[1;33m.\u001b[0m\u001b[0mrecv\u001b[0m\u001b[1;33m(\u001b[0m\u001b[0mself\u001b[0m\u001b[1;33m.\u001b[0m\u001b[0mstdin_socket\u001b[0m\u001b[1;33m,\u001b[0m \u001b[1;36m0\u001b[0m\u001b[1;33m)\u001b[0m\u001b[1;33m\u001b[0m\u001b[0m\n\u001b[0m\u001b[1;32m    716\u001b[0m             \u001b[1;32mexcept\u001b[0m \u001b[0mException\u001b[0m\u001b[1;33m:\u001b[0m\u001b[1;33m\u001b[0m\u001b[0m\n",
      "\u001b[0;32mC:\\Users\\Bummy\\Anaconda3\\lib\\site-packages\\jupyter_client\\session.py\u001b[0m in \u001b[0;36mrecv\u001b[0;34m(self, socket, mode, content, copy)\u001b[0m\n\u001b[1;32m    738\u001b[0m         \u001b[1;32mtry\u001b[0m\u001b[1;33m:\u001b[0m\u001b[1;33m\u001b[0m\u001b[0m\n\u001b[0;32m--> 739\u001b[0;31m             \u001b[0mmsg_list\u001b[0m \u001b[1;33m=\u001b[0m \u001b[0msocket\u001b[0m\u001b[1;33m.\u001b[0m\u001b[0mrecv_multipart\u001b[0m\u001b[1;33m(\u001b[0m\u001b[0mmode\u001b[0m\u001b[1;33m,\u001b[0m \u001b[0mcopy\u001b[0m\u001b[1;33m=\u001b[0m\u001b[0mcopy\u001b[0m\u001b[1;33m)\u001b[0m\u001b[1;33m\u001b[0m\u001b[0m\n\u001b[0m\u001b[1;32m    740\u001b[0m         \u001b[1;32mexcept\u001b[0m \u001b[0mzmq\u001b[0m\u001b[1;33m.\u001b[0m\u001b[0mZMQError\u001b[0m \u001b[1;32mas\u001b[0m \u001b[0me\u001b[0m\u001b[1;33m:\u001b[0m\u001b[1;33m\u001b[0m\u001b[0m\n",
      "\u001b[0;32mC:\\Users\\Bummy\\Anaconda3\\lib\\site-packages\\zmq\\sugar\\socket.py\u001b[0m in \u001b[0;36mrecv_multipart\u001b[0;34m(self, flags, copy, track)\u001b[0m\n\u001b[1;32m    394\u001b[0m         \"\"\"\n\u001b[0;32m--> 395\u001b[0;31m         \u001b[0mparts\u001b[0m \u001b[1;33m=\u001b[0m \u001b[1;33m[\u001b[0m\u001b[0mself\u001b[0m\u001b[1;33m.\u001b[0m\u001b[0mrecv\u001b[0m\u001b[1;33m(\u001b[0m\u001b[0mflags\u001b[0m\u001b[1;33m,\u001b[0m \u001b[0mcopy\u001b[0m\u001b[1;33m=\u001b[0m\u001b[0mcopy\u001b[0m\u001b[1;33m,\u001b[0m \u001b[0mtrack\u001b[0m\u001b[1;33m=\u001b[0m\u001b[0mtrack\u001b[0m\u001b[1;33m)\u001b[0m\u001b[1;33m]\u001b[0m\u001b[1;33m\u001b[0m\u001b[0m\n\u001b[0m\u001b[1;32m    396\u001b[0m         \u001b[1;31m# have first part already, only loop while more to receive\u001b[0m\u001b[1;33m\u001b[0m\u001b[1;33m\u001b[0m\u001b[0m\n",
      "\u001b[0;32mzmq/backend/cython/socket.pyx\u001b[0m in \u001b[0;36mzmq.backend.cython.socket.Socket.recv (zmq\\backend\\cython\\socket.c:7291)\u001b[0;34m()\u001b[0m\n",
      "\u001b[0;32mzmq/backend/cython/socket.pyx\u001b[0m in \u001b[0;36mzmq.backend.cython.socket.Socket.recv (zmq\\backend\\cython\\socket.c:7089)\u001b[0;34m()\u001b[0m\n",
      "\u001b[0;32mzmq/backend/cython/socket.pyx\u001b[0m in \u001b[0;36mzmq.backend.cython.socket._recv_copy (zmq\\backend\\cython\\socket.c:2041)\u001b[0;34m()\u001b[0m\n",
      "\u001b[0;32mC:\\Users\\Bummy\\Anaconda3\\lib\\site-packages\\zmq\\backend\\cython\\checkrc.pxd\u001b[0m in \u001b[0;36mzmq.backend.cython.checkrc._check_rc (zmq\\backend\\cython\\socket.c:9229)\u001b[0;34m()\u001b[0m\n",
      "\u001b[0;31mKeyboardInterrupt\u001b[0m: ",
      "\nDuring handling of the above exception, another exception occurred:\n",
      "\u001b[0;31mKeyboardInterrupt\u001b[0m                         Traceback (most recent call last)",
      "\u001b[0;32m<ipython-input-12-e1540dd6a6ee>\u001b[0m in \u001b[0;36m<module>\u001b[0;34m()\u001b[0m\n\u001b[0;32m----> 1\u001b[0;31m \u001b[0mn\u001b[0m\u001b[1;33m,\u001b[0m \u001b[0mm\u001b[0m \u001b[1;33m=\u001b[0m \u001b[0mmap\u001b[0m\u001b[1;33m(\u001b[0m\u001b[0mint\u001b[0m\u001b[1;33m,\u001b[0m \u001b[0minput\u001b[0m\u001b[1;33m(\u001b[0m\u001b[1;33m)\u001b[0m\u001b[1;33m.\u001b[0m\u001b[0msplit\u001b[0m\u001b[1;33m(\u001b[0m\u001b[1;33m)\u001b[0m\u001b[1;33m)\u001b[0m\u001b[1;33m\u001b[0m\u001b[0m\n\u001b[0m\u001b[1;32m      2\u001b[0m \u001b[0mlines\u001b[0m \u001b[1;33m=\u001b[0m \u001b[0mlist\u001b[0m\u001b[1;33m(\u001b[0m\u001b[0mmap\u001b[0m\u001b[1;33m(\u001b[0m\u001b[0mint\u001b[0m\u001b[1;33m,\u001b[0m \u001b[0minput\u001b[0m\u001b[1;33m(\u001b[0m\u001b[1;33m)\u001b[0m\u001b[1;33m.\u001b[0m\u001b[0msplit\u001b[0m\u001b[1;33m(\u001b[0m\u001b[1;33m)\u001b[0m\u001b[1;33m)\u001b[0m\u001b[1;33m)\u001b[0m\u001b[1;33m\u001b[0m\u001b[0m\n\u001b[1;32m      3\u001b[0m \u001b[0mrank\u001b[0m \u001b[1;33m=\u001b[0m \u001b[1;33m[\u001b[0m\u001b[1;36m1\u001b[0m\u001b[1;33m]\u001b[0m \u001b[1;33m*\u001b[0m \u001b[0mn\u001b[0m\u001b[1;33m\u001b[0m\u001b[0m\n\u001b[1;32m      4\u001b[0m \u001b[0mparent\u001b[0m \u001b[1;33m=\u001b[0m \u001b[0mlist\u001b[0m\u001b[1;33m(\u001b[0m\u001b[0mrange\u001b[0m\u001b[1;33m(\u001b[0m\u001b[1;36m0\u001b[0m\u001b[1;33m,\u001b[0m \u001b[0mn\u001b[0m\u001b[1;33m)\u001b[0m\u001b[1;33m)\u001b[0m\u001b[1;33m\u001b[0m\u001b[0m\n\u001b[1;32m      5\u001b[0m \u001b[0mans\u001b[0m \u001b[1;33m=\u001b[0m \u001b[0mmax\u001b[0m\u001b[1;33m(\u001b[0m\u001b[0mlines\u001b[0m\u001b[1;33m)\u001b[0m\u001b[1;33m\u001b[0m\u001b[0m\n",
      "\u001b[0;32mC:\\Users\\Bummy\\Anaconda3\\lib\\site-packages\\ipykernel\\kernelbase.py\u001b[0m in \u001b[0;36mraw_input\u001b[0;34m(self, prompt)\u001b[0m\n\u001b[1;32m    688\u001b[0m             \u001b[0mself\u001b[0m\u001b[1;33m.\u001b[0m\u001b[0m_parent_ident\u001b[0m\u001b[1;33m,\u001b[0m\u001b[1;33m\u001b[0m\u001b[0m\n\u001b[1;32m    689\u001b[0m             \u001b[0mself\u001b[0m\u001b[1;33m.\u001b[0m\u001b[0m_parent_header\u001b[0m\u001b[1;33m,\u001b[0m\u001b[1;33m\u001b[0m\u001b[0m\n\u001b[0;32m--> 690\u001b[0;31m             \u001b[0mpassword\u001b[0m\u001b[1;33m=\u001b[0m\u001b[1;32mFalse\u001b[0m\u001b[1;33m,\u001b[0m\u001b[1;33m\u001b[0m\u001b[0m\n\u001b[0m\u001b[1;32m    691\u001b[0m         )\n\u001b[1;32m    692\u001b[0m \u001b[1;33m\u001b[0m\u001b[0m\n",
      "\u001b[0;32mC:\\Users\\Bummy\\Anaconda3\\lib\\site-packages\\ipykernel\\kernelbase.py\u001b[0m in \u001b[0;36m_input_request\u001b[0;34m(self, prompt, ident, parent, password)\u001b[0m\n\u001b[1;32m    718\u001b[0m             \u001b[1;32mexcept\u001b[0m \u001b[0mKeyboardInterrupt\u001b[0m\u001b[1;33m:\u001b[0m\u001b[1;33m\u001b[0m\u001b[0m\n\u001b[1;32m    719\u001b[0m                 \u001b[1;31m# re-raise KeyboardInterrupt, to truncate traceback\u001b[0m\u001b[1;33m\u001b[0m\u001b[1;33m\u001b[0m\u001b[0m\n\u001b[0;32m--> 720\u001b[0;31m                 \u001b[1;32mraise\u001b[0m \u001b[0mKeyboardInterrupt\u001b[0m\u001b[1;33m\u001b[0m\u001b[0m\n\u001b[0m\u001b[1;32m    721\u001b[0m             \u001b[1;32melse\u001b[0m\u001b[1;33m:\u001b[0m\u001b[1;33m\u001b[0m\u001b[0m\n\u001b[1;32m    722\u001b[0m                 \u001b[1;32mbreak\u001b[0m\u001b[1;33m\u001b[0m\u001b[0m\n",
      "\u001b[0;31mKeyboardInterrupt\u001b[0m: "
     ]
    }
   ],
   "source": [
    "n, m = map(int, input().split())\n",
    "lines = list(map(int, input().split()))\n",
    "rank = [1] * n\n",
    "parent = list(range(0, n))\n",
    "ans = max(lines)\n",
    "\n",
    "for i in range(m):\n",
    "    destination, source = map(int, input().split())\n",
    "    merge(destination - 1, source - 1)\n",
    "    print(ans)"
   ]
  },
  {
   "cell_type": "code",
   "execution_count": null,
   "metadata": {
    "collapsed": true
   },
   "outputs": [],
   "source": []
  }
 ],
 "metadata": {
  "anaconda-cloud": {},
  "kernelspec": {
   "display_name": "Python [default]",
   "language": "python",
   "name": "python3"
  },
  "language_info": {
   "codemirror_mode": {
    "name": "ipython",
    "version": 3
   },
   "file_extension": ".py",
   "mimetype": "text/x-python",
   "name": "python",
   "nbconvert_exporter": "python",
   "pygments_lexer": "ipython3",
   "version": "3.5.2"
  }
 },
 "nbformat": 4,
 "nbformat_minor": 2
}
