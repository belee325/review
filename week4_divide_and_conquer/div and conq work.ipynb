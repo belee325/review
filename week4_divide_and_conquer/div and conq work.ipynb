{
 "cells": [
  {
   "cell_type": "code",
   "execution_count": 1,
   "metadata": {
    "collapsed": true
   },
   "outputs": [],
   "source": [
    "import sys"
   ]
  },
  {
   "cell_type": "code",
   "execution_count": 2,
   "metadata": {
    "collapsed": true
   },
   "outputs": [],
   "source": [
    "def binary_search(a, x):\n",
    "    left, right = 0, len(a)-1\n",
    "    while left<right:\n",
    "        mid = (right+left)//2\n",
    "        if x==a[mid]:\n",
    "            return mid\n",
    "        elif x<a[mid]:\n",
    "            right = mid -1\n",
    "        else:\n",
    "            left = mid+1\n",
    "    if x==a[left]:\n",
    "        return left\n",
    "    else:\n",
    "        return -1"
   ]
  },
  {
   "cell_type": "code",
   "execution_count": 3,
   "metadata": {
    "collapsed": true
   },
   "outputs": [],
   "source": [
    "def linear_search(a, x):\n",
    "    for i in range(len(a)):\n",
    "        if a[i] == x:\n",
    "            return i\n",
    "    return -1"
   ]
  },
  {
   "cell_type": "code",
   "execution_count": 4,
   "metadata": {},
   "outputs": [
    {
     "name": "stdout",
     "output_type": "stream",
     "text": [
      "2 0 -1 0 -1 \n",
      "-1 0 1 2 3 4 5 6 7 8 9 -1\n"
     ]
    }
   ],
   "source": [
    "a = list(map(int,\"1 5 8 12 13\".split()))\n",
    "x = list(map(int,\"8 1 23 1 11\".split()))\n",
    "for temp in x:\n",
    "    print(binary_search(a,temp), end=' ')\n",
    "print('\\n-1 0 1 2 3 4 5 6 7 8 9 -1')"
   ]
  },
  {
   "cell_type": "markdown",
   "metadata": {},
   "source": [
    "a = list(map(int,\"1 5 8 12 13\".split()))\n",
    "x = list(map(int,\"8 1 23 1 11\".split()))\n",
    "for temp in x:\n",
    "    print(binary_search(a,temp))"
   ]
  },
  {
   "cell_type": "code",
   "execution_count": 18,
   "metadata": {
    "collapsed": true
   },
   "outputs": [],
   "source": [
    "def get_majority_element(a):\n",
    "    if len(a) == 1:\n",
    "        return a[0]\n",
    "    if len(a) == 2:\n",
    "        if a[0] == a[1]:\n",
    "            return a[0]\n",
    "        else:\n",
    "            return -1\n",
    "    #write your code here\n",
    "    A = get_majority_element(a[0:len(a)//2])\n",
    "    B = get_majority_element(a[len(a)//2:])\n",
    "    print(A, B)\n",
    "    print(a.count(A)/len(a), a.count(B)/len(a))\n",
    "    if a.count(B)/len(a)>0.5:\n",
    "        return B\n",
    "    elif a.count(A)/len(a)>0.5:\n",
    "        return A\n",
    "    elif A == B:\n",
    "        return A\n",
    "    else:\n",
    "        return -1"
   ]
  },
  {
   "cell_type": "code",
   "execution_count": 19,
   "metadata": {
    "collapsed": true
   },
   "outputs": [],
   "source": [
    "seq = list(map(int,\"1 1 2 2 2 2\".split()))\n",
    "n = len(seq)"
   ]
  },
  {
   "cell_type": "code",
   "execution_count": 20,
   "metadata": {
    "collapsed": true
   },
   "outputs": [],
   "source": [
    "seq2 = list(map(int,\"2 2 2 3 1 1 1 1 1 2 2 2 2 2 2\".split()))\n",
    "n2 = len(seq2)"
   ]
  },
  {
   "cell_type": "code",
   "execution_count": 21,
   "metadata": {
    "collapsed": true
   },
   "outputs": [],
   "source": [
    "seq3=list(map(int,\"2 512766168 1 717383758 5 126144732 2 5 573799007 512 5 5 405079772 2 2 2 3 1 1 1 1 1 2 2 2 2 2 2 2 2 2 2 2 2 2\".split()))\n",
    "n3 = len(seq3) "
   ]
  },
  {
   "cell_type": "code",
   "execution_count": 22,
   "metadata": {},
   "outputs": [
    {
     "data": {
      "text/plain": [
       "35"
      ]
     },
     "execution_count": 22,
     "metadata": {},
     "output_type": "execute_result"
    }
   ],
   "source": [
    "n3"
   ]
  },
  {
   "cell_type": "code",
   "execution_count": 23,
   "metadata": {},
   "outputs": [
    {
     "name": "stdout",
     "output_type": "stream",
     "text": [
      "-1 -1\n",
      "0.0 0.0\n",
      "-1 -1\n",
      "0.0 0.0\n",
      "-1 -1\n",
      "0.0 0.0\n",
      "-1 5\n",
      "0.0 0.5\n",
      "2 -1\n",
      "0.6666666666666666 0.0\n",
      "-1 2\n",
      "0.0 0.6\n",
      "-1 2\n",
      "0.0 0.3333333333333333\n",
      "-1 -1\n",
      "0.0 0.0\n",
      "1 1\n",
      "1.0 1.0\n",
      "2 2\n",
      "1.0 1.0\n",
      "-1 2\n",
      "0.0 0.8\n",
      "1 2\n",
      "0.5555555555555556 0.4444444444444444\n",
      "2 2\n",
      "1.0 1.0\n",
      "2 2\n",
      "1.0 1.0\n",
      "2 2\n",
      "1.0 1.0\n",
      "2 2\n",
      "1.0 1.0\n",
      "1 2\n",
      "0.2777777777777778 0.7222222222222222\n",
      "-1 2\n",
      "0.0 0.5142857142857142\n"
     ]
    },
    {
     "data": {
      "text/plain": [
       "2"
      ]
     },
     "execution_count": 23,
     "metadata": {},
     "output_type": "execute_result"
    }
   ],
   "source": [
    "get_majority_element(seq3)"
   ]
  },
  {
   "cell_type": "code",
   "execution_count": 24,
   "metadata": {},
   "outputs": [
    {
     "name": "stdout",
     "output_type": "stream",
     "text": [
      "1 -1\n",
      "0.6666666666666666 0.0\n",
      "2 2\n",
      "1.0 1.0\n",
      "1 2\n",
      "0.3333333333333333 0.6666666666666666\n"
     ]
    },
    {
     "data": {
      "text/plain": [
       "2"
      ]
     },
     "execution_count": 24,
     "metadata": {},
     "output_type": "execute_result"
    }
   ],
   "source": [
    "get_majority_element(seq)"
   ]
  },
  {
   "cell_type": "code",
   "execution_count": 25,
   "metadata": {},
   "outputs": [
    {
     "name": "stdout",
     "output_type": "stream",
     "text": [
      "2 2\n",
      "1.0 1.0\n",
      "-1 1\n",
      "0.0 0.75\n",
      "2 1\n",
      "0.42857142857142855 0.42857142857142855\n",
      "1 2\n",
      "0.5 0.5\n",
      "2 2\n",
      "1.0 1.0\n",
      "-1 2\n",
      "0.0 0.75\n",
      "-1 2\n",
      "0.0 0.6\n"
     ]
    },
    {
     "data": {
      "text/plain": [
       "2"
      ]
     },
     "execution_count": 25,
     "metadata": {},
     "output_type": "execute_result"
    }
   ],
   "source": [
    "get_majority_element(seq2)"
   ]
  },
  {
   "cell_type": "code",
   "execution_count": 27,
   "metadata": {},
   "outputs": [
    {
     "name": "stdout",
     "output_type": "stream",
     "text": [
      "-1 -1\n",
      "0.0 0.0\n",
      "-1 -1\n",
      "0.0 0.0\n",
      "-1 -1\n",
      "0.0 0.0\n",
      "-1 5\n",
      "0.0 0.5\n",
      "2 -1\n",
      "0.6666666666666666 0.0\n",
      "-1 2\n",
      "0.0 0.6\n",
      "-1 2\n",
      "0.0 0.3333333333333333\n",
      "-1 -1\n",
      "0.0 0.0\n",
      "1 1\n",
      "1.0 1.0\n",
      "2 2\n",
      "1.0 1.0\n",
      "-1 2\n",
      "0.0 0.8\n",
      "1 2\n",
      "0.5555555555555556 0.4444444444444444\n",
      "2 2\n",
      "1.0 1.0\n",
      "2 2\n",
      "1.0 1.0\n",
      "2 2\n",
      "1.0 1.0\n",
      "2 2\n",
      "1.0 1.0\n",
      "1 2\n",
      "0.2777777777777778 0.7222222222222222\n",
      "-1 2\n",
      "0.0 0.5142857142857142\n"
     ]
    },
    {
     "data": {
      "text/plain": [
       "2"
      ]
     },
     "execution_count": 27,
     "metadata": {},
     "output_type": "execute_result"
    }
   ],
   "source": [
    "get_majority_element(seq3)"
   ]
  },
  {
   "cell_type": "code",
   "execution_count": 14,
   "metadata": {},
   "outputs": [
    {
     "ename": "IndexError",
     "evalue": "list index out of range",
     "output_type": "error",
     "traceback": [
      "\u001b[1;31m---------------------------------------------------------------------------\u001b[0m",
      "\u001b[1;31mIndexError\u001b[0m                                Traceback (most recent call last)",
      "\u001b[1;32m<ipython-input-14-9695621d622f>\u001b[0m in \u001b[0;36m<module>\u001b[1;34m()\u001b[0m\n\u001b[0;32m      3\u001b[0m     \u001b[0minput\u001b[0m \u001b[1;33m=\u001b[0m \u001b[0msys\u001b[0m\u001b[1;33m.\u001b[0m\u001b[0mstdin\u001b[0m\u001b[1;33m.\u001b[0m\u001b[0mread\u001b[0m\u001b[1;33m(\u001b[0m\u001b[1;33m)\u001b[0m\u001b[1;33m\u001b[0m\u001b[0m\n\u001b[0;32m      4\u001b[0m     \u001b[0mdata\u001b[0m \u001b[1;33m=\u001b[0m \u001b[0mlist\u001b[0m\u001b[1;33m(\u001b[0m\u001b[0mmap\u001b[0m\u001b[1;33m(\u001b[0m\u001b[0mint\u001b[0m\u001b[1;33m,\u001b[0m \u001b[0minput\u001b[0m\u001b[1;33m.\u001b[0m\u001b[0msplit\u001b[0m\u001b[1;33m(\u001b[0m\u001b[1;33m)\u001b[0m\u001b[1;33m)\u001b[0m\u001b[1;33m)\u001b[0m\u001b[1;33m\u001b[0m\u001b[0m\n\u001b[1;32m----> 5\u001b[1;33m     \u001b[0mn\u001b[0m \u001b[1;33m=\u001b[0m \u001b[0mdata\u001b[0m\u001b[1;33m[\u001b[0m\u001b[1;36m0\u001b[0m\u001b[1;33m]\u001b[0m\u001b[1;33m\u001b[0m\u001b[0m\n\u001b[0m\u001b[0;32m      6\u001b[0m     \u001b[0mm\u001b[0m \u001b[1;33m=\u001b[0m \u001b[0mdata\u001b[0m\u001b[1;33m[\u001b[0m\u001b[0mn\u001b[0m \u001b[1;33m+\u001b[0m \u001b[1;36m1\u001b[0m\u001b[1;33m]\u001b[0m\u001b[1;33m\u001b[0m\u001b[0m\n\u001b[0;32m      7\u001b[0m     \u001b[0ma\u001b[0m \u001b[1;33m=\u001b[0m \u001b[0mdata\u001b[0m\u001b[1;33m[\u001b[0m\u001b[1;36m1\u001b[0m \u001b[1;33m:\u001b[0m \u001b[0mn\u001b[0m \u001b[1;33m+\u001b[0m \u001b[1;36m1\u001b[0m\u001b[1;33m]\u001b[0m\u001b[1;33m\u001b[0m\u001b[0m\n",
      "\u001b[1;31mIndexError\u001b[0m: list index out of range"
     ]
    }
   ],
   "source": [
    "\n",
    "if __name__ == '__main__':\n",
    "    input = sys.stdin.read()\n",
    "    data = list(map(int, input.split()))\n",
    "    n = data[0]\n",
    "    m = data[n + 1]\n",
    "    a = data[1 : n + 1]\n",
    "    for x in data[n + 2:]:\n",
    "        # replace with the call to binary_search when implemented\n",
    "        print(binary_search(a, x), end = ' ')\n"
   ]
  },
  {
   "cell_type": "code",
   "execution_count": 1,
   "metadata": {
    "collapsed": true
   },
   "outputs": [],
   "source": [
    "def partition2(a, l, r):\n",
    "    x = a[l]\n",
    "    j = l;\n",
    "    for i in range(l + 1, r + 1):\n",
    "        if a[i] <= x:\n",
    "            j += 1\n",
    "            a[i], a[j] = a[j], a[i]\n",
    "    a[l], a[j] = a[j], a[l]\n",
    "    return j"
   ]
  },
  {
   "cell_type": "code",
   "execution_count": 29,
   "metadata": {
    "collapsed": true
   },
   "outputs": [],
   "source": [
    "def partition3(a, l, r):\n",
    "    x = a[l]\n",
    "    first = l\n",
    "    last = r\n",
    "    i = l+1\n",
    "    #print(a)\n",
    "    while i <= last:\n",
    "        if a[i] < x:\n",
    "            a[first], a[i] = a[i], a[first]\n",
    "            i+=1\n",
    "            first +=1\n",
    "        elif a[i] > x:\n",
    "            a[last], a[i] = a[i], a[last]\n",
    "            last-=1\n",
    "        elif a[i] == x:\n",
    "            i +=1\n",
    "        #print(a)\n",
    "    #print('done')\n",
    "    #print(first,last)\n",
    "    return (first, last)"
   ]
  },
  {
   "cell_type": "code",
   "execution_count": 30,
   "metadata": {
    "collapsed": true
   },
   "outputs": [],
   "source": [
    "import random\n",
    "import numpy as np"
   ]
  },
  {
   "cell_type": "code",
   "execution_count": 31,
   "metadata": {
    "collapsed": true
   },
   "outputs": [],
   "source": [
    "def randomized_quick_sort(a, l, r):\n",
    "    if l >= r:\n",
    "        return\n",
    "    k = random.randint(l, r)\n",
    "    a[l], a[k] = a[k], a[l]\n",
    "    #use partition3\n",
    "    first,last = partition3(a, l, r)\n",
    "    randomized_quick_sort(a, l, first - 1)\n",
    "    randomized_quick_sort(a, last + 1, r)"
   ]
  },
  {
   "cell_type": "code",
   "execution_count": 10,
   "metadata": {
    "collapsed": true
   },
   "outputs": [],
   "source": [
    "def partition3(a, l, r):\n",
    "    x = a[l]\n",
    "    begin = l+1\n",
    "    end = l\n",
    "\n",
    "    for i in range(l + 1, r + 1):\n",
    "        if a[i] <= x:\n",
    "            end += 1\n",
    "            a[i], a[end] = a[end], a[i]\n",
    "            if a[end] < x:\n",
    "                a[begin], a[end] = a[end], a[begin]\n",
    "                begin += 1\n",
    "                \n",
    "    a[l], a[begin-1] = a[begin-1], a[l]\n",
    "\n",
    "    return [begin, end]\n",
    "\n",
    "def randomized_quick_sort(a, l, r):\n",
    "    if l >= r:\n",
    "        return\n",
    "    k = random.randint(l, r)\n",
    "    a[l], a[k] = a[k], a[l]\n",
    "    #use partition3\n",
    "    [m1, m2] = partition3(a, l, r)\n",
    "    randomized_quick_sort(a, l, m1 - 1);\n",
    "    randomized_quick_sort(a, m2 + 1, r);"
   ]
  },
  {
   "cell_type": "code",
   "execution_count": 26,
   "metadata": {
    "collapsed": true
   },
   "outputs": [],
   "source": [
    "a=list(map(int,\"10 9 8 7 6 5 4 3 2 1 3 3 3 3 3 3\".split()))\n",
    "n=len(a)"
   ]
  },
  {
   "cell_type": "code",
   "execution_count": 27,
   "metadata": {},
   "outputs": [],
   "source": [
    "#print(a)"
   ]
  },
  {
   "cell_type": "code",
   "execution_count": 32,
   "metadata": {},
   "outputs": [
    {
     "name": "stdout",
     "output_type": "stream",
     "text": [
      "[1, 2, 3, 3, 3, 3, 3, 3, 3, 4, 5, 6, 7, 8, 9, 10]\n"
     ]
    }
   ],
   "source": [
    "randomized_quick_sort(a,0,n-1)\n",
    "print(a)"
   ]
  },
  {
   "cell_type": "code",
   "execution_count": 33,
   "metadata": {},
   "outputs": [
    {
     "name": "stdout",
     "output_type": "stream",
     "text": [
      "[1, 2, 3, 3, 3, 3, 3, 3, 3, 4, 5, 6, 7, 8, 9, 10]\n"
     ]
    }
   ],
   "source": [
    "print(a)"
   ]
  },
  {
   "cell_type": "code",
   "execution_count": 34,
   "metadata": {
    "collapsed": true
   },
   "outputs": [],
   "source": [
    "b = [1] * 10000"
   ]
  },
  {
   "cell_type": "code",
   "execution_count": 56,
   "metadata": {
    "collapsed": true
   },
   "outputs": [],
   "source": [
    "b = np.random.randint(1000, size=100000)"
   ]
  },
  {
   "cell_type": "code",
   "execution_count": 57,
   "metadata": {},
   "outputs": [],
   "source": [
    "randomized_quick_sort(b, 0, len(b)-1)"
   ]
  },
  {
   "cell_type": "code",
   "execution_count": 58,
   "metadata": {},
   "outputs": [
    {
     "name": "stdout",
     "output_type": "stream",
     "text": [
      "[  0   0   0 ..., 999 999 999]\n"
     ]
    }
   ],
   "source": [
    "print(b)"
   ]
  },
  {
   "cell_type": "code",
   "execution_count": 5,
   "metadata": {
    "collapsed": true
   },
   "outputs": [],
   "source": [
    "def get_number_of_inversions(a):\n",
    "    if len(a) == 1:\n",
    "        return 0,[a[0]]\n",
    "    m = len(a) // 2\n",
    "    left = get_number_of_inversions(a[0:m])\n",
    "    right = get_number_of_inversions(a[m:])\n",
    "    tot_inv, a_prime = merge(left,right)\n",
    "    return tot_inv,a_prime"
   ]
  },
  {
   "cell_type": "code",
   "execution_count": 6,
   "metadata": {},
   "outputs": [],
   "source": [
    "def merge(left,right):\n",
    "    inv = left[0] + right[0]\n",
    "    left_arr = left[1]\n",
    "    right_arr = right[1]\n",
    "    a_prime=[]\n",
    "    while(len(left_arr) > 0 and len(right_arr) > 0):\n",
    "        if left_arr[0] > right_arr[0]:\n",
    "            a_prime.append(left_arr[0])\n",
    "            inv += len(right_arr)\n",
    "            del(left_arr[0])\n",
    "        else:\n",
    "            a_prime.append(right_arr[0])\n",
    "            del(right_arr[0])\n",
    "        print(a_prime)\n",
    "    a_prime = a_prime + left_arr\n",
    "    a_prime = a_prime + right_arr\n",
    "    return inv, a_prime"
   ]
  },
  {
   "cell_type": "code",
   "execution_count": 7,
   "metadata": {
    "collapsed": true
   },
   "outputs": [],
   "source": [
    "a=list(map(int, \"2 3 9 2 9\".split()))\n",
    "n=len(a)"
   ]
  },
  {
   "cell_type": "code",
   "execution_count": 8,
   "metadata": {},
   "outputs": [
    {
     "name": "stdout",
     "output_type": "stream",
     "text": [
      "[2, 3, 9, 2, 9]\n"
     ]
    }
   ],
   "source": [
    "print(a)"
   ]
  },
  {
   "cell_type": "code",
   "execution_count": 9,
   "metadata": {},
   "outputs": [
    {
     "name": "stdout",
     "output_type": "stream",
     "text": [
      "[3]\n",
      "[9]\n",
      "[9]\n",
      "[9, 9]\n",
      "[9]\n",
      "[9, 9]\n",
      "[9, 9, 3]\n",
      "[9, 9, 3, 2]\n"
     ]
    },
    {
     "data": {
      "text/plain": [
       "(2, [9, 9, 3, 2, 2])"
      ]
     },
     "execution_count": 9,
     "metadata": {},
     "output_type": "execute_result"
    }
   ],
   "source": [
    "get_number_of_inversions(a)"
   ]
  },
  {
   "cell_type": "code",
   "execution_count": 78,
   "metadata": {
    "collapsed": true
   },
   "outputs": [],
   "source": [
    "# Uses python3\n",
    "import sys\n",
    "import math\n",
    "\n",
    "def fast_count_segments(starts, ends, points):\n",
    "    count = [0] * len(points)\n",
    "    temp =[]\n",
    "    for x,y in zip(starts,ends):\n",
    "        temp.append((x,'l'))\n",
    "        temp.append((y,'r'))\n",
    "    for p in points:\n",
    "        temp.append((p,'p'))\n",
    "    print(temp)\n",
    "    temp.sort(key = lambda tup:(tup[0],tup[1]))\n",
    "    print(temp)\n",
    "    counter = 0\n",
    "    for pt in temp:\n",
    "        if pt[1]=='l':\n",
    "            counter +=1\n",
    "        elif pt[1]=='p':\n",
    "            count[points.index(pt[0])] = counter\n",
    "            points[points.index(pt[0])] = math.nan\n",
    "        else:\n",
    "            counter -= 1\n",
    "            counter = max(0,counter)\n",
    "    return count"
   ]
  },
  {
   "cell_type": "code",
   "execution_count": 79,
   "metadata": {
    "collapsed": true
   },
   "outputs": [],
   "source": [
    "def naive_count_segments(starts, ends, points):\n",
    "    cnt = [0] * len(points)\n",
    "    for i in range(len(points)):\n",
    "        for j in range(len(starts)):\n",
    "            if starts[j] <= points[i] <= ends[j]:\n",
    "                cnt[i] += 1\n",
    "    return cnt"
   ]
  },
  {
   "cell_type": "code",
   "execution_count": 96,
   "metadata": {
    "collapsed": true
   },
   "outputs": [],
   "source": [
    "x = list(map(int, \"1 1\".split()))\n",
    "y =list(map(int, \"2 2\".split()))\n",
    "p =list(map(int, \"1 2\".split()))"
   ]
  },
  {
   "cell_type": "code",
   "execution_count": 97,
   "metadata": {},
   "outputs": [
    {
     "name": "stdout",
     "output_type": "stream",
     "text": [
      "[(1, 'l'), (2, 'r'), (1, 'l'), (2, 'r'), (1, 'p'), (2, 'p')]\n",
      "[(1, 'l'), (1, 'l'), (1, 'p'), (2, 'p'), (2, 'r'), (2, 'r')]\n"
     ]
    }
   ],
   "source": [
    "cnt = fast_count_segments(x,y,p)"
   ]
  },
  {
   "cell_type": "code",
   "execution_count": 98,
   "metadata": {},
   "outputs": [
    {
     "name": "stdout",
     "output_type": "stream",
     "text": [
      "2 2 "
     ]
    }
   ],
   "source": [
    "for x in cnt:\n",
    "    print(x, end =' ')"
   ]
  },
  {
   "cell_type": "code",
   "execution_count": null,
   "metadata": {
    "collapsed": true
   },
   "outputs": [],
   "source": []
  }
 ],
 "metadata": {
  "anaconda-cloud": {},
  "kernelspec": {
   "display_name": "Python 3",
   "language": "python",
   "name": "python3"
  },
  "language_info": {
   "codemirror_mode": {
    "name": "ipython",
    "version": 3
   },
   "file_extension": ".py",
   "mimetype": "text/x-python",
   "name": "python",
   "nbconvert_exporter": "python",
   "pygments_lexer": "ipython3",
   "version": "3.6.3"
  }
 },
 "nbformat": 4,
 "nbformat_minor": 2
}
