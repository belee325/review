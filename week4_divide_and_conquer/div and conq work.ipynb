{
 "cells": [
  {
   "cell_type": "code",
   "execution_count": 1,
   "metadata": {
    "collapsed": true
   },
   "outputs": [],
   "source": [
    "import sys"
   ]
  },
  {
   "cell_type": "code",
   "execution_count": 11,
   "metadata": {
    "collapsed": true
   },
   "outputs": [],
   "source": [
    "def binary_search(a, x):\n",
    "    ret =[]\n",
    "    for elem in x:\n",
    "        left, right = 0, len(a)\n",
    "        while left<right:\n",
    "            mid = (right-left)//2\n",
    "            if elem==a[mid]:\n",
    "                ret.append(mid)\n",
    "                break\n",
    "            elif elem<a[mid]:\n",
    "                right = mid -1\n",
    "            else:\n",
    "                left = mid+1\n",
    "        if left < right:\n",
    "            ret.append(-1)\n",
    "    return ret"
   ]
  },
  {
   "cell_type": "code",
   "execution_count": 14,
   "metadata": {
    "collapsed": true
   },
   "outputs": [],
   "source": [
    "def linear_search(a, x):\n",
    "    for i in range(len(a)):\n",
    "        if a[i] == x:\n",
    "            return i\n",
    "    return -1"
   ]
  },
  {
   "cell_type": "code",
   "execution_count": null,
   "metadata": {
    "collapsed": true
   },
   "outputs": [],
   "source": []
  },
  {
   "cell_type": "code",
   "execution_count": 15,
   "metadata": {
    "collapsed": false
   },
   "outputs": [
    {
     "name": "stdout",
     "output_type": "stream",
     "text": [
      "[2, -1, 0, -1, 0, -1]\n"
     ]
    }
   ],
   "source": [
    "a = \"1 5 8 12 13\".split()\n",
    "x = \"8 1 23 1 11\".split()\n",
    "print(binary_search(a,x))"
   ]
  },
  {
   "cell_type": "code",
   "execution_count": 21,
   "metadata": {
    "collapsed": true
   },
   "outputs": [],
   "source": [
    "def get_majority_element(a, left, right):\n",
    "    if left == right:\n",
    "        return -1\n",
    "    if left + 1 == right:\n",
    "        return a[left]\n",
    "    #write your code here\n",
    "    A = get_majority_element(a,left, right//2)\n",
    "    B = get_majority_element(a,left + right//2,right)\n",
    "    if a.count(A)/(right-left) > 0.5:\n",
    "        return A\n",
    "    elif a.count(B)/(right-left)>0.5:\n",
    "        return B\n",
    "    else:\n",
    "        return -1"
   ]
  },
  {
   "cell_type": "code",
   "execution_count": 24,
   "metadata": {
    "collapsed": true
   },
   "outputs": [],
   "source": [
    "seq = \"2 3 9 2 2\".split()\n",
    "n = len(seq)"
   ]
  },
  {
   "cell_type": "code",
   "execution_count": 26,
   "metadata": {
    "collapsed": true
   },
   "outputs": [],
   "source": [
    "seq2 = \"1 2 3 4\".split()\n",
    "n2 = len(seq2)"
   ]
  },
  {
   "cell_type": "code",
   "execution_count": 35,
   "metadata": {
    "collapsed": true
   },
   "outputs": [],
   "source": [
    "seq3=\"1 2 3 1 2 2 2\".split()\n",
    "n3 = len(seq3) "
   ]
  },
  {
   "cell_type": "code",
   "execution_count": 36,
   "metadata": {
    "collapsed": false
   },
   "outputs": [
    {
     "data": {
      "text/plain": [
       "'2'"
      ]
     },
     "execution_count": 36,
     "metadata": {},
     "output_type": "execute_result"
    }
   ],
   "source": [
    "get_majority_element(seq, 0, n)"
   ]
  },
  {
   "cell_type": "code",
   "execution_count": 37,
   "metadata": {
    "collapsed": false
   },
   "outputs": [
    {
     "data": {
      "text/plain": [
       "-1"
      ]
     },
     "execution_count": 37,
     "metadata": {},
     "output_type": "execute_result"
    }
   ],
   "source": [
    "get_majority_element(seq2, 0, n2)"
   ]
  },
  {
   "cell_type": "code",
   "execution_count": 38,
   "metadata": {
    "collapsed": false
   },
   "outputs": [
    {
     "data": {
      "text/plain": [
       "'2'"
      ]
     },
     "execution_count": 38,
     "metadata": {},
     "output_type": "execute_result"
    }
   ],
   "source": [
    "get_majority_element(seq3, 0, n3)"
   ]
  },
  {
   "cell_type": "code",
   "execution_count": 40,
   "metadata": {
    "collapsed": false
   },
   "outputs": [
    {
     "ename": "IndexError",
     "evalue": "list index out of range",
     "output_type": "error",
     "traceback": [
      "\u001b[0;31m---------------------------------------------------------------------------\u001b[0m",
      "\u001b[0;31mIndexError\u001b[0m                                Traceback (most recent call last)",
      "\u001b[0;32m<ipython-input-40-9695621d622f>\u001b[0m in \u001b[0;36m<module>\u001b[0;34m()\u001b[0m\n\u001b[1;32m      3\u001b[0m     \u001b[0minput\u001b[0m \u001b[1;33m=\u001b[0m \u001b[0msys\u001b[0m\u001b[1;33m.\u001b[0m\u001b[0mstdin\u001b[0m\u001b[1;33m.\u001b[0m\u001b[0mread\u001b[0m\u001b[1;33m(\u001b[0m\u001b[1;33m)\u001b[0m\u001b[1;33m\u001b[0m\u001b[0m\n\u001b[1;32m      4\u001b[0m     \u001b[0mdata\u001b[0m \u001b[1;33m=\u001b[0m \u001b[0mlist\u001b[0m\u001b[1;33m(\u001b[0m\u001b[0mmap\u001b[0m\u001b[1;33m(\u001b[0m\u001b[0mint\u001b[0m\u001b[1;33m,\u001b[0m \u001b[0minput\u001b[0m\u001b[1;33m.\u001b[0m\u001b[0msplit\u001b[0m\u001b[1;33m(\u001b[0m\u001b[1;33m)\u001b[0m\u001b[1;33m)\u001b[0m\u001b[1;33m)\u001b[0m\u001b[1;33m\u001b[0m\u001b[0m\n\u001b[0;32m----> 5\u001b[0;31m     \u001b[0mn\u001b[0m \u001b[1;33m=\u001b[0m \u001b[0mdata\u001b[0m\u001b[1;33m[\u001b[0m\u001b[1;36m0\u001b[0m\u001b[1;33m]\u001b[0m\u001b[1;33m\u001b[0m\u001b[0m\n\u001b[0m\u001b[1;32m      6\u001b[0m     \u001b[0mm\u001b[0m \u001b[1;33m=\u001b[0m \u001b[0mdata\u001b[0m\u001b[1;33m[\u001b[0m\u001b[0mn\u001b[0m \u001b[1;33m+\u001b[0m \u001b[1;36m1\u001b[0m\u001b[1;33m]\u001b[0m\u001b[1;33m\u001b[0m\u001b[0m\n\u001b[1;32m      7\u001b[0m     \u001b[0ma\u001b[0m \u001b[1;33m=\u001b[0m \u001b[0mdata\u001b[0m\u001b[1;33m[\u001b[0m\u001b[1;36m1\u001b[0m \u001b[1;33m:\u001b[0m \u001b[0mn\u001b[0m \u001b[1;33m+\u001b[0m \u001b[1;36m1\u001b[0m\u001b[1;33m]\u001b[0m\u001b[1;33m\u001b[0m\u001b[0m\n",
      "\u001b[0;31mIndexError\u001b[0m: list index out of range"
     ]
    }
   ],
   "source": [
    "\n",
    "if __name__ == '__main__':\n",
    "    input = sys.stdin.read()\n",
    "    data = list(map(int, input.split()))\n",
    "    n = data[0]\n",
    "    m = data[n + 1]\n",
    "    a = data[1 : n + 1]\n",
    "    for x in data[n + 2:]:\n",
    "        # replace with the call to binary_search when implemented\n",
    "        print(binary_search(a, x), end = ' ')\n"
   ]
  },
  {
   "cell_type": "code",
   "execution_count": 41,
   "metadata": {
    "collapsed": true
   },
   "outputs": [],
   "source": [
    "def partition2(a, l, r):\n",
    "    x = a[l]\n",
    "    j = l;\n",
    "    for i in range(l + 1, r + 1):\n",
    "        if a[i] <= x:\n",
    "            j += 1\n",
    "            a[i], a[j] = a[j], a[i]\n",
    "    a[l], a[j] = a[j], a[l]\n",
    "    return j"
   ]
  },
  {
   "cell_type": "code",
   "execution_count": 69,
   "metadata": {
    "collapsed": true
   },
   "outputs": [],
   "source": [
    "def partition3(a, l, r):\n",
    "    x = a[l]\n",
    "    j = l\n",
    "    first = l\n",
    "    for i in range(l + 1, r + 1):\n",
    "        if a[i] < x:\n",
    "            a[first], a[i] = a[i], a[first]\n",
    "            a[i], a[j+1] = a[j+1], a[i]\n",
    "            j += 1\n",
    "            first +=1\n",
    "        elif a[i] == x:\n",
    "            a[i], a[j+1] = a[j+1], a[i]\n",
    "            j += 1\n",
    "    return j"
   ]
  },
  {
   "cell_type": "code",
   "execution_count": 52,
   "metadata": {
    "collapsed": true
   },
   "outputs": [],
   "source": [
    "import random\n",
    "import numpy as np"
   ]
  },
  {
   "cell_type": "code",
   "execution_count": 48,
   "metadata": {
    "collapsed": true
   },
   "outputs": [],
   "source": [
    "def randomized_quick_sort(a, l, r):\n",
    "    if l >= r:\n",
    "        return\n",
    "    k = random.randint(l, r)\n",
    "    a[l], a[k] = a[k], a[l]\n",
    "    #use partition3\n",
    "    m = partition3(a, l, r)\n",
    "    randomized_quick_sort(a, l, m - 1)\n",
    "    randomized_quick_sort(a, m + 1, r)\n"
   ]
  },
  {
   "cell_type": "code",
   "execution_count": 53,
   "metadata": {
    "collapsed": true
   },
   "outputs": [],
   "source": [
    "a=\"2 3 9 2 2\".split()\n",
    "n=len(a)"
   ]
  },
  {
   "cell_type": "code",
   "execution_count": 84,
   "metadata": {
    "collapsed": true
   },
   "outputs": [],
   "source": [
    "a = np.random.randint(5, size=400)\n",
    "n = len(a)"
   ]
  },
  {
   "cell_type": "code",
   "execution_count": 85,
   "metadata": {
    "collapsed": false
   },
   "outputs": [
    {
     "name": "stdout",
     "output_type": "stream",
     "text": [
      "[0 4 1 1 4 1 4 1 1 2 0 0 2 0 0 0 2 0 1 2 1 4 3 0 1 1 4 1 4 3 4 2 1 3 2 3 1\n",
      " 4 3 2 3 2 0 1 3 2 2 2 0 4 0 4 3 0 3 2 4 0 2 1 2 3 0 2 3 0 1 2 4 2 4 2 3 2\n",
      " 2 4 3 2 3 2 0 1 3 3 0 1 3 2 3 0 0 3 4 0 4 4 2 2 0 0 3 2 3 3 4 0 2 1 3 1 3\n",
      " 3 2 4 0 1 4 4 4 0 3 3 1 1 0 1 3 4 2 0 2 0 1 2 4 1 0 3 2 3 1 3 2 2 2 1 4 4\n",
      " 0 0 2 0 2 4 3 4 4 0 3 0 0 0 3 0 1 4 3 0 0 4 3 3 3 2 3 0 3 2 0 4 2 2 2 4 1\n",
      " 0 0 2 2 0 2 0 0 3 0 4 3 4 0 4 4 1 0 3 1 0 1 3 1 1 1 1 2 1 0 3 3 3 0 1 2 4\n",
      " 3 3 4 0 4 3 1 2 2 2 3 1 3 2 4 3 1 2 2 4 2 4 2 4 4 1 3 4 3 2 1 1 2 0 0 2 2\n",
      " 3 1 4 4 3 1 1 1 1 3 0 0 3 3 1 1 4 2 4 1 2 0 3 3 0 0 2 4 0 4 2 1 2 3 0 2 3\n",
      " 0 4 4 0 2 4 4 1 4 0 2 4 4 0 1 3 4 1 3 3 1 3 0 0 2 4 0 4 4 4 2 2 4 3 1 4 3\n",
      " 1 4 0 1 4 1 3 4 3 1 4 3 0 4 3 3 0 0 1 2 0 4 0 0 4 1 4 0 0 4 0 0 4 0 2 3 1\n",
      " 0 3 1 1 3 1 3 3 4 2 2 4 1 1 4 4 0 2 4 0 0 1 4 3 2 2 0 3 3 3]\n"
     ]
    }
   ],
   "source": [
    "print(a)"
   ]
  },
  {
   "cell_type": "code",
   "execution_count": 86,
   "metadata": {
    "collapsed": false
   },
   "outputs": [],
   "source": [
    "randomized_quick_sort(a,0,n-1)"
   ]
  },
  {
   "cell_type": "code",
   "execution_count": 87,
   "metadata": {
    "collapsed": false
   },
   "outputs": [
    {
     "name": "stdout",
     "output_type": "stream",
     "text": [
      "[0 0 0 0 0 0 0 0 0 0 0 0 0 0 0 0 0 0 0 0 0 0 0 0 0 0 0 0 0 0 0 0 0 0 0 0 0\n",
      " 0 0 0 0 0 0 0 0 0 0 0 0 0 0 0 0 0 0 0 0 0 0 0 0 0 0 0 0 0 0 0 0 0 0 0 0 0\n",
      " 0 0 0 0 0 0 0 0 0 0 0 0 1 1 1 1 1 1 1 1 1 1 1 1 1 1 1 1 1 1 1 1 1 1 1 1 1\n",
      " 1 1 1 1 1 1 1 1 1 1 1 1 1 1 1 1 1 1 1 1 1 1 1 1 1 1 1 1 1 1 1 1 1 1 1 1 1\n",
      " 1 1 1 1 1 1 1 1 1 2 2 2 2 2 2 2 2 2 2 2 2 2 2 2 2 2 2 2 2 2 2 2 2 2 2 2 2\n",
      " 2 2 2 2 2 2 2 2 2 2 2 2 2 2 2 2 2 2 2 2 2 2 2 2 2 2 2 2 2 2 2 2 2 2 2 2 2\n",
      " 2 2 2 2 2 2 2 2 2 2 2 2 3 3 3 3 3 3 3 3 3 3 3 3 3 3 3 3 3 3 3 3 3 3 3 3 3\n",
      " 3 3 3 3 3 3 3 3 3 3 3 3 3 3 3 3 3 3 3 3 3 3 3 3 3 3 3 3 3 3 3 3 3 3 3 3 3\n",
      " 3 3 3 3 3 3 3 3 3 3 3 3 3 3 3 3 3 3 3 3 3 3 4 4 4 4 4 4 4 4 4 4 4 4 4 4 4\n",
      " 4 4 4 4 4 4 4 4 4 4 4 4 4 4 4 4 4 4 4 4 4 4 4 4 4 4 4 4 4 4 4 4 4 4 4 4 4\n",
      " 4 4 4 4 4 4 4 4 4 4 4 4 4 4 4 4 4 4 4 4 4 4 4 4 4 4 4 4 4 4]\n"
     ]
    }
   ],
   "source": [
    "print(a)"
   ]
  },
  {
   "cell_type": "code",
   "execution_count": 149,
   "metadata": {
    "collapsed": false
   },
   "outputs": [],
   "source": [
    "def get_number_of_inversions(a, l, r):\n",
    "    tot_inv = 0\n",
    "    if r - l <= 1:\n",
    "        return [a[l]], tot_inv\n",
    "    m = (l + r) // 2\n",
    "    left, temp = get_number_of_inversions(a, l, m)\n",
    "    tot_inv += temp\n",
    "    right, temp = get_number_of_inversions(a, m, r)\n",
    "    tot_inv += temp\n",
    "    inv, a_prime = merge(left,right)\n",
    "    return a_prime, inv"
   ]
  },
  {
   "cell_type": "code",
   "execution_count": 177,
   "metadata": {
    "collapsed": false
   },
   "outputs": [],
   "source": [
    "def merge(left,right):\n",
    "    i = 0\n",
    "    j = 0\n",
    "    inv = 0\n",
    "    a_prime=[]\n",
    "    while(i < len(left) and j < len(right)):\n",
    "        if left[i] > right[j]:\n",
    "            a_prime.append(right[j])\n",
    "            j+=1\n",
    "            inv+=1\n",
    "        elif left[i]<= right[j]:\n",
    "            a_prime.append(left[i])\n",
    "            i+=1\n",
    "    print(i, left[i:], j ,right[j:])\n",
    "    if i >= j:\n",
    "        for x in right[j:]:\n",
    "            a_prime.append(x)\n",
    "    else:\n",
    "        for x in left[i:]:\n",
    "            a_prime.append(x)\n",
    "    return inv, a_prime"
   ]
  },
  {
   "cell_type": "code",
   "execution_count": 178,
   "metadata": {
    "collapsed": false
   },
   "outputs": [],
   "source": [
    "a=list(map(int, \"2 3 10 11 9 2 23 3 2\".split()))\n",
    "n=len(a)"
   ]
  },
  {
   "cell_type": "code",
   "execution_count": 179,
   "metadata": {
    "collapsed": false
   },
   "outputs": [
    {
     "name": "stdout",
     "output_type": "stream",
     "text": [
      "[2, 3, 10, 11, 9, 2, 23, 3, 2]\n"
     ]
    }
   ],
   "source": [
    "print(a)"
   ]
  },
  {
   "cell_type": "code",
   "execution_count": 180,
   "metadata": {
    "collapsed": false
   },
   "outputs": [
    {
     "name": "stdout",
     "output_type": "stream",
     "text": [
      "1 [] 0 [3]\n",
      "1 [] 0 [11]\n",
      "2 [] 0 [10, 11]\n",
      "0 [9] 1 []\n",
      "0 [3] 1 []\n",
      "0 [23] 2 []\n",
      "2 [] 2 [23]\n",
      "4 [] 4 [23]\n"
     ]
    },
    {
     "data": {
      "text/plain": [
       "([2, 2, 2, 3, 3, 9, 10, 11, 23], 4)"
      ]
     },
     "execution_count": 180,
     "metadata": {},
     "output_type": "execute_result"
    }
   ],
   "source": [
    "get_number_of_inversions(a, 0, n)"
   ]
  },
  {
   "cell_type": "code",
   "execution_count": null,
   "metadata": {
    "collapsed": true
   },
   "outputs": [],
   "source": []
  },
  {
   "cell_type": "code",
   "execution_count": null,
   "metadata": {
    "collapsed": true
   },
   "outputs": [],
   "source": []
  }
 ],
 "metadata": {
  "kernelspec": {
   "display_name": "Python [conda env:Anaconda3]",
   "language": "python",
   "name": "conda-env-Anaconda3-py"
  },
  "language_info": {
   "codemirror_mode": {
    "name": "ipython",
    "version": 3
   },
   "file_extension": ".py",
   "mimetype": "text/x-python",
   "name": "python",
   "nbconvert_exporter": "python",
   "pygments_lexer": "ipython3",
   "version": "3.5.2"
  }
 },
 "nbformat": 4,
 "nbformat_minor": 2
}
