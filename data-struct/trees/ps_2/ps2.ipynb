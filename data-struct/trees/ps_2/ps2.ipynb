{
 "cells": [
  {
   "cell_type": "code",
   "execution_count": 22,
   "metadata": {
    "collapsed": true
   },
   "outputs": [],
   "source": [
    "class HeapBuilder:\n",
    "  def __init__(self):\n",
    "    self._swaps = []\n",
    "    self._data = []\n",
    "\n",
    "  def ReadData(self):\n",
    "    n = int(input())\n",
    "    self._data = [int(s) for s in input().split()]\n",
    "    assert n == len(self._data)\n",
    "\n",
    "  def WriteResponse(self):\n",
    "    print(len(self._swaps))\n",
    "    for swap in self._swaps:\n",
    "      print(swap[0], swap[1])\n",
    "\n",
    "  def GenerateSwaps(self):\n",
    "    # The following naive implementation just sorts \n",
    "    # the given sequence using selection sort algorithm\n",
    "    # and saves the resulting sequence of swaps.\n",
    "    # This turns the given array into a heap, \n",
    "    # but in the worst case gives a quadratic number of swaps.\n",
    "    #\n",
    "    # TODO: replace by a more efficient implementation\n",
    "    #for i in range(len(self._data)):\n",
    "    # for j in range(i + 1, len(self._data)):\n",
    "    #    if self._data[i] > self._data[j]:\n",
    "    #      self._swaps.append((i, j))\n",
    "    #      self._data[i], self._data[j] = self._data[j], self._data[i]\n",
    "    for i in reversed(range(0,len(self._data)//2)):\n",
    "        while True:\n",
    "            #left child = 2i + 1, right child = 2i +2\n",
    "            min_idx = i\n",
    "            left = 2*i+1\n",
    "            right = left + 1\n",
    "            if left < len(self._data) and self._data[min_idx] >= self._data[left]:\n",
    "                min_idx = left \n",
    "            if right < len(self._data) and self._data[min_idx] >= self._data[right]: \n",
    "                min_idx = right\n",
    "            if min_idx != i:\n",
    "                self._data[i],self._data[min_idx] = self._data[min_idx],self._data[i]\n",
    "                self._swaps.append((i,min_idx))\n",
    "                i = min_idx\n",
    "            else:\n",
    "                break\n",
    "    return\n",
    "    \n",
    "  def Solve(self):\n",
    "    self.ReadData()\n",
    "    self.GenerateSwaps()\n",
    "    self.WriteResponse()\n"
   ]
  },
  {
   "cell_type": "code",
   "execution_count": 24,
   "metadata": {
    "collapsed": false
   },
   "outputs": [
    {
     "name": "stdout",
     "output_type": "stream",
     "text": [
      "5\n",
      "1 2 3 4 5\n",
      "0\n"
     ]
    }
   ],
   "source": [
    "if __name__ == '__main__':\n",
    "    heap_builder = HeapBuilder()\n",
    "    heap_builder.Solve()"
   ]
  },
  {
   "cell_type": "code",
   "execution_count": 27,
   "metadata": {
    "collapsed": true
   },
   "outputs": [],
   "source": [
    "import heapq\n",
    "class JobQueue:\n",
    "    \n",
    "    def read_data(self):\n",
    "        self.num_workers, m = map(int, input().split())\n",
    "        self.jobs = list(map(int, input().split()))\n",
    "        assert m == len(self.jobs)\n",
    "\n",
    "    def write_response(self):\n",
    "        for i in range(len(self.jobs)):\n",
    "            print(self.assigned_workers[i], self.start_times[i])\n",
    "\n",
    "    def assign_jobs(self):\n",
    "        # TODO: replace this code with a faster algorithm.\n",
    "        self.assigned_workers = [None] * len(self.jobs)\n",
    "        self.start_times = [None] * len(self.jobs)\n",
    "        next_free_time = [(x, 0) for x in range(self.num_workers)]\n",
    "        #heapq.heapify(next_free_time)\n",
    "        for i in range(len(self.jobs)):\n",
    "            #print(next_free_time)\n",
    "            self.assigned_workers[i] = next_free_time[0][0]\n",
    "            self.start_times[i] = next_free_time[0][1]\n",
    "            next_free_time[0] = (next_free_time[0][0],next_free_time[0][1] + self.jobs[i])\n",
    "            #heapq.heapify(next_free_time)\n",
    "            JobQueue.sift_down(next_free_time, 0)\n",
    "            #print(\"swapped\",next_free_time)\n",
    "    def sift_down(arr, idx):\n",
    "            min_idx = idx\n",
    "            left = 2 * idx + 1\n",
    "            right = left + 1\n",
    "            if left < len(arr) and (arr[left][1]<arr[min_idx][1]  or (arr[min_idx][1] == arr[left][1] and\n",
    "                                                                      arr[min_idx][0] > arr[left][0])):\n",
    "                min_idx = left\n",
    "            if right < len(arr) and (arr[right][1]<arr[min_idx][1]  or (arr[min_idx][1] == arr[right][1] and\n",
    "                                                                      arr[min_idx][0] > arr[right][0])):\n",
    "                min_idx = right\n",
    "            if min_idx != idx:\n",
    "                arr[min_idx], arr[idx] = arr[idx], arr[min_idx]\n",
    "                JobQueue.sift_down(arr, min_idx)\n",
    "    def solve(self):\n",
    "        self.read_data()\n",
    "        self.assign_jobs()\n",
    "        self.write_response()"
   ]
  },
  {
   "cell_type": "code",
   "execution_count": 30,
   "metadata": {
    "collapsed": false,
    "scrolled": true
   },
   "outputs": [
    {
     "name": "stdout",
     "output_type": "stream",
     "text": [
      "4 20\n",
      "1 1 1 1 1 1 1 1 1 1 1 1 1 1 1 1 1 1 1 1\n",
      "0 0\n",
      "1 0\n",
      "2 0\n",
      "3 0\n",
      "0 1\n",
      "1 1\n",
      "2 1\n",
      "3 1\n",
      "0 2\n",
      "1 2\n",
      "2 2\n",
      "3 2\n",
      "0 3\n",
      "1 3\n",
      "2 3\n",
      "3 3\n",
      "0 4\n",
      "1 4\n",
      "2 4\n",
      "3 4\n"
     ]
    }
   ],
   "source": [
    "if __name__ == '__main__':\n",
    "    job_queue = JobQueue()\n",
    "    job_queue.solve()"
   ]
  },
  {
   "cell_type": "code",
   "execution_count": 10,
   "metadata": {
    "collapsed": true
   },
   "outputs": [],
   "source": [
    "import sys"
   ]
  },
  {
   "cell_type": "code",
   "execution_count": 31,
   "metadata": {
    "collapsed": true
   },
   "outputs": [],
   "source": [
    "def getParent(idx):\n",
    "    # find parent and compress path\n",
    "    if idx != parent[idx]:\n",
    "        parent[idx] = getParent(parent[idx])\n",
    "    return parent[idx]\n",
    "\n",
    "def merge(destination, source):\n",
    "    realDestination, realSource = getParent(destination), getParent(source)\n",
    "    \n",
    "    if realDestination == realSource:\n",
    "        return False\n",
    "    \n",
    "    # merge two components\n",
    "    # use union by rank heuristic \n",
    "    # update ans with the new maximum table size\n",
    "    #attach lower rank tree to higher rank tree\n",
    "    if rank[realDestination] >= rank[realSource]:\n",
    "        lines[realDestination]+=lines[realSource]\n",
    "        lines[realSource] =0\n",
    "        parent[realSource] = realDestination \n",
    "    else:\n",
    "        lines[realSource]+=lines[realDestination]\n",
    "        lines[realDestination] =0\n",
    "        parent[realDestination] = realSource\n",
    "    if rank[realDestination] == rank[realSource]:\n",
    "        rank[realDestination] +=1\n",
    "    return True"
   ]
  },
  {
   "cell_type": "code",
   "execution_count": 32,
   "metadata": {
    "collapsed": false
   },
   "outputs": [
    {
     "name": "stdout",
     "output_type": "stream",
     "text": [
      "2 5\n",
      "1 1 1 1 1\n",
      "3 5\n"
     ]
    },
    {
     "ename": "IndexError",
     "evalue": "list index out of range",
     "output_type": "error",
     "traceback": [
      "\u001b[0;31m---------------------------------------------------------------------------\u001b[0m",
      "\u001b[0;31mIndexError\u001b[0m                                Traceback (most recent call last)",
      "\u001b[0;32m<ipython-input-32-e1540dd6a6ee>\u001b[0m in \u001b[0;36m<module>\u001b[0;34m()\u001b[0m\n\u001b[1;32m      7\u001b[0m \u001b[1;32mfor\u001b[0m \u001b[0mi\u001b[0m \u001b[1;32min\u001b[0m \u001b[0mrange\u001b[0m\u001b[1;33m(\u001b[0m\u001b[0mm\u001b[0m\u001b[1;33m)\u001b[0m\u001b[1;33m:\u001b[0m\u001b[1;33m\u001b[0m\u001b[0m\n\u001b[1;32m      8\u001b[0m     \u001b[0mdestination\u001b[0m\u001b[1;33m,\u001b[0m \u001b[0msource\u001b[0m \u001b[1;33m=\u001b[0m \u001b[0mmap\u001b[0m\u001b[1;33m(\u001b[0m\u001b[0mint\u001b[0m\u001b[1;33m,\u001b[0m \u001b[0minput\u001b[0m\u001b[1;33m(\u001b[0m\u001b[1;33m)\u001b[0m\u001b[1;33m.\u001b[0m\u001b[0msplit\u001b[0m\u001b[1;33m(\u001b[0m\u001b[1;33m)\u001b[0m\u001b[1;33m)\u001b[0m\u001b[1;33m\u001b[0m\u001b[0m\n\u001b[0;32m----> 9\u001b[0;31m     \u001b[0mmerge\u001b[0m\u001b[1;33m(\u001b[0m\u001b[0mdestination\u001b[0m \u001b[1;33m-\u001b[0m \u001b[1;36m1\u001b[0m\u001b[1;33m,\u001b[0m \u001b[0msource\u001b[0m \u001b[1;33m-\u001b[0m \u001b[1;36m1\u001b[0m\u001b[1;33m)\u001b[0m\u001b[1;33m\u001b[0m\u001b[0m\n\u001b[0m\u001b[1;32m     10\u001b[0m     \u001b[0mprint\u001b[0m\u001b[1;33m(\u001b[0m\u001b[0mans\u001b[0m\u001b[1;33m)\u001b[0m\u001b[1;33m\u001b[0m\u001b[0m\n",
      "\u001b[0;32m<ipython-input-31-08f1796107c5>\u001b[0m in \u001b[0;36mmerge\u001b[0;34m(destination, source)\u001b[0m\n\u001b[1;32m      6\u001b[0m \u001b[1;33m\u001b[0m\u001b[0m\n\u001b[1;32m      7\u001b[0m \u001b[1;32mdef\u001b[0m \u001b[0mmerge\u001b[0m\u001b[1;33m(\u001b[0m\u001b[0mdestination\u001b[0m\u001b[1;33m,\u001b[0m \u001b[0msource\u001b[0m\u001b[1;33m)\u001b[0m\u001b[1;33m:\u001b[0m\u001b[1;33m\u001b[0m\u001b[0m\n\u001b[0;32m----> 8\u001b[0;31m     \u001b[0mrealDestination\u001b[0m\u001b[1;33m,\u001b[0m \u001b[0mrealSource\u001b[0m \u001b[1;33m=\u001b[0m \u001b[0mgetParent\u001b[0m\u001b[1;33m(\u001b[0m\u001b[0mdestination\u001b[0m\u001b[1;33m)\u001b[0m\u001b[1;33m,\u001b[0m \u001b[0mgetParent\u001b[0m\u001b[1;33m(\u001b[0m\u001b[0msource\u001b[0m\u001b[1;33m)\u001b[0m\u001b[1;33m\u001b[0m\u001b[0m\n\u001b[0m\u001b[1;32m      9\u001b[0m \u001b[1;33m\u001b[0m\u001b[0m\n\u001b[1;32m     10\u001b[0m     \u001b[1;32mif\u001b[0m \u001b[0mrealDestination\u001b[0m \u001b[1;33m==\u001b[0m \u001b[0mrealSource\u001b[0m\u001b[1;33m:\u001b[0m\u001b[1;33m\u001b[0m\u001b[0m\n",
      "\u001b[0;32m<ipython-input-31-08f1796107c5>\u001b[0m in \u001b[0;36mgetParent\u001b[0;34m(idx)\u001b[0m\n\u001b[1;32m      1\u001b[0m \u001b[1;32mdef\u001b[0m \u001b[0mgetParent\u001b[0m\u001b[1;33m(\u001b[0m\u001b[0midx\u001b[0m\u001b[1;33m)\u001b[0m\u001b[1;33m:\u001b[0m\u001b[1;33m\u001b[0m\u001b[0m\n\u001b[1;32m      2\u001b[0m     \u001b[1;31m# find parent and compress path\u001b[0m\u001b[1;33m\u001b[0m\u001b[1;33m\u001b[0m\u001b[0m\n\u001b[0;32m----> 3\u001b[0;31m     \u001b[1;32mif\u001b[0m \u001b[0midx\u001b[0m \u001b[1;33m!=\u001b[0m \u001b[0mparent\u001b[0m\u001b[1;33m[\u001b[0m\u001b[0midx\u001b[0m\u001b[1;33m]\u001b[0m\u001b[1;33m:\u001b[0m\u001b[1;33m\u001b[0m\u001b[0m\n\u001b[0m\u001b[1;32m      4\u001b[0m         \u001b[0mparent\u001b[0m\u001b[1;33m[\u001b[0m\u001b[0midx\u001b[0m\u001b[1;33m]\u001b[0m \u001b[1;33m=\u001b[0m \u001b[0mgetParent\u001b[0m\u001b[1;33m(\u001b[0m\u001b[0mparent\u001b[0m\u001b[1;33m[\u001b[0m\u001b[0midx\u001b[0m\u001b[1;33m]\u001b[0m\u001b[1;33m)\u001b[0m\u001b[1;33m\u001b[0m\u001b[0m\n\u001b[1;32m      5\u001b[0m     \u001b[1;32mreturn\u001b[0m \u001b[0mparent\u001b[0m\u001b[1;33m[\u001b[0m\u001b[0midx\u001b[0m\u001b[1;33m]\u001b[0m\u001b[1;33m\u001b[0m\u001b[0m\n",
      "\u001b[0;31mIndexError\u001b[0m: list index out of range"
     ]
    }
   ],
   "source": [
    "n, m = map(int, input().split())\n",
    "lines = list(map(int, input().split()))\n",
    "rank = [1] * n\n",
    "parent = list(range(0, n))\n",
    "ans = max(lines)\n",
    "\n",
    "for i in range(m):\n",
    "    destination, source = map(int, input().split())\n",
    "    merge(destination - 1, source - 1)\n",
    "    print(ans)"
   ]
  },
  {
   "cell_type": "code",
   "execution_count": null,
   "metadata": {
    "collapsed": true
   },
   "outputs": [],
   "source": []
  }
 ],
 "metadata": {
  "anaconda-cloud": {},
  "kernelspec": {
   "display_name": "Python [default]",
   "language": "python",
   "name": "python3"
  },
  "language_info": {
   "codemirror_mode": {
    "name": "ipython",
    "version": 3
   },
   "file_extension": ".py",
   "mimetype": "text/x-python",
   "name": "python",
   "nbconvert_exporter": "python",
   "pygments_lexer": "ipython3",
   "version": "3.5.2"
  }
 },
 "nbformat": 4,
 "nbformat_minor": 2
}
