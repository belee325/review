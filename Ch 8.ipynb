{
 "cells": [
  {
   "cell_type": "code",
   "execution_count": 7,
   "metadata": {
    "collapsed": true
   },
   "outputs": [],
   "source": [
    "# 8.1\n",
    "def triple_step_rec(steps):\n",
    "    if steps < 0:\n",
    "        return 0\n",
    "    elif steps == 0:\n",
    "        return 1\n",
    "    else:\n",
    "        return triple_step_rec(steps - 3) + triple_step_rec(steps - 2) + triple_step_rec(steps - 1)\n",
    "    \n",
    "\n",
    "def triple_step(steps):\n",
    "    if steps == 0 or steps == 1:\n",
    "        return 1\n",
    "    elif steps == 2:\n",
    "        return 2\n",
    "    else:\n",
    "        a=1\n",
    "        b=1\n",
    "        c=2\n",
    "        count = 2\n",
    "        while count < steps:\n",
    "            ret = a+b+c\n",
    "            a=b\n",
    "            b=c\n",
    "            c = ret\n",
    "            count +=1\n",
    "        return ret"
   ]
  },
  {
   "cell_type": "code",
   "execution_count": 17,
   "metadata": {
    "collapsed": false
   },
   "outputs": [
    {
     "data": {
      "text/plain": [
       "1389537"
      ]
     },
     "execution_count": 17,
     "metadata": {},
     "output_type": "execute_result"
    }
   ],
   "source": [
    "triple_step(24)"
   ]
  },
  {
   "cell_type": "code",
   "execution_count": 16,
   "metadata": {
    "collapsed": false
   },
   "outputs": [
    {
     "data": {
      "text/plain": [
       "1389537"
      ]
     },
     "execution_count": 16,
     "metadata": {},
     "output_type": "execute_result"
    }
   ],
   "source": [
    "triple_step_rec(24)"
   ]
  },
  {
   "cell_type": "code",
   "execution_count": null,
   "metadata": {
    "collapsed": true
   },
   "outputs": [],
   "source": [
    "#8.2\n",
    "def find_path(grid):\n",
    "    #can only move right or down\n",
    "    #do dfs?\n",
    "    #if we reach bottom right return the stack,\n",
    "    # if stack is empty, no path\n",
    "    #suppose grid is NxN matrix of true and false indicating blocked/free squares\n",
    "    #we'll go down first\n",
    "    stack = [grid(0,0)]\n",
    "    row = 1\n",
    "    col = 1\n",
    "    while len(stack) > 0:\n",
    "        \n",
    "            "
   ]
  }
 ],
 "metadata": {
  "anaconda-cloud": {},
  "kernelspec": {
   "display_name": "Python [default]",
   "language": "python",
   "name": "python3"
  },
  "language_info": {
   "codemirror_mode": {
    "name": "ipython",
    "version": 3
   },
   "file_extension": ".py",
   "mimetype": "text/x-python",
   "name": "python",
   "nbconvert_exporter": "python",
   "pygments_lexer": "ipython3",
   "version": "3.5.2"
  }
 },
 "nbformat": 4,
 "nbformat_minor": 2
}
