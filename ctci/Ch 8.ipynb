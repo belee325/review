{
 "cells": [
  {
   "cell_type": "code",
   "execution_count": 7,
   "metadata": {
    "collapsed": true
   },
   "outputs": [],
   "source": [
    "# 8.1\n",
    "def triple_step_rec(steps):\n",
    "    if steps < 0:\n",
    "        return 0\n",
    "    elif steps == 0:\n",
    "        return 1\n",
    "    else:\n",
    "        return triple_step_rec(steps - 3) + triple_step_rec(steps - 2) + triple_step_rec(steps - 1)\n",
    "    \n",
    "\n",
    "def triple_step(steps):\n",
    "    if steps == 0 or steps == 1:\n",
    "        return 1\n",
    "    elif steps == 2:\n",
    "        return 2\n",
    "    else:\n",
    "        a=1\n",
    "        b=1\n",
    "        c=2\n",
    "        count = 2\n",
    "        while count < steps:\n",
    "            ret = a+b+c\n",
    "            a=b\n",
    "            b=c\n",
    "            c = ret\n",
    "            count +=1\n",
    "        return ret"
   ]
  },
  {
   "cell_type": "code",
   "execution_count": 17,
   "metadata": {},
   "outputs": [
    {
     "data": {
      "text/plain": [
       "1389537"
      ]
     },
     "execution_count": 17,
     "metadata": {},
     "output_type": "execute_result"
    }
   ],
   "source": [
    "triple_step(24)"
   ]
  },
  {
   "cell_type": "code",
   "execution_count": 16,
   "metadata": {},
   "outputs": [
    {
     "data": {
      "text/plain": [
       "1389537"
      ]
     },
     "execution_count": 16,
     "metadata": {},
     "output_type": "execute_result"
    }
   ],
   "source": [
    "triple_step_rec(24)"
   ]
  },
  {
   "cell_type": "code",
   "execution_count": 2,
   "metadata": {
    "collapsed": true
   },
   "outputs": [],
   "source": [
    "#8.2\n",
    "def find_path(grid):\n",
    "    #can only move right or down\n",
    "    #do dfs?\n",
    "    #if we reach bottom right return the stack,\n",
    "    # if stack is empty, no path\n",
    "    #suppose grid is NxN matrix of true and false indicating blocked/free squares\n",
    "    #we'll go down first\n",
    "    stack = [grid(0,0)]\n",
    "    row = 1\n",
    "    col = 1\n",
    "    curr = grid(0,0)\n",
    "    visited = set(curr)\n",
    "    while len(stack) > 0:\n",
    "        if curr.row == n-1 and curr.col == n-1:\n",
    "            return stack\n",
    "        if curr.down and curr.down not in visited:\n",
    "            visited.add(curr.down)\n",
    "            stack.append(curr.down)\n",
    "            curr = curr.down\n",
    "        elif curr.right and curr.right not in visited:\n",
    "            visited.add(curr.right)\n",
    "            stack.append(curr.right)\n",
    "            curr = curr.right\n",
    "        else:\n",
    "            curr = stack.pop()\n",
    "    return "
   ]
  },
  {
   "cell_type": "code",
   "execution_count": 18,
   "metadata": {
    "collapsed": true
   },
   "outputs": [],
   "source": [
    "#8.3\n",
    "def magic_index(arr):\n",
    "    start = 0\n",
    "    end = len(arr)-1\n",
    "    mid = (start+end)//2\n",
    "    while start!=mid and end != mid:\n",
    "        if mid == arr[mid]:\n",
    "            return mid\n",
    "        if mid > arr[mid]:\n",
    "            start = mid\n",
    "        elif mid < arr[mid]:\n",
    "            end = mid\n",
    "        mid = (start+end)//2\n",
    "        \n",
    "        \n",
    "        \n",
    "        \n",
    "def magic_index_nonunique(arr):\n",
    "    start = 0\n",
    "    end = len(arr)-1\n",
    "    mid = (start+end)//2\n",
    "    while start!=mid and end != mid:\n",
    "        if mid == arr[mid]:\n",
    "            return mid\n",
    "        if mid > arr[mid]:\n",
    "            end = min(mid-1, arr[mid])\n",
    "        elif mid < arr[mid]:\n",
    "            start = max(mid+1, arr[mid])\n",
    "        mid = (start+end)//2"
   ]
  },
  {
   "cell_type": "code",
   "execution_count": 19,
   "metadata": {},
   "outputs": [],
   "source": [
    "magic_index([-10,-5,1,2,3,4,5,6,7])"
   ]
  },
  {
   "cell_type": "code",
   "execution_count": 20,
   "metadata": {},
   "outputs": [
    {
     "data": {
      "text/plain": [
       "2"
      ]
     },
     "execution_count": 20,
     "metadata": {},
     "output_type": "execute_result"
    }
   ],
   "source": [
    "magic_index_nonunique([-10,-5,2,2,2,3,4,8,10,11,13])"
   ]
  },
  {
   "cell_type": "code",
   "execution_count": 87,
   "metadata": {
    "collapsed": true
   },
   "outputs": [],
   "source": [
    "#8.4\n",
    "def power_set(arr, idx):\n",
    "    allsubset =[]\n",
    "    if len(arr) == idx:\n",
    "        allsubset.append([])\n",
    "    else:\n",
    "        allsubset = power_set(arr, idx+1)\n",
    "        curr_item = arr[idx]\n",
    "        more_subs = []\n",
    "        for subsets in allsubset:\n",
    "            new_sub = []\n",
    "            new_sub.extend(subsets)\n",
    "            new_sub.append(curr_item)\n",
    "            more_subs.append(new_sub)\n",
    "            #print(new_sub)\n",
    "        #print(allsubset)\n",
    "        allsubset.extend(more_subs)\n",
    "        #print(allsubset)\n",
    "    return allsubset\n",
    "    "
   ]
  },
  {
   "cell_type": "code",
   "execution_count": 93,
   "metadata": {},
   "outputs": [],
   "source": [
    "#power_set([1,2,3,4,5,6],0)"
   ]
  },
  {
   "cell_type": "code",
   "execution_count": 97,
   "metadata": {
    "collapsed": true
   },
   "outputs": [],
   "source": [
    "#8.5\n",
    "def rec_mult_help_slow(num, times):\n",
    "    if times == 0:\n",
    "        return 0\n",
    "    if times == 1:\n",
    "        return num\n",
    "    else:\n",
    "        return num + rec_mult(num, times-1)\n",
    "def rec_mult(num1,num2):\n",
    "    return rec_mult_help(max(num1,num2),min(num1,num2))"
   ]
  },
  {
   "cell_type": "code",
   "execution_count": 100,
   "metadata": {},
   "outputs": [
    {
     "data": {
      "text/plain": [
       "50"
      ]
     },
     "execution_count": 100,
     "metadata": {},
     "output_type": "execute_result"
    }
   ],
   "source": [
    "rec_mult(10,5)"
   ]
  },
  {
   "cell_type": "code",
   "execution_count": 121,
   "metadata": {
    "collapsed": true
   },
   "outputs": [],
   "source": [
    "def rec_mult_halves(num1, num2):\n",
    "    memo=[0]*(min(num1,num2)+1)\n",
    "    return rec_mult_halves_help(max(num1,num2),min(num1,num2), memo)\n",
    "def rec_mult_halves_help(big, small, memo):\n",
    "    if small ==0:\n",
    "        return 0\n",
    "    elif small == 1:\n",
    "        memo[small] = big\n",
    "        return big\n",
    "    elif memo[small] !=0:\n",
    "        return memo[small]\n",
    "    s = small >> 1\n",
    "    side1 = rec_mult_halves_help(big, s, memo)\n",
    "    side2 = side1\n",
    "    if small % 2 == 1:\n",
    "        side2 = rec_mult_halves_help(big, small-s, memo)\n",
    "    memo[small] = side1 + side2\n",
    "    print(memo)\n",
    "    return memo[small]"
   ]
  },
  {
   "cell_type": "code",
   "execution_count": 124,
   "metadata": {},
   "outputs": [
    {
     "name": "stdout",
     "output_type": "stream",
     "text": [
      "[0, 320, 640, 0, 0, 0, 0, 0, 0, 0, 0, 0, 0, 0, 0, 0, 0, 0, 0, 0, 0, 0]\n",
      "[0, 320, 640, 960, 0, 0, 0, 0, 0, 0, 0, 0, 0, 0, 0, 0, 0, 0, 0, 0, 0, 0]\n",
      "[0, 320, 640, 960, 0, 1600, 0, 0, 0, 0, 0, 0, 0, 0, 0, 0, 0, 0, 0, 0, 0, 0]\n",
      "[0, 320, 640, 960, 0, 1600, 0, 0, 0, 0, 3200, 0, 0, 0, 0, 0, 0, 0, 0, 0, 0, 0]\n",
      "[0, 320, 640, 960, 0, 1600, 1920, 0, 0, 0, 3200, 0, 0, 0, 0, 0, 0, 0, 0, 0, 0, 0]\n",
      "[0, 320, 640, 960, 0, 1600, 1920, 0, 0, 0, 3200, 3520, 0, 0, 0, 0, 0, 0, 0, 0, 0, 0]\n",
      "[0, 320, 640, 960, 0, 1600, 1920, 0, 0, 0, 3200, 3520, 0, 0, 0, 0, 0, 0, 0, 0, 0, 6720]\n"
     ]
    },
    {
     "data": {
      "text/plain": [
       "6720"
      ]
     },
     "execution_count": 124,
     "metadata": {},
     "output_type": "execute_result"
    }
   ],
   "source": [
    "rec_mult_halves(21,320)"
   ]
  },
  {
   "cell_type": "code",
   "execution_count": null,
   "metadata": {
    "collapsed": true
   },
   "outputs": [],
   "source": [
    "def move_disk(num_disk,origin,destination,buffer):\n",
    "    if num_disk == 0:\n",
    "        return\n",
    "    else:\n",
    "        move_disk(num_disk-1,start,buffer,destination)\n",
    "        move_disk_top(start,destination)\n",
    "        move_disk(num_disk-1,buffer,destination,origin)\n",
    "        "
   ]
  },
  {
   "cell_type": "code",
   "execution_count": 167,
   "metadata": {
    "collapsed": true
   },
   "outputs": [],
   "source": [
    "def perms(string):\n",
    "    current_permutations = []\n",
    "    if len(string)==0:\n",
    "        current_permutations.append(\"\")\n",
    "        return current_permutations\n",
    "    first = string[0]\n",
    "    rest = string[1:]\n",
    "    words = perms(rest)\n",
    "    new_words = []\n",
    "    #print(first)\n",
    "    for word in words:\n",
    "        if len(word) == 0:\n",
    "            new_words.append(first)\n",
    "        else:\n",
    "            new_words.append(word+first)\n",
    "            new_words.append(first+word)\n",
    "            for i in range(0,len(word)-1):\n",
    "                new_words.append(word[0:i+1]+first+word[i+1:])\n",
    "            #print(new_words)\n",
    "    current_permutations.extend(new_words)\n",
    "    #print(current_permutations)\n",
    "    return current_permutations"
   ]
  },
  {
   "cell_type": "code",
   "execution_count": 170,
   "metadata": {},
   "outputs": [
    {
     "data": {
      "text/plain": [
       "['abcd',\n",
       " 'abdc',\n",
       " 'acbd',\n",
       " 'acdb',\n",
       " 'adbc',\n",
       " 'adcb',\n",
       " 'bacd',\n",
       " 'badc',\n",
       " 'bcad',\n",
       " 'bcda',\n",
       " 'bdac',\n",
       " 'bdca',\n",
       " 'cabd',\n",
       " 'cadb',\n",
       " 'cbad',\n",
       " 'cbda',\n",
       " 'cdab',\n",
       " 'cdba',\n",
       " 'dabc',\n",
       " 'dacb',\n",
       " 'dbac',\n",
       " 'dbca',\n",
       " 'dcab',\n",
       " 'dcba']"
      ]
     },
     "execution_count": 170,
     "metadata": {},
     "output_type": "execute_result"
    }
   ],
   "source": [
    "(sorted(perms('abcd')))"
   ]
  },
  {
   "cell_type": "code",
   "execution_count": null,
   "metadata": {
    "collapsed": true
   },
   "outputs": [],
   "source": [
    "def perms_dupes(string):\n",
    "    "
   ]
  }
 ],
 "metadata": {
  "anaconda-cloud": {},
  "kernelspec": {
   "display_name": "Python 3",
   "language": "python",
   "name": "python3"
  },
  "language_info": {
   "codemirror_mode": {
    "name": "ipython",
    "version": 3
   },
   "file_extension": ".py",
   "mimetype": "text/x-python",
   "name": "python",
   "nbconvert_exporter": "python",
   "pygments_lexer": "ipython3",
   "version": "3.6.3"
  }
 },
 "nbformat": 4,
 "nbformat_minor": 2
}
