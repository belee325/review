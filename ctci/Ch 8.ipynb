{
 "cells": [
  {
   "cell_type": "code",
   "execution_count": 7,
   "metadata": {
    "collapsed": true
   },
   "outputs": [],
   "source": [
    "# 8.1\n",
    "def triple_step_rec(steps):\n",
    "    if steps < 0:\n",
    "        return 0\n",
    "    elif steps == 0:\n",
    "        return 1\n",
    "    else:\n",
    "        return triple_step_rec(steps - 3) + triple_step_rec(steps - 2) + triple_step_rec(steps - 1)\n",
    "    \n",
    "\n",
    "def triple_step(steps):\n",
    "    if steps == 0 or steps == 1:\n",
    "        return 1\n",
    "    elif steps == 2:\n",
    "        return 2\n",
    "    else:\n",
    "        a=1\n",
    "        b=1\n",
    "        c=2\n",
    "        count = 2\n",
    "        while count < steps:\n",
    "            ret = a+b+c\n",
    "            a=b\n",
    "            b=c\n",
    "            c = ret\n",
    "            count +=1\n",
    "        return ret"
   ]
  },
  {
   "cell_type": "code",
   "execution_count": 17,
   "metadata": {},
   "outputs": [
    {
     "data": {
      "text/plain": [
       "1389537"
      ]
     },
     "execution_count": 17,
     "metadata": {},
     "output_type": "execute_result"
    }
   ],
   "source": [
    "triple_step(24)"
   ]
  },
  {
   "cell_type": "code",
   "execution_count": 16,
   "metadata": {},
   "outputs": [
    {
     "data": {
      "text/plain": [
       "1389537"
      ]
     },
     "execution_count": 16,
     "metadata": {},
     "output_type": "execute_result"
    }
   ],
   "source": [
    "triple_step_rec(24)"
   ]
  },
  {
   "cell_type": "code",
   "execution_count": 2,
   "metadata": {
    "collapsed": true
   },
   "outputs": [],
   "source": [
    "#8.2\n",
    "def find_path(grid):\n",
    "    #can only move right or down\n",
    "    #do dfs?\n",
    "    #if we reach bottom right return the stack,\n",
    "    # if stack is empty, no path\n",
    "    #suppose grid is NxN matrix of true and false indicating blocked/free squares\n",
    "    #we'll go down first\n",
    "    stack = [grid(0,0)]\n",
    "    row = 1\n",
    "    col = 1\n",
    "    curr = grid(0,0)\n",
    "    visited = set(curr)\n",
    "    while len(stack) > 0:\n",
    "        if curr.row == n-1 and curr.col == n-1:\n",
    "            return stack\n",
    "        if curr.down and curr.down not in visited:\n",
    "            visited.add(curr.down)\n",
    "            stack.append(curr.down)\n",
    "            curr = curr.down\n",
    "        elif curr.right and curr.right not in visited:\n",
    "            visited.add(curr.right)\n",
    "            stack.append(curr.right)\n",
    "            curr = curr.right\n",
    "        else:\n",
    "            curr = stack.pop()\n",
    "    return "
   ]
  },
  {
   "cell_type": "code",
   "execution_count": 18,
   "metadata": {
    "collapsed": true
   },
   "outputs": [],
   "source": [
    "#8.3\n",
    "def magic_index(arr):\n",
    "    start = 0\n",
    "    end = len(arr)-1\n",
    "    mid = (start+end)//2\n",
    "    while start!=mid and end != mid:\n",
    "        if mid == arr[mid]:\n",
    "            return mid\n",
    "        if mid > arr[mid]:\n",
    "            start = mid\n",
    "        elif mid < arr[mid]:\n",
    "            end = mid\n",
    "        mid = (start+end)//2\n",
    "        \n",
    "        \n",
    "        \n",
    "        \n",
    "def magic_index_nonunique(arr):\n",
    "    start = 0\n",
    "    end = len(arr)-1\n",
    "    mid = (start+end)//2\n",
    "    while start!=mid and end != mid:\n",
    "        if mid == arr[mid]:\n",
    "            return mid\n",
    "        if mid > arr[mid]:\n",
    "            end = min(mid-1, arr[mid])\n",
    "        elif mid < arr[mid]:\n",
    "            start = max(mid+1, arr[mid])\n",
    "        mid = (start+end)//2"
   ]
  },
  {
   "cell_type": "code",
   "execution_count": 19,
   "metadata": {
    "collapsed": true
   },
   "outputs": [],
   "source": [
    "magic_index([-10,-5,1,2,3,4,5,6,7])"
   ]
  },
  {
   "cell_type": "code",
   "execution_count": 20,
   "metadata": {},
   "outputs": [
    {
     "data": {
      "text/plain": [
       "2"
      ]
     },
     "execution_count": 20,
     "metadata": {},
     "output_type": "execute_result"
    }
   ],
   "source": [
    "magic_index_nonunique([-10,-5,2,2,2,3,4,8,10,11,13])"
   ]
  },
  {
   "cell_type": "code",
   "execution_count": 87,
   "metadata": {
    "collapsed": true
   },
   "outputs": [],
   "source": [
    "#8.4\n",
    "def power_set(arr, idx):\n",
    "    allsubset =[]\n",
    "    if len(arr) == idx:\n",
    "        allsubset.append([])\n",
    "    else:\n",
    "        allsubset = power_set(arr, idx+1)\n",
    "        curr_item = arr[idx]\n",
    "        more_subs = []\n",
    "        for subsets in allsubset:\n",
    "            new_sub = []\n",
    "            new_sub.extend(subsets)\n",
    "            new_sub.append(curr_item)\n",
    "            more_subs.append(new_sub)\n",
    "            #print(new_sub)\n",
    "        #print(allsubset)\n",
    "        allsubset.extend(more_subs)\n",
    "        #print(allsubset)\n",
    "    return allsubset\n",
    "    "
   ]
  },
  {
   "cell_type": "code",
   "execution_count": 93,
   "metadata": {
    "collapsed": true
   },
   "outputs": [],
   "source": [
    "#power_set([1,2,3,4,5,6],0)"
   ]
  },
  {
   "cell_type": "code",
   "execution_count": 97,
   "metadata": {
    "collapsed": true
   },
   "outputs": [],
   "source": [
    "#8.5\n",
    "def rec_mult_help_slow(num, times):\n",
    "    if times == 0:\n",
    "        return 0\n",
    "    if times == 1:\n",
    "        return num\n",
    "    else:\n",
    "        return num + rec_mult(num, times-1)\n",
    "def rec_mult(num1,num2):\n",
    "    return rec_mult_help(max(num1,num2),min(num1,num2))"
   ]
  },
  {
   "cell_type": "code",
   "execution_count": 100,
   "metadata": {},
   "outputs": [
    {
     "data": {
      "text/plain": [
       "50"
      ]
     },
     "execution_count": 100,
     "metadata": {},
     "output_type": "execute_result"
    }
   ],
   "source": [
    "rec_mult(10,5)"
   ]
  },
  {
   "cell_type": "code",
   "execution_count": 121,
   "metadata": {
    "collapsed": true
   },
   "outputs": [],
   "source": [
    "def rec_mult_halves(num1, num2):\n",
    "    memo=[0]*(min(num1,num2)+1)\n",
    "    return rec_mult_halves_help(max(num1,num2),min(num1,num2), memo)\n",
    "def rec_mult_halves_help(big, small, memo):\n",
    "    if small ==0:\n",
    "        return 0\n",
    "    elif small == 1:\n",
    "        memo[small] = big\n",
    "        return big\n",
    "    elif memo[small] !=0:\n",
    "        return memo[small]\n",
    "    s = small >> 1\n",
    "    side1 = rec_mult_halves_help(big, s, memo)\n",
    "    side2 = side1\n",
    "    if small % 2 == 1:\n",
    "        side2 = rec_mult_halves_help(big, small-s, memo)\n",
    "    memo[small] = side1 + side2\n",
    "    print(memo)\n",
    "    return memo[small]"
   ]
  },
  {
   "cell_type": "code",
   "execution_count": 124,
   "metadata": {},
   "outputs": [
    {
     "name": "stdout",
     "output_type": "stream",
     "text": [
      "[0, 320, 640, 0, 0, 0, 0, 0, 0, 0, 0, 0, 0, 0, 0, 0, 0, 0, 0, 0, 0, 0]\n",
      "[0, 320, 640, 960, 0, 0, 0, 0, 0, 0, 0, 0, 0, 0, 0, 0, 0, 0, 0, 0, 0, 0]\n",
      "[0, 320, 640, 960, 0, 1600, 0, 0, 0, 0, 0, 0, 0, 0, 0, 0, 0, 0, 0, 0, 0, 0]\n",
      "[0, 320, 640, 960, 0, 1600, 0, 0, 0, 0, 3200, 0, 0, 0, 0, 0, 0, 0, 0, 0, 0, 0]\n",
      "[0, 320, 640, 960, 0, 1600, 1920, 0, 0, 0, 3200, 0, 0, 0, 0, 0, 0, 0, 0, 0, 0, 0]\n",
      "[0, 320, 640, 960, 0, 1600, 1920, 0, 0, 0, 3200, 3520, 0, 0, 0, 0, 0, 0, 0, 0, 0, 0]\n",
      "[0, 320, 640, 960, 0, 1600, 1920, 0, 0, 0, 3200, 3520, 0, 0, 0, 0, 0, 0, 0, 0, 0, 6720]\n"
     ]
    },
    {
     "data": {
      "text/plain": [
       "6720"
      ]
     },
     "execution_count": 124,
     "metadata": {},
     "output_type": "execute_result"
    }
   ],
   "source": [
    "rec_mult_halves(21,320)"
   ]
  },
  {
   "cell_type": "code",
   "execution_count": null,
   "metadata": {
    "collapsed": true
   },
   "outputs": [],
   "source": [
    "def move_disk(num_disk,origin,destination,buffer):\n",
    "    if num_disk == 0:\n",
    "        return\n",
    "    else:\n",
    "        move_disk(num_disk-1,start,buffer,destination)\n",
    "        move_disk_top(start,destination)\n",
    "        move_disk(num_disk-1,buffer,destination,origin)\n",
    "        "
   ]
  },
  {
   "cell_type": "code",
   "execution_count": 4,
   "metadata": {
    "collapsed": true
   },
   "outputs": [],
   "source": [
    "def perms(string):\n",
    "    current_permutations = []\n",
    "    if len(string)==0:\n",
    "        current_permutations.append(\"\")\n",
    "        return current_permutations\n",
    "    first = string[0]\n",
    "    rest = string[1:]\n",
    "    words = perms(rest)\n",
    "    new_words = []\n",
    "    #print(first)\n",
    "    for word in words:\n",
    "        if len(word) == 0:\n",
    "            new_words.append(first)\n",
    "        else:\n",
    "            new_words.append(word+first)\n",
    "            new_words.append(first+word)\n",
    "            for i in range(0,len(word)-1):\n",
    "                new_words.append(word[0:i+1]+first+word[i+1:])\n",
    "            #print(new_words)\n",
    "    current_permutations.extend(new_words)\n",
    "    #print(current_permutations)\n",
    "    return current_permutations"
   ]
  },
  {
   "cell_type": "code",
   "execution_count": 8,
   "metadata": {},
   "outputs": [
    {
     "data": {
      "text/plain": [
       "['aabb',\n",
       " 'aabb',\n",
       " 'aabb',\n",
       " 'aabb',\n",
       " 'abab',\n",
       " 'abab',\n",
       " 'abab',\n",
       " 'abab',\n",
       " 'abba',\n",
       " 'abba',\n",
       " 'abba',\n",
       " 'abba',\n",
       " 'baab',\n",
       " 'baab',\n",
       " 'baab',\n",
       " 'baab',\n",
       " 'baba',\n",
       " 'baba',\n",
       " 'baba',\n",
       " 'baba',\n",
       " 'bbaa',\n",
       " 'bbaa',\n",
       " 'bbaa',\n",
       " 'bbaa']"
      ]
     },
     "execution_count": 8,
     "metadata": {},
     "output_type": "execute_result"
    }
   ],
   "source": [
    "(sorted(perms('aabb')))"
   ]
  },
  {
   "cell_type": "code",
   "execution_count": 137,
   "metadata": {
    "collapsed": true
   },
   "outputs": [],
   "source": [
    "#8.8\n",
    "def dupe_perms(char_hash, remaining):\n",
    "    current_permutations = []\n",
    "    #print(remaining)\n",
    "    if remaining==0:\n",
    "        return [\"\"]\n",
    "    for k,v in char_hash.items():\n",
    "        #print(k)\n",
    "        if char_hash[k] > 0:\n",
    "            char_hash[k] -= 1\n",
    "            new_list = []\n",
    "            new_list.extend([str(k) + i for i in dupe_perms(char_hash, remaining-1)])\n",
    "            char_hash[k] += 1\n",
    "            current_permutations.extend(new_list)\n",
    "            #print(new_list, current_permutations)\n",
    "    return current_permutations\n",
    "    "
   ]
  },
  {
   "cell_type": "code",
   "execution_count": 138,
   "metadata": {
    "collapsed": true
   },
   "outputs": [],
   "source": [
    "def get_char_hash(string):\n",
    "    ret = {}\n",
    "    for c in string:\n",
    "        if c in ret:\n",
    "            ret[c] +=1\n",
    "        else:\n",
    "            ret[c] = 1\n",
    "    return ret"
   ]
  },
  {
   "cell_type": "code",
   "execution_count": 141,
   "metadata": {
    "collapsed": true
   },
   "outputs": [],
   "source": [
    "char_hash = get_char_hash('aaaabc')"
   ]
  },
  {
   "cell_type": "code",
   "execution_count": null,
   "metadata": {
    "collapsed": true
   },
   "outputs": [],
   "source": []
  },
  {
   "cell_type": "code",
   "execution_count": 142,
   "metadata": {},
   "outputs": [
    {
     "data": {
      "text/plain": [
       "['aaaabc',\n",
       " 'aaaacb',\n",
       " 'aaabac',\n",
       " 'aaabca',\n",
       " 'aaacab',\n",
       " 'aaacba',\n",
       " 'aabaac',\n",
       " 'aabaca',\n",
       " 'aabcaa',\n",
       " 'aacaab',\n",
       " 'aacaba',\n",
       " 'aacbaa',\n",
       " 'abaaac',\n",
       " 'abaaca',\n",
       " 'abacaa',\n",
       " 'abcaaa',\n",
       " 'acaaab',\n",
       " 'acaaba',\n",
       " 'acabaa',\n",
       " 'acbaaa',\n",
       " 'baaaac',\n",
       " 'baaaca',\n",
       " 'baacaa',\n",
       " 'bacaaa',\n",
       " 'bcaaaa',\n",
       " 'caaaab',\n",
       " 'caaaba',\n",
       " 'caabaa',\n",
       " 'cabaaa',\n",
       " 'cbaaaa']"
      ]
     },
     "execution_count": 142,
     "metadata": {},
     "output_type": "execute_result"
    }
   ],
   "source": [
    "dupe_perms(char_hash, sum(char_hash.values()))"
   ]
  },
  {
   "cell_type": "code",
   "execution_count": 156,
   "metadata": {
    "collapsed": true
   },
   "outputs": [],
   "source": [
    "# 8.9\n",
    "# generate all possible arrangements of n pairs of parens\n",
    "def parens(n):\n",
    "    arrangement = set()\n",
    "    if n ==0:\n",
    "        arrangement.add(\"\")\n",
    "    else:\n",
    "        prev = parens(n-1)\n",
    "        #print(prev)\n",
    "        for string in prev:\n",
    "            for i in range(len(string)):\n",
    "                if string[i] == '(':\n",
    "                    new_string = string[:i+1] + \"()\" + string[i+1:]\n",
    "                    arrangement.add(new_string)\n",
    "            arrangement.add(\"()\"+string)\n",
    "    return arrangement"
   ]
  },
  {
   "cell_type": "code",
   "execution_count": 157,
   "metadata": {},
   "outputs": [
    {
     "data": {
      "text/plain": [
       "{'((()))', '(()())', '(())()', '()(())', '()()()'}"
      ]
     },
     "execution_count": 157,
     "metadata": {},
     "output_type": "execute_result"
    }
   ],
   "source": [
    "parens(3)"
   ]
  },
  {
   "cell_type": "code",
   "execution_count": 1,
   "metadata": {},
   "outputs": [
    {
     "ename": "SyntaxError",
     "evalue": "invalid syntax (<ipython-input-1-d43537fac491>, line 7)",
     "output_type": "error",
     "traceback": [
      "\u001b[1;36m  File \u001b[1;32m\"<ipython-input-1-d43537fac491>\"\u001b[1;36m, line \u001b[1;32m7\u001b[0m\n\u001b[1;33m    else\u001b[0m\n\u001b[1;37m        ^\u001b[0m\n\u001b[1;31mSyntaxError\u001b[0m\u001b[1;31m:\u001b[0m invalid syntax\n"
     ]
    }
   ],
   "source": [
    "#8.10\n",
    "#paintfill\n",
    "\n",
    "def paintfill(screen, row, col, color):\n",
    "    if row > len(screen) or col > len(screen[0]) or screen[row][col] == color:\n",
    "        return\n",
    "    else:\n",
    "        screen[row][col]=color\n",
    "        paintfill(screen, row+1, col, color)\n",
    "        paintfill(screen, row, col+1, color)\n",
    "        paintfill(screen, row-1, col, color)\n",
    "        paintfill(screen, row, col-1, color)\n",
    "    \n"
   ]
  },
  {
   "cell_type": "code",
   "execution_count": 44,
   "metadata": {
    "collapsed": true
   },
   "outputs": [],
   "source": [
    "#8.11\n",
    "def make_change(n):\n",
    "    coins = [1,5,10,25]\n",
    "    change = [0]*(n+1)\n",
    "    change[0]=1\n",
    "    for c in coins:\n",
    "        for i in range(1,n+1):\n",
    "            if i >= c:\n",
    "                #print(i)\n",
    "                change[i] += change[i - c]\n",
    "    #print(change)\n",
    "    return change[n]"
   ]
  },
  {
   "cell_type": "code",
   "execution_count": 45,
   "metadata": {},
   "outputs": [
    {
     "data": {
      "text/plain": [
       "142511"
      ]
     },
     "execution_count": 45,
     "metadata": {},
     "output_type": "execute_result"
    }
   ],
   "source": [
    "make_change(1000)"
   ]
  },
  {
   "cell_type": "code",
   "execution_count": 142,
   "metadata": {},
   "outputs": [],
   "source": [
    "#8.12\n",
    "def is_safe(board,row,col):\n",
    "    #row col is position of new queen note that we only need to check the left side of this position\n",
    "    for i in range(0,col):\n",
    "        if board[row][i] == 1:\n",
    "            return False\n",
    "    \n",
    "    for i,j in zip(range(row,-1,-1), range(col,-1,-1)):\n",
    "        if board[i][j] == 1:\n",
    "            return False\n",
    "    #somethings up here    \n",
    "    for i,j in zip(range(len(board)-1,row-1,-1), range(col,-1,-1)):\n",
    "        if board[i][j] == 1:\n",
    "            return False\n",
    "    return True\n",
    "def queens(num_queens, board):\n",
    "\n",
    "    if num_queens == len(board):\n",
    "        return True\n",
    "    else:\n",
    "        for i in range(len(board)):\n",
    "            if is_safe(board, i, num_queens):\n",
    "                board[i][num_queens] = 1\n",
    "                if queens(num_queens+1, board):\n",
    "                    return True\n",
    "                board[i][num_queens] = 0\n",
    "    return False"
   ]
  },
  {
   "cell_type": "code",
   "execution_count": 143,
   "metadata": {
    "collapsed": true
   },
   "outputs": [],
   "source": [
    "board = [[0,0,0,0,0,0,0,0],\n",
    "         [0,0,0,0,0,0,0,0],\n",
    "         [0,0,0,0,0,0,0,0],\n",
    "         [0,0,0,0,0,0,0,0],\n",
    "         [0,0,0,0,0,0,0,0],\n",
    "         [0,0,0,0,0,0,0,0],\n",
    "         [0,0,0,0,0,0,0,0],\n",
    "         [0,0,0,0,0,0,0,0]]"
   ]
  },
  {
   "cell_type": "code",
   "execution_count": 144,
   "metadata": {},
   "outputs": [
    {
     "data": {
      "text/plain": [
       "True"
      ]
     },
     "execution_count": 144,
     "metadata": {},
     "output_type": "execute_result"
    }
   ],
   "source": [
    "queens(0, board)"
   ]
  },
  {
   "cell_type": "code",
   "execution_count": 145,
   "metadata": {},
   "outputs": [
    {
     "data": {
      "text/plain": [
       "[[0, 0, 0, 0, 1, 0, 0, 0],\n",
       " [0, 0, 0, 1, 0, 0, 0, 0],\n",
       " [0, 1, 0, 0, 0, 0, 0, 0],\n",
       " [0, 0, 0, 0, 0, 0, 1, 0],\n",
       " [0, 0, 1, 0, 0, 0, 0, 0],\n",
       " [0, 0, 0, 0, 0, 1, 0, 0],\n",
       " [0, 0, 0, 0, 0, 0, 0, 1],\n",
       " [1, 0, 0, 0, 0, 0, 0, 0]]"
      ]
     },
     "execution_count": 145,
     "metadata": {},
     "output_type": "execute_result"
    }
   ],
   "source": [
    "board"
   ]
  },
  {
   "cell_type": "code",
   "execution_count": 127,
   "metadata": {},
   "outputs": [],
   "source": [
    "for i,j in zip(range(6,8,-1), range(4,-1,-1)):\n",
    "    print(i,j)"
   ]
  },
  {
   "cell_type": "code",
   "execution_count": 107,
   "metadata": {
    "collapsed": true
   },
   "outputs": [],
   "source": [
    "x =zip(range(6,8,-1), range(4,-1,-1))"
   ]
  },
  {
   "cell_type": "code",
   "execution_count": 135,
   "metadata": {},
   "outputs": [
    {
     "data": {
      "text/plain": [
       "[7, 6, 5, 4, 3, 2, 1, 0]"
      ]
     },
     "execution_count": 135,
     "metadata": {},
     "output_type": "execute_result"
    }
   ],
   "source": [
    "[x for x in range(7,-1,-1)]"
   ]
  },
  {
   "cell_type": "code",
   "execution_count": 136,
   "metadata": {},
   "outputs": [
    {
     "data": {
      "text/plain": [
       "[4, 3, 2, 1, 0]"
      ]
     },
     "execution_count": 136,
     "metadata": {},
     "output_type": "execute_result"
    }
   ],
   "source": [
    "[x for x in range(4,-1,-1)]"
   ]
  },
  {
   "cell_type": "code",
   "execution_count": 137,
   "metadata": {},
   "outputs": [
    {
     "data": {
      "text/plain": [
       "[(7, 4), (6, 3), (5, 2), (4, 1), (3, 0)]"
      ]
     },
     "execution_count": 137,
     "metadata": {},
     "output_type": "execute_result"
    }
   ],
   "source": [
    "[(x,y) for x,y in zip(range(7,-1,-1),range(4,-1,-1))]"
   ]
  },
  {
   "cell_type": "code",
   "execution_count": null,
   "metadata": {
    "collapsed": true
   },
   "outputs": [],
   "source": []
  }
 ],
 "metadata": {
  "anaconda-cloud": {},
  "kernelspec": {
   "display_name": "Python 3",
   "language": "python",
   "name": "python3"
  }
 },
 "nbformat": 4,
 "nbformat_minor": 2
}
