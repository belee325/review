{
 "cells": [
  {
   "cell_type": "code",
   "execution_count": 1,
   "metadata": {
    "collapsed": true
   },
   "outputs": [],
   "source": [
    "class Node:\n",
    "    def __init__(self,value,next_node = None):\n",
    "        self.value = value\n",
    "        self.next = next_node\n",
    "    def __eq__(self, other):\n",
    "        return self.value == other.value\n",
    "    \n",
    "    def __gt__(self, other):\n",
    "        return self.value > other.value\n",
    "    \n",
    "    def __lt__(self,other):\n",
    "        return self.value < other.value\n",
    "    \n",
    "    def __le__(self,other):\n",
    "        return self.value <= other.value\n",
    "    \n",
    "    def __ge__(self,other):\n",
    "        return self.value >= other.value\n",
    "    \n",
    "    def __ne__(self,other):\n",
    "        return self.value != other.value\n",
    "    \n",
    "    def __repr__(self):\n",
    "        return \"value:{}\".format(self.value)\n",
    "class EmptyStackException(Exception):\n",
    "    pass\n",
    "class EmptyQueueException(Exception):\n",
    "    pass\n",
    "\n",
    "class Stack:\n",
    "    def __init__(self):\n",
    "        self.top = None\n",
    "    def peek(self):\n",
    "        if not self.top:\n",
    "            raise EmptyStackException(\"empty stack!\")\n",
    "        else:\n",
    "            return self.top\n",
    "    def push(self, data):\n",
    "        if not self.top:\n",
    "            self.top = Node(data)\n",
    "        else:\n",
    "            new_node = Node(data)\n",
    "            new_node.next = self.top\n",
    "            self.top = new_node\n",
    "    def pop(self):\n",
    "        if not self.top:\n",
    "            raise EmptyStackException(\"empty stack!\")\n",
    "        else:\n",
    "            temp = self.top\n",
    "            self.top = self.top.next\n",
    "            return temp\n",
    "    def is_empty(self):\n",
    "        return not self.top\n",
    "    \n",
    "class Queue:\n",
    "    def __init__(self):\n",
    "        self.top = None\n",
    "        self.tail = None\n",
    "    def peek(self):\n",
    "        if not self.top:\n",
    "            raise EmptyQueueException('empty queue!')\n",
    "        else:\n",
    "            return self.top\n",
    "    def push(self, data):\n",
    "        new_node = Node(data)\n",
    "        if not self.top:\n",
    "            self.top = new_node\n",
    "            self.tail = new_node\n",
    "        else:\n",
    "            self.tail.next = new_node\n",
    "            self.tail=new_node\n",
    "    def pop(self):\n",
    "        if not self.top:\n",
    "            raise EmptyQueueException('empty queue!')\n",
    "        else:\n",
    "            temp = self.top\n",
    "            self.top= self.top.next\n",
    "            return temp\n",
    "    def is_empty(self):\n",
    "        return not self.top"
   ]
  },
  {
   "cell_type": "code",
   "execution_count": 2,
   "metadata": {
    "collapsed": false
   },
   "outputs": [
    {
     "data": {
      "text/plain": [
       "value:4"
      ]
     },
     "execution_count": 2,
     "metadata": {},
     "output_type": "execute_result"
    }
   ],
   "source": [
    "stack = Stack()\n",
    "#stack.peek()\n",
    "stack.push(3)\n",
    "stack.push(4)\n",
    "stack.peek()"
   ]
  },
  {
   "cell_type": "code",
   "execution_count": 3,
   "metadata": {
    "collapsed": false
   },
   "outputs": [
    {
     "data": {
      "text/plain": [
       "value:3"
      ]
     },
     "execution_count": 3,
     "metadata": {},
     "output_type": "execute_result"
    }
   ],
   "source": [
    "stack.pop()\n",
    "stack.peek()"
   ]
  },
  {
   "cell_type": "code",
   "execution_count": 4,
   "metadata": {
    "collapsed": false
   },
   "outputs": [
    {
     "data": {
      "text/plain": [
       "value:3"
      ]
     },
     "execution_count": 4,
     "metadata": {},
     "output_type": "execute_result"
    }
   ],
   "source": [
    "stack.pop()\n",
    "#stack.peek()"
   ]
  },
  {
   "cell_type": "code",
   "execution_count": 5,
   "metadata": {
    "collapsed": false
   },
   "outputs": [
    {
     "data": {
      "text/plain": [
       "value:3"
      ]
     },
     "execution_count": 5,
     "metadata": {},
     "output_type": "execute_result"
    }
   ],
   "source": [
    "queue = Queue()\n",
    "queue.push(3)\n",
    "queue.push(4)\n",
    "queue.peek()"
   ]
  },
  {
   "cell_type": "code",
   "execution_count": 6,
   "metadata": {
    "collapsed": false
   },
   "outputs": [
    {
     "data": {
      "text/plain": [
       "value:4"
      ]
     },
     "execution_count": 6,
     "metadata": {},
     "output_type": "execute_result"
    }
   ],
   "source": [
    "queue.pop()\n",
    "queue.peek()"
   ]
  },
  {
   "cell_type": "code",
   "execution_count": 7,
   "metadata": {
    "collapsed": false
   },
   "outputs": [
    {
     "data": {
      "text/plain": [
       "\" describe how you would use a single array to implement 3 stacks\\n    i wouldnt\\n    \\n    lets say we have an array: stack_array \\n    \\n    we would need indexes for current position for the 3 stacks, and where the stacks begin in the array\\n    first stack begins at zero, has index for current pos curr_a\\n    second stack begins somewhere in the middle say index j, has index for current pos curr_b\\n    and last stack begins somewhere after index j, index k, has index for current pos curr_c\\n    \\n    we also know the ending index of the array - end\\n    \\n    lets name the stacks a b c with their respective indices as above\\n    \\n    if we wanted to push a value to a specific stack, we would do something like\\n    def push(stack_name, data):\\n        if stack_name == 'a':\\n            if curr_a >= j:\\n                raise fullstackexception\\n            else:\\n                stack_array[curr_pos] = data\\n                curr_a += 1\\n        elif stack_name == 'b':\\n            if curr_b >= k:\\n                raise fullstackexception\\n            else:\\n                stack_array[curr_pos] = data\\n                curr_b += 1\\n        elif: stack_name == 'c':\\n            if curr_c > end:\\n                raise fullstackexception\\n            else:\\n                stack_array[curr_pos] = data\\n                curr_c += 1\\n                \\n    if we wanted to pop:\\n    def pop(stack_name):\\n        if stack_name ='a':\\n            if curr_a == 0:\\n                raise emptystackexception\\n            else:\\n                temp = stack_array[curr_a]\\n                stack_array[curr_a]=None\\n        elif stack_name ='b':\\n            if curr_b <= j:\\n                raise emptystackexception\\n            else:\\n                temp = stack_array[curr_b]\\n                stack_array[curr_b]=None\\n        elif stack_name ='c':\\n            if curr_c <= k:\\n                raise emptystackexception\\n            else:\\n                temp = stack_array[curr_c]\\n                stack_array[curr_c]=None\\n        return temp\\n\""
      ]
     },
     "execution_count": 7,
     "metadata": {},
     "output_type": "execute_result"
    }
   ],
   "source": [
    "#prob 3.1\n",
    "''' describe how you would use a single array to implement 3 stacks\n",
    "    i wouldnt\n",
    "    \n",
    "    lets say we have an array: stack_array \n",
    "    \n",
    "    we would need indexes for current position for the 3 stacks, and where the stacks begin in the array\n",
    "    first stack begins at zero, has index for current pos curr_a\n",
    "    second stack begins somewhere in the middle say index j, has index for current pos curr_b\n",
    "    and last stack begins somewhere after index j, index k, has index for current pos curr_c\n",
    "    \n",
    "    we also know the ending index of the array - end\n",
    "    \n",
    "    lets name the stacks a b c with their respective indices as above\n",
    "    \n",
    "    if we wanted to push a value to a specific stack, we would do something like\n",
    "    def push(stack_name, data):\n",
    "        if stack_name == 'a':\n",
    "            if curr_a >= j:\n",
    "                raise fullstackexception\n",
    "            else:\n",
    "                stack_array[curr_pos] = data\n",
    "                curr_a += 1\n",
    "        elif stack_name == 'b':\n",
    "            if curr_b >= k:\n",
    "                raise fullstackexception\n",
    "            else:\n",
    "                stack_array[curr_pos] = data\n",
    "                curr_b += 1\n",
    "        elif: stack_name == 'c':\n",
    "            if curr_c > end:\n",
    "                raise fullstackexception\n",
    "            else:\n",
    "                stack_array[curr_pos] = data\n",
    "                curr_c += 1\n",
    "                \n",
    "    if we wanted to pop:\n",
    "    def pop(stack_name):\n",
    "        if stack_name ='a':\n",
    "            if curr_a == 0:\n",
    "                raise emptystackexception\n",
    "            else:\n",
    "                temp = stack_array[curr_a]\n",
    "                stack_array[curr_a]=None\n",
    "        elif stack_name ='b':\n",
    "            if curr_b <= j:\n",
    "                raise emptystackexception\n",
    "            else:\n",
    "                temp = stack_array[curr_b]\n",
    "                stack_array[curr_b]=None\n",
    "        elif stack_name ='c':\n",
    "            if curr_c <= k:\n",
    "                raise emptystackexception\n",
    "            else:\n",
    "                temp = stack_array[curr_c]\n",
    "                stack_array[curr_c]=None\n",
    "        return temp\n",
    "'''"
   ]
  },
  {
   "cell_type": "code",
   "execution_count": 8,
   "metadata": {
    "collapsed": true
   },
   "outputs": [],
   "source": [
    "#3.2\n",
    "class MinStack:\n",
    "    def __init__(self):\n",
    "        self.top = None\n",
    "        self.min_stack = Stack()\n",
    "    def push(self,data):\n",
    "        new_node = Node(data)\n",
    "        if not self.top:\n",
    "            self.top=new_node\n",
    "            self.min_stack.push(data)\n",
    "        else:\n",
    "            new_node.next = self.top\n",
    "            self.top=new_node\n",
    "            self.min_stack.push(min(data,self.min_stack.peek().value))\n",
    "    def peek(self):\n",
    "        if not self.top:\n",
    "            raise EmptyStackException(\"Empty Stack!\")\n",
    "        else:\n",
    "            return self.top\n",
    "    def pop(self):\n",
    "        if not self.top:\n",
    "            raise EmptyStackException('Empty Stack!')\n",
    "        else:\n",
    "            temp = self.top\n",
    "            self.top = self.top.next\n",
    "            self.min_stack.pop()\n",
    "            return temp\n",
    "    def get_min(self):\n",
    "        if not self.top:\n",
    "            raise EmptyStackException(\"Empty stack!\")\n",
    "        else:\n",
    "            return self.min_stack.peek()"
   ]
  },
  {
   "cell_type": "code",
   "execution_count": 9,
   "metadata": {
    "collapsed": true
   },
   "outputs": [],
   "source": [
    "min_stack = MinStack()"
   ]
  },
  {
   "cell_type": "code",
   "execution_count": 10,
   "metadata": {
    "collapsed": false
   },
   "outputs": [
    {
     "name": "stdout",
     "output_type": "stream",
     "text": [
      "value:5\n",
      "value:5\n",
      "value:5\n",
      "value:4\n",
      "value:3\n",
      "value:4\n",
      "value:5\n",
      "value:5\n",
      "value:5\n"
     ]
    }
   ],
   "source": [
    "min_stack.push(5)\n",
    "print(min_stack.get_min())\n",
    "min_stack.push(7)\n",
    "print(min_stack.get_min())\n",
    "min_stack.push(6)\n",
    "print(min_stack.get_min())\n",
    "min_stack.push(4)\n",
    "print(min_stack.get_min())\n",
    "min_stack.push(3)\n",
    "print(min_stack.get_min())\n",
    "min_stack.pop()\n",
    "print(min_stack.get_min())\n",
    "min_stack.pop()\n",
    "print(min_stack.get_min())\n",
    "min_stack.pop()\n",
    "print(min_stack.get_min())\n",
    "min_stack.pop()\n",
    "print(min_stack.get_min())"
   ]
  },
  {
   "cell_type": "code",
   "execution_count": 11,
   "metadata": {
    "collapsed": true
   },
   "outputs": [],
   "source": [
    "# 3.3\n",
    "class FatStacks:\n",
    "    def __init__(self, limit):\n",
    "        self.num_elem = 0\n",
    "        self.num_stacks = 1\n",
    "        self.limit = limit\n",
    "        self.stack = [Stack()]\n",
    "    def push(self,data):\n",
    "        if self.num_elem == 0:\n",
    "            #last stack is empty\n",
    "            self.stack[-1].push(data)\n",
    "            self.num_elem += 1\n",
    "        else:\n",
    "            if self.num_elem >= self.limit:\n",
    "                #last stack is full, make new stack, append\n",
    "                new_stack = Stack()\n",
    "                new_stack.push(data)\n",
    "                self.stack.append(new_stack)\n",
    "                self.num_elem = 1\n",
    "                self.num_stacks +=1\n",
    "            else:\n",
    "                #push to last stack\n",
    "                self.stack[-1].push(data)\n",
    "                self.num_elem +=1\n",
    "    def pop(self):\n",
    "        try:\n",
    "            self.stack[-1].pop()\n",
    "        except EmptyStackException:\n",
    "            if self.num_stacks > 1:\n",
    "                self.stack.pop()\n",
    "                self.num_elem = self.limit\n",
    "                self.num_stacks -=1\n",
    "                self.pop()\n",
    "            else:\n",
    "                print('stack is empty')\n",
    "        else:\n",
    "            self.num_elem -=1\n",
    "    def peek(self):\n",
    "        try:\n",
    "            self.stack[-1].peek()\n",
    "        except EmptyStackException:\n",
    "            if self.num_stacks > 1:\n",
    "                self.stack.pop()\n",
    "                self.num_elem = self.limit\n",
    "                self.num_stacks -=1\n",
    "                self.peek()\n",
    "            else:\n",
    "                print('stack is empty')\n",
    "                \n",
    "    def pop_at(self, index):\n",
    "        if index > len(self.stack):\n",
    "            print('index out of range')\n",
    "            return\n",
    "        else:\n",
    "            #try popping stack at index\n",
    "            try:\n",
    "                self.stack[index].pop()\n",
    "            except EmptyStackException:\n",
    "                print('stack is empty')\n",
    "            else:\n",
    "                #after popping, we need to shuffle everything down\n",
    "                while index + 1 <= len(self.stack):\n",
    "                    temp = self.stack[index+1].pop().value\n",
    "                    self.stack[index].push(temp)\n",
    "                    index +=1\n",
    "                self.num_elem -=1\n"
   ]
  },
  {
   "cell_type": "code",
   "execution_count": 12,
   "metadata": {
    "collapsed": true
   },
   "outputs": [],
   "source": [
    "#3.4\n",
    "class QueueWithStacks:\n",
    "    def __init__(self):\n",
    "        self.s1 = Stack()\n",
    "        self.s2 = Stack()\n",
    "    def push(self,data):\n",
    "        try:\n",
    "            self.s1.peek()\n",
    "        except EmptyStackException:\n",
    "            self.s1.push(data)\n",
    "        else:\n",
    "            #pop everything to stack2, push data to s1, push everything from stack 2\n",
    "            while True:\n",
    "                try:\n",
    "                    temp = self.s1.pop()\n",
    "                    self.s2.push(temp.value)\n",
    "                except EmptyStackException:\n",
    "                    break\n",
    "            self.s1.push(data)\n",
    "            while True:\n",
    "                try:\n",
    "                    temp = self.s2.pop()\n",
    "                    self.s1.push(temp.value)\n",
    "                except EmptyStackException:\n",
    "                    break\n",
    "    def pop(self):\n",
    "        try:\n",
    "            ret = self.s1.pop()\n",
    "        except EmptyStackException:\n",
    "            print('stack is empty')\n",
    "        else:\n",
    "            return ret\n",
    "    def peek(self):\n",
    "        try:\n",
    "            self.s1.peek()\n",
    "        except EmptyStackException:\n",
    "            print('stack is empty')\n",
    "        else:\n",
    "            return self.s1.peek()"
   ]
  },
  {
   "cell_type": "code",
   "execution_count": 13,
   "metadata": {
    "collapsed": true
   },
   "outputs": [],
   "source": [
    "qws = QueueWithStacks()"
   ]
  },
  {
   "cell_type": "code",
   "execution_count": 14,
   "metadata": {
    "collapsed": true
   },
   "outputs": [],
   "source": [
    "qws.push(1)"
   ]
  },
  {
   "cell_type": "code",
   "execution_count": 15,
   "metadata": {
    "collapsed": false
   },
   "outputs": [
    {
     "data": {
      "text/plain": [
       "value:1"
      ]
     },
     "execution_count": 15,
     "metadata": {},
     "output_type": "execute_result"
    }
   ],
   "source": [
    "qws.peek()"
   ]
  },
  {
   "cell_type": "code",
   "execution_count": 16,
   "metadata": {
    "collapsed": true
   },
   "outputs": [],
   "source": [
    "qws.push(2)"
   ]
  },
  {
   "cell_type": "code",
   "execution_count": 17,
   "metadata": {
    "collapsed": false
   },
   "outputs": [
    {
     "data": {
      "text/plain": [
       "value:1"
      ]
     },
     "execution_count": 17,
     "metadata": {},
     "output_type": "execute_result"
    }
   ],
   "source": [
    "qws.peek()"
   ]
  },
  {
   "cell_type": "code",
   "execution_count": 18,
   "metadata": {
    "collapsed": false
   },
   "outputs": [
    {
     "data": {
      "text/plain": [
       "value:1"
      ]
     },
     "execution_count": 18,
     "metadata": {},
     "output_type": "execute_result"
    }
   ],
   "source": [
    "qws.pop()"
   ]
  },
  {
   "cell_type": "code",
   "execution_count": 19,
   "metadata": {
    "collapsed": false
   },
   "outputs": [
    {
     "data": {
      "text/plain": [
       "value:2"
      ]
     },
     "execution_count": 19,
     "metadata": {},
     "output_type": "execute_result"
    }
   ],
   "source": [
    "qws.peek()"
   ]
  },
  {
   "cell_type": "code",
   "execution_count": 20,
   "metadata": {
    "collapsed": false
   },
   "outputs": [
    {
     "data": {
      "text/plain": [
       "value:2"
      ]
     },
     "execution_count": 20,
     "metadata": {},
     "output_type": "execute_result"
    }
   ],
   "source": [
    "qws.pop()"
   ]
  },
  {
   "cell_type": "code",
   "execution_count": 21,
   "metadata": {
    "collapsed": false
   },
   "outputs": [
    {
     "name": "stdout",
     "output_type": "stream",
     "text": [
      "stack is empty\n"
     ]
    }
   ],
   "source": [
    "qws.pop()"
   ]
  },
  {
   "cell_type": "code",
   "execution_count": 22,
   "metadata": {
    "collapsed": true
   },
   "outputs": [],
   "source": [
    "#3.5 stack sort\n",
    "def sort_stack(s1):\n",
    "    #can only use another stack to help sort\n",
    "    if s1.is_empty():\n",
    "        print('stacks empty yo')\n",
    "        return\n",
    "    s2 = Stack()\n",
    "    s2.push(s1.pop().value)\n",
    "    while not s1.is_empty():\n",
    "        curr = s1.pop()\n",
    "        if s2.is_empty():\n",
    "            s2.push(curr.value)\n",
    "        else:\n",
    "            if curr < s2.peek():\n",
    "                while curr < s2.peek() and not s2.is_empty():\n",
    "                    s1.push(s2.pop().value)\n",
    "                s2.push(curr.value)\n",
    "            elif curr>=s2.peek():\n",
    "                s2.push(curr.value)\n",
    "    while not s2.is_empty():\n",
    "        s1.push(s2.pop().value)\n",
    "    "
   ]
  },
  {
   "cell_type": "code",
   "execution_count": 23,
   "metadata": {
    "collapsed": true
   },
   "outputs": [],
   "source": [
    "import random\n",
    "stack_1 = Stack()\n",
    "for i in range(10):\n",
    "    stack_1.push(random.randint(0,100))"
   ]
  },
  {
   "cell_type": "code",
   "execution_count": 24,
   "metadata": {
    "collapsed": false
   },
   "outputs": [
    {
     "ename": "EmptyStackException",
     "evalue": "empty stack!",
     "output_type": "error",
     "traceback": [
      "\u001b[0;31m---------------------------------------------------------------------------\u001b[0m",
      "\u001b[0;31mEmptyStackException\u001b[0m                       Traceback (most recent call last)",
      "\u001b[0;32m<ipython-input-24-d30ded891932>\u001b[0m in \u001b[0;36m<module>\u001b[0;34m()\u001b[0m\n\u001b[0;32m----> 1\u001b[0;31m \u001b[0msort_stack\u001b[0m\u001b[1;33m(\u001b[0m\u001b[0mstack_1\u001b[0m\u001b[1;33m)\u001b[0m\u001b[1;33m\u001b[0m\u001b[0m\n\u001b[0m",
      "\u001b[0;32m<ipython-input-22-3dff75247638>\u001b[0m in \u001b[0;36msort_stack\u001b[0;34m(s1)\u001b[0m\n\u001b[1;32m     13\u001b[0m         \u001b[1;32melse\u001b[0m\u001b[1;33m:\u001b[0m\u001b[1;33m\u001b[0m\u001b[0m\n\u001b[1;32m     14\u001b[0m             \u001b[1;32mif\u001b[0m \u001b[0mcurr\u001b[0m \u001b[1;33m<\u001b[0m \u001b[0ms2\u001b[0m\u001b[1;33m.\u001b[0m\u001b[0mpeek\u001b[0m\u001b[1;33m(\u001b[0m\u001b[1;33m)\u001b[0m\u001b[1;33m:\u001b[0m\u001b[1;33m\u001b[0m\u001b[0m\n\u001b[0;32m---> 15\u001b[0;31m                 \u001b[1;32mwhile\u001b[0m \u001b[0mcurr\u001b[0m \u001b[1;33m<\u001b[0m \u001b[0ms2\u001b[0m\u001b[1;33m.\u001b[0m\u001b[0mpeek\u001b[0m\u001b[1;33m(\u001b[0m\u001b[1;33m)\u001b[0m \u001b[1;32mand\u001b[0m \u001b[1;32mnot\u001b[0m \u001b[0ms2\u001b[0m\u001b[1;33m.\u001b[0m\u001b[0mis_empty\u001b[0m\u001b[1;33m(\u001b[0m\u001b[1;33m)\u001b[0m\u001b[1;33m:\u001b[0m\u001b[1;33m\u001b[0m\u001b[0m\n\u001b[0m\u001b[1;32m     16\u001b[0m                     \u001b[0ms1\u001b[0m\u001b[1;33m.\u001b[0m\u001b[0mpush\u001b[0m\u001b[1;33m(\u001b[0m\u001b[0ms2\u001b[0m\u001b[1;33m.\u001b[0m\u001b[0mpop\u001b[0m\u001b[1;33m(\u001b[0m\u001b[1;33m)\u001b[0m\u001b[1;33m.\u001b[0m\u001b[0mvalue\u001b[0m\u001b[1;33m)\u001b[0m\u001b[1;33m\u001b[0m\u001b[0m\n\u001b[1;32m     17\u001b[0m                 \u001b[0ms2\u001b[0m\u001b[1;33m.\u001b[0m\u001b[0mpush\u001b[0m\u001b[1;33m(\u001b[0m\u001b[0mcurr\u001b[0m\u001b[1;33m.\u001b[0m\u001b[0mvalue\u001b[0m\u001b[1;33m)\u001b[0m\u001b[1;33m\u001b[0m\u001b[0m\n",
      "\u001b[0;32m<ipython-input-1-02d0da227ac3>\u001b[0m in \u001b[0;36mpeek\u001b[0;34m(self)\u001b[0m\n\u001b[1;32m     33\u001b[0m     \u001b[1;32mdef\u001b[0m \u001b[0mpeek\u001b[0m\u001b[1;33m(\u001b[0m\u001b[0mself\u001b[0m\u001b[1;33m)\u001b[0m\u001b[1;33m:\u001b[0m\u001b[1;33m\u001b[0m\u001b[0m\n\u001b[1;32m     34\u001b[0m         \u001b[1;32mif\u001b[0m \u001b[1;32mnot\u001b[0m \u001b[0mself\u001b[0m\u001b[1;33m.\u001b[0m\u001b[0mtop\u001b[0m\u001b[1;33m:\u001b[0m\u001b[1;33m\u001b[0m\u001b[0m\n\u001b[0;32m---> 35\u001b[0;31m             \u001b[1;32mraise\u001b[0m \u001b[0mEmptyStackException\u001b[0m\u001b[1;33m(\u001b[0m\u001b[1;34m\"empty stack!\"\u001b[0m\u001b[1;33m)\u001b[0m\u001b[1;33m\u001b[0m\u001b[0m\n\u001b[0m\u001b[1;32m     36\u001b[0m         \u001b[1;32melse\u001b[0m\u001b[1;33m:\u001b[0m\u001b[1;33m\u001b[0m\u001b[0m\n\u001b[1;32m     37\u001b[0m             \u001b[1;32mreturn\u001b[0m \u001b[0mself\u001b[0m\u001b[1;33m.\u001b[0m\u001b[0mtop\u001b[0m\u001b[1;33m\u001b[0m\u001b[0m\n",
      "\u001b[0;31mEmptyStackException\u001b[0m: empty stack!"
     ]
    }
   ],
   "source": [
    "sort_stack(stack_1)"
   ]
  },
  {
   "cell_type": "code",
   "execution_count": null,
   "metadata": {
    "collapsed": false
   },
   "outputs": [],
   "source": [
    "while not stack_1.is_empty():\n",
    "    print(stack_1.pop())"
   ]
  },
  {
   "cell_type": "code",
   "execution_count": null,
   "metadata": {
    "collapsed": true
   },
   "outputs": [],
   "source": [
    "#3.6\n",
    "from abc import ABCMeta, abstractmethod\n",
    "class Animal(metaclass = ABCMeta):\n",
    "    @abstractmethod\n",
    "    def noise(self):\n",
    "        pass\n",
    "class Dog(Animal):\n",
    "    def __init__(self):\n",
    "        self.arrival = None\n",
    "        \n",
    "    def __repr__(self):\n",
    "        return 'bork'\n",
    "    \n",
    "    def noise(self):\n",
    "        return 'bark'\n",
    "\n",
    "class Cat(Animal):\n",
    "    def __init__(self):\n",
    "        self.arrival = None\n",
    "    \n",
    "    def __repr__(self):\n",
    "        return 'meow'\n",
    "    \n",
    "    def noise(self):\n",
    "        return 'meow'\n",
    "    \n",
    "    \n",
    "class Shelter:\n",
    "    arrival_time = 1\n",
    "    \n",
    "    def __init__(self):\n",
    "        self.dogs = Queue()\n",
    "        self.cats = Queue()\n",
    "    def enqueue(self, animal):\n",
    "        if isinstance(animal, Animal):\n",
    "            animal.arrival = self.arrival_time\n",
    "            if isinstance(animal,Cat):\n",
    "                self.cats.push(animal)\n",
    "            elif isinstance(animal,Dog):\n",
    "                self.dogs.push(animal)\n",
    "            self.arrival_time+=1\n",
    "        else:\n",
    "            print('not an animal!')\n",
    "    def dequeue_any(self):\n",
    "        if self.dogs.is_empty() and self.cats.is_empty():\n",
    "            print('no pets yo')\n",
    "        elif not self.dogs.is_empty() and self.cats.is_empty():\n",
    "            return self.dogs.pop()\n",
    "        elif self.dogs.is_empty() and not self.cats.is_empty():\n",
    "            return self.cats.pop()\n",
    "        else:\n",
    "            if self.dogs.peek().value.arrival<=self.cats.peek().value.arrival:\n",
    "                return self.dogs.pop()\n",
    "            else:\n",
    "                return self.cats.pop()\n",
    "    def dequeue_cat(self):\n",
    "        if self.cats.is_empty():\n",
    "            print('no cats yo')\n",
    "            return\n",
    "        else:\n",
    "            return self.cats.pop()\n",
    "    def dequeue_dogs(self):\n",
    "        if self.dogs.is_empty():\n",
    "            print('no dags')\n",
    "            return\n",
    "        else:\n",
    "            return self.dogs.pop()"
   ]
  },
  {
   "cell_type": "code",
   "execution_count": null,
   "metadata": {
    "collapsed": true
   },
   "outputs": [],
   "source": [
    "cat = Cat()"
   ]
  },
  {
   "cell_type": "code",
   "execution_count": null,
   "metadata": {
    "collapsed": false
   },
   "outputs": [],
   "source": [
    "isinstance(cat,Animal)"
   ]
  },
  {
   "cell_type": "code",
   "execution_count": null,
   "metadata": {
    "collapsed": true
   },
   "outputs": [],
   "source": [
    "shelter = Shelter()"
   ]
  },
  {
   "cell_type": "code",
   "execution_count": null,
   "metadata": {
    "collapsed": true
   },
   "outputs": [],
   "source": [
    "for i in range(20):\n",
    "    x =random.randint(0,1)\n",
    "    if x == 1:\n",
    "        shelter.enqueue(Cat())\n",
    "    else:\n",
    "        shelter.enqueue(Dog())"
   ]
  },
  {
   "cell_type": "code",
   "execution_count": null,
   "metadata": {
    "collapsed": false
   },
   "outputs": [],
   "source": [
    "shelter.dogs.peek()"
   ]
  },
  {
   "cell_type": "code",
   "execution_count": null,
   "metadata": {
    "collapsed": false
   },
   "outputs": [],
   "source": [
    "shelter.cats.peek()"
   ]
  },
  {
   "cell_type": "code",
   "execution_count": null,
   "metadata": {
    "collapsed": false
   },
   "outputs": [],
   "source": [
    "print(shelter.dequeue_any())"
   ]
  },
  {
   "cell_type": "code",
   "execution_count": null,
   "metadata": {
    "collapsed": false
   },
   "outputs": [],
   "source": [
    "print(shelter.dequeue_cat())"
   ]
  },
  {
   "cell_type": "code",
   "execution_count": 25,
   "metadata": {
    "collapsed": false
   },
   "outputs": [
    {
     "ename": "NameError",
     "evalue": "name 'shelter' is not defined",
     "output_type": "error",
     "traceback": [
      "\u001b[0;31m---------------------------------------------------------------------------\u001b[0m",
      "\u001b[0;31mNameError\u001b[0m                                 Traceback (most recent call last)",
      "\u001b[0;32m<ipython-input-25-8f46639ddcab>\u001b[0m in \u001b[0;36m<module>\u001b[0;34m()\u001b[0m\n\u001b[0;32m----> 1\u001b[0;31m \u001b[0mprint\u001b[0m\u001b[1;33m(\u001b[0m\u001b[0mshelter\u001b[0m\u001b[1;33m.\u001b[0m\u001b[0mdequeue_dogs\u001b[0m\u001b[1;33m(\u001b[0m\u001b[1;33m)\u001b[0m\u001b[1;33m)\u001b[0m\u001b[1;33m\u001b[0m\u001b[0m\n\u001b[0m",
      "\u001b[0;31mNameError\u001b[0m: name 'shelter' is not defined"
     ]
    }
   ],
   "source": [
    "print(shelter.dequeue_dogs())"
   ]
  },
  {
   "cell_type": "code",
   "execution_count": 26,
   "metadata": {
    "collapsed": true
   },
   "outputs": [],
   "source": [
    "####begin ch4\n",
    "class TreeNode:\n",
    "    def __init__(self, value):\n",
    "        self.value = value\n",
    "        self.left = None\n",
    "        self.right = None\n",
    "    def __eq__(self, other):\n",
    "        return self.value == other.value\n",
    "    \n",
    "    def __gt__(self, other):\n",
    "        return self.value > other.value\n",
    "    \n",
    "    def __lt__(self,other):\n",
    "        return self.value < other.value\n",
    "    \n",
    "    def __le__(self,other):\n",
    "        return self.value <= other.value\n",
    "    \n",
    "    def __ge__(self,other):\n",
    "        return self.value >= other.value\n",
    "    \n",
    "    def __ne__(self,other):\n",
    "        return self.value != other.value\n",
    "    \n",
    "    def __repr__(self):\n",
    "        return \"value:{}\".format(self.value)\n",
    "        \n",
    "    def add(self, value):\n",
    "        if value >= self.value and self.right is None:\n",
    "            self.right = TreeNode(value)\n",
    "            return\n",
    "        elif value < self.value and self.left is None:\n",
    "            self.left = TreeNode(value)\n",
    "            return\n",
    "        else:\n",
    "            curr = self\n",
    "            prev = self\n",
    "            while curr:\n",
    "                prev = curr\n",
    "                if value >= curr.value:\n",
    "                    curr = curr.right\n",
    "                else:\n",
    "                    curr = curr.left\n",
    "            if value >= prev.value:\n",
    "                prev.right = TreeNode(value)\n",
    "            else:\n",
    "                prev.left = TreeNode(value)\n",
    "    def levelorder_traversal(self):\n",
    "        queue = Queue()\n",
    "        queue.push(self)\n",
    "        print(self)\n",
    "        while not queue.is_empty():\n",
    "            curr = queue.pop().value\n",
    "            if curr.left:\n",
    "                queue.push(curr.left)\n",
    "                print(curr.left)\n",
    "            if curr.right:\n",
    "                queue.push(curr.right)\n",
    "                print(curr.right)\n",
    "    def inorder_traversal(self):\n",
    "        stack = Stack()\n",
    "        curr = self\n",
    "        while True:\n",
    "            if curr:\n",
    "                stack.push(curr)\n",
    "                curr = curr.left\n",
    "            else:\n",
    "                if not stack.is_empty():\n",
    "                    curr = stack.pop().value\n",
    "                    print(curr)\n",
    "                    curr = curr.right\n",
    "                else:\n",
    "                    break\n",
    "    def postorder_traversal(self):\n",
    "        stack = Stack()\n",
    "        stack.push(self)\n",
    "        while not stack.is_empty():\n",
    "            temp = stack.peek().value\n",
    "            if not temp.right and not temp.left:\n",
    "                temp = stack.pop().value\n",
    "                print(temp)\n",
    "            else:\n",
    "                if temp.right:\n",
    "                    stack.push(temp.right)\n",
    "                    temp.right = None\n",
    "                if temp.left:\n",
    "                    stack.push(temp.left)\n",
    "                    temp.left=None\n",
    "    def preorder_traversal(self):\n",
    "        stack = Stack()\n",
    "        stack.push(self)\n",
    "        while not stack.is_empty():\n",
    "            curr = stack.pop().value\n",
    "            if curr:\n",
    "                print(curr)\n",
    "                stack.push(curr.right)\n",
    "                stack.push(curr.left)\n",
    "            "
   ]
  },
  {
   "cell_type": "code",
   "execution_count": 77,
   "metadata": {
    "collapsed": true
   },
   "outputs": [],
   "source": [
    "import random\n",
    "#root is bin tree\n",
    "root = TreeNode(12)\n",
    "root.add(10)\n",
    "root.add(13)\n",
    "root.add(9)\n",
    "root.add(11)"
   ]
  },
  {
   "cell_type": "code",
   "execution_count": 65,
   "metadata": {
    "collapsed": false
   },
   "outputs": [
    {
     "name": "stdout",
     "output_type": "stream",
     "text": [
      "value:10\n"
     ]
    }
   ],
   "source": [
    "print(root.left)"
   ]
  },
  {
   "cell_type": "code",
   "execution_count": 66,
   "metadata": {
    "collapsed": false
   },
   "outputs": [
    {
     "name": "stdout",
     "output_type": "stream",
     "text": [
      "value:9\n",
      "value:10\n",
      "value:11\n",
      "value:12\n",
      "value:13\n"
     ]
    }
   ],
   "source": [
    "root.inorder_traversal()"
   ]
  },
  {
   "cell_type": "code",
   "execution_count": 67,
   "metadata": {
    "collapsed": false
   },
   "outputs": [
    {
     "name": "stdout",
     "output_type": "stream",
     "text": [
      "value:12\n",
      "value:10\n",
      "value:13\n",
      "value:9\n",
      "value:11\n"
     ]
    }
   ],
   "source": [
    "root.levelorder_traversal()"
   ]
  },
  {
   "cell_type": "code",
   "execution_count": 72,
   "metadata": {
    "collapsed": false
   },
   "outputs": [
    {
     "name": "stdout",
     "output_type": "stream",
     "text": [
      "value:9\n",
      "value:11\n",
      "value:10\n",
      "value:13\n",
      "value:12\n"
     ]
    }
   ],
   "source": [
    "root.postorder_traversal()"
   ]
  },
  {
   "cell_type": "code",
   "execution_count": 78,
   "metadata": {
    "collapsed": false
   },
   "outputs": [
    {
     "name": "stdout",
     "output_type": "stream",
     "text": [
      "value:12\n",
      "value:10\n",
      "value:9\n",
      "value:11\n",
      "value:13\n"
     ]
    }
   ],
   "source": [
    "root.preorder_traversal()"
   ]
  },
  {
   "cell_type": "code",
   "execution_count": 27,
   "metadata": {
    "collapsed": true
   },
   "outputs": [],
   "source": [
    "class MinHeap:\n",
    "    def __init__(self):\n",
    "        self.root = []\n",
    "    def __repr__(self):\n",
    "        return \", \".join([str(x) for x in self.root])\n",
    "    def insert(self, value):\n",
    "        self.root.append(value)\n",
    "        self.sift_up()\n",
    "    def remove_min(self):\n",
    "        if len(self.root) < 1:\n",
    "            print('empty!')\n",
    "            return\n",
    "        ret = self.root[0]\n",
    "        self.root[0], self.root[-1] = self.root[-1], self.root[0]\n",
    "        del(self.root[-1])\n",
    "        self.sift_down()\n",
    "        print(self.root)\n",
    "        return ret\n",
    "    def sift_up(self):\n",
    "        curr_idx = len(self.root) - 1\n",
    "        parent_idx = (curr_idx - 1) // 2\n",
    "        while parent_idx >=0:\n",
    "            #print(curr_idx, parent_idx, self.root)\n",
    "            if self.root[curr_idx] < self.root[parent_idx]:\n",
    "                #print(\"swapped\")\n",
    "                self.root[curr_idx], self.root[parent_idx] = self.root[parent_idx], self.root[curr_idx]\n",
    "                curr_idx = parent_idx\n",
    "                parent_idx = (parent_idx - 1)//2\n",
    "            else:\n",
    "                #print('done')\n",
    "                break\n",
    "    def sift_down(self):\n",
    "        curr = 0\n",
    "        left = 1\n",
    "        right = 2\n",
    "        while right < len(self.root):\n",
    "            if self.root[left] <= self.root[right]:\n",
    "                self.root[curr], self.root[left] = self.root[left], self.root[curr]\n",
    "                curr = left\n",
    "            else:\n",
    "                self.root[curr], self.root[right] = self.root[right], self.root[curr]\n",
    "                curr = right\n",
    "            left = curr*2 + 1\n",
    "            right = curr*2 + 2\n",
    "        if left< len(self.root) and self.root[left] < self.root[curr]:\n",
    "            self.root[curr], self.root[left] = self.root[left], self.root[curr]"
   ]
  },
  {
   "cell_type": "code",
   "execution_count": 196,
   "metadata": {
    "collapsed": true
   },
   "outputs": [],
   "source": [
    "heap = MinHeap()"
   ]
  },
  {
   "cell_type": "code",
   "execution_count": 197,
   "metadata": {
    "collapsed": true
   },
   "outputs": [],
   "source": [
    "heap.insert(10)\n",
    "heap.insert(11)\n",
    "heap.insert(54)\n",
    "heap.insert(1)\n",
    "heap.insert(-5)\n",
    "heap.insert(2)\n",
    "heap.insert(6)\n",
    "heap.insert(16)\n",
    "heap.insert(0)"
   ]
  },
  {
   "cell_type": "code",
   "execution_count": 198,
   "metadata": {
    "collapsed": false
   },
   "outputs": [
    {
     "name": "stdout",
     "output_type": "stream",
     "text": [
      "-5, 0, 2, 1, 10, 54, 6, 16, 11\n"
     ]
    }
   ],
   "source": [
    "print(heap)"
   ]
  },
  {
   "cell_type": "code",
   "execution_count": 199,
   "metadata": {
    "collapsed": true
   },
   "outputs": [],
   "source": [
    "heap.insert(-6)"
   ]
  },
  {
   "cell_type": "code",
   "execution_count": 202,
   "metadata": {
    "collapsed": false
   },
   "outputs": [
    {
     "name": "stdout",
     "output_type": "stream",
     "text": [
      "-6, -5, 2, 1, 0, 54, 6, 16, 11, 10\n"
     ]
    }
   ],
   "source": [
    "print(heap)"
   ]
  },
  {
   "cell_type": "code",
   "execution_count": 203,
   "metadata": {
    "collapsed": true
   },
   "outputs": [],
   "source": [
    "heap.insert(-4)"
   ]
  },
  {
   "cell_type": "code",
   "execution_count": 204,
   "metadata": {
    "collapsed": false
   },
   "outputs": [
    {
     "name": "stdout",
     "output_type": "stream",
     "text": [
      "-6, -5, 2, 1, -4, 54, 6, 16, 11, 10, 0\n"
     ]
    }
   ],
   "source": [
    "print(heap)"
   ]
  },
  {
   "cell_type": "code",
   "execution_count": 185,
   "metadata": {
    "collapsed": false
   },
   "outputs": [
    {
     "name": "stdout",
     "output_type": "stream",
     "text": [
      "[6, 10, 54, 11, 16]\n"
     ]
    },
    {
     "data": {
      "text/plain": [
       "2"
      ]
     },
     "execution_count": 185,
     "metadata": {},
     "output_type": "execute_result"
    }
   ],
   "source": [
    "heap.remove_min()"
   ]
  },
  {
   "cell_type": "code",
   "execution_count": 186,
   "metadata": {
    "collapsed": false
   },
   "outputs": [
    {
     "name": "stdout",
     "output_type": "stream",
     "text": [
      "[10, 11, 54, 16]\n"
     ]
    },
    {
     "data": {
      "text/plain": [
       "6"
      ]
     },
     "execution_count": 186,
     "metadata": {},
     "output_type": "execute_result"
    }
   ],
   "source": [
    "heap.remove_min()"
   ]
  },
  {
   "cell_type": "code",
   "execution_count": 187,
   "metadata": {
    "collapsed": false
   },
   "outputs": [
    {
     "name": "stdout",
     "output_type": "stream",
     "text": [
      "[11, 16, 54]\n"
     ]
    },
    {
     "data": {
      "text/plain": [
       "10"
      ]
     },
     "execution_count": 187,
     "metadata": {},
     "output_type": "execute_result"
    }
   ],
   "source": [
    "heap.remove_min()"
   ]
  },
  {
   "cell_type": "code",
   "execution_count": 188,
   "metadata": {
    "collapsed": false
   },
   "outputs": [
    {
     "name": "stdout",
     "output_type": "stream",
     "text": [
      "[16, 54]\n"
     ]
    },
    {
     "data": {
      "text/plain": [
       "11"
      ]
     },
     "execution_count": 188,
     "metadata": {},
     "output_type": "execute_result"
    }
   ],
   "source": [
    "heap.remove_min()"
   ]
  },
  {
   "cell_type": "code",
   "execution_count": 189,
   "metadata": {
    "collapsed": false
   },
   "outputs": [
    {
     "name": "stdout",
     "output_type": "stream",
     "text": [
      "[54]\n"
     ]
    },
    {
     "data": {
      "text/plain": [
       "16"
      ]
     },
     "execution_count": 189,
     "metadata": {},
     "output_type": "execute_result"
    }
   ],
   "source": [
    "heap.remove_min()"
   ]
  },
  {
   "cell_type": "code",
   "execution_count": 191,
   "metadata": {
    "collapsed": false
   },
   "outputs": [
    {
     "name": "stdout",
     "output_type": "stream",
     "text": [
      "empty!\n"
     ]
    }
   ],
   "source": [
    "heap.remove_min()"
   ]
  },
  {
   "cell_type": "code",
   "execution_count": 108,
   "metadata": {
    "collapsed": true
   },
   "outputs": [],
   "source": [
    "class Graph:\n",
    "    def __init__(self):\n",
    "        self.nodes = []\n",
    "        self.adj = {}\n",
    "    def parse_input(self, line):\n",
    "        self.nodes.append(line[0])\n",
    "        self.adj[line[0]] = line[1]\n",
    "    def bfs(self):\n",
    "        pass\n",
    "    def dfs(self):\n",
    "        visited = set()\n",
    "        stack = Stack()\n",
    "        stack.push(self.nodes[0])\n",
    "        #assume the first node is the source node\n",
    "        print(self.adj[0])\n",
    "        while not stack.is_empty():\n",
    "            curr = stack.pop().value\n",
    "            if curr in visited:\n",
    "                continue\n",
    "            else:\n",
    "                visited.add(curr)\n",
    "                print(curr)\n",
    "                for nodes in self.adj[curr]:\n",
    "                    if nodes not in visited:\n",
    "                        stack.push(nodes)\n",
    "        "
   ]
  },
  {
   "cell_type": "code",
   "execution_count": 109,
   "metadata": {
    "collapsed": false
   },
   "outputs": [],
   "source": [
    "graph = Graph()\n",
    "graph_input = [(0,[1,2,3]),(1,[0,2,3]),(2,[1]),(3,[4,0]),(4,[3,5,6]),(5,[4,6]),(6,[3])]\n",
    "for x in graph_input:\n",
    "    graph.parse_input(x)"
   ]
  },
  {
   "cell_type": "code",
   "execution_count": 110,
   "metadata": {
    "collapsed": false
   },
   "outputs": [
    {
     "data": {
      "text/plain": [
       "{0: [1, 2, 3],\n",
       " 1: [0, 2, 3],\n",
       " 2: [1],\n",
       " 3: [4, 0],\n",
       " 4: [3, 5, 6],\n",
       " 5: [4, 6],\n",
       " 6: [3]}"
      ]
     },
     "execution_count": 110,
     "metadata": {},
     "output_type": "execute_result"
    }
   ],
   "source": [
    "graph.adj"
   ]
  },
  {
   "cell_type": "code",
   "execution_count": 111,
   "metadata": {
    "collapsed": false
   },
   "outputs": [
    {
     "name": "stdout",
     "output_type": "stream",
     "text": [
      "[1, 2, 3]\n",
      "0\n",
      "3\n",
      "4\n",
      "6\n",
      "5\n",
      "2\n",
      "1\n"
     ]
    }
   ],
   "source": [
    "graph.dfs()"
   ]
  },
  {
   "cell_type": "code",
   "execution_count": null,
   "metadata": {
    "collapsed": true
   },
   "outputs": [],
   "source": []
  },
  {
   "cell_type": "code",
   "execution_count": null,
   "metadata": {
    "collapsed": true
   },
   "outputs": [],
   "source": []
  }
 ],
 "metadata": {
  "anaconda-cloud": {},
  "kernelspec": {
   "display_name": "Python [default]",
   "language": "python",
   "name": "python3"
  },
  "language_info": {
   "codemirror_mode": {
    "name": "ipython",
    "version": 3
   },
   "file_extension": ".py",
   "mimetype": "text/x-python",
   "name": "python",
   "nbconvert_exporter": "python",
   "pygments_lexer": "ipython3",
   "version": "3.5.2"
  }
 },
 "nbformat": 4,
 "nbformat_minor": 2
}
