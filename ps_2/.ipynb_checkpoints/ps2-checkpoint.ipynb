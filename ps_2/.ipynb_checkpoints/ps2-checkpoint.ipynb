{
 "cells": [
  {
   "cell_type": "code",
   "execution_count": 22,
   "metadata": {
    "collapsed": true
   },
   "outputs": [],
   "source": [
    "class HeapBuilder:\n",
    "  def __init__(self):\n",
    "    self._swaps = []\n",
    "    self._data = []\n",
    "\n",
    "  def ReadData(self):\n",
    "    n = int(input())\n",
    "    self._data = [int(s) for s in input().split()]\n",
    "    assert n == len(self._data)\n",
    "\n",
    "  def WriteResponse(self):\n",
    "    print(len(self._swaps))\n",
    "    for swap in self._swaps:\n",
    "      print(swap[0], swap[1])\n",
    "\n",
    "  def GenerateSwaps(self):\n",
    "    # The following naive implementation just sorts \n",
    "    # the given sequence using selection sort algorithm\n",
    "    # and saves the resulting sequence of swaps.\n",
    "    # This turns the given array into a heap, \n",
    "    # but in the worst case gives a quadratic number of swaps.\n",
    "    #\n",
    "    # TODO: replace by a more efficient implementation\n",
    "    #for i in range(len(self._data)):\n",
    "    # for j in range(i + 1, len(self._data)):\n",
    "    #    if self._data[i] > self._data[j]:\n",
    "    #      self._swaps.append((i, j))\n",
    "    #      self._data[i], self._data[j] = self._data[j], self._data[i]\n",
    "    for i in reversed(range(0,len(self._data)//2)):\n",
    "        while True:\n",
    "            #left child = 2i + 1, right child = 2i +2\n",
    "            min_idx = i\n",
    "            left = 2*i+1\n",
    "            right = left + 1\n",
    "            if left < len(self._data) and self._data[min_idx] >= self._data[left]:\n",
    "                min_idx = left \n",
    "            if right < len(self._data) and self._data[min_idx] >= self._data[right]: \n",
    "                min_idx = right\n",
    "            if min_idx != i:\n",
    "                self._data[i],self._data[min_idx] = self._data[min_idx],self._data[i]\n",
    "                self._swaps.append((i,min_idx))\n",
    "                i = min_idx\n",
    "            else:\n",
    "                break\n",
    "    return\n",
    "    \n",
    "  def Solve(self):\n",
    "    self.ReadData()\n",
    "    self.GenerateSwaps()\n",
    "    self.WriteResponse()\n"
   ]
  },
  {
   "cell_type": "code",
   "execution_count": 24,
   "metadata": {},
   "outputs": [
    {
     "name": "stdout",
     "output_type": "stream",
     "text": [
      "5\n",
      "1 2 3 4 5\n",
      "0\n"
     ]
    }
   ],
   "source": [
    "if __name__ == '__main__':\n",
    "    heap_builder = HeapBuilder()\n",
    "    heap_builder.Solve()"
   ]
  },
  {
   "cell_type": "code",
   "execution_count": 22,
   "metadata": {},
   "outputs": [],
   "source": [
    "# python3\n",
    "import heapq\n",
    "class JobQueue:\n",
    "    \n",
    "    def read_data(self):\n",
    "        self.num_workers, m = map(int, input().split())\n",
    "        self.jobs = list(map(int, input().split()))\n",
    "        assert m == len(self.jobs)\n",
    "\n",
    "    def write_response(self):\n",
    "        for i in range(len(self.jobs)):\n",
    "            print(self.assigned_workers[i], self.start_times[i])\n",
    "\n",
    "    def assign_jobs(self):\n",
    "        # TODO: replace this code with a faster algorithm.\n",
    "        self.assigned_workers = [None] * len(self.jobs)\n",
    "        self.start_times = [None] * len(self.jobs)\n",
    "        next_free_time = [[x, 0] for x in range(self.num_workers)]\n",
    "        #heapq.heapify(next_free_time)\n",
    "        for i in range(len(self.jobs)):\n",
    "            #print(next_free_time)\n",
    "            next_worker = next_free_time[0]\n",
    "            self.assigned_workers[i] = next_worker[0]\n",
    "            self.start_times[i] = next_worker[1]\n",
    "            next_worker[1] += self.jobs[i]\n",
    "            next_free_time[0], next_free_time[self.num_workers - 1] = next_free_time[self.num_workers - 1], \\\n",
    "                                                                      next_free_time[0]\n",
    "            \n",
    "            #heapq.heapify(next_free_time)\n",
    "            self.sift_down(next_free_time)\n",
    "            #print(\"swapped\",next_free_time)\n",
    "    def sift_down(self, next_free_time):\n",
    "        i =0\n",
    "        while True:\n",
    "            min_idx = i\n",
    "            left = 2 * i + 1\n",
    "            right = left + 1\n",
    "            if left < (self.num_workers) and (next_free_time[min_idx][1] > next_free_time[left][1] or\n",
    "                                              (next_free_time[min_idx][1] == next_free_time[left][1] and\n",
    "                                               next_free_time[min_idx][0] > next_free_time[left][0])):\n",
    "                min_idx = left\n",
    "            if right < (self.num_workers) and next_free_time[min_idx][1] > next_free_time[right][1]:\n",
    "                min_idx = right\n",
    "            if (left < (self.num_workers) and right < (self.num_workers) and\n",
    "                        next_free_time[right][1] == next_free_time[left][1] and next_free_time[min_idx][1] >=\n",
    "                next_free_time[right][1] and\n",
    "                        next_free_time[min_idx][0] >= next_free_time[left][0]):\n",
    "                # case where we need to pick from the index number\n",
    "                if next_free_time[left][0] <= next_free_time[right][0]:\n",
    "                    min_idx = left\n",
    "                else:\n",
    "                    min_idx = right\n",
    "            # only one child\n",
    "            #if left < (self.num_workers) and next_free_time[min_idx][1] == next_free_time[left][1] and \\\n",
    "            #                next_free_time[min_idx][0] > next_free_time[left][0]:\n",
    "            #    min_idx = left\n",
    "            if min_idx != i:\n",
    "                next_free_time[min_idx], next_free_time[i] = next_free_time[i], next_free_time[min_idx]\n",
    "                i = min_idx\n",
    "            else:\n",
    "                break\n",
    "    def solve(self):\n",
    "        self.read_data()\n",
    "        self.assign_jobs()\n",
    "        self.write_response()"
   ]
  },
  {
   "cell_type": "code",
   "execution_count": 31,
   "metadata": {
    "scrolled": true
   },
   "outputs": [],
   "source": [
    "#if __name__ == '__main__':\n",
    "#    job_queue = JobQueue()\n",
    "#    job_queue.solve()"
   ]
  },
  {
   "cell_type": "code",
   "execution_count": null,
   "metadata": {
    "collapsed": true
   },
   "outputs": [],
   "source": [
    "import sys\n",
    "\n",
    "n, m = map(int, sys.stdin.readline().split())\n",
    "lines = list(map(int, sys.stdin.readline().split()))\n",
    "rank = [1] * n\n",
    "parent = list(range(0, n))\n",
    "ans = max(lines)"
   ]
  },
  {
   "cell_type": "code",
   "execution_count": 30,
   "metadata": {},
   "outputs": [],
   "source": [
    "def getParent(idx):\n",
    "    # find parent and compress path\n",
    "    if idx != parent[idx]:\n",
    "        parent[idx] = getParent(parent[idx])\n",
    "    return parent[idx]\n",
    "\n",
    "def merge(destination, source):\n",
    "    realDestination, realSource = getParent(destination), getParent(source)\n",
    "    \n",
    "    if realDestination == realSource:\n",
    "        return False\n",
    "    \n",
    "    # merge two components\n",
    "    # use union by rank heuristic \n",
    "    # update ans with the new maximum table size\n",
    "    #attach lower rank tree to higher rank tree\n",
    "    if rank[realDestination] >= rank[realSource]:\n",
    "        lines[realDestination]+=lines[realSource]\n",
    "        lines[realSource] =0\n",
    "        parent[realSource] = realDestination \n",
    "    else:\n",
    "        lines[realSource]+=lines[realDestination]\n",
    "        lines[realDestination] =0\n",
    "        parent[realDestination] = realSource\n",
    "    if rank[realDestination] == rank[realSource]:\n",
    "        rank[realDestination] +=1\n",
    "    return True"
   ]
  },
  {
   "cell_type": "code",
   "execution_count": null,
   "metadata": {
    "collapsed": true
   },
   "outputs": [],
   "source": [
    "for i in range(m):\n",
    "    destination, source = map(int, sys.stdin.readline().split())\n",
    "    merge(destination - 1, source - 1)\n",
    "    print(ans)"
   ]
  }
 ],
 "metadata": {
  "anaconda-cloud": {},
  "kernelspec": {
   "display_name": "Python 3",
   "language": "python",
   "name": "python3"
  },
  "language_info": {
   "codemirror_mode": {
    "name": "ipython",
    "version": 3
   },
   "file_extension": ".py",
   "mimetype": "text/x-python",
   "name": "python",
   "nbconvert_exporter": "python",
   "pygments_lexer": "ipython3",
   "version": "3.6.3"
  }
 },
 "nbformat": 4,
 "nbformat_minor": 2
}
