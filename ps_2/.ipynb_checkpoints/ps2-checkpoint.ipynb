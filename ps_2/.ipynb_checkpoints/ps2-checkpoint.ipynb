{
 "cells": [
  {
   "cell_type": "code",
   "execution_count": 22,
   "metadata": {},
   "outputs": [],
   "source": [
    "class HeapBuilder:\n",
    "  def __init__(self):\n",
    "    self._swaps = []\n",
    "    self._data = []\n",
    "\n",
    "  def ReadData(self):\n",
    "    n = int(input())\n",
    "    self._data = [int(s) for s in input().split()]\n",
    "    assert n == len(self._data)\n",
    "\n",
    "  def WriteResponse(self):\n",
    "    print(len(self._swaps))\n",
    "    for swap in self._swaps:\n",
    "      print(swap[0], swap[1])\n",
    "\n",
    "  def GenerateSwaps(self):\n",
    "    # The following naive implementation just sorts \n",
    "    # the given sequence using selection sort algorithm\n",
    "    # and saves the resulting sequence of swaps.\n",
    "    # This turns the given array into a heap, \n",
    "    # but in the worst case gives a quadratic number of swaps.\n",
    "    #\n",
    "    # TODO: replace by a more efficient implementation\n",
    "    #for i in range(len(self._data)):\n",
    "    # for j in range(i + 1, len(self._data)):\n",
    "    #    if self._data[i] > self._data[j]:\n",
    "    #      self._swaps.append((i, j))\n",
    "    #      self._data[i], self._data[j] = self._data[j], self._data[i]\n",
    "    for i in reversed(range(0,len(self._data)//2)):\n",
    "        while True:\n",
    "            #left child = 2i + 1, right child = 2i +2\n",
    "            min_idx = i\n",
    "            left = 2*i+1\n",
    "            right = left + 1\n",
    "            if left < len(self._data) and self._data[min_idx] >= self._data[left]:\n",
    "                min_idx = left \n",
    "            if right < len(self._data) and self._data[min_idx] >= self._data[right]: \n",
    "                min_idx = right\n",
    "            if min_idx != i:\n",
    "                self._data[i],self._data[min_idx] = self._data[min_idx],self._data[i]\n",
    "                self._swaps.append((i,min_idx))\n",
    "                i = min_idx\n",
    "            else:\n",
    "                break\n",
    "    return\n",
    "    \n",
    "  def Solve(self):\n",
    "    self.ReadData()\n",
    "    self.GenerateSwaps()\n",
    "    self.WriteResponse()\n"
   ]
  },
  {
   "cell_type": "code",
   "execution_count": 24,
   "metadata": {},
   "outputs": [
    {
     "name": "stdout",
     "output_type": "stream",
     "text": [
      "5\n",
      "1 2 3 4 5\n",
      "0\n"
     ]
    }
   ],
   "source": [
    "if __name__ == '__main__':\n",
    "    heap_builder = HeapBuilder()\n",
    "    heap_builder.Solve()"
   ]
  },
  {
   "cell_type": "code",
   "execution_count": 39,
   "metadata": {
    "collapsed": true
   },
   "outputs": [],
   "source": [
    "class JobQueue:\n",
    "    def read_data(self):\n",
    "        self.num_workers, m = map(int, input().split())\n",
    "        self.jobs = list(map(int, input().split()))\n",
    "        assert m == len(self.jobs)\n",
    "\n",
    "    def write_response(self):\n",
    "        for i in range(len(self.jobs)):\n",
    "          print(self.assigned_workers[i], self.start_times[i]) \n",
    "\n",
    "    def assign_jobs(self):\n",
    "        # TODO: replace this code with a faster algorithm.\n",
    "        self.assigned_workers = [None] * len(self.jobs)\n",
    "        self.start_times = [None] * len(self.jobs)\n",
    "        next_free_time = [[x,0] for x in range(self.num_workers)]\n",
    "        for i in range(len(self.jobs)):\n",
    "            next_worker = next_free_time[0]\n",
    "            self.assigned_workers[i] = next_worker[0]\n",
    "            self.start_times[i] = next_worker[1]\n",
    "            next_worker[1] += self.jobs[i]\n",
    "            next_free_time[0],next_free_time[self.num_workers-1] = next_free_time[self.num_workers-1],next_free_time[0]\n",
    "            self.sift_up(next_free_time)\n",
    "    def sift_up(self,next_free_time):\n",
    "        for i in reversed(range(0,(self.num_workers)//2)):\n",
    "            while True:\n",
    "                min_idx = i\n",
    "                left = 2*i + 1\n",
    "                right = left+1\n",
    "                if left < (self.num_workers) and next_free_time[min_idx][1] >= next_free_time[left][1]:\n",
    "                    min_idx = left\n",
    "                if right < (self.num_workers) and next_free_time[min_idx][1] >= next_free_time[right][1]:\n",
    "                    min_idx = right\n",
    "                if (left < (self.num_workers) and right <(self.num_workers) and\n",
    "                    next_free_time[right][1] ==next_free_time[left][1] and next_free_time[min_idx][1] >= next_free_time[right][1] and\n",
    "                   next_free_time[min_idx][1] >= next_free_time[left][1]):\n",
    "                    # case where we need to pick from the index number\n",
    "                    if next_free_time[left][0] <= next_free_time[right][0]:\n",
    "                        min_idx = left\n",
    "                    else:\n",
    "                        min_idx = right\n",
    "                if min_idx != i:\n",
    "                    next_free_time[min_idx], next_free_time[i] = next_free_time[i], next_free_time[min_idx]\n",
    "                    i = min_idx\n",
    "                else:\n",
    "                    break\n",
    "    def solve(self):\n",
    "        self.read_data()\n",
    "        self.assign_jobs()\n",
    "        self.write_response()"
   ]
  },
  {
   "cell_type": "code",
   "execution_count": 41,
   "metadata": {},
   "outputs": [
    {
     "name": "stdout",
     "output_type": "stream",
     "text": [
      "4 20\n",
      "1 1 1 1 1 1 1 1 1 1 1 1 1 1 1 1 1 1 1 1\n",
      "0 0\n",
      "1 0\n",
      "2 0\n",
      "3 0\n",
      "0 1\n",
      "1 1\n",
      "2 1\n",
      "3 1\n",
      "0 2\n",
      "1 2\n",
      "2 2\n",
      "3 2\n",
      "0 3\n",
      "1 3\n",
      "2 3\n",
      "3 3\n",
      "0 4\n",
      "1 4\n",
      "2 4\n",
      "3 4\n"
     ]
    }
   ],
   "source": [
    "if __name__ == '__main__':\n",
    "    job_queue = JobQueue()\n",
    "    job_queue.solve()"
   ]
  },
  {
   "cell_type": "code",
   "execution_count": null,
   "metadata": {
    "collapsed": true
   },
   "outputs": [],
   "source": [
    "|"
   ]
  }
 ],
 "metadata": {
  "kernelspec": {
   "display_name": "Python 3",
   "language": "python",
   "name": "python3"
  },
  "language_info": {
   "codemirror_mode": {
    "name": "ipython",
    "version": 3
   },
   "file_extension": ".py",
   "mimetype": "text/x-python",
   "name": "python",
   "nbconvert_exporter": "python",
   "pygments_lexer": "ipython3",
   "version": "3.6.3"
  }
 },
 "nbformat": 4,
 "nbformat_minor": 2
}
