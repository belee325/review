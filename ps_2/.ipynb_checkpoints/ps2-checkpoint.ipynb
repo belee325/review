{
 "cells": [
  {
   "cell_type": "code",
   "execution_count": 22,
   "metadata": {},
   "outputs": [],
   "source": [
    "class HeapBuilder:\n",
    "  def __init__(self):\n",
    "    self._swaps = []\n",
    "    self._data = []\n",
    "\n",
    "  def ReadData(self):\n",
    "    n = int(input())\n",
    "    self._data = [int(s) for s in input().split()]\n",
    "    assert n == len(self._data)\n",
    "\n",
    "  def WriteResponse(self):\n",
    "    print(len(self._swaps))\n",
    "    for swap in self._swaps:\n",
    "      print(swap[0], swap[1])\n",
    "\n",
    "  def GenerateSwaps(self):\n",
    "    # The following naive implementation just sorts \n",
    "    # the given sequence using selection sort algorithm\n",
    "    # and saves the resulting sequence of swaps.\n",
    "    # This turns the given array into a heap, \n",
    "    # but in the worst case gives a quadratic number of swaps.\n",
    "    #\n",
    "    # TODO: replace by a more efficient implementation\n",
    "    #for i in range(len(self._data)):\n",
    "    # for j in range(i + 1, len(self._data)):\n",
    "    #    if self._data[i] > self._data[j]:\n",
    "    #      self._swaps.append((i, j))\n",
    "    #      self._data[i], self._data[j] = self._data[j], self._data[i]\n",
    "    for i in reversed(range(0,len(self._data)//2)):\n",
    "        while True:\n",
    "            #left child = 2i + 1, right child = 2i +2\n",
    "            min_idx = i\n",
    "            left = 2*i+1\n",
    "            right = left + 1\n",
    "            if left < len(self._data) and self._data[min_idx] >= self._data[left]:\n",
    "                min_idx = left \n",
    "            if right < len(self._data) and self._data[min_idx] >= self._data[right]: \n",
    "                min_idx = right\n",
    "            if min_idx != i:\n",
    "                self._data[i],self._data[min_idx] = self._data[min_idx],self._data[i]\n",
    "                self._swaps.append((i,min_idx))\n",
    "                i = min_idx\n",
    "            else:\n",
    "                break\n",
    "    return\n",
    "    \n",
    "  def Solve(self):\n",
    "    self.ReadData()\n",
    "    self.GenerateSwaps()\n",
    "    self.WriteResponse()\n"
   ]
  },
  {
   "cell_type": "code",
   "execution_count": 24,
   "metadata": {},
   "outputs": [
    {
     "name": "stdout",
     "output_type": "stream",
     "text": [
      "5\n",
      "1 2 3 4 5\n",
      "0\n"
     ]
    }
   ],
   "source": [
    "if __name__ == '__main__':\n",
    "    heap_builder = HeapBuilder()\n",
    "    heap_builder.Solve()"
   ]
  },
  {
   "cell_type": "code",
   "execution_count": null,
   "metadata": {
    "collapsed": true
   },
   "outputs": [],
   "source": []
  }
 ],
 "metadata": {
  "kernelspec": {
   "display_name": "Python 3",
   "language": "python",
   "name": "python3"
  },
  "language_info": {
   "codemirror_mode": {
    "name": "ipython",
    "version": 3
   },
   "file_extension": ".py",
   "mimetype": "text/x-python",
   "name": "python",
   "nbconvert_exporter": "python",
   "pygments_lexer": "ipython3",
   "version": "3.6.3"
  }
 },
 "nbformat": 4,
 "nbformat_minor": 2
}
