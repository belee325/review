{
 "cells": [
  {
   "cell_type": "code",
   "execution_count": 22,
   "metadata": {
    "collapsed": true
   },
   "outputs": [],
   "source": [
    "# python3\n",
    "import sys\n",
    "\n",
    "def prefix(pattern):\n",
    "    s = [0]*len(pattern)\n",
    "    border = 0\n",
    "    for i in range(1,len(pattern)):\n",
    "        while(border>0 and pattern[i]!= pattern[border]):\n",
    "            border = s[border-1]\n",
    "        if pattern[i] == pattern[border]:\n",
    "            border+=1\n",
    "        else:\n",
    "            border=0\n",
    "        s[i] = border\n",
    "    return s\n",
    "\n",
    "def find_pattern(pattern, text):\n",
    "    \"\"\"\n",
    "    Find all the occurrences of the pattern in the text\n",
    "    and return a list of all positions in the text\n",
    "    where the pattern starts in the text.\n",
    "    \"\"\"\n",
    "    \n",
    "    total_str = pattern+'$'+text\n",
    "    prefix_arr = prefix(total_str)\n",
    "    result = []\n",
    "    for i in range(len(pattern)+1, len(total_str)):\n",
    "        if s[i] == len(pattern):\n",
    "            result.append(i - 2*len(pattern))\n",
    "    return result\n",
    "\n",
    "\n",
    "\n"
   ]
  },
  {
   "cell_type": "code",
   "execution_count": 23,
   "metadata": {},
   "outputs": [],
   "source": [
    "pattern = sys.stdin.readline().strip()\n",
    "text = sys.stdin.readline().strip()\n",
    "result = find_pattern(pattern, text)"
   ]
  },
  {
   "cell_type": "code",
   "execution_count": 24,
   "metadata": {},
   "outputs": [
    {
     "name": "stdout",
     "output_type": "stream",
     "text": [
      "\n"
     ]
    }
   ],
   "source": [
    "print(\" \".join(map(str, result)))"
   ]
  },
  {
   "cell_type": "code",
   "execution_count": 90,
   "metadata": {
    "collapsed": true
   },
   "outputs": [],
   "source": [
    "import sys\n",
    "\n",
    "def sort_characters(text):\n",
    "    #we want the order of the characters in the sorted string in the original string\n",
    "    #$AACCGT -> ACATGC$ -> [6, 0, 2, 1, 5, 4, 3]\n",
    "    order=[0]*len(text)\n",
    "    count = []\n",
    "    sort_dict = {'A':0, 'T':0, 'G':0, 'C':0, '$':0}\n",
    "    for char in text:\n",
    "        sort_dict[char]+=1\n",
    "    sort_dict['A'] += sort_dict['$']\n",
    "    sort_dict['C'] += sort_dict['A']\n",
    "    sort_dict['G'] += sort_dict['C']\n",
    "    sort_dict['T'] += sort_dict['G']\n",
    "    for i in reversed(range(0,len(text))):\n",
    "        sort_dict[text[i]]-=1\n",
    "        order[sort_dict[text[i]]]=i\n",
    "    return order\n",
    "    \n",
    "def compute_character_class(text, order):\n",
    "    char_class = [0]*len(text)\n",
    "    char_class[order[0]] = 0\n",
    "    for i in range(1,len(text)):\n",
    "        if text[order[i]] != text[order[i-1]]:\n",
    "            char_class[order[i]] = char_class[order[i-1]]+1\n",
    "        else:\n",
    "            char_class[order[i]] = char_class[order[i-1]]\n",
    "    return char_class\n",
    "\n",
    "def sort_doubled(text, length, order, char_class):\n",
    "    count = [0]*len(text)\n",
    "    new_order = [0]*len(text)\n",
    "    for i in range(0, len(text)):\n",
    "        count[char_class[i]] +=1\n",
    "    for i in range(1, len(text)):\n",
    "        count[i]+=count[i-1]\n",
    "    #print(count)\n",
    "    for i in reversed(range(0,len(text))):\n",
    "        start = (order[i] - length + len(text)) % len(text)\n",
    "        cl = char_class[start]\n",
    "        count[cl]-=1\n",
    "        new_order[count[cl]]=start\n",
    "    return new_order\n",
    "def update_classes(new_order, char_class, length):\n",
    "    new_class = [0]*len(new_order)\n",
    "    for i in range(1,len(new_order)):\n",
    "        cur = new_order[i]\n",
    "        prev = new_order[i-1]\n",
    "        mid = (cur + length)%len(new_order)\n",
    "        mid_prev = (prev+length)%len(new_order)\n",
    "        if char_class[cur]!=char_class[prev] or char_class[mid]!=char_class[mid_prev]:\n",
    "            new_class[cur] =new_class[prev]+1\n",
    "        else:\n",
    "            new_class[cur] = new_class[prev]\n",
    "    return new_class\n",
    "\n",
    "def build_suffix_array(text):\n",
    "    \"\"\"\n",
    "    Build suffix array of the string text and\n",
    "    return a list result of the same length as the text\n",
    "    such that the value result[i] is the index (0-based)\n",
    "    in text where the i-th lexicographically smallest\n",
    "    suffix of text starts.\n",
    "    \"\"\"\n",
    "    result = []\n",
    "    order= sort_characters(text)\n",
    "    char_class = compute_character_class(text, order)\n",
    "    print(char_class)\n",
    "    L=1\n",
    "    while L<len(text):\n",
    "        order = sort_doubled(text, L, order, char_class)\n",
    "        char_class = update_classes(order, char_class, L)\n",
    "        L = 2*L\n",
    "        print(order,char_class,L)\n",
    "    return order\n"
   ]
  },
  {
   "cell_type": "code",
   "execution_count": 99,
   "metadata": {},
   "outputs": [
    {
     "name": "stdout",
     "output_type": "stream",
     "text": [
      "[15, 0, 1, 4, 6, 12, 14, 2, 8, 3, 7, 9, 10, 13, 5, 11]\n",
      "[1, 1, 2, 3, 1, 4, 1, 3, 2, 3, 3, 4, 1, 3, 1, 0]\n",
      "[15, 14, 4, 12, 0, 6, 1, 2, 8, 13, 10, 7, 3, 9, 5, 11]\n",
      "[2, 3, 4, 9, 1, 10, 2, 8, 5, 9, 7, 10, 1, 6, 1, 0]\n"
     ]
    }
   ],
   "source": [
    "test = \"AACGATAGCGGTAGA$\"\n",
    "test_order =sort_characters(test) \n",
    "test_class = compute_character_class(test, test_order)\n",
    "print(test_order)\n",
    "print(compute_character_class(test, test_order))\n",
    "test_double = sort_doubled(test, 2, test_order, test_class)\n",
    "print(test_double)\n",
    "test_update_class = update_classes(test_double, test_class, 2)\n",
    "print(test_update_class)"
   ]
  },
  {
   "cell_type": "code",
   "execution_count": 100,
   "metadata": {},
   "outputs": [
    {
     "name": "stdout",
     "output_type": "stream",
     "text": [
      "[1, 1, 2, 3, 1, 4, 1, 3, 2, 3, 3, 4, 1, 3, 1, 0]\n",
      "[15, 14, 0, 1, 6, 12, 4, 2, 8, 3, 13, 7, 9, 10, 5, 11] [2, 3, 6, 7, 5, 11, 4, 8, 6, 9, 10, 11, 4, 7, 1, 0] 2\n",
      "[15, 14, 0, 1, 12, 6, 4, 2, 8, 13, 3, 7, 9, 10, 11, 5] [2, 3, 7, 10, 6, 15, 5, 11, 8, 12, 13, 14, 4, 9, 1, 0] 4\n",
      "[15, 14, 0, 1, 12, 6, 4, 2, 8, 13, 3, 7, 9, 10, 11, 5] [2, 3, 7, 10, 6, 15, 5, 11, 8, 12, 13, 14, 4, 9, 1, 0] 8\n",
      "[15, 14, 0, 1, 12, 6, 4, 2, 8, 13, 3, 7, 9, 10, 11, 5] [2, 3, 7, 10, 6, 15, 5, 11, 8, 12, 13, 14, 4, 9, 1, 0] 16\n"
     ]
    },
    {
     "data": {
      "text/plain": [
       "[15, 14, 0, 1, 12, 6, 4, 2, 8, 13, 3, 7, 9, 10, 11, 5]"
      ]
     },
     "execution_count": 100,
     "metadata": {},
     "output_type": "execute_result"
    }
   ],
   "source": [
    "build_suffix_array(test)"
   ]
  },
  {
   "cell_type": "code",
   "execution_count": 236,
   "metadata": {},
   "outputs": [],
   "source": [
    "# python3\n",
    "import sys\n",
    "def sort_characters(text):\n",
    "    #we want the order of the characters in the sorted string in the original string\n",
    "    #$AACCGT -> ACATGC$ -> [6, 0, 2, 1, 5, 4, 3]\n",
    "    order=[0]*len(text)\n",
    "    count = []\n",
    "    sort_dict = {'A':0, 'T':0, 'G':0, 'C':0, '$':0}\n",
    "    for char in text:\n",
    "        sort_dict[char]+=1\n",
    "    sort_dict['A'] += sort_dict['$']\n",
    "    sort_dict['C'] += sort_dict['A']\n",
    "    sort_dict['G'] += sort_dict['C']\n",
    "    sort_dict['T'] += sort_dict['G']\n",
    "    for i in reversed(range(0,len(text))):\n",
    "        sort_dict[text[i]]-=1\n",
    "        order[sort_dict[text[i]]]=i\n",
    "    return order\n",
    "    \n",
    "def compute_character_class(text, order):\n",
    "    char_class = [0]*len(text)\n",
    "    char_class[order[0]] = 0\n",
    "    for i in range(1,len(text)):\n",
    "        if text[order[i]] != text[order[i-1]]:\n",
    "            char_class[order[i]] = char_class[order[i-1]]+1\n",
    "        else:\n",
    "            char_class[order[i]] = char_class[order[i-1]]\n",
    "    return char_class\n",
    "\n",
    "def sort_doubled(text, length, order, char_class):\n",
    "    count = [0]*len(text)\n",
    "    new_order = [0]*len(text)\n",
    "    for i in range(0, len(text)):\n",
    "        count[char_class[i]] +=1\n",
    "    for i in range(1, len(text)):\n",
    "        count[i]+=count[i-1]\n",
    "    #print(count)\n",
    "    for i in reversed(range(0,len(text))):\n",
    "        start = (order[i] - length + len(text)) % len(text)\n",
    "        cl = char_class[start]\n",
    "        count[cl]-=1\n",
    "        new_order[count[cl]]=start\n",
    "    return new_order\n",
    "def update_classes(new_order, char_class, length):\n",
    "    new_class = [0]*len(new_order)\n",
    "    for i in range(1,len(new_order)):\n",
    "        cur = new_order[i]\n",
    "        prev = new_order[i-1]\n",
    "        mid = (cur + length)%len(new_order)\n",
    "        mid_prev = (prev+length)%len(new_order)\n",
    "        if char_class[cur]!=char_class[prev] or char_class[mid]!=char_class[mid_prev]:\n",
    "            new_class[cur] =new_class[prev]+1\n",
    "        else:\n",
    "            new_class[cur] = new_class[prev]\n",
    "    return new_class\n",
    "\n",
    "def build_suffix_array(text):\n",
    "    \"\"\"\n",
    "    Build suffix array of the string text and\n",
    "    return a list result of the same length as the text\n",
    "    such that the value result[i] is the index (0-based)\n",
    "    in text where the i-th lexicographically smallest\n",
    "    suffix of text starts.\n",
    "    \"\"\"\n",
    "    result = []\n",
    "    order= sort_characters(text)\n",
    "    char_class = compute_character_class(text, order)\n",
    "    #print(char_class)\n",
    "    L=1\n",
    "    while L<len(text):\n",
    "        order = sort_doubled(text, L, order, char_class)\n",
    "        char_class = update_classes(order, char_class, L)\n",
    "        L = 2*L\n",
    "        #print(order,char_class,L)\n",
    "    return order\n",
    "\n",
    "def find_occurrences(text, patterns):\n",
    "    occs = set()\n",
    "    suffix_array = build_suffix_array(text)\n",
    "    #print(suffix_array)\n",
    "    for pat in patterns:\n",
    "        min_idx = 0\n",
    "        max_idx = len(text)\n",
    "        while min_idx<max_idx:\n",
    "            mid_idx = (min_idx+max_idx)//2\n",
    "            #print(mid_idx)\n",
    "            #print(mid_idx, pat >text[suffix_array[mid_idx]:], text[suffix_array[mid_idx]:])\n",
    "            if pat > text[suffix_array[mid_idx]:]:\n",
    "                min_idx = mid_idx +1\n",
    "            else:\n",
    "                max_idx = mid_idx\n",
    "        start = min_idx\n",
    "        #print(min_idx)\n",
    "        max_idx = len(text)\n",
    "        while min_idx<max_idx:\n",
    "            mid_idx = (min_idx+max_idx)//2\n",
    "            #print(max_idx, min_idx)\n",
    "            #print(mid_idx, pat < text[suffix_array[mid_idx]:], text[suffix_array[mid_idx]:])\n",
    "            if pat < text[suffix_array[mid_idx]:] and pat not in text[suffix_array[mid_idx]:] :\n",
    "                max_idx = mid_idx\n",
    "            else:\n",
    "                min_idx = mid_idx +1\n",
    "        end = max_idx\n",
    "        #print(start,end)\n",
    "        while start < end:\n",
    "            if pat in text[suffix_array[start]:]:\n",
    "                occs.add(suffix_array[start])\n",
    "            start+=1\n",
    "    return occs\n"
   ]
  },
  {
   "cell_type": "code",
   "execution_count": 237,
   "metadata": {},
   "outputs": [
    {
     "ename": "ValueError",
     "evalue": "invalid literal for int() with base 10: ''",
     "output_type": "error",
     "traceback": [
      "\u001b[1;31m---------------------------------------------------------------------------\u001b[0m",
      "\u001b[1;31mValueError\u001b[0m                                Traceback (most recent call last)",
      "\u001b[1;32m<ipython-input-237-dc193f601f72>\u001b[0m in \u001b[0;36m<module>\u001b[1;34m()\u001b[0m\n\u001b[0;32m      2\u001b[0m \u001b[1;32mif\u001b[0m \u001b[0m__name__\u001b[0m \u001b[1;33m==\u001b[0m \u001b[1;34m'__main__'\u001b[0m\u001b[1;33m:\u001b[0m\u001b[1;33m\u001b[0m\u001b[0m\n\u001b[0;32m      3\u001b[0m     \u001b[0mtext\u001b[0m \u001b[1;33m=\u001b[0m \u001b[0msys\u001b[0m\u001b[1;33m.\u001b[0m\u001b[0mstdin\u001b[0m\u001b[1;33m.\u001b[0m\u001b[0mreadline\u001b[0m\u001b[1;33m(\u001b[0m\u001b[1;33m)\u001b[0m\u001b[1;33m.\u001b[0m\u001b[0mstrip\u001b[0m\u001b[1;33m(\u001b[0m\u001b[1;33m)\u001b[0m\u001b[1;33m\u001b[0m\u001b[0m\n\u001b[1;32m----> 4\u001b[1;33m     \u001b[0mpattern_count\u001b[0m \u001b[1;33m=\u001b[0m \u001b[0mint\u001b[0m\u001b[1;33m(\u001b[0m\u001b[0msys\u001b[0m\u001b[1;33m.\u001b[0m\u001b[0mstdin\u001b[0m\u001b[1;33m.\u001b[0m\u001b[0mreadline\u001b[0m\u001b[1;33m(\u001b[0m\u001b[1;33m)\u001b[0m\u001b[1;33m.\u001b[0m\u001b[0mstrip\u001b[0m\u001b[1;33m(\u001b[0m\u001b[1;33m)\u001b[0m\u001b[1;33m)\u001b[0m\u001b[1;33m\u001b[0m\u001b[0m\n\u001b[0m\u001b[0;32m      5\u001b[0m     \u001b[0mpatterns\u001b[0m \u001b[1;33m=\u001b[0m \u001b[0msys\u001b[0m\u001b[1;33m.\u001b[0m\u001b[0mstdin\u001b[0m\u001b[1;33m.\u001b[0m\u001b[0mreadline\u001b[0m\u001b[1;33m(\u001b[0m\u001b[1;33m)\u001b[0m\u001b[1;33m.\u001b[0m\u001b[0mstrip\u001b[0m\u001b[1;33m(\u001b[0m\u001b[1;33m)\u001b[0m\u001b[1;33m.\u001b[0m\u001b[0msplit\u001b[0m\u001b[1;33m(\u001b[0m\u001b[1;33m)\u001b[0m\u001b[1;33m\u001b[0m\u001b[0m\n\u001b[0;32m      6\u001b[0m     \u001b[0moccs\u001b[0m \u001b[1;33m=\u001b[0m \u001b[0mfind_occurrences\u001b[0m\u001b[1;33m(\u001b[0m\u001b[0mtext\u001b[0m\u001b[1;33m,\u001b[0m \u001b[0mpatterns\u001b[0m\u001b[1;33m)\u001b[0m\u001b[1;33m\u001b[0m\u001b[0m\n",
      "\u001b[1;31mValueError\u001b[0m: invalid literal for int() with base 10: ''"
     ]
    }
   ],
   "source": [
    "\n",
    "if __name__ == '__main__':\n",
    "    text = sys.stdin.readline().strip()\n",
    "    pattern_count = int(sys.stdin.readline().strip())\n",
    "    patterns = sys.stdin.readline().strip().split()\n",
    "    occs = find_occurrences(text, patterns)\n",
    "    print(\" \".join(map(str, occs)))"
   ]
  },
  {
   "cell_type": "code",
   "execution_count": 238,
   "metadata": {
    "scrolled": true
   },
   "outputs": [
    {
     "name": "stdout",
     "output_type": "stream",
     "text": [
      "{0, 1, 2}\n"
     ]
    }
   ],
   "source": [
    "print(find_occurrences('AAA',['A','ATA', 'C', 'TATAT']))"
   ]
  },
  {
   "cell_type": "code",
   "execution_count": 225,
   "metadata": {},
   "outputs": [
    {
     "data": {
      "text/plain": [
       "True"
      ]
     },
     "execution_count": 225,
     "metadata": {},
     "output_type": "execute_result"
    }
   ],
   "source": [
    "'ATA$'<'ATATATA$'"
   ]
  },
  {
   "cell_type": "code",
   "execution_count": 226,
   "metadata": {},
   "outputs": [
    {
     "name": "stdout",
     "output_type": "stream",
     "text": [
      "A\n",
      "ATA\n",
      "ATATA\n",
      "ATATATA\n",
      "TA\n",
      "TATA\n",
      "TATATA\n"
     ]
    }
   ],
   "source": [
    "test_text  ='ATATATA'\n",
    "for i in [6, 4, 2, 0, 5, 3, 1]:\n",
    "    print(test_text[i:])"
   ]
  },
  {
   "cell_type": "code",
   "execution_count": null,
   "metadata": {
    "collapsed": true
   },
   "outputs": [],
   "source": []
  },
  {
   "cell_type": "code",
   "execution_count": null,
   "metadata": {
    "collapsed": true
   },
   "outputs": [],
   "source": []
  }
 ],
 "metadata": {
  "kernelspec": {
   "display_name": "Python 3",
   "language": "python",
   "name": "python3"
  },
  "language_info": {
   "codemirror_mode": {
    "name": "ipython",
    "version": 3
   },
   "file_extension": ".py",
   "mimetype": "text/x-python",
   "name": "python",
   "nbconvert_exporter": "python",
   "pygments_lexer": "ipython3",
   "version": "3.6.3"
  }
 },
 "nbformat": 4,
 "nbformat_minor": 2
}
