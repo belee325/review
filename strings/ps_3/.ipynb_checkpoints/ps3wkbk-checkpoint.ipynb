{
 "cells": [
  {
   "cell_type": "code",
   "execution_count": 5,
   "metadata": {
    "collapsed": true
   },
   "outputs": [],
   "source": [
    "# python3\n",
    "import sys\n",
    "\n",
    "def prefix(pattern):\n",
    "    s = [0]*len(pattern)\n",
    "    border = 0\n",
    "    for i in range(1,len(pattern)):\n",
    "        while(border>0 and pattern[i]!= pattern[border]):\n",
    "            border = s[border-1]\n",
    "        if pattern[i] == pattern[border]:\n",
    "            border+=1\n",
    "        else:\n",
    "            border=0\n",
    "        s[i] = border\n",
    "    return s\n",
    "\n",
    "def find_pattern(pattern, text):\n",
    "    \"\"\"\n",
    "    Find all the occurrences of the pattern in the text\n",
    "    and return a list of all positions in the text\n",
    "    where the pattern starts in the text.\n",
    "    \"\"\"\n",
    "    \n",
    "    total_str = pattern+'$'+text\n",
    "    prefix_arr = prefix(total_str)\n",
    "    result = []\n",
    "    for i in range(len(pattern)+1, len(total_str)):\n",
    "        if s[i] == len(pattern):\n",
    "            result.append(i - 2*len(pattern))\n",
    "    return result\n",
    "\n",
    "\n",
    "\n"
   ]
  },
  {
   "cell_type": "code",
   "execution_count": 7,
   "metadata": {},
   "outputs": [],
   "source": [
    "pattern = sys.stdin.readline().strip()\n",
    "text = sys.stdin.readline().strip()\n",
    "result = find_pattern(pattern, text)"
   ]
  },
  {
   "cell_type": "code",
   "execution_count": 8,
   "metadata": {},
   "outputs": [
    {
     "name": "stdout",
     "output_type": "stream",
     "text": [
      "\n"
     ]
    }
   ],
   "source": [
    "print(\" \".join(map(str, result)))"
   ]
  },
  {
   "cell_type": "code",
   "execution_count": 16,
   "metadata": {
    "collapsed": true
   },
   "outputs": [],
   "source": [
    "import sys\n",
    "\n",
    "def sort_characters(text):\n",
    "    #we want the order of the characters in the sorted string in the original string\n",
    "    #$AACCGT -> ACATGC$ -> [6, 0, 2, 1, 5, 4, 3]\n",
    "    order=[0]*len(text)\n",
    "    count = []\n",
    "    sort_dict = {'A':0, 'T':0, 'G':0, 'C':0, '$':0}\n",
    "    for char in text:\n",
    "        sort_dict[char]+=1\n",
    "    sort_dict['A'] += sort_dict['$']\n",
    "    sort_dict['C'] += sort_dict['A']\n",
    "    sort_dict['G'] += sort_dict['C']\n",
    "    sort_dict['T'] += sort_dict['G']\n",
    "    for i in reversed(range(0,len(text))):\n",
    "        sort_dict[text[i]]-=1\n",
    "        order[sort_dict[text[i]]]=i\n",
    "    return order\n",
    "    \n",
    "def compute_character_class(text, order):\n",
    "    char_class = [0]*len(text)\n",
    "    char_class[order[0]] = 0\n",
    "    for i in range(1,len(text)):\n",
    "        if text[order[i]] != text[order[i]]:\n",
    "            char_class[i] = char_class[i-1]+1\n",
    "        else:\n",
    "            char_class[i] = char_class[i-1]\n",
    "    return char_class\n",
    "\n",
    "def sort_doubled(text, length, order, char_class):\n",
    "    pass\n",
    "def update_classes(order, char_class, length):\n",
    "    pass\n",
    "\n",
    "\n",
    "def build_suffix_array(text):\n",
    "    \"\"\"\n",
    "    Build suffix array of the string text and\n",
    "    return a list result of the same length as the text\n",
    "    such that the value result[i] is the index (0-based)\n",
    "    in text where the i-th lexicographically smallest\n",
    "    suffix of text starts.\n",
    "    \"\"\"\n",
    "    result = []\n",
    "    # Implement this function yourself\n",
    "    return result\n"
   ]
  },
  {
   "cell_type": "code",
   "execution_count": 17,
   "metadata": {},
   "outputs": [
    {
     "name": "stdout",
     "output_type": "stream",
     "text": [
      "[6, 0, 2, 4, 5, 1, 3]\n"
     ]
    },
    {
     "ename": "IndexError",
     "evalue": "list assignment index out of range",
     "output_type": "error",
     "traceback": [
      "\u001b[1;31m---------------------------------------------------------------------------\u001b[0m",
      "\u001b[1;31mIndexError\u001b[0m                                Traceback (most recent call last)",
      "\u001b[1;32m<ipython-input-17-73c86b0d94ea>\u001b[0m in \u001b[0;36m<module>\u001b[1;34m()\u001b[0m\n\u001b[0;32m      2\u001b[0m \u001b[0mtest_order\u001b[0m \u001b[1;33m=\u001b[0m\u001b[0msort_characters\u001b[0m\u001b[1;33m(\u001b[0m\u001b[0mtest\u001b[0m\u001b[1;33m)\u001b[0m\u001b[1;33m\u001b[0m\u001b[0m\n\u001b[0;32m      3\u001b[0m \u001b[0mprint\u001b[0m\u001b[1;33m(\u001b[0m\u001b[0mtest_order\u001b[0m\u001b[1;33m)\u001b[0m\u001b[1;33m\u001b[0m\u001b[0m\n\u001b[1;32m----> 4\u001b[1;33m \u001b[0mprint\u001b[0m\u001b[1;33m(\u001b[0m\u001b[0mcompute_character_class\u001b[0m\u001b[1;33m(\u001b[0m\u001b[0mtest\u001b[0m\u001b[1;33m,\u001b[0m \u001b[0mtest_order\u001b[0m\u001b[1;33m)\u001b[0m\u001b[1;33m)\u001b[0m\u001b[1;33m\u001b[0m\u001b[0m\n\u001b[0m",
      "\u001b[1;32m<ipython-input-16-a4b2bed9f71d>\u001b[0m in \u001b[0;36mcompute_character_class\u001b[1;34m(text, order)\u001b[0m\n\u001b[0;32m     20\u001b[0m \u001b[1;32mdef\u001b[0m \u001b[0mcompute_character_class\u001b[0m\u001b[1;33m(\u001b[0m\u001b[0mtext\u001b[0m\u001b[1;33m,\u001b[0m \u001b[0morder\u001b[0m\u001b[1;33m)\u001b[0m\u001b[1;33m:\u001b[0m\u001b[1;33m\u001b[0m\u001b[0m\n\u001b[0;32m     21\u001b[0m     \u001b[0mchar_class\u001b[0m \u001b[1;33m=\u001b[0m \u001b[1;33m[\u001b[0m\u001b[1;33m]\u001b[0m\u001b[1;33m*\u001b[0m\u001b[0mlen\u001b[0m\u001b[1;33m(\u001b[0m\u001b[0mtext\u001b[0m\u001b[1;33m)\u001b[0m\u001b[1;33m\u001b[0m\u001b[0m\n\u001b[1;32m---> 22\u001b[1;33m     \u001b[0mchar_class\u001b[0m\u001b[1;33m[\u001b[0m\u001b[1;36m0\u001b[0m\u001b[1;33m]\u001b[0m \u001b[1;33m=\u001b[0m \u001b[1;36m0\u001b[0m\u001b[1;33m\u001b[0m\u001b[0m\n\u001b[0m\u001b[0;32m     23\u001b[0m     \u001b[1;32mfor\u001b[0m \u001b[0mi\u001b[0m \u001b[1;32min\u001b[0m \u001b[0mrange\u001b[0m\u001b[1;33m(\u001b[0m\u001b[1;36m1\u001b[0m\u001b[1;33m,\u001b[0m\u001b[0mlen\u001b[0m\u001b[1;33m(\u001b[0m\u001b[0mtext\u001b[0m\u001b[1;33m)\u001b[0m\u001b[1;33m)\u001b[0m\u001b[1;33m:\u001b[0m\u001b[1;33m\u001b[0m\u001b[0m\n\u001b[0;32m     24\u001b[0m         \u001b[1;32mif\u001b[0m \u001b[0mtext\u001b[0m\u001b[1;33m[\u001b[0m\u001b[0morder\u001b[0m\u001b[1;33m[\u001b[0m\u001b[0mi\u001b[0m\u001b[1;33m]\u001b[0m\u001b[1;33m]\u001b[0m \u001b[1;33m!=\u001b[0m \u001b[0mtext\u001b[0m\u001b[1;33m[\u001b[0m\u001b[0morder\u001b[0m\u001b[1;33m[\u001b[0m\u001b[0mi\u001b[0m\u001b[1;33m]\u001b[0m\u001b[1;33m]\u001b[0m\u001b[1;33m:\u001b[0m\u001b[1;33m\u001b[0m\u001b[0m\n",
      "\u001b[1;31mIndexError\u001b[0m: list assignment index out of range"
     ]
    }
   ],
   "source": [
    "test = \"ATATAA$\"\n",
    "test_order =sort_characters(test) \n",
    "print(test_order)\n",
    "print(compute_character_class(test, test_order))"
   ]
  },
  {
   "cell_type": "code",
   "execution_count": null,
   "metadata": {
    "collapsed": true
   },
   "outputs": [],
   "source": []
  }
 ],
 "metadata": {
  "kernelspec": {
   "display_name": "Python 3",
   "language": "python",
   "name": "python3"
  },
  "language_info": {
   "codemirror_mode": {
    "name": "ipython",
    "version": 3
   },
   "file_extension": ".py",
   "mimetype": "text/x-python",
   "name": "python",
   "nbconvert_exporter": "python",
   "pygments_lexer": "ipython3",
   "version": "3.6.3"
  }
 },
 "nbformat": 4,
 "nbformat_minor": 2
}
