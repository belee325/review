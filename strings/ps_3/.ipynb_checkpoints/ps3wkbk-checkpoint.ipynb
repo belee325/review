{
 "cells": [
  {
   "cell_type": "code",
   "execution_count": null,
   "metadata": {
    "collapsed": true
   },
   "outputs": [],
   "source": [
    "# python3\n",
    "import sys\n",
    "\n",
    "def prefix(pattern):\n",
    "    s = []*len(pattern)\n",
    "    s[0] = border = 0\n",
    "    for i in range(1,len(pattern)):\n",
    "        while(border>0 and pattern[i]!= pattern[border]):\n",
    "            border = s[border-1]\n",
    "        if pattern[i] == pattern[border]:\n",
    "            border+=1\n",
    "        else:\n",
    "            border=0\n",
    "        s[i] = border\n",
    "    return s\n",
    "\n",
    "def find_pattern(pattern, text):\n",
    "    \"\"\"\n",
    "    Find all the occurrences of the pattern in the text\n",
    "    and return a list of all positions in the text\n",
    "    where the pattern starts in the text.\n",
    "    \"\"\"\n",
    "    \n",
    "    total_str = pattern+'$'+text\n",
    "    prefix_arr = prefix(total_str)\n",
    "    result = []\n",
    "    for i in range(len(pattern)+1, len(total_str)):\n",
    "        if s[i] == len(pattern):\n",
    "            result.append(i - 2*len(pattern))\n",
    "    return result\n",
    "\n",
    "if __name__ == '__main__':\n",
    "    pattern = sys.stdin.readline().strip()\n",
    "    text = sys.stdin.readline().strip()\n",
    "    result = find_pattern(pattern, text)\n",
    "    print(\" \".join(map(str, result)))\n",
    "\n"
   ]
  }
 ],
 "metadata": {
  "kernelspec": {
   "display_name": "Python 3",
   "language": "python",
   "name": "python3"
  },
  "language_info": {
   "codemirror_mode": {
    "name": "ipython",
    "version": 3
   },
   "file_extension": ".py",
   "mimetype": "text/x-python",
   "name": "python",
   "nbconvert_exporter": "python",
   "pygments_lexer": "ipython3",
   "version": "3.6.3"
  }
 },
 "nbformat": 4,
 "nbformat_minor": 2
}
