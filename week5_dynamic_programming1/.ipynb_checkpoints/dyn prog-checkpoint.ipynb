{
 "cells": [
  {
   "cell_type": "code",
   "execution_count": 33,
   "metadata": {
    "collapsed": true
   },
   "outputs": [],
   "source": [
    "def get_change(m):\n",
    "    #uncomment all the code below if we need to see which coins are used to make up m\n",
    "    coins=[1,3,4]\n",
    "    num_coins =[0]\n",
    "    #use_coins =[0]\n",
    "    for i in range(1,m+1):\n",
    "        min_coin=10**6\n",
    "        use_coin = 0\n",
    "        for coin in coins:\n",
    "            if coin <= i:\n",
    "                if num_coins[i - coin] + 1 < min_coin:\n",
    "                    min_coin = num_coins[i - coin] + 1\n",
    "                    #use_coin = coin\n",
    "                    #print(use_coin)\n",
    "        num_coins.append(min_coin)\n",
    "        #use_coins.append(use_coin)\n",
    "    #print_change(use_coins, m)\n",
    "    return num_coins[m]"
   ]
  },
  {
   "cell_type": "code",
   "execution_count": 34,
   "metadata": {
    "collapsed": true
   },
   "outputs": [],
   "source": [
    "def print_change(nums, m):\n",
    "    ret = ''\n",
    "    i = len(nums) -1\n",
    "    while(m>0):\n",
    "        print(nums[i])\n",
    "        m -= nums[i]\n",
    "        i -= nums[i]"
   ]
  },
  {
   "cell_type": "code",
   "execution_count": 35,
   "metadata": {},
   "outputs": [
    {
     "data": {
      "text/plain": [
       "27"
      ]
     },
     "execution_count": 35,
     "metadata": {},
     "output_type": "execute_result"
    }
   ],
   "source": [
    "get_change(105)"
   ]
  },
  {
   "cell_type": "code",
   "execution_count": 71,
   "metadata": {
    "collapsed": true
   },
   "outputs": [],
   "source": [
    "def optimal_sequence_greedy(n):\n",
    "    sequence = []\n",
    "    while n >= 1:\n",
    "        sequence.append(n)\n",
    "        if n % 3 == 0:\n",
    "            n = n // 3\n",
    "        elif n % 2 == 0:\n",
    "            n = n // 2\n",
    "        else:\n",
    "            n = n - 1\n",
    "    return sequence"
   ]
  },
  {
   "cell_type": "code",
   "execution_count": 357,
   "metadata": {
    "collapsed": true
   },
   "outputs": [],
   "source": [
    "def optimal_sequence(n):\n",
    "    mins = [0]\n",
    "    ret = [n]\n",
    "    #prev_nums =[1]\n",
    "    for i in range(2,n+1):\n",
    "        #prev_nums.append(i)\n",
    "        #for subtraction\n",
    "        min_idx = i - 2\n",
    "        min_ops=mins[min_idx]+1\n",
    "        if i % 2 == 0:\n",
    "            min_idx = i//2 - 1\n",
    "        if i % 3 == 0:\n",
    "            min_idx = i//3 - 1\n",
    "        if mins[min_idx] + 1 <= min_ops:\n",
    "            min_ops = mins[min_idx] + 1\n",
    "        #print(min_ops)\n",
    "        mins.append(min_ops)\n",
    "        #print(mins)\n",
    "    num_seq = mins[n-1]\n",
    "    while(n > 1):\n",
    "        curr_n = n-1\n",
    "        curr_ops = mins[curr_n-1]\n",
    "        #print(curr_n, curr_ops)\n",
    "        if n%2==0:\n",
    "            if mins[int(n//2)-1]<= curr_ops:\n",
    "                curr_n = n//2\n",
    "                curr_ops = mins[int(n//2)]\n",
    "        if n%3==0:\n",
    "            if mins[int(n//3)-1] <= curr_ops:\n",
    "                curr_n = n//3\n",
    "                curr_ops = mins[int(n//3)]\n",
    "        #print(curr_n,min_ops)\n",
    "        ret.append(curr_n)\n",
    "        n = curr_n\n",
    "    return reversed(ret)"
   ]
  },
  {
   "cell_type": "code",
   "execution_count": 358,
   "metadata": {},
   "outputs": [
    {
     "name": "stdout",
     "output_type": "stream",
     "text": [
      "14 [1, 3, 9, 10, 11, 22, 66, 198, 594, 1782, 5346, 16038, 16039, 32078, 96234]\n"
     ]
    }
   ],
   "source": [
    "ret = list(optimal_sequence(96234))\n",
    "print(len(ret)-1,ret)"
   ]
  },
  {
   "cell_type": "code",
   "execution_count": 333,
   "metadata": {},
   "outputs": [
    {
     "data": {
      "text/plain": [
       "(3, 2)"
      ]
     },
     "execution_count": 333,
     "metadata": {},
     "output_type": "execute_result"
    }
   ],
   "source": [
    "min((5,3),(3,2),(2,4), key = lambda tup:tup[1])"
   ]
  },
  {
   "cell_type": "code",
   "execution_count": 317,
   "metadata": {},
   "outputs": [
    {
     "name": "stdout",
     "output_type": "stream",
     "text": [
      "5 \n",
      "\n",
      "[10, 5, 4, 2, 1]\n"
     ]
    }
   ],
   "source": [
    "res = optimal_sequence_greedy(10)\n",
    "print(len(res), '\\n')\n",
    "print((res))"
   ]
  },
  {
   "cell_type": "code",
   "execution_count": 318,
   "metadata": {},
   "outputs": [
    {
     "name": "stdout",
     "output_type": "stream",
     "text": [
      "9\n",
      "10\n",
      "10\n"
     ]
    }
   ],
   "source": [
    "m = (9,10,10)\n",
    "for x in m:\n",
    "    print(x)"
   ]
  },
  {
   "cell_type": "code",
   "execution_count": 354,
   "metadata": {},
   "outputs": [
    {
     "name": "stdout",
     "output_type": "stream",
     "text": [
      "(3, [10, 9, 3, 1])\n"
     ]
    }
   ],
   "source": [
    "print(optimal_sequence(10))"
   ]
  },
  {
   "cell_type": "code",
   "execution_count": 287,
   "metadata": {
    "collapsed": true
   },
   "outputs": [],
   "source": [
    "import numpy as np"
   ]
  },
  {
   "cell_type": "code",
   "execution_count": 359,
   "metadata": {},
   "outputs": [
    {
     "name": "stdout",
     "output_type": "stream",
     "text": [
      "<list_reverseiterator object at 0x0000023102086780>\n",
      "<list_reverseiterator object at 0x0000023102086780>\n",
      "<list_reverseiterator object at 0x0000023102086780>\n",
      "<list_reverseiterator object at 0x0000023102086780>\n",
      "<list_reverseiterator object at 0x0000023102086780>\n",
      "<list_reverseiterator object at 0x0000023102086780>\n",
      "<list_reverseiterator object at 0x0000023102086780>\n",
      "<list_reverseiterator object at 0x0000023102086780>\n",
      "<list_reverseiterator object at 0x0000023102086780>\n",
      "<list_reverseiterator object at 0x0000023102086780>\n",
      "<list_reverseiterator object at 0x0000023102086780>\n",
      "<list_reverseiterator object at 0x0000023102086780>\n",
      "<list_reverseiterator object at 0x0000023102086780>\n",
      "<list_reverseiterator object at 0x0000023102086780>\n",
      "<list_reverseiterator object at 0x0000023102086780>\n",
      "<list_reverseiterator object at 0x0000023102086780>\n",
      "<list_reverseiterator object at 0x0000023102086780>\n",
      "<list_reverseiterator object at 0x0000023102086780>\n"
     ]
    },
    {
     "ename": "KeyboardInterrupt",
     "evalue": "",
     "output_type": "error",
     "traceback": [
      "\u001b[1;31m---------------------------------------------------------------------------\u001b[0m",
      "\u001b[1;31mKeyboardInterrupt\u001b[0m                         Traceback (most recent call last)",
      "\u001b[1;32m<ipython-input-359-1ca73b422935>\u001b[0m in \u001b[0;36m<module>\u001b[1;34m()\u001b[0m\n\u001b[0;32m      1\u001b[0m \u001b[1;32mfor\u001b[0m \u001b[0mx\u001b[0m \u001b[1;32min\u001b[0m \u001b[0mnp\u001b[0m\u001b[1;33m.\u001b[0m\u001b[0mrandom\u001b[0m\u001b[1;33m.\u001b[0m\u001b[0mrandint\u001b[0m\u001b[1;33m(\u001b[0m\u001b[1;36m1000000\u001b[0m\u001b[1;33m,\u001b[0m \u001b[0msize\u001b[0m\u001b[1;33m=\u001b[0m\u001b[1;36m100\u001b[0m\u001b[1;33m)\u001b[0m\u001b[1;33m:\u001b[0m\u001b[1;33m\u001b[0m\u001b[0m\n\u001b[1;32m----> 2\u001b[1;33m     \u001b[0mprint\u001b[0m\u001b[1;33m(\u001b[0m\u001b[0moptimal_sequence\u001b[0m\u001b[1;33m(\u001b[0m\u001b[0mx\u001b[0m\u001b[1;33m)\u001b[0m\u001b[1;33m)\u001b[0m\u001b[1;33m\u001b[0m\u001b[0m\n\u001b[0m",
      "\u001b[1;32m<ipython-input-357-37dfb2adbd08>\u001b[0m in \u001b[0;36moptimal_sequence\u001b[1;34m(n)\u001b[0m\n\u001b[0;32m     13\u001b[0m             \u001b[0mmin_idx\u001b[0m \u001b[1;33m=\u001b[0m \u001b[0mi\u001b[0m\u001b[1;33m//\u001b[0m\u001b[1;36m3\u001b[0m \u001b[1;33m-\u001b[0m \u001b[1;36m1\u001b[0m\u001b[1;33m\u001b[0m\u001b[0m\n\u001b[0;32m     14\u001b[0m         \u001b[1;32mif\u001b[0m \u001b[0mmins\u001b[0m\u001b[1;33m[\u001b[0m\u001b[0mmin_idx\u001b[0m\u001b[1;33m]\u001b[0m \u001b[1;33m+\u001b[0m \u001b[1;36m1\u001b[0m \u001b[1;33m<=\u001b[0m \u001b[0mmin_ops\u001b[0m\u001b[1;33m:\u001b[0m\u001b[1;33m\u001b[0m\u001b[0m\n\u001b[1;32m---> 15\u001b[1;33m             \u001b[0mmin_ops\u001b[0m \u001b[1;33m=\u001b[0m \u001b[0mmins\u001b[0m\u001b[1;33m[\u001b[0m\u001b[0mmin_idx\u001b[0m\u001b[1;33m]\u001b[0m \u001b[1;33m+\u001b[0m \u001b[1;36m1\u001b[0m\u001b[1;33m\u001b[0m\u001b[0m\n\u001b[0m\u001b[0;32m     16\u001b[0m         \u001b[1;31m#print(min_ops)\u001b[0m\u001b[1;33m\u001b[0m\u001b[1;33m\u001b[0m\u001b[0m\n\u001b[0;32m     17\u001b[0m         \u001b[0mmins\u001b[0m\u001b[1;33m.\u001b[0m\u001b[0mappend\u001b[0m\u001b[1;33m(\u001b[0m\u001b[0mmin_ops\u001b[0m\u001b[1;33m)\u001b[0m\u001b[1;33m\u001b[0m\u001b[0m\n",
      "\u001b[1;31mKeyboardInterrupt\u001b[0m: "
     ]
    }
   ],
   "source": [
    "for x in np.random.randint(1000000, size=100):\n",
    "    print(optimal_sequence(x))"
   ]
  },
  {
   "cell_type": "code",
   "execution_count": null,
   "metadata": {},
   "outputs": [],
   "source": [
    "print(res2)"
   ]
  },
  {
   "cell_type": "code",
   "execution_count": null,
   "metadata": {
    "collapsed": true
   },
   "outputs": [],
   "source": []
  },
  {
   "cell_type": "code",
   "execution_count": null,
   "metadata": {
    "collapsed": true
   },
   "outputs": [],
   "source": []
  }
 ],
 "metadata": {
  "anaconda-cloud": {},
  "kernelspec": {
   "display_name": "Python 3",
   "language": "python",
   "name": "python3"
  },
  "language_info": {
   "codemirror_mode": {
    "name": "ipython",
    "version": 3
   },
   "file_extension": ".py",
   "mimetype": "text/x-python",
   "name": "python",
   "nbconvert_exporter": "python",
   "pygments_lexer": "ipython3",
   "version": "3.6.3"
  }
 },
 "nbformat": 4,
 "nbformat_minor": 2
}
